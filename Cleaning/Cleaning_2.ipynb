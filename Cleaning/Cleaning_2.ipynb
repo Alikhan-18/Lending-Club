{
 "cells": [
  {
   "cell_type": "code",
   "execution_count": 2,
   "id": "d0a9c407",
   "metadata": {},
   "outputs": [],
   "source": [
    "from pyspark.sql import SparkSession\n",
    "from pyspark.sql.functions import current_date,current_timestamp\n",
    "from pyspark.sql.functions import *"
   ]
  },
  {
   "cell_type": "code",
   "execution_count": 3,
   "id": "be299655",
   "metadata": {},
   "outputs": [],
   "source": [
    "spark=SparkSession.builder.\\\n",
    "config('spark.shuffle.useOldFetchProtocol', 'true').\\\n",
    "enableHiveSupport().\\\n",
    "appName(\"Project_Pyspark\").\\\n",
    "master('yarn').\\\n",
    "getOrCreate()"
   ]
  },
  {
   "cell_type": "code",
   "execution_count": 4,
   "id": "9a30ef0e",
   "metadata": {},
   "outputs": [
    {
     "data": {
      "text/html": [
       "\n",
       "            <div>\n",
       "                <p><b>SparkSession - hive</b></p>\n",
       "                \n",
       "        <div>\n",
       "            <p><b>SparkContext</b></p>\n",
       "\n",
       "            <p><a href=\"http://g02.itversity.com:4043\">Spark UI</a></p>\n",
       "\n",
       "            <dl>\n",
       "              <dt>Version</dt>\n",
       "                <dd><code>v3.1.2</code></dd>\n",
       "              <dt>Master</dt>\n",
       "                <dd><code>yarn</code></dd>\n",
       "              <dt>AppName</dt>\n",
       "                <dd><code>Project_Pyspark</code></dd>\n",
       "            </dl>\n",
       "        </div>\n",
       "        \n",
       "            </div>\n",
       "        "
      ],
      "text/plain": [
       "<pyspark.sql.session.SparkSession at 0x7f5da75b4160>"
      ]
     },
     "execution_count": 4,
     "metadata": {},
     "output_type": "execute_result"
    }
   ],
   "source": [
    "spark"
   ]
  },
  {
   "cell_type": "code",
   "execution_count": 54,
   "id": "b7a82a13",
   "metadata": {},
   "outputs": [],
   "source": [
    "loans_raw_df=spark.read.format(\"csv\").option(\"inferSchema\",True)\\\n",
    ".option(\"header\",True).load(\"/user/itv012010/lendingclubproject/raw/loans_data_csv\")"
   ]
  },
  {
   "cell_type": "code",
   "execution_count": 55,
   "id": "41665904",
   "metadata": {},
   "outputs": [
    {
     "name": "stdout",
     "output_type": "stream",
     "text": [
      "+-------+--------------------+---------+-----------+---------+--------+-----------+--------+-----------+--------------------+--------------------+\n",
      "|loan_id|           member_id|loan_amnt|funded_amnt|     term|int_rate|installment| issue_d|loan_status|             purpose|               title|\n",
      "+-------+--------------------+---------+-----------+---------+--------+-----------+--------+-----------+--------------------+--------------------+\n",
      "| 491699|961ae110ec063761f...|   7000.0|     7000.0|36 months|   12.73|     234.97|Mar-2010| Fully Paid|  debt_consolidation|Noelle's debt con...|\n",
      "| 491685|291854d244748c911...|  15000.0|    15000.0|36 months|   10.62|      488.4|Mar-2010| Fully Paid|               other|           Education|\n",
      "| 491667|b5cf66b90193da9d2...|   6400.0|     6400.0|36 months|    7.88|      200.2|Mar-2010| Fully Paid|  debt_consolidation|   Make money easily|\n",
      "| 491160|7f53fd1acb7759e5b...|   4000.0|     4000.0|36 months|   14.59|     137.86|Mar-2010| Fully Paid|             wedding|    wedding expenses|\n",
      "| 491675|12edc8e328b993914...|  20000.0|    20000.0|36 months|   13.85|     682.08|Mar-2010| Fully Paid|               other| Short Term Tax Loan|\n",
      "| 491668|e18a847f091332ff6...|   6000.0|     6000.0|36 months|   11.36|     197.47|Mar-2010|Charged Off|  debt_consolidation|GREAT BORROWER --...|\n",
      "| 491663|d6fe0000e876ab76d...|   5500.0|     5500.0|36 months|   11.36|     181.02|Mar-2010| Fully Paid|         credit_card|     Road to Success|\n",
      "| 491632|62c38934f3a2ebcd2...|  10000.0|    10000.0|36 months|    15.7|     350.11|Mar-2010| Fully Paid|         credit_card|Finish Paying off...|\n",
      "| 491618|7701762ef5d302b0d...|  25000.0|    25000.0|36 months|   15.33|     870.71|Mar-2010| Fully Paid|  debt_consolidation|Pay off my high i...|\n",
      "| 491622|42a2df45b02b21b9a...|  25000.0|    25000.0|36 months|   16.07|     879.85|Mar-2010| Fully Paid|  debt_consolidation|        Debt Pay Off|\n",
      "| 491552|b1ba0adce0baea939...|  22000.0|    22000.0|36 months|   11.36|     724.05|Mar-2010| Fully Paid|  debt_consolidation|Getting rid of Ne...|\n",
      "| 491477|82cdc418e3907686a...|  16750.0|    16750.0|36 months|   13.11|     565.23|Mar-2010| Fully Paid|  debt_consolidation|Special Ed teache...|\n",
      "| 491596|6cbc67caa30708b24...|   3600.0|     3600.0|36 months|    15.7|     126.04|Mar-2010| Fully Paid|         credit_card|Credit Card Elimi...|\n",
      "| 491575|3bae7a88975616641...|  13750.0|    13750.0|36 months|   14.96|     476.39|Mar-2010| Fully Paid|  debt_consolidation|       Personal Loan|\n",
      "| 491581|55694e52b6a698777...|   8500.0|     8500.0|36 months|   10.62|     276.76|Mar-2010| Fully Paid|  debt_consolidation|Reduce Debt befor...|\n",
      "| 423260|c666d309594cceae5...|  10000.0|    10000.0|36 months|    7.88|     312.81|Mar-2010| Fully Paid|first as a Borrow...|first as a relati...|\n",
      "| 488022|cc859b4c14c9eb521...|   8000.0|     8000.0|36 months|    9.88|     257.69|Mar-2010| Fully Paid|  debt_consolidation|pay off credit ca...|\n",
      "| 491557|dc1eeb967d0041bec...|  12000.0|    12000.0|36 months|   13.48|     407.09|Mar-2010| Fully Paid|               other|        Payoff Easy!|\n",
      "| 491494|123126e86ba5ecd5d...|  10000.0|    10000.0|36 months|   14.96|     346.47|Mar-2010| Fully Paid|  debt_consolidation|Credit Card Conso...|\n",
      "| 491487|aeb1851b33df8f924...|  11000.0|    11000.0|36 months|   13.85|     375.15|Mar-2010| Fully Paid|  debt_consolidation|Credit card conso...|\n",
      "+-------+--------------------+---------+-----------+---------+--------+-----------+--------+-----------+--------------------+--------------------+\n",
      "only showing top 20 rows\n",
      "\n"
     ]
    }
   ],
   "source": [
    "loans_raw_df.show() #to check data "
   ]
  },
  {
   "cell_type": "code",
   "execution_count": 7,
   "id": "1b2076c1",
   "metadata": {},
   "outputs": [
    {
     "name": "stdout",
     "output_type": "stream",
     "text": [
      "root\n",
      " |-- loan_id: string (nullable = true)\n",
      " |-- member_id: string (nullable = true)\n",
      " |-- loan_amnt: double (nullable = true)\n",
      " |-- funded_amnt: double (nullable = true)\n",
      " |-- term: string (nullable = true)\n",
      " |-- int_rate: double (nullable = true)\n",
      " |-- installment: double (nullable = true)\n",
      " |-- issue_d: string (nullable = true)\n",
      " |-- loan_status: string (nullable = true)\n",
      " |-- purpose: string (nullable = true)\n",
      " |-- title: string (nullable = true)\n",
      "\n"
     ]
    }
   ],
   "source": [
    "loans_raw_df.printSchema() #we can see data types and renaming of col is required"
   ]
  },
  {
   "cell_type": "code",
   "execution_count": 56,
   "id": "bade9bc3",
   "metadata": {},
   "outputs": [],
   "source": [
    "loans_schema = \"loan_id string,member_id string,loan_amount float,funded_amount float,\\\n",
    "                loan_term_months string,interest_rate float,monthly_installment float,issue_date string,\\\n",
    "                loan_status string,loan_purpose string,loan_title string\"\n",
    "#we are renaming few col's along with data types of the same."
   ]
  },
  {
   "cell_type": "code",
   "execution_count": 57,
   "id": "830876f3",
   "metadata": {},
   "outputs": [],
   "source": [
    "loans_raw_df=spark.read.format(\"csv\").schema(loans_schema) \\\n",
    ".option(\"header\",True).load(\"/user/itv012010/lendingclubproject/raw/loans_data_csv\")"
   ]
  },
  {
   "cell_type": "code",
   "execution_count": 58,
   "id": "10ba6c89",
   "metadata": {},
   "outputs": [
    {
     "name": "stdout",
     "output_type": "stream",
     "text": [
      "root\n",
      " |-- loan_id: string (nullable = true)\n",
      " |-- member_id: string (nullable = true)\n",
      " |-- loan_amount: float (nullable = true)\n",
      " |-- funded_amount: float (nullable = true)\n",
      " |-- loan_term_months: string (nullable = true)\n",
      " |-- interest_rate: float (nullable = true)\n",
      " |-- monthly_installment: float (nullable = true)\n",
      " |-- issue_date: string (nullable = true)\n",
      " |-- loan_status: string (nullable = true)\n",
      " |-- loan_purpose: string (nullable = true)\n",
      " |-- loan_title: string (nullable = true)\n",
      "\n"
     ]
    }
   ],
   "source": [
    "loans_raw_df.printSchema() #we can see meta data is updated"
   ]
  },
  {
   "cell_type": "code",
   "execution_count": 59,
   "id": "9184d6de",
   "metadata": {},
   "outputs": [],
   "source": [
    "loans_df_ingested=loans_raw_df.withColumn(\"ingest_date\",current_timestamp())"
   ]
  },
  {
   "cell_type": "code",
   "execution_count": 60,
   "id": "901f643e",
   "metadata": {},
   "outputs": [
    {
     "name": "stdout",
     "output_type": "stream",
     "text": [
      "+--------------------+\n",
      "|         ingest_date|\n",
      "+--------------------+\n",
      "|2024-03-30 12:49:...|\n",
      "|2024-03-30 12:49:...|\n",
      "|2024-03-30 12:49:...|\n",
      "|2024-03-30 12:49:...|\n",
      "|2024-03-30 12:49:...|\n",
      "|2024-03-30 12:49:...|\n",
      "|2024-03-30 12:49:...|\n",
      "|2024-03-30 12:49:...|\n",
      "|2024-03-30 12:49:...|\n",
      "|2024-03-30 12:49:...|\n",
      "|2024-03-30 12:49:...|\n",
      "|2024-03-30 12:49:...|\n",
      "|2024-03-30 12:49:...|\n",
      "|2024-03-30 12:49:...|\n",
      "|2024-03-30 12:49:...|\n",
      "|2024-03-30 12:49:...|\n",
      "|2024-03-30 12:49:...|\n",
      "|2024-03-30 12:49:...|\n",
      "|2024-03-30 12:49:...|\n",
      "|2024-03-30 12:49:...|\n",
      "+--------------------+\n",
      "only showing top 20 rows\n",
      "\n"
     ]
    }
   ],
   "source": [
    "loans_df_ingested.select(\"ingest_date\").show() #we can see data is present"
   ]
  },
  {
   "cell_type": "code",
   "execution_count": 61,
   "id": "922b153f",
   "metadata": {},
   "outputs": [],
   "source": [
    "loans_df_ingested.createOrReplaceTempView(\"loans\") "
   ]
  },
  {
   "cell_type": "code",
   "execution_count": 62,
   "id": "5b1fd2d3",
   "metadata": {},
   "outputs": [
    {
     "data": {
      "text/html": [
       "<table border='1'>\n",
       "<tr><th>loan_id</th><th>member_id</th><th>loan_amount</th><th>funded_amount</th><th>loan_term_months</th><th>interest_rate</th><th>monthly_installment</th><th>issue_date</th><th>loan_status</th><th>loan_purpose</th><th>loan_title</th><th>ingest_date</th></tr>\n",
       "<tr><td>491699</td><td>961ae110ec063761f...</td><td>7000.0</td><td>7000.0</td><td>36 months</td><td>12.73</td><td>234.97</td><td>Mar-2010</td><td>Fully Paid</td><td>debt_consolidation</td><td>Noelle&#x27;s debt con...</td><td>2024-03-30 12:49:...</td></tr>\n",
       "<tr><td>491685</td><td>291854d244748c911...</td><td>15000.0</td><td>15000.0</td><td>36 months</td><td>10.62</td><td>488.4</td><td>Mar-2010</td><td>Fully Paid</td><td>other</td><td>Education</td><td>2024-03-30 12:49:...</td></tr>\n",
       "<tr><td>491667</td><td>b5cf66b90193da9d2...</td><td>6400.0</td><td>6400.0</td><td>36 months</td><td>7.88</td><td>200.2</td><td>Mar-2010</td><td>Fully Paid</td><td>debt_consolidation</td><td>Make money easily</td><td>2024-03-30 12:49:...</td></tr>\n",
       "<tr><td>491160</td><td>7f53fd1acb7759e5b...</td><td>4000.0</td><td>4000.0</td><td>36 months</td><td>14.59</td><td>137.86</td><td>Mar-2010</td><td>Fully Paid</td><td>wedding</td><td>wedding expenses</td><td>2024-03-30 12:49:...</td></tr>\n",
       "<tr><td>491675</td><td>12edc8e328b993914...</td><td>20000.0</td><td>20000.0</td><td>36 months</td><td>13.85</td><td>682.08</td><td>Mar-2010</td><td>Fully Paid</td><td>other</td><td>Short Term Tax Loan</td><td>2024-03-30 12:49:...</td></tr>\n",
       "<tr><td>491668</td><td>e18a847f091332ff6...</td><td>6000.0</td><td>6000.0</td><td>36 months</td><td>11.36</td><td>197.47</td><td>Mar-2010</td><td>Charged Off</td><td>debt_consolidation</td><td>GREAT BORROWER --...</td><td>2024-03-30 12:49:...</td></tr>\n",
       "<tr><td>491663</td><td>d6fe0000e876ab76d...</td><td>5500.0</td><td>5500.0</td><td>36 months</td><td>11.36</td><td>181.02</td><td>Mar-2010</td><td>Fully Paid</td><td>credit_card</td><td>Road to Success</td><td>2024-03-30 12:49:...</td></tr>\n",
       "<tr><td>491632</td><td>62c38934f3a2ebcd2...</td><td>10000.0</td><td>10000.0</td><td>36 months</td><td>15.7</td><td>350.11</td><td>Mar-2010</td><td>Fully Paid</td><td>credit_card</td><td>Finish Paying off...</td><td>2024-03-30 12:49:...</td></tr>\n",
       "<tr><td>491618</td><td>7701762ef5d302b0d...</td><td>25000.0</td><td>25000.0</td><td>36 months</td><td>15.33</td><td>870.71</td><td>Mar-2010</td><td>Fully Paid</td><td>debt_consolidation</td><td>Pay off my high i...</td><td>2024-03-30 12:49:...</td></tr>\n",
       "<tr><td>491622</td><td>42a2df45b02b21b9a...</td><td>25000.0</td><td>25000.0</td><td>36 months</td><td>16.07</td><td>879.85</td><td>Mar-2010</td><td>Fully Paid</td><td>debt_consolidation</td><td>Debt Pay Off</td><td>2024-03-30 12:49:...</td></tr>\n",
       "<tr><td>491552</td><td>b1ba0adce0baea939...</td><td>22000.0</td><td>22000.0</td><td>36 months</td><td>11.36</td><td>724.05</td><td>Mar-2010</td><td>Fully Paid</td><td>debt_consolidation</td><td>Getting rid of Ne...</td><td>2024-03-30 12:49:...</td></tr>\n",
       "<tr><td>491477</td><td>82cdc418e3907686a...</td><td>16750.0</td><td>16750.0</td><td>36 months</td><td>13.11</td><td>565.23</td><td>Mar-2010</td><td>Fully Paid</td><td>debt_consolidation</td><td>Special Ed teache...</td><td>2024-03-30 12:49:...</td></tr>\n",
       "<tr><td>491596</td><td>6cbc67caa30708b24...</td><td>3600.0</td><td>3600.0</td><td>36 months</td><td>15.7</td><td>126.04</td><td>Mar-2010</td><td>Fully Paid</td><td>credit_card</td><td>Credit Card Elimi...</td><td>2024-03-30 12:49:...</td></tr>\n",
       "<tr><td>491575</td><td>3bae7a88975616641...</td><td>13750.0</td><td>13750.0</td><td>36 months</td><td>14.96</td><td>476.39</td><td>Mar-2010</td><td>Fully Paid</td><td>debt_consolidation</td><td>Personal Loan</td><td>2024-03-30 12:49:...</td></tr>\n",
       "<tr><td>491581</td><td>55694e52b6a698777...</td><td>8500.0</td><td>8500.0</td><td>36 months</td><td>10.62</td><td>276.76</td><td>Mar-2010</td><td>Fully Paid</td><td>debt_consolidation</td><td>Reduce Debt befor...</td><td>2024-03-30 12:49:...</td></tr>\n",
       "<tr><td>423260</td><td>c666d309594cceae5...</td><td>10000.0</td><td>10000.0</td><td>36 months</td><td>7.88</td><td>312.81</td><td>Mar-2010</td><td>Fully Paid</td><td>first as a Borrow...</td><td>first as a relati...</td><td>2024-03-30 12:49:...</td></tr>\n",
       "<tr><td>488022</td><td>cc859b4c14c9eb521...</td><td>8000.0</td><td>8000.0</td><td>36 months</td><td>9.88</td><td>257.69</td><td>Mar-2010</td><td>Fully Paid</td><td>debt_consolidation</td><td>pay off credit ca...</td><td>2024-03-30 12:49:...</td></tr>\n",
       "<tr><td>491557</td><td>dc1eeb967d0041bec...</td><td>12000.0</td><td>12000.0</td><td>36 months</td><td>13.48</td><td>407.09</td><td>Mar-2010</td><td>Fully Paid</td><td>other</td><td>Payoff Easy!</td><td>2024-03-30 12:49:...</td></tr>\n",
       "<tr><td>491494</td><td>123126e86ba5ecd5d...</td><td>10000.0</td><td>10000.0</td><td>36 months</td><td>14.96</td><td>346.47</td><td>Mar-2010</td><td>Fully Paid</td><td>debt_consolidation</td><td>Credit Card Conso...</td><td>2024-03-30 12:49:...</td></tr>\n",
       "<tr><td>491487</td><td>aeb1851b33df8f924...</td><td>11000.0</td><td>11000.0</td><td>36 months</td><td>13.85</td><td>375.15</td><td>Mar-2010</td><td>Fully Paid</td><td>debt_consolidation</td><td>Credit card conso...</td><td>2024-03-30 12:49:...</td></tr>\n",
       "</table>\n",
       "only showing top 20 rows\n"
      ],
      "text/plain": [
       "+-------+--------------------+-----------+-------------+----------------+-------------+-------------------+----------+-----------+--------------------+--------------------+--------------------+\n",
       "|loan_id|           member_id|loan_amount|funded_amount|loan_term_months|interest_rate|monthly_installment|issue_date|loan_status|        loan_purpose|          loan_title|         ingest_date|\n",
       "+-------+--------------------+-----------+-------------+----------------+-------------+-------------------+----------+-----------+--------------------+--------------------+--------------------+\n",
       "| 491699|961ae110ec063761f...|     7000.0|       7000.0|       36 months|        12.73|             234.97|  Mar-2010| Fully Paid|  debt_consolidation|Noelle's debt con...|2024-03-30 12:49:...|\n",
       "| 491685|291854d244748c911...|    15000.0|      15000.0|       36 months|        10.62|              488.4|  Mar-2010| Fully Paid|               other|           Education|2024-03-30 12:49:...|\n",
       "| 491667|b5cf66b90193da9d2...|     6400.0|       6400.0|       36 months|         7.88|              200.2|  Mar-2010| Fully Paid|  debt_consolidation|   Make money easily|2024-03-30 12:49:...|\n",
       "| 491160|7f53fd1acb7759e5b...|     4000.0|       4000.0|       36 months|        14.59|             137.86|  Mar-2010| Fully Paid|             wedding|    wedding expenses|2024-03-30 12:49:...|\n",
       "| 491675|12edc8e328b993914...|    20000.0|      20000.0|       36 months|        13.85|             682.08|  Mar-2010| Fully Paid|               other| Short Term Tax Loan|2024-03-30 12:49:...|\n",
       "| 491668|e18a847f091332ff6...|     6000.0|       6000.0|       36 months|        11.36|             197.47|  Mar-2010|Charged Off|  debt_consolidation|GREAT BORROWER --...|2024-03-30 12:49:...|\n",
       "| 491663|d6fe0000e876ab76d...|     5500.0|       5500.0|       36 months|        11.36|             181.02|  Mar-2010| Fully Paid|         credit_card|     Road to Success|2024-03-30 12:49:...|\n",
       "| 491632|62c38934f3a2ebcd2...|    10000.0|      10000.0|       36 months|         15.7|             350.11|  Mar-2010| Fully Paid|         credit_card|Finish Paying off...|2024-03-30 12:49:...|\n",
       "| 491618|7701762ef5d302b0d...|    25000.0|      25000.0|       36 months|        15.33|             870.71|  Mar-2010| Fully Paid|  debt_consolidation|Pay off my high i...|2024-03-30 12:49:...|\n",
       "| 491622|42a2df45b02b21b9a...|    25000.0|      25000.0|       36 months|        16.07|             879.85|  Mar-2010| Fully Paid|  debt_consolidation|        Debt Pay Off|2024-03-30 12:49:...|\n",
       "| 491552|b1ba0adce0baea939...|    22000.0|      22000.0|       36 months|        11.36|             724.05|  Mar-2010| Fully Paid|  debt_consolidation|Getting rid of Ne...|2024-03-30 12:49:...|\n",
       "| 491477|82cdc418e3907686a...|    16750.0|      16750.0|       36 months|        13.11|             565.23|  Mar-2010| Fully Paid|  debt_consolidation|Special Ed teache...|2024-03-30 12:49:...|\n",
       "| 491596|6cbc67caa30708b24...|     3600.0|       3600.0|       36 months|         15.7|             126.04|  Mar-2010| Fully Paid|         credit_card|Credit Card Elimi...|2024-03-30 12:49:...|\n",
       "| 491575|3bae7a88975616641...|    13750.0|      13750.0|       36 months|        14.96|             476.39|  Mar-2010| Fully Paid|  debt_consolidation|       Personal Loan|2024-03-30 12:49:...|\n",
       "| 491581|55694e52b6a698777...|     8500.0|       8500.0|       36 months|        10.62|             276.76|  Mar-2010| Fully Paid|  debt_consolidation|Reduce Debt befor...|2024-03-30 12:49:...|\n",
       "| 423260|c666d309594cceae5...|    10000.0|      10000.0|       36 months|         7.88|             312.81|  Mar-2010| Fully Paid|first as a Borrow...|first as a relati...|2024-03-30 12:49:...|\n",
       "| 488022|cc859b4c14c9eb521...|     8000.0|       8000.0|       36 months|         9.88|             257.69|  Mar-2010| Fully Paid|  debt_consolidation|pay off credit ca...|2024-03-30 12:49:...|\n",
       "| 491557|dc1eeb967d0041bec...|    12000.0|      12000.0|       36 months|        13.48|             407.09|  Mar-2010| Fully Paid|               other|        Payoff Easy!|2024-03-30 12:49:...|\n",
       "| 491494|123126e86ba5ecd5d...|    10000.0|      10000.0|       36 months|        14.96|             346.47|  Mar-2010| Fully Paid|  debt_consolidation|Credit Card Conso...|2024-03-30 12:49:...|\n",
       "| 491487|aeb1851b33df8f924...|    11000.0|      11000.0|       36 months|        13.85|             375.15|  Mar-2010| Fully Paid|  debt_consolidation|Credit card conso...|2024-03-30 12:49:...|\n",
       "+-------+--------------------+-----------+-------------+----------------+-------------+-------------------+----------+-----------+--------------------+--------------------+--------------------+\n",
       "only showing top 20 rows"
      ]
     },
     "execution_count": 62,
     "metadata": {},
     "output_type": "execute_result"
    }
   ],
   "source": [
    "loans_df_ingested"
   ]
  },
  {
   "cell_type": "code",
   "execution_count": 63,
   "id": "6e048bc2",
   "metadata": {},
   "outputs": [
    {
     "data": {
      "text/html": [
       "<table border='1'>\n",
       "<tr><th>count(1)</th></tr>\n",
       "<tr><td>2260701</td></tr>\n",
       "</table>\n"
      ],
      "text/plain": [
       "+--------+\n",
       "|count(1)|\n",
       "+--------+\n",
       "| 2260701|\n",
       "+--------+"
      ]
     },
     "execution_count": 63,
     "metadata": {},
     "output_type": "execute_result"
    }
   ],
   "source": [
    "spark.sql(\"select count(*) from loans\") #total records in loans data "
   ]
  },
  {
   "cell_type": "code",
   "execution_count": 64,
   "id": "315e88f5",
   "metadata": {},
   "outputs": [
    {
     "data": {
      "text/html": [
       "<table border='1'>\n",
       "<tr><th>count(1)</th></tr>\n",
       "<tr><td>33</td></tr>\n",
       "</table>\n"
      ],
      "text/plain": [
       "+--------+\n",
       "|count(1)|\n",
       "+--------+\n",
       "|      33|\n",
       "+--------+"
      ]
     },
     "execution_count": 64,
     "metadata": {},
     "output_type": "execute_result"
    }
   ],
   "source": [
    "spark.sql(\"select count(*) from loans where loan_amount is null\") #to check nulls in loan_Amount there are 33 records where nulls are present"
   ]
  },
  {
   "cell_type": "code",
   "execution_count": 65,
   "id": "d916f503",
   "metadata": {},
   "outputs": [
    {
     "data": {
      "text/html": [
       "<table border='1'>\n",
       "<tr><th>loan_id</th><th>member_id</th><th>loan_amount</th><th>funded_amount</th><th>loan_term_months</th><th>interest_rate</th><th>monthly_installment</th><th>issue_date</th><th>loan_status</th><th>loan_purpose</th><th>loan_title</th><th>ingest_date</th></tr>\n",
       "<tr><td>Loans that do not...</td><td>e3b0c44298fc1c149...</td><td>null</td><td>null</td><td>null</td><td>null</td><td>null</td><td>null</td><td>null</td><td>null</td><td>null</td><td>2024-03-30 12:49:...</td></tr>\n",
       "<tr><td>Total amount fund...</td><td>e3b0c44298fc1c149...</td><td>null</td><td>null</td><td>null</td><td>null</td><td>null</td><td>null</td><td>null</td><td>null</td><td>null</td><td>2024-03-30 12:49:...</td></tr>\n",
       "<tr><td>Total amount fund...</td><td>e3b0c44298fc1c149...</td><td>null</td><td>null</td><td>null</td><td>null</td><td>null</td><td>null</td><td>null</td><td>null</td><td>null</td><td>2024-03-30 12:49:...</td></tr>\n",
       "<tr><td>Total amount fund...</td><td>e3b0c44298fc1c149...</td><td>null</td><td>null</td><td>null</td><td>null</td><td>null</td><td>null</td><td>null</td><td>null</td><td>null</td><td>2024-03-30 12:49:...</td></tr>\n",
       "<tr><td>Total amount fund...</td><td>e3b0c44298fc1c149...</td><td>null</td><td>null</td><td>null</td><td>null</td><td>null</td><td>null</td><td>null</td><td>null</td><td>null</td><td>2024-03-30 12:49:...</td></tr>\n",
       "<tr><td>Total amount fund...</td><td>e3b0c44298fc1c149...</td><td>null</td><td>null</td><td>null</td><td>null</td><td>null</td><td>null</td><td>null</td><td>null</td><td>null</td><td>2024-03-30 12:49:...</td></tr>\n",
       "<tr><td>Total amount fund...</td><td>e3b0c44298fc1c149...</td><td>null</td><td>null</td><td>null</td><td>null</td><td>null</td><td>null</td><td>null</td><td>null</td><td>null</td><td>2024-03-30 12:49:...</td></tr>\n",
       "<tr><td>Total amount fund...</td><td>e3b0c44298fc1c149...</td><td>null</td><td>null</td><td>null</td><td>null</td><td>null</td><td>null</td><td>null</td><td>null</td><td>null</td><td>2024-03-30 12:49:...</td></tr>\n",
       "<tr><td>Total amount fund...</td><td>e3b0c44298fc1c149...</td><td>null</td><td>null</td><td>null</td><td>null</td><td>null</td><td>null</td><td>null</td><td>null</td><td>null</td><td>2024-03-30 12:49:...</td></tr>\n",
       "<tr><td>Total amount fund...</td><td>e3b0c44298fc1c149...</td><td>null</td><td>null</td><td>null</td><td>null</td><td>null</td><td>null</td><td>null</td><td>null</td><td>null</td><td>2024-03-30 12:49:...</td></tr>\n",
       "<tr><td>Total amount fund...</td><td>e3b0c44298fc1c149...</td><td>null</td><td>null</td><td>null</td><td>null</td><td>null</td><td>null</td><td>null</td><td>null</td><td>null</td><td>2024-03-30 12:49:...</td></tr>\n",
       "<tr><td>Total amount fund...</td><td>e3b0c44298fc1c149...</td><td>null</td><td>null</td><td>null</td><td>null</td><td>null</td><td>null</td><td>null</td><td>null</td><td>null</td><td>2024-03-30 12:49:...</td></tr>\n",
       "<tr><td>Total amount fund...</td><td>e3b0c44298fc1c149...</td><td>null</td><td>null</td><td>null</td><td>null</td><td>null</td><td>null</td><td>null</td><td>null</td><td>null</td><td>2024-03-30 12:49:...</td></tr>\n",
       "<tr><td>Total amount fund...</td><td>e3b0c44298fc1c149...</td><td>null</td><td>null</td><td>null</td><td>null</td><td>null</td><td>null</td><td>null</td><td>null</td><td>null</td><td>2024-03-30 12:49:...</td></tr>\n",
       "<tr><td>Total amount fund...</td><td>e3b0c44298fc1c149...</td><td>null</td><td>null</td><td>null</td><td>null</td><td>null</td><td>null</td><td>null</td><td>null</td><td>null</td><td>2024-03-30 12:49:...</td></tr>\n",
       "<tr><td>Total amount fund...</td><td>e3b0c44298fc1c149...</td><td>null</td><td>null</td><td>null</td><td>null</td><td>null</td><td>null</td><td>null</td><td>null</td><td>null</td><td>2024-03-30 12:49:...</td></tr>\n",
       "<tr><td>Total amount fund...</td><td>e3b0c44298fc1c149...</td><td>null</td><td>null</td><td>null</td><td>null</td><td>null</td><td>null</td><td>null</td><td>null</td><td>null</td><td>2024-03-30 12:49:...</td></tr>\n",
       "<tr><td>Total amount fund...</td><td>e3b0c44298fc1c149...</td><td>null</td><td>null</td><td>null</td><td>null</td><td>null</td><td>null</td><td>null</td><td>null</td><td>null</td><td>2024-03-30 12:49:...</td></tr>\n",
       "<tr><td>Total amount fund...</td><td>e3b0c44298fc1c149...</td><td>null</td><td>null</td><td>null</td><td>null</td><td>null</td><td>null</td><td>null</td><td>null</td><td>null</td><td>2024-03-30 12:49:...</td></tr>\n",
       "<tr><td>Total amount fund...</td><td>e3b0c44298fc1c149...</td><td>null</td><td>null</td><td>null</td><td>null</td><td>null</td><td>null</td><td>null</td><td>null</td><td>null</td><td>2024-03-30 12:49:...</td></tr>\n",
       "</table>\n",
       "only showing top 20 rows\n"
      ],
      "text/plain": [
       "+--------------------+--------------------+-----------+-------------+----------------+-------------+-------------------+----------+-----------+------------+----------+--------------------+\n",
       "|             loan_id|           member_id|loan_amount|funded_amount|loan_term_months|interest_rate|monthly_installment|issue_date|loan_status|loan_purpose|loan_title|         ingest_date|\n",
       "+--------------------+--------------------+-----------+-------------+----------------+-------------+-------------------+----------+-----------+------------+----------+--------------------+\n",
       "|Loans that do not...|e3b0c44298fc1c149...|       null|         null|            null|         null|               null|      null|       null|        null|      null|2024-03-30 12:49:...|\n",
       "|Total amount fund...|e3b0c44298fc1c149...|       null|         null|            null|         null|               null|      null|       null|        null|      null|2024-03-30 12:49:...|\n",
       "|Total amount fund...|e3b0c44298fc1c149...|       null|         null|            null|         null|               null|      null|       null|        null|      null|2024-03-30 12:49:...|\n",
       "|Total amount fund...|e3b0c44298fc1c149...|       null|         null|            null|         null|               null|      null|       null|        null|      null|2024-03-30 12:49:...|\n",
       "|Total amount fund...|e3b0c44298fc1c149...|       null|         null|            null|         null|               null|      null|       null|        null|      null|2024-03-30 12:49:...|\n",
       "|Total amount fund...|e3b0c44298fc1c149...|       null|         null|            null|         null|               null|      null|       null|        null|      null|2024-03-30 12:49:...|\n",
       "|Total amount fund...|e3b0c44298fc1c149...|       null|         null|            null|         null|               null|      null|       null|        null|      null|2024-03-30 12:49:...|\n",
       "|Total amount fund...|e3b0c44298fc1c149...|       null|         null|            null|         null|               null|      null|       null|        null|      null|2024-03-30 12:49:...|\n",
       "|Total amount fund...|e3b0c44298fc1c149...|       null|         null|            null|         null|               null|      null|       null|        null|      null|2024-03-30 12:49:...|\n",
       "|Total amount fund...|e3b0c44298fc1c149...|       null|         null|            null|         null|               null|      null|       null|        null|      null|2024-03-30 12:49:...|\n",
       "|Total amount fund...|e3b0c44298fc1c149...|       null|         null|            null|         null|               null|      null|       null|        null|      null|2024-03-30 12:49:...|\n",
       "|Total amount fund...|e3b0c44298fc1c149...|       null|         null|            null|         null|               null|      null|       null|        null|      null|2024-03-30 12:49:...|\n",
       "|Total amount fund...|e3b0c44298fc1c149...|       null|         null|            null|         null|               null|      null|       null|        null|      null|2024-03-30 12:49:...|\n",
       "|Total amount fund...|e3b0c44298fc1c149...|       null|         null|            null|         null|               null|      null|       null|        null|      null|2024-03-30 12:49:...|\n",
       "|Total amount fund...|e3b0c44298fc1c149...|       null|         null|            null|         null|               null|      null|       null|        null|      null|2024-03-30 12:49:...|\n",
       "|Total amount fund...|e3b0c44298fc1c149...|       null|         null|            null|         null|               null|      null|       null|        null|      null|2024-03-30 12:49:...|\n",
       "|Total amount fund...|e3b0c44298fc1c149...|       null|         null|            null|         null|               null|      null|       null|        null|      null|2024-03-30 12:49:...|\n",
       "|Total amount fund...|e3b0c44298fc1c149...|       null|         null|            null|         null|               null|      null|       null|        null|      null|2024-03-30 12:49:...|\n",
       "|Total amount fund...|e3b0c44298fc1c149...|       null|         null|            null|         null|               null|      null|       null|        null|      null|2024-03-30 12:49:...|\n",
       "|Total amount fund...|e3b0c44298fc1c149...|       null|         null|            null|         null|               null|      null|       null|        null|      null|2024-03-30 12:49:...|\n",
       "+--------------------+--------------------+-----------+-------------+----------------+-------------+-------------------+----------+-----------+------------+----------+--------------------+\n",
       "only showing top 20 rows"
      ]
     },
     "execution_count": 65,
     "metadata": {},
     "output_type": "execute_result"
    }
   ],
   "source": [
    "spark.sql(\"select * from loans where loan_amount is null\") #we can see there are many nulls present"
   ]
  },
  {
   "cell_type": "code",
   "execution_count": 66,
   "id": "8742d604",
   "metadata": {},
   "outputs": [],
   "source": [
    "columns_to_check=[\"loan_amount\",\"funded_amount\",\"loan_term_months\",\"interest_rate\",\"monthly_installment\",\"issue_date\",\\\n",
    "                 \"loan_status\",\"loan_purpose\"]"
   ]
  },
  {
   "cell_type": "code",
   "execution_count": 67,
   "id": "f11b8f34",
   "metadata": {},
   "outputs": [],
   "source": [
    "loans_filtered_df=loans_df_ingested.na.drop(subset=columns_to_check) #if any of these cols are null it will drop "
   ]
  },
  {
   "cell_type": "code",
   "execution_count": 68,
   "id": "287ccaec",
   "metadata": {},
   "outputs": [
    {
     "data": {
      "text/plain": [
       "2260667"
      ]
     },
     "execution_count": 68,
     "metadata": {},
     "output_type": "execute_result"
    }
   ],
   "source": [
    "loans_filtered_df.count() #count after dropping nulls"
   ]
  },
  {
   "cell_type": "code",
   "execution_count": 69,
   "id": "7d71faa7",
   "metadata": {},
   "outputs": [],
   "source": [
    "loans_filtered_df.createOrReplaceTempView(\"loans\")"
   ]
  },
  {
   "cell_type": "code",
   "execution_count": 70,
   "id": "ded761c2",
   "metadata": {},
   "outputs": [
    {
     "data": {
      "text/html": [
       "<table border='1'>\n",
       "<tr><th>loan_id</th><th>member_id</th><th>loan_amount</th><th>funded_amount</th><th>loan_term_months</th><th>interest_rate</th><th>monthly_installment</th><th>issue_date</th><th>loan_status</th><th>loan_purpose</th><th>loan_title</th><th>ingest_date</th></tr>\n",
       "<tr><td>491699</td><td>961ae110ec063761f...</td><td>7000.0</td><td>7000.0</td><td>36 months</td><td>12.73</td><td>234.97</td><td>Mar-2010</td><td>Fully Paid</td><td>debt_consolidation</td><td>Noelle&#x27;s debt con...</td><td>2024-03-30 12:50:...</td></tr>\n",
       "<tr><td>491685</td><td>291854d244748c911...</td><td>15000.0</td><td>15000.0</td><td>36 months</td><td>10.62</td><td>488.4</td><td>Mar-2010</td><td>Fully Paid</td><td>other</td><td>Education</td><td>2024-03-30 12:50:...</td></tr>\n",
       "<tr><td>491667</td><td>b5cf66b90193da9d2...</td><td>6400.0</td><td>6400.0</td><td>36 months</td><td>7.88</td><td>200.2</td><td>Mar-2010</td><td>Fully Paid</td><td>debt_consolidation</td><td>Make money easily</td><td>2024-03-30 12:50:...</td></tr>\n",
       "<tr><td>491160</td><td>7f53fd1acb7759e5b...</td><td>4000.0</td><td>4000.0</td><td>36 months</td><td>14.59</td><td>137.86</td><td>Mar-2010</td><td>Fully Paid</td><td>wedding</td><td>wedding expenses</td><td>2024-03-30 12:50:...</td></tr>\n",
       "<tr><td>491675</td><td>12edc8e328b993914...</td><td>20000.0</td><td>20000.0</td><td>36 months</td><td>13.85</td><td>682.08</td><td>Mar-2010</td><td>Fully Paid</td><td>other</td><td>Short Term Tax Loan</td><td>2024-03-30 12:50:...</td></tr>\n",
       "<tr><td>491668</td><td>e18a847f091332ff6...</td><td>6000.0</td><td>6000.0</td><td>36 months</td><td>11.36</td><td>197.47</td><td>Mar-2010</td><td>Charged Off</td><td>debt_consolidation</td><td>GREAT BORROWER --...</td><td>2024-03-30 12:50:...</td></tr>\n",
       "<tr><td>491663</td><td>d6fe0000e876ab76d...</td><td>5500.0</td><td>5500.0</td><td>36 months</td><td>11.36</td><td>181.02</td><td>Mar-2010</td><td>Fully Paid</td><td>credit_card</td><td>Road to Success</td><td>2024-03-30 12:50:...</td></tr>\n",
       "<tr><td>491632</td><td>62c38934f3a2ebcd2...</td><td>10000.0</td><td>10000.0</td><td>36 months</td><td>15.7</td><td>350.11</td><td>Mar-2010</td><td>Fully Paid</td><td>credit_card</td><td>Finish Paying off...</td><td>2024-03-30 12:50:...</td></tr>\n",
       "<tr><td>491618</td><td>7701762ef5d302b0d...</td><td>25000.0</td><td>25000.0</td><td>36 months</td><td>15.33</td><td>870.71</td><td>Mar-2010</td><td>Fully Paid</td><td>debt_consolidation</td><td>Pay off my high i...</td><td>2024-03-30 12:50:...</td></tr>\n",
       "<tr><td>491622</td><td>42a2df45b02b21b9a...</td><td>25000.0</td><td>25000.0</td><td>36 months</td><td>16.07</td><td>879.85</td><td>Mar-2010</td><td>Fully Paid</td><td>debt_consolidation</td><td>Debt Pay Off</td><td>2024-03-30 12:50:...</td></tr>\n",
       "<tr><td>491552</td><td>b1ba0adce0baea939...</td><td>22000.0</td><td>22000.0</td><td>36 months</td><td>11.36</td><td>724.05</td><td>Mar-2010</td><td>Fully Paid</td><td>debt_consolidation</td><td>Getting rid of Ne...</td><td>2024-03-30 12:50:...</td></tr>\n",
       "<tr><td>491477</td><td>82cdc418e3907686a...</td><td>16750.0</td><td>16750.0</td><td>36 months</td><td>13.11</td><td>565.23</td><td>Mar-2010</td><td>Fully Paid</td><td>debt_consolidation</td><td>Special Ed teache...</td><td>2024-03-30 12:50:...</td></tr>\n",
       "<tr><td>491596</td><td>6cbc67caa30708b24...</td><td>3600.0</td><td>3600.0</td><td>36 months</td><td>15.7</td><td>126.04</td><td>Mar-2010</td><td>Fully Paid</td><td>credit_card</td><td>Credit Card Elimi...</td><td>2024-03-30 12:50:...</td></tr>\n",
       "<tr><td>491575</td><td>3bae7a88975616641...</td><td>13750.0</td><td>13750.0</td><td>36 months</td><td>14.96</td><td>476.39</td><td>Mar-2010</td><td>Fully Paid</td><td>debt_consolidation</td><td>Personal Loan</td><td>2024-03-30 12:50:...</td></tr>\n",
       "<tr><td>491581</td><td>55694e52b6a698777...</td><td>8500.0</td><td>8500.0</td><td>36 months</td><td>10.62</td><td>276.76</td><td>Mar-2010</td><td>Fully Paid</td><td>debt_consolidation</td><td>Reduce Debt befor...</td><td>2024-03-30 12:50:...</td></tr>\n",
       "<tr><td>423260</td><td>c666d309594cceae5...</td><td>10000.0</td><td>10000.0</td><td>36 months</td><td>7.88</td><td>312.81</td><td>Mar-2010</td><td>Fully Paid</td><td>first as a Borrow...</td><td>first as a relati...</td><td>2024-03-30 12:50:...</td></tr>\n",
       "<tr><td>488022</td><td>cc859b4c14c9eb521...</td><td>8000.0</td><td>8000.0</td><td>36 months</td><td>9.88</td><td>257.69</td><td>Mar-2010</td><td>Fully Paid</td><td>debt_consolidation</td><td>pay off credit ca...</td><td>2024-03-30 12:50:...</td></tr>\n",
       "<tr><td>491557</td><td>dc1eeb967d0041bec...</td><td>12000.0</td><td>12000.0</td><td>36 months</td><td>13.48</td><td>407.09</td><td>Mar-2010</td><td>Fully Paid</td><td>other</td><td>Payoff Easy!</td><td>2024-03-30 12:50:...</td></tr>\n",
       "<tr><td>491494</td><td>123126e86ba5ecd5d...</td><td>10000.0</td><td>10000.0</td><td>36 months</td><td>14.96</td><td>346.47</td><td>Mar-2010</td><td>Fully Paid</td><td>debt_consolidation</td><td>Credit Card Conso...</td><td>2024-03-30 12:50:...</td></tr>\n",
       "<tr><td>491487</td><td>aeb1851b33df8f924...</td><td>11000.0</td><td>11000.0</td><td>36 months</td><td>13.85</td><td>375.15</td><td>Mar-2010</td><td>Fully Paid</td><td>debt_consolidation</td><td>Credit card conso...</td><td>2024-03-30 12:50:...</td></tr>\n",
       "</table>\n",
       "only showing top 20 rows\n"
      ],
      "text/plain": [
       "+-------+--------------------+-----------+-------------+----------------+-------------+-------------------+----------+-----------+--------------------+--------------------+--------------------+\n",
       "|loan_id|           member_id|loan_amount|funded_amount|loan_term_months|interest_rate|monthly_installment|issue_date|loan_status|        loan_purpose|          loan_title|         ingest_date|\n",
       "+-------+--------------------+-----------+-------------+----------------+-------------+-------------------+----------+-----------+--------------------+--------------------+--------------------+\n",
       "| 491699|961ae110ec063761f...|     7000.0|       7000.0|       36 months|        12.73|             234.97|  Mar-2010| Fully Paid|  debt_consolidation|Noelle's debt con...|2024-03-30 12:50:...|\n",
       "| 491685|291854d244748c911...|    15000.0|      15000.0|       36 months|        10.62|              488.4|  Mar-2010| Fully Paid|               other|           Education|2024-03-30 12:50:...|\n",
       "| 491667|b5cf66b90193da9d2...|     6400.0|       6400.0|       36 months|         7.88|              200.2|  Mar-2010| Fully Paid|  debt_consolidation|   Make money easily|2024-03-30 12:50:...|\n",
       "| 491160|7f53fd1acb7759e5b...|     4000.0|       4000.0|       36 months|        14.59|             137.86|  Mar-2010| Fully Paid|             wedding|    wedding expenses|2024-03-30 12:50:...|\n",
       "| 491675|12edc8e328b993914...|    20000.0|      20000.0|       36 months|        13.85|             682.08|  Mar-2010| Fully Paid|               other| Short Term Tax Loan|2024-03-30 12:50:...|\n",
       "| 491668|e18a847f091332ff6...|     6000.0|       6000.0|       36 months|        11.36|             197.47|  Mar-2010|Charged Off|  debt_consolidation|GREAT BORROWER --...|2024-03-30 12:50:...|\n",
       "| 491663|d6fe0000e876ab76d...|     5500.0|       5500.0|       36 months|        11.36|             181.02|  Mar-2010| Fully Paid|         credit_card|     Road to Success|2024-03-30 12:50:...|\n",
       "| 491632|62c38934f3a2ebcd2...|    10000.0|      10000.0|       36 months|         15.7|             350.11|  Mar-2010| Fully Paid|         credit_card|Finish Paying off...|2024-03-30 12:50:...|\n",
       "| 491618|7701762ef5d302b0d...|    25000.0|      25000.0|       36 months|        15.33|             870.71|  Mar-2010| Fully Paid|  debt_consolidation|Pay off my high i...|2024-03-30 12:50:...|\n",
       "| 491622|42a2df45b02b21b9a...|    25000.0|      25000.0|       36 months|        16.07|             879.85|  Mar-2010| Fully Paid|  debt_consolidation|        Debt Pay Off|2024-03-30 12:50:...|\n",
       "| 491552|b1ba0adce0baea939...|    22000.0|      22000.0|       36 months|        11.36|             724.05|  Mar-2010| Fully Paid|  debt_consolidation|Getting rid of Ne...|2024-03-30 12:50:...|\n",
       "| 491477|82cdc418e3907686a...|    16750.0|      16750.0|       36 months|        13.11|             565.23|  Mar-2010| Fully Paid|  debt_consolidation|Special Ed teache...|2024-03-30 12:50:...|\n",
       "| 491596|6cbc67caa30708b24...|     3600.0|       3600.0|       36 months|         15.7|             126.04|  Mar-2010| Fully Paid|         credit_card|Credit Card Elimi...|2024-03-30 12:50:...|\n",
       "| 491575|3bae7a88975616641...|    13750.0|      13750.0|       36 months|        14.96|             476.39|  Mar-2010| Fully Paid|  debt_consolidation|       Personal Loan|2024-03-30 12:50:...|\n",
       "| 491581|55694e52b6a698777...|     8500.0|       8500.0|       36 months|        10.62|             276.76|  Mar-2010| Fully Paid|  debt_consolidation|Reduce Debt befor...|2024-03-30 12:50:...|\n",
       "| 423260|c666d309594cceae5...|    10000.0|      10000.0|       36 months|         7.88|             312.81|  Mar-2010| Fully Paid|first as a Borrow...|first as a relati...|2024-03-30 12:50:...|\n",
       "| 488022|cc859b4c14c9eb521...|     8000.0|       8000.0|       36 months|         9.88|             257.69|  Mar-2010| Fully Paid|  debt_consolidation|pay off credit ca...|2024-03-30 12:50:...|\n",
       "| 491557|dc1eeb967d0041bec...|    12000.0|      12000.0|       36 months|        13.48|             407.09|  Mar-2010| Fully Paid|               other|        Payoff Easy!|2024-03-30 12:50:...|\n",
       "| 491494|123126e86ba5ecd5d...|    10000.0|      10000.0|       36 months|        14.96|             346.47|  Mar-2010| Fully Paid|  debt_consolidation|Credit Card Conso...|2024-03-30 12:50:...|\n",
       "| 491487|aeb1851b33df8f924...|    11000.0|      11000.0|       36 months|        13.85|             375.15|  Mar-2010| Fully Paid|  debt_consolidation|Credit card conso...|2024-03-30 12:50:...|\n",
       "+-------+--------------------+-----------+-------------+----------------+-------------+-------------------+----------+-----------+--------------------+--------------------+--------------------+\n",
       "only showing top 20 rows"
      ]
     },
     "execution_count": 70,
     "metadata": {},
     "output_type": "execute_result"
    }
   ],
   "source": [
    "loans_filtered_df #we have to change loan_term_months to years "
   ]
  },
  {
   "cell_type": "code",
   "execution_count": 71,
   "id": "ceabaf3a",
   "metadata": {},
   "outputs": [],
   "source": [
    "loans_term_modified_df=loans_filtered_df.withColumn(\n",
    "\"loan_term_months\",\n",
    "    (regexp_replace(col(\"loan_term_months\"),\"months\",\"\").cast(\"int\")/12)\\\n",
    "    .cast(\"int\")).withColumnRenamed(\"loan_term_months\",\"loan_term_years\")"
   ]
  },
  {
   "cell_type": "code",
   "execution_count": 72,
   "id": "9a03e591",
   "metadata": {},
   "outputs": [
    {
     "data": {
      "text/html": [
       "<table border='1'>\n",
       "<tr><th>loan_id</th><th>member_id</th><th>loan_amount</th><th>funded_amount</th><th>loan_term_years</th><th>interest_rate</th><th>monthly_installment</th><th>issue_date</th><th>loan_status</th><th>loan_purpose</th><th>loan_title</th><th>ingest_date</th></tr>\n",
       "<tr><td>491699</td><td>961ae110ec063761f...</td><td>7000.0</td><td>7000.0</td><td>3</td><td>12.73</td><td>234.97</td><td>Mar-2010</td><td>Fully Paid</td><td>debt_consolidation</td><td>Noelle&#x27;s debt con...</td><td>2024-03-30 12:50:...</td></tr>\n",
       "<tr><td>491685</td><td>291854d244748c911...</td><td>15000.0</td><td>15000.0</td><td>3</td><td>10.62</td><td>488.4</td><td>Mar-2010</td><td>Fully Paid</td><td>other</td><td>Education</td><td>2024-03-30 12:50:...</td></tr>\n",
       "<tr><td>491667</td><td>b5cf66b90193da9d2...</td><td>6400.0</td><td>6400.0</td><td>3</td><td>7.88</td><td>200.2</td><td>Mar-2010</td><td>Fully Paid</td><td>debt_consolidation</td><td>Make money easily</td><td>2024-03-30 12:50:...</td></tr>\n",
       "<tr><td>491160</td><td>7f53fd1acb7759e5b...</td><td>4000.0</td><td>4000.0</td><td>3</td><td>14.59</td><td>137.86</td><td>Mar-2010</td><td>Fully Paid</td><td>wedding</td><td>wedding expenses</td><td>2024-03-30 12:50:...</td></tr>\n",
       "<tr><td>491675</td><td>12edc8e328b993914...</td><td>20000.0</td><td>20000.0</td><td>3</td><td>13.85</td><td>682.08</td><td>Mar-2010</td><td>Fully Paid</td><td>other</td><td>Short Term Tax Loan</td><td>2024-03-30 12:50:...</td></tr>\n",
       "<tr><td>491668</td><td>e18a847f091332ff6...</td><td>6000.0</td><td>6000.0</td><td>3</td><td>11.36</td><td>197.47</td><td>Mar-2010</td><td>Charged Off</td><td>debt_consolidation</td><td>GREAT BORROWER --...</td><td>2024-03-30 12:50:...</td></tr>\n",
       "<tr><td>491663</td><td>d6fe0000e876ab76d...</td><td>5500.0</td><td>5500.0</td><td>3</td><td>11.36</td><td>181.02</td><td>Mar-2010</td><td>Fully Paid</td><td>credit_card</td><td>Road to Success</td><td>2024-03-30 12:50:...</td></tr>\n",
       "<tr><td>491632</td><td>62c38934f3a2ebcd2...</td><td>10000.0</td><td>10000.0</td><td>3</td><td>15.7</td><td>350.11</td><td>Mar-2010</td><td>Fully Paid</td><td>credit_card</td><td>Finish Paying off...</td><td>2024-03-30 12:50:...</td></tr>\n",
       "<tr><td>491618</td><td>7701762ef5d302b0d...</td><td>25000.0</td><td>25000.0</td><td>3</td><td>15.33</td><td>870.71</td><td>Mar-2010</td><td>Fully Paid</td><td>debt_consolidation</td><td>Pay off my high i...</td><td>2024-03-30 12:50:...</td></tr>\n",
       "<tr><td>491622</td><td>42a2df45b02b21b9a...</td><td>25000.0</td><td>25000.0</td><td>3</td><td>16.07</td><td>879.85</td><td>Mar-2010</td><td>Fully Paid</td><td>debt_consolidation</td><td>Debt Pay Off</td><td>2024-03-30 12:50:...</td></tr>\n",
       "<tr><td>491552</td><td>b1ba0adce0baea939...</td><td>22000.0</td><td>22000.0</td><td>3</td><td>11.36</td><td>724.05</td><td>Mar-2010</td><td>Fully Paid</td><td>debt_consolidation</td><td>Getting rid of Ne...</td><td>2024-03-30 12:50:...</td></tr>\n",
       "<tr><td>491477</td><td>82cdc418e3907686a...</td><td>16750.0</td><td>16750.0</td><td>3</td><td>13.11</td><td>565.23</td><td>Mar-2010</td><td>Fully Paid</td><td>debt_consolidation</td><td>Special Ed teache...</td><td>2024-03-30 12:50:...</td></tr>\n",
       "<tr><td>491596</td><td>6cbc67caa30708b24...</td><td>3600.0</td><td>3600.0</td><td>3</td><td>15.7</td><td>126.04</td><td>Mar-2010</td><td>Fully Paid</td><td>credit_card</td><td>Credit Card Elimi...</td><td>2024-03-30 12:50:...</td></tr>\n",
       "<tr><td>491575</td><td>3bae7a88975616641...</td><td>13750.0</td><td>13750.0</td><td>3</td><td>14.96</td><td>476.39</td><td>Mar-2010</td><td>Fully Paid</td><td>debt_consolidation</td><td>Personal Loan</td><td>2024-03-30 12:50:...</td></tr>\n",
       "<tr><td>491581</td><td>55694e52b6a698777...</td><td>8500.0</td><td>8500.0</td><td>3</td><td>10.62</td><td>276.76</td><td>Mar-2010</td><td>Fully Paid</td><td>debt_consolidation</td><td>Reduce Debt befor...</td><td>2024-03-30 12:50:...</td></tr>\n",
       "<tr><td>423260</td><td>c666d309594cceae5...</td><td>10000.0</td><td>10000.0</td><td>3</td><td>7.88</td><td>312.81</td><td>Mar-2010</td><td>Fully Paid</td><td>first as a Borrow...</td><td>first as a relati...</td><td>2024-03-30 12:50:...</td></tr>\n",
       "<tr><td>488022</td><td>cc859b4c14c9eb521...</td><td>8000.0</td><td>8000.0</td><td>3</td><td>9.88</td><td>257.69</td><td>Mar-2010</td><td>Fully Paid</td><td>debt_consolidation</td><td>pay off credit ca...</td><td>2024-03-30 12:50:...</td></tr>\n",
       "<tr><td>491557</td><td>dc1eeb967d0041bec...</td><td>12000.0</td><td>12000.0</td><td>3</td><td>13.48</td><td>407.09</td><td>Mar-2010</td><td>Fully Paid</td><td>other</td><td>Payoff Easy!</td><td>2024-03-30 12:50:...</td></tr>\n",
       "<tr><td>491494</td><td>123126e86ba5ecd5d...</td><td>10000.0</td><td>10000.0</td><td>3</td><td>14.96</td><td>346.47</td><td>Mar-2010</td><td>Fully Paid</td><td>debt_consolidation</td><td>Credit Card Conso...</td><td>2024-03-30 12:50:...</td></tr>\n",
       "<tr><td>491487</td><td>aeb1851b33df8f924...</td><td>11000.0</td><td>11000.0</td><td>3</td><td>13.85</td><td>375.15</td><td>Mar-2010</td><td>Fully Paid</td><td>debt_consolidation</td><td>Credit card conso...</td><td>2024-03-30 12:50:...</td></tr>\n",
       "</table>\n",
       "only showing top 20 rows\n"
      ],
      "text/plain": [
       "+-------+--------------------+-----------+-------------+---------------+-------------+-------------------+----------+-----------+--------------------+--------------------+--------------------+\n",
       "|loan_id|           member_id|loan_amount|funded_amount|loan_term_years|interest_rate|monthly_installment|issue_date|loan_status|        loan_purpose|          loan_title|         ingest_date|\n",
       "+-------+--------------------+-----------+-------------+---------------+-------------+-------------------+----------+-----------+--------------------+--------------------+--------------------+\n",
       "| 491699|961ae110ec063761f...|     7000.0|       7000.0|              3|        12.73|             234.97|  Mar-2010| Fully Paid|  debt_consolidation|Noelle's debt con...|2024-03-30 12:50:...|\n",
       "| 491685|291854d244748c911...|    15000.0|      15000.0|              3|        10.62|              488.4|  Mar-2010| Fully Paid|               other|           Education|2024-03-30 12:50:...|\n",
       "| 491667|b5cf66b90193da9d2...|     6400.0|       6400.0|              3|         7.88|              200.2|  Mar-2010| Fully Paid|  debt_consolidation|   Make money easily|2024-03-30 12:50:...|\n",
       "| 491160|7f53fd1acb7759e5b...|     4000.0|       4000.0|              3|        14.59|             137.86|  Mar-2010| Fully Paid|             wedding|    wedding expenses|2024-03-30 12:50:...|\n",
       "| 491675|12edc8e328b993914...|    20000.0|      20000.0|              3|        13.85|             682.08|  Mar-2010| Fully Paid|               other| Short Term Tax Loan|2024-03-30 12:50:...|\n",
       "| 491668|e18a847f091332ff6...|     6000.0|       6000.0|              3|        11.36|             197.47|  Mar-2010|Charged Off|  debt_consolidation|GREAT BORROWER --...|2024-03-30 12:50:...|\n",
       "| 491663|d6fe0000e876ab76d...|     5500.0|       5500.0|              3|        11.36|             181.02|  Mar-2010| Fully Paid|         credit_card|     Road to Success|2024-03-30 12:50:...|\n",
       "| 491632|62c38934f3a2ebcd2...|    10000.0|      10000.0|              3|         15.7|             350.11|  Mar-2010| Fully Paid|         credit_card|Finish Paying off...|2024-03-30 12:50:...|\n",
       "| 491618|7701762ef5d302b0d...|    25000.0|      25000.0|              3|        15.33|             870.71|  Mar-2010| Fully Paid|  debt_consolidation|Pay off my high i...|2024-03-30 12:50:...|\n",
       "| 491622|42a2df45b02b21b9a...|    25000.0|      25000.0|              3|        16.07|             879.85|  Mar-2010| Fully Paid|  debt_consolidation|        Debt Pay Off|2024-03-30 12:50:...|\n",
       "| 491552|b1ba0adce0baea939...|    22000.0|      22000.0|              3|        11.36|             724.05|  Mar-2010| Fully Paid|  debt_consolidation|Getting rid of Ne...|2024-03-30 12:50:...|\n",
       "| 491477|82cdc418e3907686a...|    16750.0|      16750.0|              3|        13.11|             565.23|  Mar-2010| Fully Paid|  debt_consolidation|Special Ed teache...|2024-03-30 12:50:...|\n",
       "| 491596|6cbc67caa30708b24...|     3600.0|       3600.0|              3|         15.7|             126.04|  Mar-2010| Fully Paid|         credit_card|Credit Card Elimi...|2024-03-30 12:50:...|\n",
       "| 491575|3bae7a88975616641...|    13750.0|      13750.0|              3|        14.96|             476.39|  Mar-2010| Fully Paid|  debt_consolidation|       Personal Loan|2024-03-30 12:50:...|\n",
       "| 491581|55694e52b6a698777...|     8500.0|       8500.0|              3|        10.62|             276.76|  Mar-2010| Fully Paid|  debt_consolidation|Reduce Debt befor...|2024-03-30 12:50:...|\n",
       "| 423260|c666d309594cceae5...|    10000.0|      10000.0|              3|         7.88|             312.81|  Mar-2010| Fully Paid|first as a Borrow...|first as a relati...|2024-03-30 12:50:...|\n",
       "| 488022|cc859b4c14c9eb521...|     8000.0|       8000.0|              3|         9.88|             257.69|  Mar-2010| Fully Paid|  debt_consolidation|pay off credit ca...|2024-03-30 12:50:...|\n",
       "| 491557|dc1eeb967d0041bec...|    12000.0|      12000.0|              3|        13.48|             407.09|  Mar-2010| Fully Paid|               other|        Payoff Easy!|2024-03-30 12:50:...|\n",
       "| 491494|123126e86ba5ecd5d...|    10000.0|      10000.0|              3|        14.96|             346.47|  Mar-2010| Fully Paid|  debt_consolidation|Credit Card Conso...|2024-03-30 12:50:...|\n",
       "| 491487|aeb1851b33df8f924...|    11000.0|      11000.0|              3|        13.85|             375.15|  Mar-2010| Fully Paid|  debt_consolidation|Credit card conso...|2024-03-30 12:50:...|\n",
       "+-------+--------------------+-----------+-------------+---------------+-------------+-------------------+----------+-----------+--------------------+--------------------+--------------------+\n",
       "only showing top 20 rows"
      ]
     },
     "execution_count": 72,
     "metadata": {},
     "output_type": "execute_result"
    }
   ],
   "source": [
    "loans_term_modified_df #we can see loan_term_years is changed "
   ]
  },
  {
   "cell_type": "code",
   "execution_count": 73,
   "id": "8ca23674",
   "metadata": {},
   "outputs": [],
   "source": [
    "loans_term_modified_df.createOrReplaceTempView(\"loans\")"
   ]
  },
  {
   "cell_type": "code",
   "execution_count": 36,
   "id": "e1446540",
   "metadata": {},
   "outputs": [
    {
     "data": {
      "text/html": [
       "<table border='1'>\n",
       "<tr><th>loan_purpose</th><th>total</th></tr>\n",
       "<tr><td>debt_consolidation</td><td>1277790</td></tr>\n",
       "<tr><td>credit_card</td><td>516926</td></tr>\n",
       "<tr><td>home_improvement</td><td>150440</td></tr>\n",
       "<tr><td>other</td><td>139413</td></tr>\n",
       "<tr><td>major_purchase</td><td>50429</td></tr>\n",
       "<tr><td>medical</td><td>27481</td></tr>\n",
       "<tr><td>small_business</td><td>24659</td></tr>\n",
       "<tr><td>car</td><td>24009</td></tr>\n",
       "<tr><td>vacation</td><td>15525</td></tr>\n",
       "<tr><td>moving</td><td>15402</td></tr>\n",
       "<tr><td>house</td><td>14131</td></tr>\n",
       "<tr><td>wedding</td><td>2351</td></tr>\n",
       "<tr><td>renewable_energy</td><td>1445</td></tr>\n",
       "<tr><td>educational</td><td>412</td></tr>\n",
       "<tr><td>never had any tro...</td><td>1</td></tr>\n",
       "<tr><td>stocks</td><td>1</td></tr>\n",
       "<tr><td>progressive multi...</td><td>1</td></tr>\n",
       "<tr><td>please feel free ...</td><td>1</td></tr>\n",
       "<tr><td>I have eliminated...</td><td>1</td></tr>\n",
       "<tr><td>but not much info...</td><td>1</td></tr>\n",
       "</table>\n",
       "only showing top 20 rows\n"
      ],
      "text/plain": [
       "+--------------------+-------+\n",
       "|        loan_purpose|  total|\n",
       "+--------------------+-------+\n",
       "|  debt_consolidation|1277790|\n",
       "|         credit_card| 516926|\n",
       "|    home_improvement| 150440|\n",
       "|               other| 139413|\n",
       "|      major_purchase|  50429|\n",
       "|             medical|  27481|\n",
       "|      small_business|  24659|\n",
       "|                 car|  24009|\n",
       "|            vacation|  15525|\n",
       "|              moving|  15402|\n",
       "|               house|  14131|\n",
       "|             wedding|   2351|\n",
       "|    renewable_energy|   1445|\n",
       "|         educational|    412|\n",
       "|never had any tro...|      1|\n",
       "|              stocks|      1|\n",
       "|progressive multi...|      1|\n",
       "|on one of the bus...|      1|\n",
       "|TutoringOne is a ...|      1|\n",
       "|but not much info...|      1|\n",
       "+--------------------+-------+\n",
       "only showing top 20 rows"
      ]
     },
     "execution_count": 36,
     "metadata": {},
     "output_type": "execute_result"
    }
   ],
   "source": [
    "spark.sql(\"\"\"select loan_purpose,count(*) as total from loans\n",
    "             group by loan_purpose \n",
    "             order by total desc          \n",
    "\"\"\") # we need to add loan_purpose in others apart from regular ones "
   ]
  },
  {
   "cell_type": "code",
   "execution_count": 74,
   "id": "91997d29",
   "metadata": {},
   "outputs": [],
   "source": [
    "loan_purpose_lookup = [\"debt_consolidation\", \"credit_card\",\n",
    "\"home_improvement\", \"other\", \"major_purchase\", \"medical\", \"small_business\",\n",
    "\"car\", \"vacation\", \"moving\", \"house\", \"wedding\", \"renewable_energy\",\n",
    "\"educational\"] "
   ]
  },
  {
   "cell_type": "code",
   "execution_count": 75,
   "id": "adc0544d",
   "metadata": {},
   "outputs": [],
   "source": [
    "loans_purpose_modified=loans_term_modified_df.withColumn(\"loan_purpose\",\n",
    "                                 when (col(\"loan_purpose\").isin(loan_purpose_lookup),col(\"loan_purpose\")).otherwise(\"other\"))"
   ]
  },
  {
   "cell_type": "code",
   "execution_count": 76,
   "id": "f85b130d",
   "metadata": {},
   "outputs": [],
   "source": [
    "loans_purpose_modified.createOrReplaceTempView(\"loans\")"
   ]
  },
  {
   "cell_type": "code",
   "execution_count": 77,
   "id": "1527ded2",
   "metadata": {},
   "outputs": [
    {
     "data": {
      "text/html": [
       "<table border='1'>\n",
       "<tr><th>loan_purpose</th><th>total</th></tr>\n",
       "<tr><td>debt_consolidation</td><td>1277790</td></tr>\n",
       "<tr><td>credit_card</td><td>516926</td></tr>\n",
       "<tr><td>home_improvement</td><td>150440</td></tr>\n",
       "<tr><td>other</td><td>139667</td></tr>\n",
       "<tr><td>major_purchase</td><td>50429</td></tr>\n",
       "<tr><td>medical</td><td>27481</td></tr>\n",
       "<tr><td>small_business</td><td>24659</td></tr>\n",
       "<tr><td>car</td><td>24009</td></tr>\n",
       "<tr><td>vacation</td><td>15525</td></tr>\n",
       "<tr><td>moving</td><td>15402</td></tr>\n",
       "<tr><td>house</td><td>14131</td></tr>\n",
       "<tr><td>wedding</td><td>2351</td></tr>\n",
       "<tr><td>renewable_energy</td><td>1445</td></tr>\n",
       "<tr><td>educational</td><td>412</td></tr>\n",
       "</table>\n"
      ],
      "text/plain": [
       "+------------------+-------+\n",
       "|      loan_purpose|  total|\n",
       "+------------------+-------+\n",
       "|debt_consolidation|1277790|\n",
       "|       credit_card| 516926|\n",
       "|  home_improvement| 150440|\n",
       "|             other| 139667|\n",
       "|    major_purchase|  50429|\n",
       "|           medical|  27481|\n",
       "|    small_business|  24659|\n",
       "|               car|  24009|\n",
       "|          vacation|  15525|\n",
       "|            moving|  15402|\n",
       "|             house|  14131|\n",
       "|           wedding|   2351|\n",
       "|  renewable_energy|   1445|\n",
       "|       educational|    412|\n",
       "+------------------+-------+"
      ]
     },
     "execution_count": 77,
     "metadata": {},
     "output_type": "execute_result"
    }
   ],
   "source": [
    "spark.sql(\"\"\"select loan_purpose,count(*) as total from loans\n",
    "             group by loan_purpose \n",
    "             order by total desc          \n",
    "\"\"\") #now we can see loan_purpose in others apart from regular ones "
   ]
  },
  {
   "cell_type": "code",
   "execution_count": 78,
   "id": "ed50486d",
   "metadata": {},
   "outputs": [
    {
     "data": {
      "text/html": [
       "<table border='1'>\n",
       "<tr><th>loan_purpose</th><th>total</th></tr>\n",
       "<tr><td>debt_consolidation</td><td>1277790</td></tr>\n",
       "<tr><td>credit_card</td><td>516926</td></tr>\n",
       "<tr><td>home_improvement</td><td>150440</td></tr>\n",
       "<tr><td>other</td><td>139667</td></tr>\n",
       "<tr><td>major_purchase</td><td>50429</td></tr>\n",
       "<tr><td>medical</td><td>27481</td></tr>\n",
       "<tr><td>small_business</td><td>24659</td></tr>\n",
       "<tr><td>car</td><td>24009</td></tr>\n",
       "<tr><td>vacation</td><td>15525</td></tr>\n",
       "<tr><td>moving</td><td>15402</td></tr>\n",
       "<tr><td>house</td><td>14131</td></tr>\n",
       "<tr><td>wedding</td><td>2351</td></tr>\n",
       "<tr><td>renewable_energy</td><td>1445</td></tr>\n",
       "<tr><td>educational</td><td>412</td></tr>\n",
       "</table>\n"
      ],
      "text/plain": [
       "+------------------+-------+\n",
       "|      loan_purpose|  total|\n",
       "+------------------+-------+\n",
       "|debt_consolidation|1277790|\n",
       "|       credit_card| 516926|\n",
       "|  home_improvement| 150440|\n",
       "|             other| 139667|\n",
       "|    major_purchase|  50429|\n",
       "|           medical|  27481|\n",
       "|    small_business|  24659|\n",
       "|               car|  24009|\n",
       "|          vacation|  15525|\n",
       "|            moving|  15402|\n",
       "|             house|  14131|\n",
       "|           wedding|   2351|\n",
       "|  renewable_energy|   1445|\n",
       "|       educational|    412|\n",
       "+------------------+-------+"
      ]
     },
     "execution_count": 78,
     "metadata": {},
     "output_type": "execute_result"
    }
   ],
   "source": [
    "loans_purpose_modified\\\n",
    ".groupBy(\"loan_purpose\")\\\n",
    ".agg(count('*').alias(\"total\"))\\\n",
    ".orderBy(col(\"total\").desc())  #this is same as above query using dataframes"
   ]
  },
  {
   "cell_type": "code",
   "execution_count": 79,
   "id": "c18e2e4a",
   "metadata": {},
   "outputs": [
    {
     "data": {
      "text/html": [
       "<table border='1'>\n",
       "<tr><th>loan_id</th><th>member_id</th><th>loan_amount</th><th>funded_amount</th><th>loan_term_years</th><th>interest_rate</th><th>monthly_installment</th><th>issue_date</th><th>loan_status</th><th>loan_purpose</th><th>loan_title</th><th>ingest_date</th></tr>\n",
       "<tr><td>491699</td><td>961ae110ec063761f...</td><td>7000.0</td><td>7000.0</td><td>3</td><td>12.73</td><td>234.97</td><td>Mar-2010</td><td>Fully Paid</td><td>debt_consolidation</td><td>Noelle&#x27;s debt con...</td><td>2024-03-30 12:51:...</td></tr>\n",
       "<tr><td>491685</td><td>291854d244748c911...</td><td>15000.0</td><td>15000.0</td><td>3</td><td>10.62</td><td>488.4</td><td>Mar-2010</td><td>Fully Paid</td><td>other</td><td>Education</td><td>2024-03-30 12:51:...</td></tr>\n",
       "<tr><td>491667</td><td>b5cf66b90193da9d2...</td><td>6400.0</td><td>6400.0</td><td>3</td><td>7.88</td><td>200.2</td><td>Mar-2010</td><td>Fully Paid</td><td>debt_consolidation</td><td>Make money easily</td><td>2024-03-30 12:51:...</td></tr>\n",
       "<tr><td>491160</td><td>7f53fd1acb7759e5b...</td><td>4000.0</td><td>4000.0</td><td>3</td><td>14.59</td><td>137.86</td><td>Mar-2010</td><td>Fully Paid</td><td>wedding</td><td>wedding expenses</td><td>2024-03-30 12:51:...</td></tr>\n",
       "<tr><td>491675</td><td>12edc8e328b993914...</td><td>20000.0</td><td>20000.0</td><td>3</td><td>13.85</td><td>682.08</td><td>Mar-2010</td><td>Fully Paid</td><td>other</td><td>Short Term Tax Loan</td><td>2024-03-30 12:51:...</td></tr>\n",
       "<tr><td>491668</td><td>e18a847f091332ff6...</td><td>6000.0</td><td>6000.0</td><td>3</td><td>11.36</td><td>197.47</td><td>Mar-2010</td><td>Charged Off</td><td>debt_consolidation</td><td>GREAT BORROWER --...</td><td>2024-03-30 12:51:...</td></tr>\n",
       "<tr><td>491663</td><td>d6fe0000e876ab76d...</td><td>5500.0</td><td>5500.0</td><td>3</td><td>11.36</td><td>181.02</td><td>Mar-2010</td><td>Fully Paid</td><td>credit_card</td><td>Road to Success</td><td>2024-03-30 12:51:...</td></tr>\n",
       "<tr><td>491632</td><td>62c38934f3a2ebcd2...</td><td>10000.0</td><td>10000.0</td><td>3</td><td>15.7</td><td>350.11</td><td>Mar-2010</td><td>Fully Paid</td><td>credit_card</td><td>Finish Paying off...</td><td>2024-03-30 12:51:...</td></tr>\n",
       "<tr><td>491618</td><td>7701762ef5d302b0d...</td><td>25000.0</td><td>25000.0</td><td>3</td><td>15.33</td><td>870.71</td><td>Mar-2010</td><td>Fully Paid</td><td>debt_consolidation</td><td>Pay off my high i...</td><td>2024-03-30 12:51:...</td></tr>\n",
       "<tr><td>491622</td><td>42a2df45b02b21b9a...</td><td>25000.0</td><td>25000.0</td><td>3</td><td>16.07</td><td>879.85</td><td>Mar-2010</td><td>Fully Paid</td><td>debt_consolidation</td><td>Debt Pay Off</td><td>2024-03-30 12:51:...</td></tr>\n",
       "<tr><td>491552</td><td>b1ba0adce0baea939...</td><td>22000.0</td><td>22000.0</td><td>3</td><td>11.36</td><td>724.05</td><td>Mar-2010</td><td>Fully Paid</td><td>debt_consolidation</td><td>Getting rid of Ne...</td><td>2024-03-30 12:51:...</td></tr>\n",
       "<tr><td>491477</td><td>82cdc418e3907686a...</td><td>16750.0</td><td>16750.0</td><td>3</td><td>13.11</td><td>565.23</td><td>Mar-2010</td><td>Fully Paid</td><td>debt_consolidation</td><td>Special Ed teache...</td><td>2024-03-30 12:51:...</td></tr>\n",
       "<tr><td>491596</td><td>6cbc67caa30708b24...</td><td>3600.0</td><td>3600.0</td><td>3</td><td>15.7</td><td>126.04</td><td>Mar-2010</td><td>Fully Paid</td><td>credit_card</td><td>Credit Card Elimi...</td><td>2024-03-30 12:51:...</td></tr>\n",
       "<tr><td>491575</td><td>3bae7a88975616641...</td><td>13750.0</td><td>13750.0</td><td>3</td><td>14.96</td><td>476.39</td><td>Mar-2010</td><td>Fully Paid</td><td>debt_consolidation</td><td>Personal Loan</td><td>2024-03-30 12:51:...</td></tr>\n",
       "<tr><td>491581</td><td>55694e52b6a698777...</td><td>8500.0</td><td>8500.0</td><td>3</td><td>10.62</td><td>276.76</td><td>Mar-2010</td><td>Fully Paid</td><td>debt_consolidation</td><td>Reduce Debt befor...</td><td>2024-03-30 12:51:...</td></tr>\n",
       "<tr><td>423260</td><td>c666d309594cceae5...</td><td>10000.0</td><td>10000.0</td><td>3</td><td>7.88</td><td>312.81</td><td>Mar-2010</td><td>Fully Paid</td><td>other</td><td>first as a relati...</td><td>2024-03-30 12:51:...</td></tr>\n",
       "<tr><td>488022</td><td>cc859b4c14c9eb521...</td><td>8000.0</td><td>8000.0</td><td>3</td><td>9.88</td><td>257.69</td><td>Mar-2010</td><td>Fully Paid</td><td>debt_consolidation</td><td>pay off credit ca...</td><td>2024-03-30 12:51:...</td></tr>\n",
       "<tr><td>491557</td><td>dc1eeb967d0041bec...</td><td>12000.0</td><td>12000.0</td><td>3</td><td>13.48</td><td>407.09</td><td>Mar-2010</td><td>Fully Paid</td><td>other</td><td>Payoff Easy!</td><td>2024-03-30 12:51:...</td></tr>\n",
       "<tr><td>491494</td><td>123126e86ba5ecd5d...</td><td>10000.0</td><td>10000.0</td><td>3</td><td>14.96</td><td>346.47</td><td>Mar-2010</td><td>Fully Paid</td><td>debt_consolidation</td><td>Credit Card Conso...</td><td>2024-03-30 12:51:...</td></tr>\n",
       "<tr><td>491487</td><td>aeb1851b33df8f924...</td><td>11000.0</td><td>11000.0</td><td>3</td><td>13.85</td><td>375.15</td><td>Mar-2010</td><td>Fully Paid</td><td>debt_consolidation</td><td>Credit card conso...</td><td>2024-03-30 12:51:...</td></tr>\n",
       "</table>\n",
       "only showing top 20 rows\n"
      ],
      "text/plain": [
       "+-------+--------------------+-----------+-------------+---------------+-------------+-------------------+----------+-----------+------------------+--------------------+--------------------+\n",
       "|loan_id|           member_id|loan_amount|funded_amount|loan_term_years|interest_rate|monthly_installment|issue_date|loan_status|      loan_purpose|          loan_title|         ingest_date|\n",
       "+-------+--------------------+-----------+-------------+---------------+-------------+-------------------+----------+-----------+------------------+--------------------+--------------------+\n",
       "| 491699|961ae110ec063761f...|     7000.0|       7000.0|              3|        12.73|             234.97|  Mar-2010| Fully Paid|debt_consolidation|Noelle's debt con...|2024-03-30 12:51:...|\n",
       "| 491685|291854d244748c911...|    15000.0|      15000.0|              3|        10.62|              488.4|  Mar-2010| Fully Paid|             other|           Education|2024-03-30 12:51:...|\n",
       "| 491667|b5cf66b90193da9d2...|     6400.0|       6400.0|              3|         7.88|              200.2|  Mar-2010| Fully Paid|debt_consolidation|   Make money easily|2024-03-30 12:51:...|\n",
       "| 491160|7f53fd1acb7759e5b...|     4000.0|       4000.0|              3|        14.59|             137.86|  Mar-2010| Fully Paid|           wedding|    wedding expenses|2024-03-30 12:51:...|\n",
       "| 491675|12edc8e328b993914...|    20000.0|      20000.0|              3|        13.85|             682.08|  Mar-2010| Fully Paid|             other| Short Term Tax Loan|2024-03-30 12:51:...|\n",
       "| 491668|e18a847f091332ff6...|     6000.0|       6000.0|              3|        11.36|             197.47|  Mar-2010|Charged Off|debt_consolidation|GREAT BORROWER --...|2024-03-30 12:51:...|\n",
       "| 491663|d6fe0000e876ab76d...|     5500.0|       5500.0|              3|        11.36|             181.02|  Mar-2010| Fully Paid|       credit_card|     Road to Success|2024-03-30 12:51:...|\n",
       "| 491632|62c38934f3a2ebcd2...|    10000.0|      10000.0|              3|         15.7|             350.11|  Mar-2010| Fully Paid|       credit_card|Finish Paying off...|2024-03-30 12:51:...|\n",
       "| 491618|7701762ef5d302b0d...|    25000.0|      25000.0|              3|        15.33|             870.71|  Mar-2010| Fully Paid|debt_consolidation|Pay off my high i...|2024-03-30 12:51:...|\n",
       "| 491622|42a2df45b02b21b9a...|    25000.0|      25000.0|              3|        16.07|             879.85|  Mar-2010| Fully Paid|debt_consolidation|        Debt Pay Off|2024-03-30 12:51:...|\n",
       "| 491552|b1ba0adce0baea939...|    22000.0|      22000.0|              3|        11.36|             724.05|  Mar-2010| Fully Paid|debt_consolidation|Getting rid of Ne...|2024-03-30 12:51:...|\n",
       "| 491477|82cdc418e3907686a...|    16750.0|      16750.0|              3|        13.11|             565.23|  Mar-2010| Fully Paid|debt_consolidation|Special Ed teache...|2024-03-30 12:51:...|\n",
       "| 491596|6cbc67caa30708b24...|     3600.0|       3600.0|              3|         15.7|             126.04|  Mar-2010| Fully Paid|       credit_card|Credit Card Elimi...|2024-03-30 12:51:...|\n",
       "| 491575|3bae7a88975616641...|    13750.0|      13750.0|              3|        14.96|             476.39|  Mar-2010| Fully Paid|debt_consolidation|       Personal Loan|2024-03-30 12:51:...|\n",
       "| 491581|55694e52b6a698777...|     8500.0|       8500.0|              3|        10.62|             276.76|  Mar-2010| Fully Paid|debt_consolidation|Reduce Debt befor...|2024-03-30 12:51:...|\n",
       "| 423260|c666d309594cceae5...|    10000.0|      10000.0|              3|         7.88|             312.81|  Mar-2010| Fully Paid|             other|first as a relati...|2024-03-30 12:51:...|\n",
       "| 488022|cc859b4c14c9eb521...|     8000.0|       8000.0|              3|         9.88|             257.69|  Mar-2010| Fully Paid|debt_consolidation|pay off credit ca...|2024-03-30 12:51:...|\n",
       "| 491557|dc1eeb967d0041bec...|    12000.0|      12000.0|              3|        13.48|             407.09|  Mar-2010| Fully Paid|             other|        Payoff Easy!|2024-03-30 12:51:...|\n",
       "| 491494|123126e86ba5ecd5d...|    10000.0|      10000.0|              3|        14.96|             346.47|  Mar-2010| Fully Paid|debt_consolidation|Credit Card Conso...|2024-03-30 12:51:...|\n",
       "| 491487|aeb1851b33df8f924...|    11000.0|      11000.0|              3|        13.85|             375.15|  Mar-2010| Fully Paid|debt_consolidation|Credit card conso...|2024-03-30 12:51:...|\n",
       "+-------+--------------------+-----------+-------------+---------------+-------------+-------------------+----------+-----------+------------------+--------------------+--------------------+\n",
       "only showing top 20 rows"
      ]
     },
     "execution_count": 79,
     "metadata": {},
     "output_type": "execute_result"
    }
   ],
   "source": [
    "loans_purpose_modified #cleaned data "
   ]
  },
  {
   "cell_type": "code",
   "execution_count": 80,
   "id": "a5e5f816",
   "metadata": {},
   "outputs": [],
   "source": [
    "loans_purpose_modified.write\\\n",
    ".format(\"csv\")\\\n",
    ".mode(\"overwrite\")\\\n",
    ".option(\"path\",\"/user/itv012010/lendingclubproject/cleaned/loans_csv\")\\\n",
    ".save() #Finally saving this cleaned data in csv format"
   ]
  },
  {
   "cell_type": "code",
   "execution_count": 81,
   "id": "9e2c8bac",
   "metadata": {},
   "outputs": [],
   "source": [
    "loans_purpose_modified.write\\\n",
    ".format(\"parquet\")\\\n",
    ".mode(\"overwrite\")\\\n",
    ".option(\"path\",\"/user/itv012010/lendingclubproject/cleaned/loans_parquet\")\\\n",
    ".save() #Finally saving this cleaned data in parquet format"
   ]
  }
 ],
 "metadata": {
  "kernelspec": {
   "display_name": "Pyspark 3",
   "language": "python",
   "name": "pyspark3"
  },
  "language_info": {
   "codemirror_mode": {
    "name": "ipython",
    "version": 3
   },
   "file_extension": ".py",
   "mimetype": "text/x-python",
   "name": "python",
   "nbconvert_exporter": "python",
   "pygments_lexer": "ipython3",
   "version": "3.6.12"
  }
 },
 "nbformat": 4,
 "nbformat_minor": 5
}
