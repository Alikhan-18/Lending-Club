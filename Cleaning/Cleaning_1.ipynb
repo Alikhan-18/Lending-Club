{
 "cells": [
  {
   "cell_type": "code",
   "execution_count": 1,
   "id": "5ad3a9b3",
   "metadata": {},
   "outputs": [],
   "source": [
    "from pyspark.sql import SparkSession"
   ]
  },
  {
   "cell_type": "code",
   "execution_count": 2,
   "id": "1d7adb6d",
   "metadata": {},
   "outputs": [],
   "source": [
    "spark=SparkSession.builder.\\\n",
    "config('spark.shuffle.useOldFetchProtocol', 'true').\\\n",
    "enableHiveSupport().\\\n",
    "appName(\"Project_Pyspark\").\\\n",
    "master('yarn').\\\n",
    "getOrCreate()"
   ]
  },
  {
   "cell_type": "code",
   "execution_count": 3,
   "id": "6d735feb",
   "metadata": {},
   "outputs": [
    {
     "data": {
      "text/html": [
       "\n",
       "            <div>\n",
       "                <p><b>SparkSession - hive</b></p>\n",
       "                \n",
       "        <div>\n",
       "            <p><b>SparkContext</b></p>\n",
       "\n",
       "            <p><a href=\"http://g02.itversity.com:4041\">Spark UI</a></p>\n",
       "\n",
       "            <dl>\n",
       "              <dt>Version</dt>\n",
       "                <dd><code>v3.1.2</code></dd>\n",
       "              <dt>Master</dt>\n",
       "                <dd><code>yarn</code></dd>\n",
       "              <dt>AppName</dt>\n",
       "                <dd><code>Project_Pyspark</code></dd>\n",
       "            </dl>\n",
       "        </div>\n",
       "        \n",
       "            </div>\n",
       "        "
      ],
      "text/plain": [
       "<pyspark.sql.session.SparkSession at 0x7f43535ad0b8>"
      ]
     },
     "execution_count": 3,
     "metadata": {},
     "output_type": "execute_result"
    }
   ],
   "source": [
    "spark"
   ]
  },
  {
   "cell_type": "code",
   "execution_count": 4,
   "id": "47c0d785",
   "metadata": {},
   "outputs": [],
   "source": [
    "raw_df=spark.read.format(\"csv\").option(\"header\",\"true\").\\\n",
    "option(\"header\",\"true\").\\\n",
    "load(\"/public/trendytech/datasets/accepted_2007_to_2018Q4.csv\") #reading 1.7GB file"
   ]
  },
  {
   "cell_type": "code",
   "execution_count": 5,
   "id": "3ea8e611",
   "metadata": {},
   "outputs": [],
   "source": [
    "raw_df.createOrReplaceTempView(\"Lending_Club_Table\") #converted to table for better view"
   ]
  },
  {
   "cell_type": "code",
   "execution_count": 6,
   "id": "26942983",
   "metadata": {},
   "outputs": [
    {
     "data": {
      "text/html": [
       "<table border='1'>\n",
       "<tr><th>id</th><th>member_id</th><th>loan_amnt</th><th>funded_amnt</th><th>funded_amnt_inv</th><th>term</th><th>int_rate</th><th>installment</th><th>grade</th><th>sub_grade</th><th>emp_title</th><th>emp_length</th><th>home_ownership</th><th>annual_inc</th><th>verification_status</th><th>issue_d</th><th>loan_status</th><th>pymnt_plan</th><th>url</th><th>desc</th><th>purpose</th><th>title</th><th>zip_code</th><th>addr_state</th><th>dti</th><th>delinq_2yrs</th><th>earliest_cr_line</th><th>fico_range_low</th><th>fico_range_high</th><th>inq_last_6mths</th><th>mths_since_last_delinq</th><th>mths_since_last_record</th><th>open_acc</th><th>pub_rec</th><th>revol_bal</th><th>revol_util</th><th>total_acc</th><th>initial_list_status</th><th>out_prncp</th><th>out_prncp_inv</th><th>total_pymnt</th><th>total_pymnt_inv</th><th>total_rec_prncp</th><th>total_rec_int</th><th>total_rec_late_fee</th><th>recoveries</th><th>collection_recovery_fee</th><th>last_pymnt_d</th><th>last_pymnt_amnt</th><th>next_pymnt_d</th><th>last_credit_pull_d</th><th>last_fico_range_high</th><th>last_fico_range_low</th><th>collections_12_mths_ex_med</th><th>mths_since_last_major_derog</th><th>policy_code</th><th>application_type</th><th>annual_inc_joint</th><th>dti_joint</th><th>verification_status_joint</th><th>acc_now_delinq</th><th>tot_coll_amt</th><th>tot_cur_bal</th><th>open_acc_6m</th><th>open_act_il</th><th>open_il_12m</th><th>open_il_24m</th><th>mths_since_rcnt_il</th><th>total_bal_il</th><th>il_util</th><th>open_rv_12m</th><th>open_rv_24m</th><th>max_bal_bc</th><th>all_util</th><th>total_rev_hi_lim</th><th>inq_fi</th><th>total_cu_tl</th><th>inq_last_12m</th><th>acc_open_past_24mths</th><th>avg_cur_bal</th><th>bc_open_to_buy</th><th>bc_util</th><th>chargeoff_within_12_mths</th><th>delinq_amnt</th><th>mo_sin_old_il_acct</th><th>mo_sin_old_rev_tl_op</th><th>mo_sin_rcnt_rev_tl_op</th><th>mo_sin_rcnt_tl</th><th>mort_acc</th><th>mths_since_recent_bc</th><th>mths_since_recent_bc_dlq</th><th>mths_since_recent_inq</th><th>mths_since_recent_revol_delinq</th><th>num_accts_ever_120_pd</th><th>num_actv_bc_tl</th><th>num_actv_rev_tl</th><th>num_bc_sats</th><th>num_bc_tl</th><th>num_il_tl</th><th>num_op_rev_tl</th><th>num_rev_accts</th><th>num_rev_tl_bal_gt_0</th><th>num_sats</th><th>num_tl_120dpd_2m</th><th>num_tl_30dpd</th><th>num_tl_90g_dpd_24m</th><th>num_tl_op_past_12m</th><th>pct_tl_nvr_dlq</th><th>percent_bc_gt_75</th><th>pub_rec_bankruptcies</th><th>tax_liens</th><th>tot_hi_cred_lim</th><th>total_bal_ex_mort</th><th>total_bc_limit</th><th>total_il_high_credit_limit</th><th>revol_bal_joint</th><th>sec_app_fico_range_low</th><th>sec_app_fico_range_high</th><th>sec_app_earliest_cr_line</th><th>sec_app_inq_last_6mths</th><th>sec_app_mort_acc</th><th>sec_app_open_acc</th><th>sec_app_revol_util</th><th>sec_app_open_act_il</th><th>sec_app_num_rev_accts</th><th>sec_app_chargeoff_within_12_mths</th><th>sec_app_collections_12_mths_ex_med</th><th>sec_app_mths_since_last_major_derog</th><th>hardship_flag</th><th>hardship_type</th><th>hardship_reason</th><th>hardship_status</th><th>deferral_term</th><th>hardship_amount</th><th>hardship_start_date</th><th>hardship_end_date</th><th>payment_plan_start_date</th><th>hardship_length</th><th>hardship_dpd</th><th>hardship_loan_status</th><th>orig_projected_additional_accrued_interest</th><th>hardship_payoff_balance_amount</th><th>hardship_last_payment_amount</th><th>disbursement_method</th><th>debt_settlement_flag</th><th>debt_settlement_flag_date</th><th>settlement_status</th><th>settlement_date</th><th>settlement_amount</th><th>settlement_percentage</th><th>settlement_term</th></tr>\n",
       "<tr><td>68407277</td><td>null</td><td>3600.0</td><td>3600.0</td><td>3600.0</td><td> 36 months</td><td>13.99</td><td>123.03</td><td>C</td><td>C4</td><td>leadman</td><td>10+ years</td><td>MORTGAGE</td><td>55000.0</td><td>Not Verified</td><td>Dec-2015</td><td>Fully Paid</td><td>n</td><td>https://lendingcl...</td><td>null</td><td>debt_consolidation</td><td>Debt consolidation</td><td>190xx</td><td>PA</td><td>5.91</td><td>0.0</td><td>Aug-2003</td><td>675.0</td><td>679.0</td><td>1.0</td><td>30.0</td><td>null</td><td>7.0</td><td>0.0</td><td>2765.0</td><td>29.7</td><td>13.0</td><td>w</td><td>0.0</td><td>0.0</td><td>4421.723916800001</td><td>4421.72</td><td>3600.0</td><td>821.72</td><td>0.0</td><td>0.0</td><td>0.0</td><td>Jan-2019</td><td>122.67</td><td>null</td><td>Mar-2019</td><td>564.0</td><td>560.0</td><td>0.0</td><td>30.0</td><td>1.0</td><td>Individual</td><td>null</td><td>null</td><td>null</td><td>0.0</td><td>722.0</td><td>144904.0</td><td>2.0</td><td>2.0</td><td>0.0</td><td>1.0</td><td>21.0</td><td>4981.0</td><td>36.0</td><td>3.0</td><td>3.0</td><td>722.0</td><td>34.0</td><td>9300.0</td><td>3.0</td><td>1.0</td><td>4.0</td><td>4.0</td><td>20701.0</td><td>1506.0</td><td>37.2</td><td>0.0</td><td>0.0</td><td>148.0</td><td>128.0</td><td>3.0</td><td>3.0</td><td>1.0</td><td>4.0</td><td>69.0</td><td>4.0</td><td>69.0</td><td>2.0</td><td>2.0</td><td>4.0</td><td>2.0</td><td>5.0</td><td>3.0</td><td>4.0</td><td>9.0</td><td>4.0</td><td>7.0</td><td>0.0</td><td>0.0</td><td>0.0</td><td>3.0</td><td>76.9</td><td>0.0</td><td>0.0</td><td>0.0</td><td>178050.0</td><td>7746.0</td><td>2400.0</td><td>13734.0</td><td>null</td><td>null</td><td>null</td><td>null</td><td>null</td><td>null</td><td>null</td><td>null</td><td>null</td><td>null</td><td>null</td><td>null</td><td>null</td><td>N</td><td>null</td><td>null</td><td>null</td><td>null</td><td>null</td><td>null</td><td>null</td><td>null</td><td>null</td><td>null</td><td>null</td><td>null</td><td>null</td><td>null</td><td>Cash</td><td>N</td><td>null</td><td>null</td><td>null</td><td>null</td><td>null</td><td>null</td></tr>\n",
       "<tr><td>68355089</td><td>null</td><td>24700.0</td><td>24700.0</td><td>24700.0</td><td> 36 months</td><td>11.99</td><td>820.28</td><td>C</td><td>C1</td><td>Engineer</td><td>10+ years</td><td>MORTGAGE</td><td>65000.0</td><td>Not Verified</td><td>Dec-2015</td><td>Fully Paid</td><td>n</td><td>https://lendingcl...</td><td>null</td><td>small_business</td><td>Business</td><td>577xx</td><td>SD</td><td>16.06</td><td>1.0</td><td>Dec-1999</td><td>715.0</td><td>719.0</td><td>4.0</td><td>6.0</td><td>null</td><td>22.0</td><td>0.0</td><td>21470.0</td><td>19.2</td><td>38.0</td><td>w</td><td>0.0</td><td>0.0</td><td>25679.66</td><td>25679.66</td><td>24700.0</td><td>979.66</td><td>0.0</td><td>0.0</td><td>0.0</td><td>Jun-2016</td><td>926.35</td><td>null</td><td>Mar-2019</td><td>699.0</td><td>695.0</td><td>0.0</td><td>null</td><td>1.0</td><td>Individual</td><td>null</td><td>null</td><td>null</td><td>0.0</td><td>0.0</td><td>204396.0</td><td>1.0</td><td>1.0</td><td>0.0</td><td>1.0</td><td>19.0</td><td>18005.0</td><td>73.0</td><td>2.0</td><td>3.0</td><td>6472.0</td><td>29.0</td><td>111800.0</td><td>0.0</td><td>0.0</td><td>6.0</td><td>4.0</td><td>9733.0</td><td>57830.0</td><td>27.1</td><td>0.0</td><td>0.0</td><td>113.0</td><td>192.0</td><td>2.0</td><td>2.0</td><td>4.0</td><td>2.0</td><td>null</td><td>0.0</td><td>6.0</td><td>0.0</td><td>5.0</td><td>5.0</td><td>13.0</td><td>17.0</td><td>6.0</td><td>20.0</td><td>27.0</td><td>5.0</td><td>22.0</td><td>0.0</td><td>0.0</td><td>0.0</td><td>2.0</td><td>97.4</td><td>7.7</td><td>0.0</td><td>0.0</td><td>314017.0</td><td>39475.0</td><td>79300.0</td><td>24667.0</td><td>null</td><td>null</td><td>null</td><td>null</td><td>null</td><td>null</td><td>null</td><td>null</td><td>null</td><td>null</td><td>null</td><td>null</td><td>null</td><td>N</td><td>null</td><td>null</td><td>null</td><td>null</td><td>null</td><td>null</td><td>null</td><td>null</td><td>null</td><td>null</td><td>null</td><td>null</td><td>null</td><td>null</td><td>Cash</td><td>N</td><td>null</td><td>null</td><td>null</td><td>null</td><td>null</td><td>null</td></tr>\n",
       "</table>\n"
      ],
      "text/plain": [
       "+--------+---------+---------+-----------+---------------+----------+--------+-----------+-----+---------+---------+----------+--------------+----------+-------------------+--------+-----------+----------+--------------------+----+------------------+------------------+--------+----------+-----+-----------+----------------+--------------+---------------+--------------+----------------------+----------------------+--------+-------+---------+----------+---------+-------------------+---------+-------------+-----------------+---------------+---------------+-------------+------------------+----------+-----------------------+------------+---------------+------------+------------------+--------------------+-------------------+--------------------------+---------------------------+-----------+----------------+----------------+---------+-------------------------+--------------+------------+-----------+-----------+-----------+-----------+-----------+------------------+------------+-------+-----------+-----------+----------+--------+----------------+------+-----------+------------+--------------------+-----------+--------------+-------+------------------------+-----------+------------------+--------------------+---------------------+--------------+--------+--------------------+------------------------+---------------------+------------------------------+---------------------+--------------+---------------+-----------+---------+---------+-------------+-------------+-------------------+--------+----------------+------------+------------------+------------------+--------------+----------------+--------------------+---------+---------------+-----------------+--------------+--------------------------+---------------+----------------------+-----------------------+------------------------+----------------------+----------------+----------------+------------------+-------------------+---------------------+--------------------------------+----------------------------------+-----------------------------------+-------------+-------------+---------------+---------------+-------------+---------------+-------------------+-----------------+-----------------------+---------------+------------+--------------------+------------------------------------------+------------------------------+----------------------------+-------------------+--------------------+-------------------------+-----------------+---------------+-----------------+---------------------+---------------+\n",
       "|      id|member_id|loan_amnt|funded_amnt|funded_amnt_inv|      term|int_rate|installment|grade|sub_grade|emp_title|emp_length|home_ownership|annual_inc|verification_status| issue_d|loan_status|pymnt_plan|                 url|desc|           purpose|             title|zip_code|addr_state|  dti|delinq_2yrs|earliest_cr_line|fico_range_low|fico_range_high|inq_last_6mths|mths_since_last_delinq|mths_since_last_record|open_acc|pub_rec|revol_bal|revol_util|total_acc|initial_list_status|out_prncp|out_prncp_inv|      total_pymnt|total_pymnt_inv|total_rec_prncp|total_rec_int|total_rec_late_fee|recoveries|collection_recovery_fee|last_pymnt_d|last_pymnt_amnt|next_pymnt_d|last_credit_pull_d|last_fico_range_high|last_fico_range_low|collections_12_mths_ex_med|mths_since_last_major_derog|policy_code|application_type|annual_inc_joint|dti_joint|verification_status_joint|acc_now_delinq|tot_coll_amt|tot_cur_bal|open_acc_6m|open_act_il|open_il_12m|open_il_24m|mths_since_rcnt_il|total_bal_il|il_util|open_rv_12m|open_rv_24m|max_bal_bc|all_util|total_rev_hi_lim|inq_fi|total_cu_tl|inq_last_12m|acc_open_past_24mths|avg_cur_bal|bc_open_to_buy|bc_util|chargeoff_within_12_mths|delinq_amnt|mo_sin_old_il_acct|mo_sin_old_rev_tl_op|mo_sin_rcnt_rev_tl_op|mo_sin_rcnt_tl|mort_acc|mths_since_recent_bc|mths_since_recent_bc_dlq|mths_since_recent_inq|mths_since_recent_revol_delinq|num_accts_ever_120_pd|num_actv_bc_tl|num_actv_rev_tl|num_bc_sats|num_bc_tl|num_il_tl|num_op_rev_tl|num_rev_accts|num_rev_tl_bal_gt_0|num_sats|num_tl_120dpd_2m|num_tl_30dpd|num_tl_90g_dpd_24m|num_tl_op_past_12m|pct_tl_nvr_dlq|percent_bc_gt_75|pub_rec_bankruptcies|tax_liens|tot_hi_cred_lim|total_bal_ex_mort|total_bc_limit|total_il_high_credit_limit|revol_bal_joint|sec_app_fico_range_low|sec_app_fico_range_high|sec_app_earliest_cr_line|sec_app_inq_last_6mths|sec_app_mort_acc|sec_app_open_acc|sec_app_revol_util|sec_app_open_act_il|sec_app_num_rev_accts|sec_app_chargeoff_within_12_mths|sec_app_collections_12_mths_ex_med|sec_app_mths_since_last_major_derog|hardship_flag|hardship_type|hardship_reason|hardship_status|deferral_term|hardship_amount|hardship_start_date|hardship_end_date|payment_plan_start_date|hardship_length|hardship_dpd|hardship_loan_status|orig_projected_additional_accrued_interest|hardship_payoff_balance_amount|hardship_last_payment_amount|disbursement_method|debt_settlement_flag|debt_settlement_flag_date|settlement_status|settlement_date|settlement_amount|settlement_percentage|settlement_term|\n",
       "+--------+---------+---------+-----------+---------------+----------+--------+-----------+-----+---------+---------+----------+--------------+----------+-------------------+--------+-----------+----------+--------------------+----+------------------+------------------+--------+----------+-----+-----------+----------------+--------------+---------------+--------------+----------------------+----------------------+--------+-------+---------+----------+---------+-------------------+---------+-------------+-----------------+---------------+---------------+-------------+------------------+----------+-----------------------+------------+---------------+------------+------------------+--------------------+-------------------+--------------------------+---------------------------+-----------+----------------+----------------+---------+-------------------------+--------------+------------+-----------+-----------+-----------+-----------+-----------+------------------+------------+-------+-----------+-----------+----------+--------+----------------+------+-----------+------------+--------------------+-----------+--------------+-------+------------------------+-----------+------------------+--------------------+---------------------+--------------+--------+--------------------+------------------------+---------------------+------------------------------+---------------------+--------------+---------------+-----------+---------+---------+-------------+-------------+-------------------+--------+----------------+------------+------------------+------------------+--------------+----------------+--------------------+---------+---------------+-----------------+--------------+--------------------------+---------------+----------------------+-----------------------+------------------------+----------------------+----------------+----------------+------------------+-------------------+---------------------+--------------------------------+----------------------------------+-----------------------------------+-------------+-------------+---------------+---------------+-------------+---------------+-------------------+-----------------+-----------------------+---------------+------------+--------------------+------------------------------------------+------------------------------+----------------------------+-------------------+--------------------+-------------------------+-----------------+---------------+-----------------+---------------------+---------------+\n",
       "|68407277|     null|   3600.0|     3600.0|         3600.0| 36 months|   13.99|     123.03|    C|       C4|  leadman| 10+ years|      MORTGAGE|   55000.0|       Not Verified|Dec-2015| Fully Paid|         n|https://lendingcl...|null|debt_consolidation|Debt consolidation|   190xx|        PA| 5.91|        0.0|        Aug-2003|         675.0|          679.0|           1.0|                  30.0|                  null|     7.0|    0.0|   2765.0|      29.7|     13.0|                  w|      0.0|          0.0|4421.723916800001|        4421.72|         3600.0|       821.72|               0.0|       0.0|                    0.0|    Jan-2019|         122.67|        null|          Mar-2019|               564.0|              560.0|                       0.0|                       30.0|        1.0|      Individual|            null|     null|                     null|           0.0|       722.0|   144904.0|        2.0|        2.0|        0.0|        1.0|              21.0|      4981.0|   36.0|        3.0|        3.0|     722.0|    34.0|          9300.0|   3.0|        1.0|         4.0|                 4.0|    20701.0|        1506.0|   37.2|                     0.0|        0.0|             148.0|               128.0|                  3.0|           3.0|     1.0|                 4.0|                    69.0|                  4.0|                          69.0|                  2.0|           2.0|            4.0|        2.0|      5.0|      3.0|          4.0|          9.0|                4.0|     7.0|             0.0|         0.0|               0.0|               3.0|          76.9|             0.0|                 0.0|      0.0|       178050.0|           7746.0|        2400.0|                   13734.0|           null|                  null|                   null|                    null|                  null|            null|            null|              null|               null|                 null|                            null|                              null|                               null|            N|         null|           null|           null|         null|           null|               null|             null|                   null|           null|        null|                null|                                      null|                          null|                        null|               Cash|                   N|                     null|             null|           null|             null|                 null|           null|\n",
       "|68355089|     null|  24700.0|    24700.0|        24700.0| 36 months|   11.99|     820.28|    C|       C1| Engineer| 10+ years|      MORTGAGE|   65000.0|       Not Verified|Dec-2015| Fully Paid|         n|https://lendingcl...|null|    small_business|          Business|   577xx|        SD|16.06|        1.0|        Dec-1999|         715.0|          719.0|           4.0|                   6.0|                  null|    22.0|    0.0|  21470.0|      19.2|     38.0|                  w|      0.0|          0.0|         25679.66|       25679.66|        24700.0|       979.66|               0.0|       0.0|                    0.0|    Jun-2016|         926.35|        null|          Mar-2019|               699.0|              695.0|                       0.0|                       null|        1.0|      Individual|            null|     null|                     null|           0.0|         0.0|   204396.0|        1.0|        1.0|        0.0|        1.0|              19.0|     18005.0|   73.0|        2.0|        3.0|    6472.0|    29.0|        111800.0|   0.0|        0.0|         6.0|                 4.0|     9733.0|       57830.0|   27.1|                     0.0|        0.0|             113.0|               192.0|                  2.0|           2.0|     4.0|                 2.0|                    null|                  0.0|                           6.0|                  0.0|           5.0|            5.0|       13.0|     17.0|      6.0|         20.0|         27.0|                5.0|    22.0|             0.0|         0.0|               0.0|               2.0|          97.4|             7.7|                 0.0|      0.0|       314017.0|          39475.0|       79300.0|                   24667.0|           null|                  null|                   null|                    null|                  null|            null|            null|              null|               null|                 null|                            null|                              null|                               null|            N|         null|           null|           null|         null|           null|               null|             null|                   null|           null|        null|                null|                                      null|                          null|                        null|               Cash|                   N|                     null|             null|           null|             null|                 null|           null|\n",
       "+--------+---------+---------+-----------+---------------+----------+--------+-----------+-----+---------+---------+----------+--------------+----------+-------------------+--------+-----------+----------+--------------------+----+------------------+------------------+--------+----------+-----+-----------+----------------+--------------+---------------+--------------+----------------------+----------------------+--------+-------+---------+----------+---------+-------------------+---------+-------------+-----------------+---------------+---------------+-------------+------------------+----------+-----------------------+------------+---------------+------------+------------------+--------------------+-------------------+--------------------------+---------------------------+-----------+----------------+----------------+---------+-------------------------+--------------+------------+-----------+-----------+-----------+-----------+-----------+------------------+------------+-------+-----------+-----------+----------+--------+----------------+------+-----------+------------+--------------------+-----------+--------------+-------+------------------------+-----------+------------------+--------------------+---------------------+--------------+--------+--------------------+------------------------+---------------------+------------------------------+---------------------+--------------+---------------+-----------+---------+---------+-------------+-------------+-------------------+--------+----------------+------------+------------------+------------------+--------------+----------------+--------------------+---------+---------------+-----------------+--------------+--------------------------+---------------+----------------------+-----------------------+------------------------+----------------------+----------------+----------------+------------------+-------------------+---------------------+--------------------------------+----------------------------------+-----------------------------------+-------------+-------------+---------------+---------------+-------------+---------------+-------------------+-----------------+-----------------------+---------------+------------+--------------------+------------------------------------------+------------------------------+----------------------------+-------------------+--------------------+-------------------------+-----------------+---------------+-----------------+---------------------+---------------+"
      ]
     },
     "execution_count": 6,
     "metadata": {},
     "output_type": "execute_result"
    }
   ],
   "source": [
    "spark.sql(\"select * from Lending_Club_Table limit 2\") #to check the data "
   ]
  },
  {
   "cell_type": "markdown",
   "id": "ea5c066a",
   "metadata": {},
   "source": [
    "1  1.7GB file we need to split this into multiple files for utilizing size efficiently,their are 116 cols used \n",
    "\n",
    "2  we can see from above member_id is the person who took loan but here their are nulls present,\n",
    "  we need to create this member_id by applying logic.\n",
    "  \n",
    "3 id column is Loan_id there can be multiple loan_id per member_id since single person can take multiple loans.\n",
    "\n",
    "4 CSV format available, 2+ million rows.\n",
    "\n",
    "5 We can create 4 datasets out of 1 big file i.e; 1) customers data (borrowers) 2) loans data 3) loan_repayments 4) loan_defaulters\n",
    "\n",
    "according we can divide 116 cols into 4 differents datasets.\n",
    "\n",
    "We need \"member_id\" since its a null value we will creating a newcolumn called \"sha2\"its a hash value with length of 32 characters, this acts as a member_id from combination/concat of multiple columns the columns would be emp_title, emp_length, home_ownership, annual_inc, zip_code, addr_state, grade, sub_grade, verification_status. If these columns are repeated then sha2 column will also get repeated. \n"
   ]
  },
  {
   "cell_type": "code",
   "execution_count": 7,
   "id": "032652f5",
   "metadata": {},
   "outputs": [],
   "source": [
    "from pyspark.sql.functions import sha2,concat_ws"
   ]
  },
  {
   "cell_type": "code",
   "execution_count": 8,
   "id": "95779480",
   "metadata": {},
   "outputs": [],
   "source": [
    "new_df=raw_df.withColumn(\"name_sha2\",sha2(concat_ws(\"||\",*[\"emp_title\",\"emp_length\",\"home_ownership\",\"annual_inc\",\"zip_code\",\"addr_state\",\"grade\",\"sub_grade\",\\\n",
    "                  \"verification_status\"]),256))"
   ]
  },
  {
   "cell_type": "code",
   "execution_count": 9,
   "id": "b369fa4f",
   "metadata": {},
   "outputs": [
    {
     "name": "stdout",
     "output_type": "stream",
     "text": [
      "+----------------------------------------------------------------+\n",
      "|name_sha2                                                       |\n",
      "+----------------------------------------------------------------+\n",
      "|6d5091b3fcaaeb4eac37445042b6b79e8b21f16943b9c32c4f5dd74dcb0f2210|\n",
      "+----------------------------------------------------------------+\n",
      "only showing top 1 row\n",
      "\n"
     ]
    }
   ],
   "source": [
    "new_df.select(\"name_sha2\").show(1,False) #we can see a new column is generated "
   ]
  },
  {
   "cell_type": "code",
   "execution_count": 10,
   "id": "9163db2e",
   "metadata": {},
   "outputs": [],
   "source": [
    "new_df.createOrReplaceTempView(\"newtable\") #creating a newtable to query it "
   ]
  },
  {
   "cell_type": "code",
   "execution_count": 11,
   "id": "46a854c9",
   "metadata": {},
   "outputs": [
    {
     "data": {
      "text/html": [
       "<table border='1'>\n",
       "<tr><th>Total_Count</th></tr>\n",
       "<tr><td>2260701</td></tr>\n",
       "</table>\n"
      ],
      "text/plain": [
       "+-----------+\n",
       "|Total_Count|\n",
       "+-----------+\n",
       "|    2260701|\n",
       "+-----------+"
      ]
     },
     "execution_count": 11,
     "metadata": {},
     "output_type": "execute_result"
    }
   ],
   "source": [
    "spark.sql(\"select  count(*) as Total_Count from newtable\") #checking count we can seee there are 2.2+ million records, now we need to check if new column generated is unique or\n",
    "#any duplicates are present"
   ]
  },
  {
   "cell_type": "code",
   "execution_count": 12,
   "id": "338532a6",
   "metadata": {},
   "outputs": [
    {
     "data": {
      "text/html": [
       "<table border='1'>\n",
       "<tr><th>members_taken_loan</th></tr>\n",
       "<tr><td>2257384</td></tr>\n",
       "</table>\n"
      ],
      "text/plain": [
       "+------------------+\n",
       "|members_taken_loan|\n",
       "+------------------+\n",
       "|           2257384|\n",
       "+------------------+"
      ]
     },
     "execution_count": 12,
     "metadata": {},
     "output_type": "execute_result"
    }
   ],
   "source": [
    "spark.sql(\"select count(distinct(name_sha2)) members_taken_loan from newtable\") #we can see there is mismatch in count stating around 3k people have taken \\\n",
    "#multiple loans or duplicate member_ids present "
   ]
  },
  {
   "cell_type": "code",
   "execution_count": 18,
   "id": "97a3402a",
   "metadata": {},
   "outputs": [
    {
     "data": {
      "text/html": [
       "<table border='1'>\n",
       "<tr><th>name_sha2</th><th>total_count</th></tr>\n",
       "<tr><td>e3b0c44298fc1c149...</td><td>33</td></tr>\n",
       "<tr><td>e4c167053d5418230...</td><td>5</td></tr>\n",
       "<tr><td>76b577467eda5bdbc...</td><td>4</td></tr>\n",
       "<tr><td>ad8e5d384dae17e06...</td><td>4</td></tr>\n",
       "<tr><td>3f87585a20f702838...</td><td>4</td></tr>\n",
       "<tr><td>059d401bb603d9a80...</td><td>3</td></tr>\n",
       "<tr><td>819453be77718d747...</td><td>3</td></tr>\n",
       "<tr><td>c92062bb371842b3d...</td><td>3</td></tr>\n",
       "<tr><td>4a2abc8996196b17e...</td><td>3</td></tr>\n",
       "<tr><td>f42447e25d558b419...</td><td>3</td></tr>\n",
       "</table>\n"
      ],
      "text/plain": [
       "+--------------------+-----------+\n",
       "|           name_sha2|total_count|\n",
       "+--------------------+-----------+\n",
       "|e3b0c44298fc1c149...|         33|\n",
       "|e4c167053d5418230...|          5|\n",
       "|76b577467eda5bdbc...|          4|\n",
       "|ad8e5d384dae17e06...|          4|\n",
       "|3f87585a20f702838...|          4|\n",
       "|e28a6a01d7a3d801b...|          3|\n",
       "|291ca1b09ef11ca3e...|          3|\n",
       "|c92062bb371842b3d...|          3|\n",
       "|d3731bad3e6a82515...|          3|\n",
       "|4e9f2bcc385bb8534...|          3|\n",
       "+--------------------+-----------+"
      ]
     },
     "execution_count": 18,
     "metadata": {},
     "output_type": "execute_result"
    }
   ],
   "source": [
    "spark.sql(\"\"\"select name_sha2,count(*) as total_count from newtable \n",
    "             group by name_sha2 \n",
    "             having total_count >1\n",
    "             order by total_count desc\n",
    "             limit 10\n",
    "\"\"\") #we can see the first one looks like outlier bcz loan was given 33 times this isn't practically possible lets explore more on this record."
   ]
  },
  {
   "cell_type": "code",
   "execution_count": 19,
   "id": "699be973",
   "metadata": {},
   "outputs": [
    {
     "data": {
      "text/html": [
       "<table border='1'>\n",
       "<tr><th>id</th><th>member_id</th><th>loan_amnt</th><th>funded_amnt</th><th>funded_amnt_inv</th><th>term</th><th>int_rate</th><th>installment</th><th>grade</th><th>sub_grade</th><th>emp_title</th><th>emp_length</th><th>home_ownership</th><th>annual_inc</th><th>verification_status</th><th>issue_d</th><th>loan_status</th><th>pymnt_plan</th><th>url</th><th>desc</th><th>purpose</th><th>title</th><th>zip_code</th><th>addr_state</th><th>dti</th><th>delinq_2yrs</th><th>earliest_cr_line</th><th>fico_range_low</th><th>fico_range_high</th><th>inq_last_6mths</th><th>mths_since_last_delinq</th><th>mths_since_last_record</th><th>open_acc</th><th>pub_rec</th><th>revol_bal</th><th>revol_util</th><th>total_acc</th><th>initial_list_status</th><th>out_prncp</th><th>out_prncp_inv</th><th>total_pymnt</th><th>total_pymnt_inv</th><th>total_rec_prncp</th><th>total_rec_int</th><th>total_rec_late_fee</th><th>recoveries</th><th>collection_recovery_fee</th><th>last_pymnt_d</th><th>last_pymnt_amnt</th><th>next_pymnt_d</th><th>last_credit_pull_d</th><th>last_fico_range_high</th><th>last_fico_range_low</th><th>collections_12_mths_ex_med</th><th>mths_since_last_major_derog</th><th>policy_code</th><th>application_type</th><th>annual_inc_joint</th><th>dti_joint</th><th>verification_status_joint</th><th>acc_now_delinq</th><th>tot_coll_amt</th><th>tot_cur_bal</th><th>open_acc_6m</th><th>open_act_il</th><th>open_il_12m</th><th>open_il_24m</th><th>mths_since_rcnt_il</th><th>total_bal_il</th><th>il_util</th><th>open_rv_12m</th><th>open_rv_24m</th><th>max_bal_bc</th><th>all_util</th><th>total_rev_hi_lim</th><th>inq_fi</th><th>total_cu_tl</th><th>inq_last_12m</th><th>acc_open_past_24mths</th><th>avg_cur_bal</th><th>bc_open_to_buy</th><th>bc_util</th><th>chargeoff_within_12_mths</th><th>delinq_amnt</th><th>mo_sin_old_il_acct</th><th>mo_sin_old_rev_tl_op</th><th>mo_sin_rcnt_rev_tl_op</th><th>mo_sin_rcnt_tl</th><th>mort_acc</th><th>mths_since_recent_bc</th><th>mths_since_recent_bc_dlq</th><th>mths_since_recent_inq</th><th>mths_since_recent_revol_delinq</th><th>num_accts_ever_120_pd</th><th>num_actv_bc_tl</th><th>num_actv_rev_tl</th><th>num_bc_sats</th><th>num_bc_tl</th><th>num_il_tl</th><th>num_op_rev_tl</th><th>num_rev_accts</th><th>num_rev_tl_bal_gt_0</th><th>num_sats</th><th>num_tl_120dpd_2m</th><th>num_tl_30dpd</th><th>num_tl_90g_dpd_24m</th><th>num_tl_op_past_12m</th><th>pct_tl_nvr_dlq</th><th>percent_bc_gt_75</th><th>pub_rec_bankruptcies</th><th>tax_liens</th><th>tot_hi_cred_lim</th><th>total_bal_ex_mort</th><th>total_bc_limit</th><th>total_il_high_credit_limit</th><th>revol_bal_joint</th><th>sec_app_fico_range_low</th><th>sec_app_fico_range_high</th><th>sec_app_earliest_cr_line</th><th>sec_app_inq_last_6mths</th><th>sec_app_mort_acc</th><th>sec_app_open_acc</th><th>sec_app_revol_util</th><th>sec_app_open_act_il</th><th>sec_app_num_rev_accts</th><th>sec_app_chargeoff_within_12_mths</th><th>sec_app_collections_12_mths_ex_med</th><th>sec_app_mths_since_last_major_derog</th><th>hardship_flag</th><th>hardship_type</th><th>hardship_reason</th><th>hardship_status</th><th>deferral_term</th><th>hardship_amount</th><th>hardship_start_date</th><th>hardship_end_date</th><th>payment_plan_start_date</th><th>hardship_length</th><th>hardship_dpd</th><th>hardship_loan_status</th><th>orig_projected_additional_accrued_interest</th><th>hardship_payoff_balance_amount</th><th>hardship_last_payment_amount</th><th>disbursement_method</th><th>debt_settlement_flag</th><th>debt_settlement_flag_date</th><th>settlement_status</th><th>settlement_date</th><th>settlement_amount</th><th>settlement_percentage</th><th>settlement_term</th><th>name_sha2</th></tr>\n",
       "<tr><td>Total amount fund...</td><td>null</td><td>null</td><td>null</td><td>null</td><td>null</td><td>null</td><td>null</td><td>null</td><td>null</td><td>null</td><td>null</td><td>null</td><td>null</td><td>null</td><td>null</td><td>null</td><td>null</td><td>null</td><td>null</td><td>null</td><td>null</td><td>null</td><td>null</td><td>null</td><td>null</td><td>null</td><td>null</td><td>null</td><td>null</td><td>null</td><td>null</td><td>null</td><td>null</td><td>null</td><td>null</td><td>null</td><td>null</td><td>null</td><td>null</td><td>null</td><td>null</td><td>null</td><td>null</td><td>null</td><td>null</td><td>null</td><td>null</td><td>null</td><td>null</td><td>null</td><td>null</td><td>null</td><td>null</td><td>null</td><td>null</td><td>null</td><td>null</td><td>null</td><td>null</td><td>null</td><td>null</td><td>null</td><td>null</td><td>null</td><td>null</td><td>null</td><td>null</td><td>null</td><td>null</td><td>null</td><td>null</td><td>null</td><td>null</td><td>null</td><td>null</td><td>null</td><td>null</td><td>null</td><td>null</td><td>null</td><td>null</td><td>null</td><td>null</td><td>null</td><td>null</td><td>null</td><td>null</td><td>null</td><td>null</td><td>null</td><td>null</td><td>null</td><td>null</td><td>null</td><td>null</td><td>null</td><td>null</td><td>null</td><td>null</td><td>null</td><td>null</td><td>null</td><td>null</td><td>null</td><td>null</td><td>null</td><td>null</td><td>null</td><td>null</td><td>null</td><td>null</td><td>null</td><td>null</td><td>null</td><td>null</td><td>null</td><td>null</td><td>null</td><td>null</td><td>null</td><td>null</td><td>null</td><td>null</td><td>null</td><td>null</td><td>null</td><td>null</td><td>null</td><td>null</td><td>null</td><td>null</td><td>null</td><td>null</td><td>null</td><td>null</td><td>null</td><td>null</td><td>null</td><td>null</td><td>null</td><td>null</td><td>null</td><td>null</td><td>null</td><td>null</td><td>null</td><td>null</td><td>null</td><td>null</td><td>null</td><td>e3b0c44298fc1c149...</td></tr>\n",
       "<tr><td>Total amount fund...</td><td>null</td><td>null</td><td>null</td><td>null</td><td>null</td><td>null</td><td>null</td><td>null</td><td>null</td><td>null</td><td>null</td><td>null</td><td>null</td><td>null</td><td>null</td><td>null</td><td>null</td><td>null</td><td>null</td><td>null</td><td>null</td><td>null</td><td>null</td><td>null</td><td>null</td><td>null</td><td>null</td><td>null</td><td>null</td><td>null</td><td>null</td><td>null</td><td>null</td><td>null</td><td>null</td><td>null</td><td>null</td><td>null</td><td>null</td><td>null</td><td>null</td><td>null</td><td>null</td><td>null</td><td>null</td><td>null</td><td>null</td><td>null</td><td>null</td><td>null</td><td>null</td><td>null</td><td>null</td><td>null</td><td>null</td><td>null</td><td>null</td><td>null</td><td>null</td><td>null</td><td>null</td><td>null</td><td>null</td><td>null</td><td>null</td><td>null</td><td>null</td><td>null</td><td>null</td><td>null</td><td>null</td><td>null</td><td>null</td><td>null</td><td>null</td><td>null</td><td>null</td><td>null</td><td>null</td><td>null</td><td>null</td><td>null</td><td>null</td><td>null</td><td>null</td><td>null</td><td>null</td><td>null</td><td>null</td><td>null</td><td>null</td><td>null</td><td>null</td><td>null</td><td>null</td><td>null</td><td>null</td><td>null</td><td>null</td><td>null</td><td>null</td><td>null</td><td>null</td><td>null</td><td>null</td><td>null</td><td>null</td><td>null</td><td>null</td><td>null</td><td>null</td><td>null</td><td>null</td><td>null</td><td>null</td><td>null</td><td>null</td><td>null</td><td>null</td><td>null</td><td>null</td><td>null</td><td>null</td><td>null</td><td>null</td><td>null</td><td>null</td><td>null</td><td>null</td><td>null</td><td>null</td><td>null</td><td>null</td><td>null</td><td>null</td><td>null</td><td>null</td><td>null</td><td>null</td><td>null</td><td>null</td><td>null</td><td>null</td><td>null</td><td>null</td><td>null</td><td>null</td><td>null</td><td>null</td><td>null</td><td>e3b0c44298fc1c149...</td></tr>\n",
       "<tr><td>Total amount fund...</td><td>null</td><td>null</td><td>null</td><td>null</td><td>null</td><td>null</td><td>null</td><td>null</td><td>null</td><td>null</td><td>null</td><td>null</td><td>null</td><td>null</td><td>null</td><td>null</td><td>null</td><td>null</td><td>null</td><td>null</td><td>null</td><td>null</td><td>null</td><td>null</td><td>null</td><td>null</td><td>null</td><td>null</td><td>null</td><td>null</td><td>null</td><td>null</td><td>null</td><td>null</td><td>null</td><td>null</td><td>null</td><td>null</td><td>null</td><td>null</td><td>null</td><td>null</td><td>null</td><td>null</td><td>null</td><td>null</td><td>null</td><td>null</td><td>null</td><td>null</td><td>null</td><td>null</td><td>null</td><td>null</td><td>null</td><td>null</td><td>null</td><td>null</td><td>null</td><td>null</td><td>null</td><td>null</td><td>null</td><td>null</td><td>null</td><td>null</td><td>null</td><td>null</td><td>null</td><td>null</td><td>null</td><td>null</td><td>null</td><td>null</td><td>null</td><td>null</td><td>null</td><td>null</td><td>null</td><td>null</td><td>null</td><td>null</td><td>null</td><td>null</td><td>null</td><td>null</td><td>null</td><td>null</td><td>null</td><td>null</td><td>null</td><td>null</td><td>null</td><td>null</td><td>null</td><td>null</td><td>null</td><td>null</td><td>null</td><td>null</td><td>null</td><td>null</td><td>null</td><td>null</td><td>null</td><td>null</td><td>null</td><td>null</td><td>null</td><td>null</td><td>null</td><td>null</td><td>null</td><td>null</td><td>null</td><td>null</td><td>null</td><td>null</td><td>null</td><td>null</td><td>null</td><td>null</td><td>null</td><td>null</td><td>null</td><td>null</td><td>null</td><td>null</td><td>null</td><td>null</td><td>null</td><td>null</td><td>null</td><td>null</td><td>null</td><td>null</td><td>null</td><td>null</td><td>null</td><td>null</td><td>null</td><td>null</td><td>null</td><td>null</td><td>null</td><td>null</td><td>null</td><td>null</td><td>null</td><td>null</td><td>e3b0c44298fc1c149...</td></tr>\n",
       "<tr><td>Total amount fund...</td><td>null</td><td>null</td><td>null</td><td>null</td><td>null</td><td>null</td><td>null</td><td>null</td><td>null</td><td>null</td><td>null</td><td>null</td><td>null</td><td>null</td><td>null</td><td>null</td><td>null</td><td>null</td><td>null</td><td>null</td><td>null</td><td>null</td><td>null</td><td>null</td><td>null</td><td>null</td><td>null</td><td>null</td><td>null</td><td>null</td><td>null</td><td>null</td><td>null</td><td>null</td><td>null</td><td>null</td><td>null</td><td>null</td><td>null</td><td>null</td><td>null</td><td>null</td><td>null</td><td>null</td><td>null</td><td>null</td><td>null</td><td>null</td><td>null</td><td>null</td><td>null</td><td>null</td><td>null</td><td>null</td><td>null</td><td>null</td><td>null</td><td>null</td><td>null</td><td>null</td><td>null</td><td>null</td><td>null</td><td>null</td><td>null</td><td>null</td><td>null</td><td>null</td><td>null</td><td>null</td><td>null</td><td>null</td><td>null</td><td>null</td><td>null</td><td>null</td><td>null</td><td>null</td><td>null</td><td>null</td><td>null</td><td>null</td><td>null</td><td>null</td><td>null</td><td>null</td><td>null</td><td>null</td><td>null</td><td>null</td><td>null</td><td>null</td><td>null</td><td>null</td><td>null</td><td>null</td><td>null</td><td>null</td><td>null</td><td>null</td><td>null</td><td>null</td><td>null</td><td>null</td><td>null</td><td>null</td><td>null</td><td>null</td><td>null</td><td>null</td><td>null</td><td>null</td><td>null</td><td>null</td><td>null</td><td>null</td><td>null</td><td>null</td><td>null</td><td>null</td><td>null</td><td>null</td><td>null</td><td>null</td><td>null</td><td>null</td><td>null</td><td>null</td><td>null</td><td>null</td><td>null</td><td>null</td><td>null</td><td>null</td><td>null</td><td>null</td><td>null</td><td>null</td><td>null</td><td>null</td><td>null</td><td>null</td><td>null</td><td>null</td><td>null</td><td>null</td><td>null</td><td>null</td><td>null</td><td>null</td><td>e3b0c44298fc1c149...</td></tr>\n",
       "<tr><td>Total amount fund...</td><td>null</td><td>null</td><td>null</td><td>null</td><td>null</td><td>null</td><td>null</td><td>null</td><td>null</td><td>null</td><td>null</td><td>null</td><td>null</td><td>null</td><td>null</td><td>null</td><td>null</td><td>null</td><td>null</td><td>null</td><td>null</td><td>null</td><td>null</td><td>null</td><td>null</td><td>null</td><td>null</td><td>null</td><td>null</td><td>null</td><td>null</td><td>null</td><td>null</td><td>null</td><td>null</td><td>null</td><td>null</td><td>null</td><td>null</td><td>null</td><td>null</td><td>null</td><td>null</td><td>null</td><td>null</td><td>null</td><td>null</td><td>null</td><td>null</td><td>null</td><td>null</td><td>null</td><td>null</td><td>null</td><td>null</td><td>null</td><td>null</td><td>null</td><td>null</td><td>null</td><td>null</td><td>null</td><td>null</td><td>null</td><td>null</td><td>null</td><td>null</td><td>null</td><td>null</td><td>null</td><td>null</td><td>null</td><td>null</td><td>null</td><td>null</td><td>null</td><td>null</td><td>null</td><td>null</td><td>null</td><td>null</td><td>null</td><td>null</td><td>null</td><td>null</td><td>null</td><td>null</td><td>null</td><td>null</td><td>null</td><td>null</td><td>null</td><td>null</td><td>null</td><td>null</td><td>null</td><td>null</td><td>null</td><td>null</td><td>null</td><td>null</td><td>null</td><td>null</td><td>null</td><td>null</td><td>null</td><td>null</td><td>null</td><td>null</td><td>null</td><td>null</td><td>null</td><td>null</td><td>null</td><td>null</td><td>null</td><td>null</td><td>null</td><td>null</td><td>null</td><td>null</td><td>null</td><td>null</td><td>null</td><td>null</td><td>null</td><td>null</td><td>null</td><td>null</td><td>null</td><td>null</td><td>null</td><td>null</td><td>null</td><td>null</td><td>null</td><td>null</td><td>null</td><td>null</td><td>null</td><td>null</td><td>null</td><td>null</td><td>null</td><td>null</td><td>null</td><td>null</td><td>null</td><td>null</td><td>null</td><td>e3b0c44298fc1c149...</td></tr>\n",
       "<tr><td>Total amount fund...</td><td>null</td><td>null</td><td>null</td><td>null</td><td>null</td><td>null</td><td>null</td><td>null</td><td>null</td><td>null</td><td>null</td><td>null</td><td>null</td><td>null</td><td>null</td><td>null</td><td>null</td><td>null</td><td>null</td><td>null</td><td>null</td><td>null</td><td>null</td><td>null</td><td>null</td><td>null</td><td>null</td><td>null</td><td>null</td><td>null</td><td>null</td><td>null</td><td>null</td><td>null</td><td>null</td><td>null</td><td>null</td><td>null</td><td>null</td><td>null</td><td>null</td><td>null</td><td>null</td><td>null</td><td>null</td><td>null</td><td>null</td><td>null</td><td>null</td><td>null</td><td>null</td><td>null</td><td>null</td><td>null</td><td>null</td><td>null</td><td>null</td><td>null</td><td>null</td><td>null</td><td>null</td><td>null</td><td>null</td><td>null</td><td>null</td><td>null</td><td>null</td><td>null</td><td>null</td><td>null</td><td>null</td><td>null</td><td>null</td><td>null</td><td>null</td><td>null</td><td>null</td><td>null</td><td>null</td><td>null</td><td>null</td><td>null</td><td>null</td><td>null</td><td>null</td><td>null</td><td>null</td><td>null</td><td>null</td><td>null</td><td>null</td><td>null</td><td>null</td><td>null</td><td>null</td><td>null</td><td>null</td><td>null</td><td>null</td><td>null</td><td>null</td><td>null</td><td>null</td><td>null</td><td>null</td><td>null</td><td>null</td><td>null</td><td>null</td><td>null</td><td>null</td><td>null</td><td>null</td><td>null</td><td>null</td><td>null</td><td>null</td><td>null</td><td>null</td><td>null</td><td>null</td><td>null</td><td>null</td><td>null</td><td>null</td><td>null</td><td>null</td><td>null</td><td>null</td><td>null</td><td>null</td><td>null</td><td>null</td><td>null</td><td>null</td><td>null</td><td>null</td><td>null</td><td>null</td><td>null</td><td>null</td><td>null</td><td>null</td><td>null</td><td>null</td><td>null</td><td>null</td><td>null</td><td>null</td><td>null</td><td>e3b0c44298fc1c149...</td></tr>\n",
       "<tr><td>Total amount fund...</td><td>null</td><td>null</td><td>null</td><td>null</td><td>null</td><td>null</td><td>null</td><td>null</td><td>null</td><td>null</td><td>null</td><td>null</td><td>null</td><td>null</td><td>null</td><td>null</td><td>null</td><td>null</td><td>null</td><td>null</td><td>null</td><td>null</td><td>null</td><td>null</td><td>null</td><td>null</td><td>null</td><td>null</td><td>null</td><td>null</td><td>null</td><td>null</td><td>null</td><td>null</td><td>null</td><td>null</td><td>null</td><td>null</td><td>null</td><td>null</td><td>null</td><td>null</td><td>null</td><td>null</td><td>null</td><td>null</td><td>null</td><td>null</td><td>null</td><td>null</td><td>null</td><td>null</td><td>null</td><td>null</td><td>null</td><td>null</td><td>null</td><td>null</td><td>null</td><td>null</td><td>null</td><td>null</td><td>null</td><td>null</td><td>null</td><td>null</td><td>null</td><td>null</td><td>null</td><td>null</td><td>null</td><td>null</td><td>null</td><td>null</td><td>null</td><td>null</td><td>null</td><td>null</td><td>null</td><td>null</td><td>null</td><td>null</td><td>null</td><td>null</td><td>null</td><td>null</td><td>null</td><td>null</td><td>null</td><td>null</td><td>null</td><td>null</td><td>null</td><td>null</td><td>null</td><td>null</td><td>null</td><td>null</td><td>null</td><td>null</td><td>null</td><td>null</td><td>null</td><td>null</td><td>null</td><td>null</td><td>null</td><td>null</td><td>null</td><td>null</td><td>null</td><td>null</td><td>null</td><td>null</td><td>null</td><td>null</td><td>null</td><td>null</td><td>null</td><td>null</td><td>null</td><td>null</td><td>null</td><td>null</td><td>null</td><td>null</td><td>null</td><td>null</td><td>null</td><td>null</td><td>null</td><td>null</td><td>null</td><td>null</td><td>null</td><td>null</td><td>null</td><td>null</td><td>null</td><td>null</td><td>null</td><td>null</td><td>null</td><td>null</td><td>null</td><td>null</td><td>null</td><td>null</td><td>null</td><td>null</td><td>e3b0c44298fc1c149...</td></tr>\n",
       "<tr><td>Total amount fund...</td><td>null</td><td>null</td><td>null</td><td>null</td><td>null</td><td>null</td><td>null</td><td>null</td><td>null</td><td>null</td><td>null</td><td>null</td><td>null</td><td>null</td><td>null</td><td>null</td><td>null</td><td>null</td><td>null</td><td>null</td><td>null</td><td>null</td><td>null</td><td>null</td><td>null</td><td>null</td><td>null</td><td>null</td><td>null</td><td>null</td><td>null</td><td>null</td><td>null</td><td>null</td><td>null</td><td>null</td><td>null</td><td>null</td><td>null</td><td>null</td><td>null</td><td>null</td><td>null</td><td>null</td><td>null</td><td>null</td><td>null</td><td>null</td><td>null</td><td>null</td><td>null</td><td>null</td><td>null</td><td>null</td><td>null</td><td>null</td><td>null</td><td>null</td><td>null</td><td>null</td><td>null</td><td>null</td><td>null</td><td>null</td><td>null</td><td>null</td><td>null</td><td>null</td><td>null</td><td>null</td><td>null</td><td>null</td><td>null</td><td>null</td><td>null</td><td>null</td><td>null</td><td>null</td><td>null</td><td>null</td><td>null</td><td>null</td><td>null</td><td>null</td><td>null</td><td>null</td><td>null</td><td>null</td><td>null</td><td>null</td><td>null</td><td>null</td><td>null</td><td>null</td><td>null</td><td>null</td><td>null</td><td>null</td><td>null</td><td>null</td><td>null</td><td>null</td><td>null</td><td>null</td><td>null</td><td>null</td><td>null</td><td>null</td><td>null</td><td>null</td><td>null</td><td>null</td><td>null</td><td>null</td><td>null</td><td>null</td><td>null</td><td>null</td><td>null</td><td>null</td><td>null</td><td>null</td><td>null</td><td>null</td><td>null</td><td>null</td><td>null</td><td>null</td><td>null</td><td>null</td><td>null</td><td>null</td><td>null</td><td>null</td><td>null</td><td>null</td><td>null</td><td>null</td><td>null</td><td>null</td><td>null</td><td>null</td><td>null</td><td>null</td><td>null</td><td>null</td><td>null</td><td>null</td><td>null</td><td>null</td><td>e3b0c44298fc1c149...</td></tr>\n",
       "<tr><td>Total amount fund...</td><td>null</td><td>null</td><td>null</td><td>null</td><td>null</td><td>null</td><td>null</td><td>null</td><td>null</td><td>null</td><td>null</td><td>null</td><td>null</td><td>null</td><td>null</td><td>null</td><td>null</td><td>null</td><td>null</td><td>null</td><td>null</td><td>null</td><td>null</td><td>null</td><td>null</td><td>null</td><td>null</td><td>null</td><td>null</td><td>null</td><td>null</td><td>null</td><td>null</td><td>null</td><td>null</td><td>null</td><td>null</td><td>null</td><td>null</td><td>null</td><td>null</td><td>null</td><td>null</td><td>null</td><td>null</td><td>null</td><td>null</td><td>null</td><td>null</td><td>null</td><td>null</td><td>null</td><td>null</td><td>null</td><td>null</td><td>null</td><td>null</td><td>null</td><td>null</td><td>null</td><td>null</td><td>null</td><td>null</td><td>null</td><td>null</td><td>null</td><td>null</td><td>null</td><td>null</td><td>null</td><td>null</td><td>null</td><td>null</td><td>null</td><td>null</td><td>null</td><td>null</td><td>null</td><td>null</td><td>null</td><td>null</td><td>null</td><td>null</td><td>null</td><td>null</td><td>null</td><td>null</td><td>null</td><td>null</td><td>null</td><td>null</td><td>null</td><td>null</td><td>null</td><td>null</td><td>null</td><td>null</td><td>null</td><td>null</td><td>null</td><td>null</td><td>null</td><td>null</td><td>null</td><td>null</td><td>null</td><td>null</td><td>null</td><td>null</td><td>null</td><td>null</td><td>null</td><td>null</td><td>null</td><td>null</td><td>null</td><td>null</td><td>null</td><td>null</td><td>null</td><td>null</td><td>null</td><td>null</td><td>null</td><td>null</td><td>null</td><td>null</td><td>null</td><td>null</td><td>null</td><td>null</td><td>null</td><td>null</td><td>null</td><td>null</td><td>null</td><td>null</td><td>null</td><td>null</td><td>null</td><td>null</td><td>null</td><td>null</td><td>null</td><td>null</td><td>null</td><td>null</td><td>null</td><td>null</td><td>null</td><td>e3b0c44298fc1c149...</td></tr>\n",
       "<tr><td>Total amount fund...</td><td>null</td><td>null</td><td>null</td><td>null</td><td>null</td><td>null</td><td>null</td><td>null</td><td>null</td><td>null</td><td>null</td><td>null</td><td>null</td><td>null</td><td>null</td><td>null</td><td>null</td><td>null</td><td>null</td><td>null</td><td>null</td><td>null</td><td>null</td><td>null</td><td>null</td><td>null</td><td>null</td><td>null</td><td>null</td><td>null</td><td>null</td><td>null</td><td>null</td><td>null</td><td>null</td><td>null</td><td>null</td><td>null</td><td>null</td><td>null</td><td>null</td><td>null</td><td>null</td><td>null</td><td>null</td><td>null</td><td>null</td><td>null</td><td>null</td><td>null</td><td>null</td><td>null</td><td>null</td><td>null</td><td>null</td><td>null</td><td>null</td><td>null</td><td>null</td><td>null</td><td>null</td><td>null</td><td>null</td><td>null</td><td>null</td><td>null</td><td>null</td><td>null</td><td>null</td><td>null</td><td>null</td><td>null</td><td>null</td><td>null</td><td>null</td><td>null</td><td>null</td><td>null</td><td>null</td><td>null</td><td>null</td><td>null</td><td>null</td><td>null</td><td>null</td><td>null</td><td>null</td><td>null</td><td>null</td><td>null</td><td>null</td><td>null</td><td>null</td><td>null</td><td>null</td><td>null</td><td>null</td><td>null</td><td>null</td><td>null</td><td>null</td><td>null</td><td>null</td><td>null</td><td>null</td><td>null</td><td>null</td><td>null</td><td>null</td><td>null</td><td>null</td><td>null</td><td>null</td><td>null</td><td>null</td><td>null</td><td>null</td><td>null</td><td>null</td><td>null</td><td>null</td><td>null</td><td>null</td><td>null</td><td>null</td><td>null</td><td>null</td><td>null</td><td>null</td><td>null</td><td>null</td><td>null</td><td>null</td><td>null</td><td>null</td><td>null</td><td>null</td><td>null</td><td>null</td><td>null</td><td>null</td><td>null</td><td>null</td><td>null</td><td>null</td><td>null</td><td>null</td><td>null</td><td>null</td><td>null</td><td>e3b0c44298fc1c149...</td></tr>\n",
       "<tr><td>Total amount fund...</td><td>null</td><td>null</td><td>null</td><td>null</td><td>null</td><td>null</td><td>null</td><td>null</td><td>null</td><td>null</td><td>null</td><td>null</td><td>null</td><td>null</td><td>null</td><td>null</td><td>null</td><td>null</td><td>null</td><td>null</td><td>null</td><td>null</td><td>null</td><td>null</td><td>null</td><td>null</td><td>null</td><td>null</td><td>null</td><td>null</td><td>null</td><td>null</td><td>null</td><td>null</td><td>null</td><td>null</td><td>null</td><td>null</td><td>null</td><td>null</td><td>null</td><td>null</td><td>null</td><td>null</td><td>null</td><td>null</td><td>null</td><td>null</td><td>null</td><td>null</td><td>null</td><td>null</td><td>null</td><td>null</td><td>null</td><td>null</td><td>null</td><td>null</td><td>null</td><td>null</td><td>null</td><td>null</td><td>null</td><td>null</td><td>null</td><td>null</td><td>null</td><td>null</td><td>null</td><td>null</td><td>null</td><td>null</td><td>null</td><td>null</td><td>null</td><td>null</td><td>null</td><td>null</td><td>null</td><td>null</td><td>null</td><td>null</td><td>null</td><td>null</td><td>null</td><td>null</td><td>null</td><td>null</td><td>null</td><td>null</td><td>null</td><td>null</td><td>null</td><td>null</td><td>null</td><td>null</td><td>null</td><td>null</td><td>null</td><td>null</td><td>null</td><td>null</td><td>null</td><td>null</td><td>null</td><td>null</td><td>null</td><td>null</td><td>null</td><td>null</td><td>null</td><td>null</td><td>null</td><td>null</td><td>null</td><td>null</td><td>null</td><td>null</td><td>null</td><td>null</td><td>null</td><td>null</td><td>null</td><td>null</td><td>null</td><td>null</td><td>null</td><td>null</td><td>null</td><td>null</td><td>null</td><td>null</td><td>null</td><td>null</td><td>null</td><td>null</td><td>null</td><td>null</td><td>null</td><td>null</td><td>null</td><td>null</td><td>null</td><td>null</td><td>null</td><td>null</td><td>null</td><td>null</td><td>null</td><td>null</td><td>e3b0c44298fc1c149...</td></tr>\n",
       "<tr><td>Total amount fund...</td><td>null</td><td>null</td><td>null</td><td>null</td><td>null</td><td>null</td><td>null</td><td>null</td><td>null</td><td>null</td><td>null</td><td>null</td><td>null</td><td>null</td><td>null</td><td>null</td><td>null</td><td>null</td><td>null</td><td>null</td><td>null</td><td>null</td><td>null</td><td>null</td><td>null</td><td>null</td><td>null</td><td>null</td><td>null</td><td>null</td><td>null</td><td>null</td><td>null</td><td>null</td><td>null</td><td>null</td><td>null</td><td>null</td><td>null</td><td>null</td><td>null</td><td>null</td><td>null</td><td>null</td><td>null</td><td>null</td><td>null</td><td>null</td><td>null</td><td>null</td><td>null</td><td>null</td><td>null</td><td>null</td><td>null</td><td>null</td><td>null</td><td>null</td><td>null</td><td>null</td><td>null</td><td>null</td><td>null</td><td>null</td><td>null</td><td>null</td><td>null</td><td>null</td><td>null</td><td>null</td><td>null</td><td>null</td><td>null</td><td>null</td><td>null</td><td>null</td><td>null</td><td>null</td><td>null</td><td>null</td><td>null</td><td>null</td><td>null</td><td>null</td><td>null</td><td>null</td><td>null</td><td>null</td><td>null</td><td>null</td><td>null</td><td>null</td><td>null</td><td>null</td><td>null</td><td>null</td><td>null</td><td>null</td><td>null</td><td>null</td><td>null</td><td>null</td><td>null</td><td>null</td><td>null</td><td>null</td><td>null</td><td>null</td><td>null</td><td>null</td><td>null</td><td>null</td><td>null</td><td>null</td><td>null</td><td>null</td><td>null</td><td>null</td><td>null</td><td>null</td><td>null</td><td>null</td><td>null</td><td>null</td><td>null</td><td>null</td><td>null</td><td>null</td><td>null</td><td>null</td><td>null</td><td>null</td><td>null</td><td>null</td><td>null</td><td>null</td><td>null</td><td>null</td><td>null</td><td>null</td><td>null</td><td>null</td><td>null</td><td>null</td><td>null</td><td>null</td><td>null</td><td>null</td><td>null</td><td>null</td><td>e3b0c44298fc1c149...</td></tr>\n",
       "<tr><td>Total amount fund...</td><td>null</td><td>null</td><td>null</td><td>null</td><td>null</td><td>null</td><td>null</td><td>null</td><td>null</td><td>null</td><td>null</td><td>null</td><td>null</td><td>null</td><td>null</td><td>null</td><td>null</td><td>null</td><td>null</td><td>null</td><td>null</td><td>null</td><td>null</td><td>null</td><td>null</td><td>null</td><td>null</td><td>null</td><td>null</td><td>null</td><td>null</td><td>null</td><td>null</td><td>null</td><td>null</td><td>null</td><td>null</td><td>null</td><td>null</td><td>null</td><td>null</td><td>null</td><td>null</td><td>null</td><td>null</td><td>null</td><td>null</td><td>null</td><td>null</td><td>null</td><td>null</td><td>null</td><td>null</td><td>null</td><td>null</td><td>null</td><td>null</td><td>null</td><td>null</td><td>null</td><td>null</td><td>null</td><td>null</td><td>null</td><td>null</td><td>null</td><td>null</td><td>null</td><td>null</td><td>null</td><td>null</td><td>null</td><td>null</td><td>null</td><td>null</td><td>null</td><td>null</td><td>null</td><td>null</td><td>null</td><td>null</td><td>null</td><td>null</td><td>null</td><td>null</td><td>null</td><td>null</td><td>null</td><td>null</td><td>null</td><td>null</td><td>null</td><td>null</td><td>null</td><td>null</td><td>null</td><td>null</td><td>null</td><td>null</td><td>null</td><td>null</td><td>null</td><td>null</td><td>null</td><td>null</td><td>null</td><td>null</td><td>null</td><td>null</td><td>null</td><td>null</td><td>null</td><td>null</td><td>null</td><td>null</td><td>null</td><td>null</td><td>null</td><td>null</td><td>null</td><td>null</td><td>null</td><td>null</td><td>null</td><td>null</td><td>null</td><td>null</td><td>null</td><td>null</td><td>null</td><td>null</td><td>null</td><td>null</td><td>null</td><td>null</td><td>null</td><td>null</td><td>null</td><td>null</td><td>null</td><td>null</td><td>null</td><td>null</td><td>null</td><td>null</td><td>null</td><td>null</td><td>null</td><td>null</td><td>null</td><td>e3b0c44298fc1c149...</td></tr>\n",
       "<tr><td>Total amount fund...</td><td>null</td><td>null</td><td>null</td><td>null</td><td>null</td><td>null</td><td>null</td><td>null</td><td>null</td><td>null</td><td>null</td><td>null</td><td>null</td><td>null</td><td>null</td><td>null</td><td>null</td><td>null</td><td>null</td><td>null</td><td>null</td><td>null</td><td>null</td><td>null</td><td>null</td><td>null</td><td>null</td><td>null</td><td>null</td><td>null</td><td>null</td><td>null</td><td>null</td><td>null</td><td>null</td><td>null</td><td>null</td><td>null</td><td>null</td><td>null</td><td>null</td><td>null</td><td>null</td><td>null</td><td>null</td><td>null</td><td>null</td><td>null</td><td>null</td><td>null</td><td>null</td><td>null</td><td>null</td><td>null</td><td>null</td><td>null</td><td>null</td><td>null</td><td>null</td><td>null</td><td>null</td><td>null</td><td>null</td><td>null</td><td>null</td><td>null</td><td>null</td><td>null</td><td>null</td><td>null</td><td>null</td><td>null</td><td>null</td><td>null</td><td>null</td><td>null</td><td>null</td><td>null</td><td>null</td><td>null</td><td>null</td><td>null</td><td>null</td><td>null</td><td>null</td><td>null</td><td>null</td><td>null</td><td>null</td><td>null</td><td>null</td><td>null</td><td>null</td><td>null</td><td>null</td><td>null</td><td>null</td><td>null</td><td>null</td><td>null</td><td>null</td><td>null</td><td>null</td><td>null</td><td>null</td><td>null</td><td>null</td><td>null</td><td>null</td><td>null</td><td>null</td><td>null</td><td>null</td><td>null</td><td>null</td><td>null</td><td>null</td><td>null</td><td>null</td><td>null</td><td>null</td><td>null</td><td>null</td><td>null</td><td>null</td><td>null</td><td>null</td><td>null</td><td>null</td><td>null</td><td>null</td><td>null</td><td>null</td><td>null</td><td>null</td><td>null</td><td>null</td><td>null</td><td>null</td><td>null</td><td>null</td><td>null</td><td>null</td><td>null</td><td>null</td><td>null</td><td>null</td><td>null</td><td>null</td><td>null</td><td>e3b0c44298fc1c149...</td></tr>\n",
       "<tr><td>Total amount fund...</td><td>null</td><td>null</td><td>null</td><td>null</td><td>null</td><td>null</td><td>null</td><td>null</td><td>null</td><td>null</td><td>null</td><td>null</td><td>null</td><td>null</td><td>null</td><td>null</td><td>null</td><td>null</td><td>null</td><td>null</td><td>null</td><td>null</td><td>null</td><td>null</td><td>null</td><td>null</td><td>null</td><td>null</td><td>null</td><td>null</td><td>null</td><td>null</td><td>null</td><td>null</td><td>null</td><td>null</td><td>null</td><td>null</td><td>null</td><td>null</td><td>null</td><td>null</td><td>null</td><td>null</td><td>null</td><td>null</td><td>null</td><td>null</td><td>null</td><td>null</td><td>null</td><td>null</td><td>null</td><td>null</td><td>null</td><td>null</td><td>null</td><td>null</td><td>null</td><td>null</td><td>null</td><td>null</td><td>null</td><td>null</td><td>null</td><td>null</td><td>null</td><td>null</td><td>null</td><td>null</td><td>null</td><td>null</td><td>null</td><td>null</td><td>null</td><td>null</td><td>null</td><td>null</td><td>null</td><td>null</td><td>null</td><td>null</td><td>null</td><td>null</td><td>null</td><td>null</td><td>null</td><td>null</td><td>null</td><td>null</td><td>null</td><td>null</td><td>null</td><td>null</td><td>null</td><td>null</td><td>null</td><td>null</td><td>null</td><td>null</td><td>null</td><td>null</td><td>null</td><td>null</td><td>null</td><td>null</td><td>null</td><td>null</td><td>null</td><td>null</td><td>null</td><td>null</td><td>null</td><td>null</td><td>null</td><td>null</td><td>null</td><td>null</td><td>null</td><td>null</td><td>null</td><td>null</td><td>null</td><td>null</td><td>null</td><td>null</td><td>null</td><td>null</td><td>null</td><td>null</td><td>null</td><td>null</td><td>null</td><td>null</td><td>null</td><td>null</td><td>null</td><td>null</td><td>null</td><td>null</td><td>null</td><td>null</td><td>null</td><td>null</td><td>null</td><td>null</td><td>null</td><td>null</td><td>null</td><td>null</td><td>e3b0c44298fc1c149...</td></tr>\n",
       "<tr><td>Total amount fund...</td><td>null</td><td>null</td><td>null</td><td>null</td><td>null</td><td>null</td><td>null</td><td>null</td><td>null</td><td>null</td><td>null</td><td>null</td><td>null</td><td>null</td><td>null</td><td>null</td><td>null</td><td>null</td><td>null</td><td>null</td><td>null</td><td>null</td><td>null</td><td>null</td><td>null</td><td>null</td><td>null</td><td>null</td><td>null</td><td>null</td><td>null</td><td>null</td><td>null</td><td>null</td><td>null</td><td>null</td><td>null</td><td>null</td><td>null</td><td>null</td><td>null</td><td>null</td><td>null</td><td>null</td><td>null</td><td>null</td><td>null</td><td>null</td><td>null</td><td>null</td><td>null</td><td>null</td><td>null</td><td>null</td><td>null</td><td>null</td><td>null</td><td>null</td><td>null</td><td>null</td><td>null</td><td>null</td><td>null</td><td>null</td><td>null</td><td>null</td><td>null</td><td>null</td><td>null</td><td>null</td><td>null</td><td>null</td><td>null</td><td>null</td><td>null</td><td>null</td><td>null</td><td>null</td><td>null</td><td>null</td><td>null</td><td>null</td><td>null</td><td>null</td><td>null</td><td>null</td><td>null</td><td>null</td><td>null</td><td>null</td><td>null</td><td>null</td><td>null</td><td>null</td><td>null</td><td>null</td><td>null</td><td>null</td><td>null</td><td>null</td><td>null</td><td>null</td><td>null</td><td>null</td><td>null</td><td>null</td><td>null</td><td>null</td><td>null</td><td>null</td><td>null</td><td>null</td><td>null</td><td>null</td><td>null</td><td>null</td><td>null</td><td>null</td><td>null</td><td>null</td><td>null</td><td>null</td><td>null</td><td>null</td><td>null</td><td>null</td><td>null</td><td>null</td><td>null</td><td>null</td><td>null</td><td>null</td><td>null</td><td>null</td><td>null</td><td>null</td><td>null</td><td>null</td><td>null</td><td>null</td><td>null</td><td>null</td><td>null</td><td>null</td><td>null</td><td>null</td><td>null</td><td>null</td><td>null</td><td>null</td><td>e3b0c44298fc1c149...</td></tr>\n",
       "<tr><td>Total amount fund...</td><td>null</td><td>null</td><td>null</td><td>null</td><td>null</td><td>null</td><td>null</td><td>null</td><td>null</td><td>null</td><td>null</td><td>null</td><td>null</td><td>null</td><td>null</td><td>null</td><td>null</td><td>null</td><td>null</td><td>null</td><td>null</td><td>null</td><td>null</td><td>null</td><td>null</td><td>null</td><td>null</td><td>null</td><td>null</td><td>null</td><td>null</td><td>null</td><td>null</td><td>null</td><td>null</td><td>null</td><td>null</td><td>null</td><td>null</td><td>null</td><td>null</td><td>null</td><td>null</td><td>null</td><td>null</td><td>null</td><td>null</td><td>null</td><td>null</td><td>null</td><td>null</td><td>null</td><td>null</td><td>null</td><td>null</td><td>null</td><td>null</td><td>null</td><td>null</td><td>null</td><td>null</td><td>null</td><td>null</td><td>null</td><td>null</td><td>null</td><td>null</td><td>null</td><td>null</td><td>null</td><td>null</td><td>null</td><td>null</td><td>null</td><td>null</td><td>null</td><td>null</td><td>null</td><td>null</td><td>null</td><td>null</td><td>null</td><td>null</td><td>null</td><td>null</td><td>null</td><td>null</td><td>null</td><td>null</td><td>null</td><td>null</td><td>null</td><td>null</td><td>null</td><td>null</td><td>null</td><td>null</td><td>null</td><td>null</td><td>null</td><td>null</td><td>null</td><td>null</td><td>null</td><td>null</td><td>null</td><td>null</td><td>null</td><td>null</td><td>null</td><td>null</td><td>null</td><td>null</td><td>null</td><td>null</td><td>null</td><td>null</td><td>null</td><td>null</td><td>null</td><td>null</td><td>null</td><td>null</td><td>null</td><td>null</td><td>null</td><td>null</td><td>null</td><td>null</td><td>null</td><td>null</td><td>null</td><td>null</td><td>null</td><td>null</td><td>null</td><td>null</td><td>null</td><td>null</td><td>null</td><td>null</td><td>null</td><td>null</td><td>null</td><td>null</td><td>null</td><td>null</td><td>null</td><td>null</td><td>null</td><td>e3b0c44298fc1c149...</td></tr>\n",
       "<tr><td>Total amount fund...</td><td>null</td><td>null</td><td>null</td><td>null</td><td>null</td><td>null</td><td>null</td><td>null</td><td>null</td><td>null</td><td>null</td><td>null</td><td>null</td><td>null</td><td>null</td><td>null</td><td>null</td><td>null</td><td>null</td><td>null</td><td>null</td><td>null</td><td>null</td><td>null</td><td>null</td><td>null</td><td>null</td><td>null</td><td>null</td><td>null</td><td>null</td><td>null</td><td>null</td><td>null</td><td>null</td><td>null</td><td>null</td><td>null</td><td>null</td><td>null</td><td>null</td><td>null</td><td>null</td><td>null</td><td>null</td><td>null</td><td>null</td><td>null</td><td>null</td><td>null</td><td>null</td><td>null</td><td>null</td><td>null</td><td>null</td><td>null</td><td>null</td><td>null</td><td>null</td><td>null</td><td>null</td><td>null</td><td>null</td><td>null</td><td>null</td><td>null</td><td>null</td><td>null</td><td>null</td><td>null</td><td>null</td><td>null</td><td>null</td><td>null</td><td>null</td><td>null</td><td>null</td><td>null</td><td>null</td><td>null</td><td>null</td><td>null</td><td>null</td><td>null</td><td>null</td><td>null</td><td>null</td><td>null</td><td>null</td><td>null</td><td>null</td><td>null</td><td>null</td><td>null</td><td>null</td><td>null</td><td>null</td><td>null</td><td>null</td><td>null</td><td>null</td><td>null</td><td>null</td><td>null</td><td>null</td><td>null</td><td>null</td><td>null</td><td>null</td><td>null</td><td>null</td><td>null</td><td>null</td><td>null</td><td>null</td><td>null</td><td>null</td><td>null</td><td>null</td><td>null</td><td>null</td><td>null</td><td>null</td><td>null</td><td>null</td><td>null</td><td>null</td><td>null</td><td>null</td><td>null</td><td>null</td><td>null</td><td>null</td><td>null</td><td>null</td><td>null</td><td>null</td><td>null</td><td>null</td><td>null</td><td>null</td><td>null</td><td>null</td><td>null</td><td>null</td><td>null</td><td>null</td><td>null</td><td>null</td><td>null</td><td>e3b0c44298fc1c149...</td></tr>\n",
       "<tr><td>Total amount fund...</td><td>null</td><td>null</td><td>null</td><td>null</td><td>null</td><td>null</td><td>null</td><td>null</td><td>null</td><td>null</td><td>null</td><td>null</td><td>null</td><td>null</td><td>null</td><td>null</td><td>null</td><td>null</td><td>null</td><td>null</td><td>null</td><td>null</td><td>null</td><td>null</td><td>null</td><td>null</td><td>null</td><td>null</td><td>null</td><td>null</td><td>null</td><td>null</td><td>null</td><td>null</td><td>null</td><td>null</td><td>null</td><td>null</td><td>null</td><td>null</td><td>null</td><td>null</td><td>null</td><td>null</td><td>null</td><td>null</td><td>null</td><td>null</td><td>null</td><td>null</td><td>null</td><td>null</td><td>null</td><td>null</td><td>null</td><td>null</td><td>null</td><td>null</td><td>null</td><td>null</td><td>null</td><td>null</td><td>null</td><td>null</td><td>null</td><td>null</td><td>null</td><td>null</td><td>null</td><td>null</td><td>null</td><td>null</td><td>null</td><td>null</td><td>null</td><td>null</td><td>null</td><td>null</td><td>null</td><td>null</td><td>null</td><td>null</td><td>null</td><td>null</td><td>null</td><td>null</td><td>null</td><td>null</td><td>null</td><td>null</td><td>null</td><td>null</td><td>null</td><td>null</td><td>null</td><td>null</td><td>null</td><td>null</td><td>null</td><td>null</td><td>null</td><td>null</td><td>null</td><td>null</td><td>null</td><td>null</td><td>null</td><td>null</td><td>null</td><td>null</td><td>null</td><td>null</td><td>null</td><td>null</td><td>null</td><td>null</td><td>null</td><td>null</td><td>null</td><td>null</td><td>null</td><td>null</td><td>null</td><td>null</td><td>null</td><td>null</td><td>null</td><td>null</td><td>null</td><td>null</td><td>null</td><td>null</td><td>null</td><td>null</td><td>null</td><td>null</td><td>null</td><td>null</td><td>null</td><td>null</td><td>null</td><td>null</td><td>null</td><td>null</td><td>null</td><td>null</td><td>null</td><td>null</td><td>null</td><td>null</td><td>e3b0c44298fc1c149...</td></tr>\n",
       "<tr><td>Total amount fund...</td><td>null</td><td>null</td><td>null</td><td>null</td><td>null</td><td>null</td><td>null</td><td>null</td><td>null</td><td>null</td><td>null</td><td>null</td><td>null</td><td>null</td><td>null</td><td>null</td><td>null</td><td>null</td><td>null</td><td>null</td><td>null</td><td>null</td><td>null</td><td>null</td><td>null</td><td>null</td><td>null</td><td>null</td><td>null</td><td>null</td><td>null</td><td>null</td><td>null</td><td>null</td><td>null</td><td>null</td><td>null</td><td>null</td><td>null</td><td>null</td><td>null</td><td>null</td><td>null</td><td>null</td><td>null</td><td>null</td><td>null</td><td>null</td><td>null</td><td>null</td><td>null</td><td>null</td><td>null</td><td>null</td><td>null</td><td>null</td><td>null</td><td>null</td><td>null</td><td>null</td><td>null</td><td>null</td><td>null</td><td>null</td><td>null</td><td>null</td><td>null</td><td>null</td><td>null</td><td>null</td><td>null</td><td>null</td><td>null</td><td>null</td><td>null</td><td>null</td><td>null</td><td>null</td><td>null</td><td>null</td><td>null</td><td>null</td><td>null</td><td>null</td><td>null</td><td>null</td><td>null</td><td>null</td><td>null</td><td>null</td><td>null</td><td>null</td><td>null</td><td>null</td><td>null</td><td>null</td><td>null</td><td>null</td><td>null</td><td>null</td><td>null</td><td>null</td><td>null</td><td>null</td><td>null</td><td>null</td><td>null</td><td>null</td><td>null</td><td>null</td><td>null</td><td>null</td><td>null</td><td>null</td><td>null</td><td>null</td><td>null</td><td>null</td><td>null</td><td>null</td><td>null</td><td>null</td><td>null</td><td>null</td><td>null</td><td>null</td><td>null</td><td>null</td><td>null</td><td>null</td><td>null</td><td>null</td><td>null</td><td>null</td><td>null</td><td>null</td><td>null</td><td>null</td><td>null</td><td>null</td><td>null</td><td>null</td><td>null</td><td>null</td><td>null</td><td>null</td><td>null</td><td>null</td><td>null</td><td>null</td><td>e3b0c44298fc1c149...</td></tr>\n",
       "</table>\n",
       "only showing top 20 rows\n"
      ],
      "text/plain": [
       "+--------------------+---------+---------+-----------+---------------+----+--------+-----------+-----+---------+---------+----------+--------------+----------+-------------------+-------+-----------+----------+----+----+-------+-----+--------+----------+----+-----------+----------------+--------------+---------------+--------------+----------------------+----------------------+--------+-------+---------+----------+---------+-------------------+---------+-------------+-----------+---------------+---------------+-------------+------------------+----------+-----------------------+------------+---------------+------------+------------------+--------------------+-------------------+--------------------------+---------------------------+-----------+----------------+----------------+---------+-------------------------+--------------+------------+-----------+-----------+-----------+-----------+-----------+------------------+------------+-------+-----------+-----------+----------+--------+----------------+------+-----------+------------+--------------------+-----------+--------------+-------+------------------------+-----------+------------------+--------------------+---------------------+--------------+--------+--------------------+------------------------+---------------------+------------------------------+---------------------+--------------+---------------+-----------+---------+---------+-------------+-------------+-------------------+--------+----------------+------------+------------------+------------------+--------------+----------------+--------------------+---------+---------------+-----------------+--------------+--------------------------+---------------+----------------------+-----------------------+------------------------+----------------------+----------------+----------------+------------------+-------------------+---------------------+--------------------------------+----------------------------------+-----------------------------------+-------------+-------------+---------------+---------------+-------------+---------------+-------------------+-----------------+-----------------------+---------------+------------+--------------------+------------------------------------------+------------------------------+----------------------------+-------------------+--------------------+-------------------------+-----------------+---------------+-----------------+---------------------+---------------+--------------------+\n",
       "|                  id|member_id|loan_amnt|funded_amnt|funded_amnt_inv|term|int_rate|installment|grade|sub_grade|emp_title|emp_length|home_ownership|annual_inc|verification_status|issue_d|loan_status|pymnt_plan| url|desc|purpose|title|zip_code|addr_state| dti|delinq_2yrs|earliest_cr_line|fico_range_low|fico_range_high|inq_last_6mths|mths_since_last_delinq|mths_since_last_record|open_acc|pub_rec|revol_bal|revol_util|total_acc|initial_list_status|out_prncp|out_prncp_inv|total_pymnt|total_pymnt_inv|total_rec_prncp|total_rec_int|total_rec_late_fee|recoveries|collection_recovery_fee|last_pymnt_d|last_pymnt_amnt|next_pymnt_d|last_credit_pull_d|last_fico_range_high|last_fico_range_low|collections_12_mths_ex_med|mths_since_last_major_derog|policy_code|application_type|annual_inc_joint|dti_joint|verification_status_joint|acc_now_delinq|tot_coll_amt|tot_cur_bal|open_acc_6m|open_act_il|open_il_12m|open_il_24m|mths_since_rcnt_il|total_bal_il|il_util|open_rv_12m|open_rv_24m|max_bal_bc|all_util|total_rev_hi_lim|inq_fi|total_cu_tl|inq_last_12m|acc_open_past_24mths|avg_cur_bal|bc_open_to_buy|bc_util|chargeoff_within_12_mths|delinq_amnt|mo_sin_old_il_acct|mo_sin_old_rev_tl_op|mo_sin_rcnt_rev_tl_op|mo_sin_rcnt_tl|mort_acc|mths_since_recent_bc|mths_since_recent_bc_dlq|mths_since_recent_inq|mths_since_recent_revol_delinq|num_accts_ever_120_pd|num_actv_bc_tl|num_actv_rev_tl|num_bc_sats|num_bc_tl|num_il_tl|num_op_rev_tl|num_rev_accts|num_rev_tl_bal_gt_0|num_sats|num_tl_120dpd_2m|num_tl_30dpd|num_tl_90g_dpd_24m|num_tl_op_past_12m|pct_tl_nvr_dlq|percent_bc_gt_75|pub_rec_bankruptcies|tax_liens|tot_hi_cred_lim|total_bal_ex_mort|total_bc_limit|total_il_high_credit_limit|revol_bal_joint|sec_app_fico_range_low|sec_app_fico_range_high|sec_app_earliest_cr_line|sec_app_inq_last_6mths|sec_app_mort_acc|sec_app_open_acc|sec_app_revol_util|sec_app_open_act_il|sec_app_num_rev_accts|sec_app_chargeoff_within_12_mths|sec_app_collections_12_mths_ex_med|sec_app_mths_since_last_major_derog|hardship_flag|hardship_type|hardship_reason|hardship_status|deferral_term|hardship_amount|hardship_start_date|hardship_end_date|payment_plan_start_date|hardship_length|hardship_dpd|hardship_loan_status|orig_projected_additional_accrued_interest|hardship_payoff_balance_amount|hardship_last_payment_amount|disbursement_method|debt_settlement_flag|debt_settlement_flag_date|settlement_status|settlement_date|settlement_amount|settlement_percentage|settlement_term|           name_sha2|\n",
       "+--------------------+---------+---------+-----------+---------------+----+--------+-----------+-----+---------+---------+----------+--------------+----------+-------------------+-------+-----------+----------+----+----+-------+-----+--------+----------+----+-----------+----------------+--------------+---------------+--------------+----------------------+----------------------+--------+-------+---------+----------+---------+-------------------+---------+-------------+-----------+---------------+---------------+-------------+------------------+----------+-----------------------+------------+---------------+------------+------------------+--------------------+-------------------+--------------------------+---------------------------+-----------+----------------+----------------+---------+-------------------------+--------------+------------+-----------+-----------+-----------+-----------+-----------+------------------+------------+-------+-----------+-----------+----------+--------+----------------+------+-----------+------------+--------------------+-----------+--------------+-------+------------------------+-----------+------------------+--------------------+---------------------+--------------+--------+--------------------+------------------------+---------------------+------------------------------+---------------------+--------------+---------------+-----------+---------+---------+-------------+-------------+-------------------+--------+----------------+------------+------------------+------------------+--------------+----------------+--------------------+---------+---------------+-----------------+--------------+--------------------------+---------------+----------------------+-----------------------+------------------------+----------------------+----------------+----------------+------------------+-------------------+---------------------+--------------------------------+----------------------------------+-----------------------------------+-------------+-------------+---------------+---------------+-------------+---------------+-------------------+-----------------+-----------------------+---------------+------------+--------------------+------------------------------------------+------------------------------+----------------------------+-------------------+--------------------+-------------------------+-----------------+---------------+-----------------+---------------------+---------------+--------------------+\n",
       "|Total amount fund...|     null|     null|       null|           null|null|    null|       null| null|     null|     null|      null|          null|      null|               null|   null|       null|      null|null|null|   null| null|    null|      null|null|       null|            null|          null|           null|          null|                  null|                  null|    null|   null|     null|      null|     null|               null|     null|         null|       null|           null|           null|         null|              null|      null|                   null|        null|           null|        null|              null|                null|               null|                      null|                       null|       null|            null|            null|     null|                     null|          null|        null|       null|       null|       null|       null|       null|              null|        null|   null|       null|       null|      null|    null|            null|  null|       null|        null|                null|       null|          null|   null|                    null|       null|              null|                null|                 null|          null|    null|                null|                    null|                 null|                          null|                 null|          null|           null|       null|     null|     null|         null|         null|               null|    null|            null|        null|              null|              null|          null|            null|                null|     null|           null|             null|          null|                      null|           null|                  null|                   null|                    null|                  null|            null|            null|              null|               null|                 null|                            null|                              null|                               null|         null|         null|           null|           null|         null|           null|               null|             null|                   null|           null|        null|                null|                                      null|                          null|                        null|               null|                null|                     null|             null|           null|             null|                 null|           null|e3b0c44298fc1c149...|\n",
       "|Total amount fund...|     null|     null|       null|           null|null|    null|       null| null|     null|     null|      null|          null|      null|               null|   null|       null|      null|null|null|   null| null|    null|      null|null|       null|            null|          null|           null|          null|                  null|                  null|    null|   null|     null|      null|     null|               null|     null|         null|       null|           null|           null|         null|              null|      null|                   null|        null|           null|        null|              null|                null|               null|                      null|                       null|       null|            null|            null|     null|                     null|          null|        null|       null|       null|       null|       null|       null|              null|        null|   null|       null|       null|      null|    null|            null|  null|       null|        null|                null|       null|          null|   null|                    null|       null|              null|                null|                 null|          null|    null|                null|                    null|                 null|                          null|                 null|          null|           null|       null|     null|     null|         null|         null|               null|    null|            null|        null|              null|              null|          null|            null|                null|     null|           null|             null|          null|                      null|           null|                  null|                   null|                    null|                  null|            null|            null|              null|               null|                 null|                            null|                              null|                               null|         null|         null|           null|           null|         null|           null|               null|             null|                   null|           null|        null|                null|                                      null|                          null|                        null|               null|                null|                     null|             null|           null|             null|                 null|           null|e3b0c44298fc1c149...|\n",
       "|Total amount fund...|     null|     null|       null|           null|null|    null|       null| null|     null|     null|      null|          null|      null|               null|   null|       null|      null|null|null|   null| null|    null|      null|null|       null|            null|          null|           null|          null|                  null|                  null|    null|   null|     null|      null|     null|               null|     null|         null|       null|           null|           null|         null|              null|      null|                   null|        null|           null|        null|              null|                null|               null|                      null|                       null|       null|            null|            null|     null|                     null|          null|        null|       null|       null|       null|       null|       null|              null|        null|   null|       null|       null|      null|    null|            null|  null|       null|        null|                null|       null|          null|   null|                    null|       null|              null|                null|                 null|          null|    null|                null|                    null|                 null|                          null|                 null|          null|           null|       null|     null|     null|         null|         null|               null|    null|            null|        null|              null|              null|          null|            null|                null|     null|           null|             null|          null|                      null|           null|                  null|                   null|                    null|                  null|            null|            null|              null|               null|                 null|                            null|                              null|                               null|         null|         null|           null|           null|         null|           null|               null|             null|                   null|           null|        null|                null|                                      null|                          null|                        null|               null|                null|                     null|             null|           null|             null|                 null|           null|e3b0c44298fc1c149...|\n",
       "|Total amount fund...|     null|     null|       null|           null|null|    null|       null| null|     null|     null|      null|          null|      null|               null|   null|       null|      null|null|null|   null| null|    null|      null|null|       null|            null|          null|           null|          null|                  null|                  null|    null|   null|     null|      null|     null|               null|     null|         null|       null|           null|           null|         null|              null|      null|                   null|        null|           null|        null|              null|                null|               null|                      null|                       null|       null|            null|            null|     null|                     null|          null|        null|       null|       null|       null|       null|       null|              null|        null|   null|       null|       null|      null|    null|            null|  null|       null|        null|                null|       null|          null|   null|                    null|       null|              null|                null|                 null|          null|    null|                null|                    null|                 null|                          null|                 null|          null|           null|       null|     null|     null|         null|         null|               null|    null|            null|        null|              null|              null|          null|            null|                null|     null|           null|             null|          null|                      null|           null|                  null|                   null|                    null|                  null|            null|            null|              null|               null|                 null|                            null|                              null|                               null|         null|         null|           null|           null|         null|           null|               null|             null|                   null|           null|        null|                null|                                      null|                          null|                        null|               null|                null|                     null|             null|           null|             null|                 null|           null|e3b0c44298fc1c149...|\n",
       "|Total amount fund...|     null|     null|       null|           null|null|    null|       null| null|     null|     null|      null|          null|      null|               null|   null|       null|      null|null|null|   null| null|    null|      null|null|       null|            null|          null|           null|          null|                  null|                  null|    null|   null|     null|      null|     null|               null|     null|         null|       null|           null|           null|         null|              null|      null|                   null|        null|           null|        null|              null|                null|               null|                      null|                       null|       null|            null|            null|     null|                     null|          null|        null|       null|       null|       null|       null|       null|              null|        null|   null|       null|       null|      null|    null|            null|  null|       null|        null|                null|       null|          null|   null|                    null|       null|              null|                null|                 null|          null|    null|                null|                    null|                 null|                          null|                 null|          null|           null|       null|     null|     null|         null|         null|               null|    null|            null|        null|              null|              null|          null|            null|                null|     null|           null|             null|          null|                      null|           null|                  null|                   null|                    null|                  null|            null|            null|              null|               null|                 null|                            null|                              null|                               null|         null|         null|           null|           null|         null|           null|               null|             null|                   null|           null|        null|                null|                                      null|                          null|                        null|               null|                null|                     null|             null|           null|             null|                 null|           null|e3b0c44298fc1c149...|\n",
       "|Total amount fund...|     null|     null|       null|           null|null|    null|       null| null|     null|     null|      null|          null|      null|               null|   null|       null|      null|null|null|   null| null|    null|      null|null|       null|            null|          null|           null|          null|                  null|                  null|    null|   null|     null|      null|     null|               null|     null|         null|       null|           null|           null|         null|              null|      null|                   null|        null|           null|        null|              null|                null|               null|                      null|                       null|       null|            null|            null|     null|                     null|          null|        null|       null|       null|       null|       null|       null|              null|        null|   null|       null|       null|      null|    null|            null|  null|       null|        null|                null|       null|          null|   null|                    null|       null|              null|                null|                 null|          null|    null|                null|                    null|                 null|                          null|                 null|          null|           null|       null|     null|     null|         null|         null|               null|    null|            null|        null|              null|              null|          null|            null|                null|     null|           null|             null|          null|                      null|           null|                  null|                   null|                    null|                  null|            null|            null|              null|               null|                 null|                            null|                              null|                               null|         null|         null|           null|           null|         null|           null|               null|             null|                   null|           null|        null|                null|                                      null|                          null|                        null|               null|                null|                     null|             null|           null|             null|                 null|           null|e3b0c44298fc1c149...|\n",
       "|Total amount fund...|     null|     null|       null|           null|null|    null|       null| null|     null|     null|      null|          null|      null|               null|   null|       null|      null|null|null|   null| null|    null|      null|null|       null|            null|          null|           null|          null|                  null|                  null|    null|   null|     null|      null|     null|               null|     null|         null|       null|           null|           null|         null|              null|      null|                   null|        null|           null|        null|              null|                null|               null|                      null|                       null|       null|            null|            null|     null|                     null|          null|        null|       null|       null|       null|       null|       null|              null|        null|   null|       null|       null|      null|    null|            null|  null|       null|        null|                null|       null|          null|   null|                    null|       null|              null|                null|                 null|          null|    null|                null|                    null|                 null|                          null|                 null|          null|           null|       null|     null|     null|         null|         null|               null|    null|            null|        null|              null|              null|          null|            null|                null|     null|           null|             null|          null|                      null|           null|                  null|                   null|                    null|                  null|            null|            null|              null|               null|                 null|                            null|                              null|                               null|         null|         null|           null|           null|         null|           null|               null|             null|                   null|           null|        null|                null|                                      null|                          null|                        null|               null|                null|                     null|             null|           null|             null|                 null|           null|e3b0c44298fc1c149...|\n",
       "|Total amount fund...|     null|     null|       null|           null|null|    null|       null| null|     null|     null|      null|          null|      null|               null|   null|       null|      null|null|null|   null| null|    null|      null|null|       null|            null|          null|           null|          null|                  null|                  null|    null|   null|     null|      null|     null|               null|     null|         null|       null|           null|           null|         null|              null|      null|                   null|        null|           null|        null|              null|                null|               null|                      null|                       null|       null|            null|            null|     null|                     null|          null|        null|       null|       null|       null|       null|       null|              null|        null|   null|       null|       null|      null|    null|            null|  null|       null|        null|                null|       null|          null|   null|                    null|       null|              null|                null|                 null|          null|    null|                null|                    null|                 null|                          null|                 null|          null|           null|       null|     null|     null|         null|         null|               null|    null|            null|        null|              null|              null|          null|            null|                null|     null|           null|             null|          null|                      null|           null|                  null|                   null|                    null|                  null|            null|            null|              null|               null|                 null|                            null|                              null|                               null|         null|         null|           null|           null|         null|           null|               null|             null|                   null|           null|        null|                null|                                      null|                          null|                        null|               null|                null|                     null|             null|           null|             null|                 null|           null|e3b0c44298fc1c149...|\n",
       "|Total amount fund...|     null|     null|       null|           null|null|    null|       null| null|     null|     null|      null|          null|      null|               null|   null|       null|      null|null|null|   null| null|    null|      null|null|       null|            null|          null|           null|          null|                  null|                  null|    null|   null|     null|      null|     null|               null|     null|         null|       null|           null|           null|         null|              null|      null|                   null|        null|           null|        null|              null|                null|               null|                      null|                       null|       null|            null|            null|     null|                     null|          null|        null|       null|       null|       null|       null|       null|              null|        null|   null|       null|       null|      null|    null|            null|  null|       null|        null|                null|       null|          null|   null|                    null|       null|              null|                null|                 null|          null|    null|                null|                    null|                 null|                          null|                 null|          null|           null|       null|     null|     null|         null|         null|               null|    null|            null|        null|              null|              null|          null|            null|                null|     null|           null|             null|          null|                      null|           null|                  null|                   null|                    null|                  null|            null|            null|              null|               null|                 null|                            null|                              null|                               null|         null|         null|           null|           null|         null|           null|               null|             null|                   null|           null|        null|                null|                                      null|                          null|                        null|               null|                null|                     null|             null|           null|             null|                 null|           null|e3b0c44298fc1c149...|\n",
       "|Total amount fund...|     null|     null|       null|           null|null|    null|       null| null|     null|     null|      null|          null|      null|               null|   null|       null|      null|null|null|   null| null|    null|      null|null|       null|            null|          null|           null|          null|                  null|                  null|    null|   null|     null|      null|     null|               null|     null|         null|       null|           null|           null|         null|              null|      null|                   null|        null|           null|        null|              null|                null|               null|                      null|                       null|       null|            null|            null|     null|                     null|          null|        null|       null|       null|       null|       null|       null|              null|        null|   null|       null|       null|      null|    null|            null|  null|       null|        null|                null|       null|          null|   null|                    null|       null|              null|                null|                 null|          null|    null|                null|                    null|                 null|                          null|                 null|          null|           null|       null|     null|     null|         null|         null|               null|    null|            null|        null|              null|              null|          null|            null|                null|     null|           null|             null|          null|                      null|           null|                  null|                   null|                    null|                  null|            null|            null|              null|               null|                 null|                            null|                              null|                               null|         null|         null|           null|           null|         null|           null|               null|             null|                   null|           null|        null|                null|                                      null|                          null|                        null|               null|                null|                     null|             null|           null|             null|                 null|           null|e3b0c44298fc1c149...|\n",
       "|Total amount fund...|     null|     null|       null|           null|null|    null|       null| null|     null|     null|      null|          null|      null|               null|   null|       null|      null|null|null|   null| null|    null|      null|null|       null|            null|          null|           null|          null|                  null|                  null|    null|   null|     null|      null|     null|               null|     null|         null|       null|           null|           null|         null|              null|      null|                   null|        null|           null|        null|              null|                null|               null|                      null|                       null|       null|            null|            null|     null|                     null|          null|        null|       null|       null|       null|       null|       null|              null|        null|   null|       null|       null|      null|    null|            null|  null|       null|        null|                null|       null|          null|   null|                    null|       null|              null|                null|                 null|          null|    null|                null|                    null|                 null|                          null|                 null|          null|           null|       null|     null|     null|         null|         null|               null|    null|            null|        null|              null|              null|          null|            null|                null|     null|           null|             null|          null|                      null|           null|                  null|                   null|                    null|                  null|            null|            null|              null|               null|                 null|                            null|                              null|                               null|         null|         null|           null|           null|         null|           null|               null|             null|                   null|           null|        null|                null|                                      null|                          null|                        null|               null|                null|                     null|             null|           null|             null|                 null|           null|e3b0c44298fc1c149...|\n",
       "|Total amount fund...|     null|     null|       null|           null|null|    null|       null| null|     null|     null|      null|          null|      null|               null|   null|       null|      null|null|null|   null| null|    null|      null|null|       null|            null|          null|           null|          null|                  null|                  null|    null|   null|     null|      null|     null|               null|     null|         null|       null|           null|           null|         null|              null|      null|                   null|        null|           null|        null|              null|                null|               null|                      null|                       null|       null|            null|            null|     null|                     null|          null|        null|       null|       null|       null|       null|       null|              null|        null|   null|       null|       null|      null|    null|            null|  null|       null|        null|                null|       null|          null|   null|                    null|       null|              null|                null|                 null|          null|    null|                null|                    null|                 null|                          null|                 null|          null|           null|       null|     null|     null|         null|         null|               null|    null|            null|        null|              null|              null|          null|            null|                null|     null|           null|             null|          null|                      null|           null|                  null|                   null|                    null|                  null|            null|            null|              null|               null|                 null|                            null|                              null|                               null|         null|         null|           null|           null|         null|           null|               null|             null|                   null|           null|        null|                null|                                      null|                          null|                        null|               null|                null|                     null|             null|           null|             null|                 null|           null|e3b0c44298fc1c149...|\n",
       "|Total amount fund...|     null|     null|       null|           null|null|    null|       null| null|     null|     null|      null|          null|      null|               null|   null|       null|      null|null|null|   null| null|    null|      null|null|       null|            null|          null|           null|          null|                  null|                  null|    null|   null|     null|      null|     null|               null|     null|         null|       null|           null|           null|         null|              null|      null|                   null|        null|           null|        null|              null|                null|               null|                      null|                       null|       null|            null|            null|     null|                     null|          null|        null|       null|       null|       null|       null|       null|              null|        null|   null|       null|       null|      null|    null|            null|  null|       null|        null|                null|       null|          null|   null|                    null|       null|              null|                null|                 null|          null|    null|                null|                    null|                 null|                          null|                 null|          null|           null|       null|     null|     null|         null|         null|               null|    null|            null|        null|              null|              null|          null|            null|                null|     null|           null|             null|          null|                      null|           null|                  null|                   null|                    null|                  null|            null|            null|              null|               null|                 null|                            null|                              null|                               null|         null|         null|           null|           null|         null|           null|               null|             null|                   null|           null|        null|                null|                                      null|                          null|                        null|               null|                null|                     null|             null|           null|             null|                 null|           null|e3b0c44298fc1c149...|\n",
       "|Total amount fund...|     null|     null|       null|           null|null|    null|       null| null|     null|     null|      null|          null|      null|               null|   null|       null|      null|null|null|   null| null|    null|      null|null|       null|            null|          null|           null|          null|                  null|                  null|    null|   null|     null|      null|     null|               null|     null|         null|       null|           null|           null|         null|              null|      null|                   null|        null|           null|        null|              null|                null|               null|                      null|                       null|       null|            null|            null|     null|                     null|          null|        null|       null|       null|       null|       null|       null|              null|        null|   null|       null|       null|      null|    null|            null|  null|       null|        null|                null|       null|          null|   null|                    null|       null|              null|                null|                 null|          null|    null|                null|                    null|                 null|                          null|                 null|          null|           null|       null|     null|     null|         null|         null|               null|    null|            null|        null|              null|              null|          null|            null|                null|     null|           null|             null|          null|                      null|           null|                  null|                   null|                    null|                  null|            null|            null|              null|               null|                 null|                            null|                              null|                               null|         null|         null|           null|           null|         null|           null|               null|             null|                   null|           null|        null|                null|                                      null|                          null|                        null|               null|                null|                     null|             null|           null|             null|                 null|           null|e3b0c44298fc1c149...|\n",
       "|Total amount fund...|     null|     null|       null|           null|null|    null|       null| null|     null|     null|      null|          null|      null|               null|   null|       null|      null|null|null|   null| null|    null|      null|null|       null|            null|          null|           null|          null|                  null|                  null|    null|   null|     null|      null|     null|               null|     null|         null|       null|           null|           null|         null|              null|      null|                   null|        null|           null|        null|              null|                null|               null|                      null|                       null|       null|            null|            null|     null|                     null|          null|        null|       null|       null|       null|       null|       null|              null|        null|   null|       null|       null|      null|    null|            null|  null|       null|        null|                null|       null|          null|   null|                    null|       null|              null|                null|                 null|          null|    null|                null|                    null|                 null|                          null|                 null|          null|           null|       null|     null|     null|         null|         null|               null|    null|            null|        null|              null|              null|          null|            null|                null|     null|           null|             null|          null|                      null|           null|                  null|                   null|                    null|                  null|            null|            null|              null|               null|                 null|                            null|                              null|                               null|         null|         null|           null|           null|         null|           null|               null|             null|                   null|           null|        null|                null|                                      null|                          null|                        null|               null|                null|                     null|             null|           null|             null|                 null|           null|e3b0c44298fc1c149...|\n",
       "|Total amount fund...|     null|     null|       null|           null|null|    null|       null| null|     null|     null|      null|          null|      null|               null|   null|       null|      null|null|null|   null| null|    null|      null|null|       null|            null|          null|           null|          null|                  null|                  null|    null|   null|     null|      null|     null|               null|     null|         null|       null|           null|           null|         null|              null|      null|                   null|        null|           null|        null|              null|                null|               null|                      null|                       null|       null|            null|            null|     null|                     null|          null|        null|       null|       null|       null|       null|       null|              null|        null|   null|       null|       null|      null|    null|            null|  null|       null|        null|                null|       null|          null|   null|                    null|       null|              null|                null|                 null|          null|    null|                null|                    null|                 null|                          null|                 null|          null|           null|       null|     null|     null|         null|         null|               null|    null|            null|        null|              null|              null|          null|            null|                null|     null|           null|             null|          null|                      null|           null|                  null|                   null|                    null|                  null|            null|            null|              null|               null|                 null|                            null|                              null|                               null|         null|         null|           null|           null|         null|           null|               null|             null|                   null|           null|        null|                null|                                      null|                          null|                        null|               null|                null|                     null|             null|           null|             null|                 null|           null|e3b0c44298fc1c149...|\n",
       "|Total amount fund...|     null|     null|       null|           null|null|    null|       null| null|     null|     null|      null|          null|      null|               null|   null|       null|      null|null|null|   null| null|    null|      null|null|       null|            null|          null|           null|          null|                  null|                  null|    null|   null|     null|      null|     null|               null|     null|         null|       null|           null|           null|         null|              null|      null|                   null|        null|           null|        null|              null|                null|               null|                      null|                       null|       null|            null|            null|     null|                     null|          null|        null|       null|       null|       null|       null|       null|              null|        null|   null|       null|       null|      null|    null|            null|  null|       null|        null|                null|       null|          null|   null|                    null|       null|              null|                null|                 null|          null|    null|                null|                    null|                 null|                          null|                 null|          null|           null|       null|     null|     null|         null|         null|               null|    null|            null|        null|              null|              null|          null|            null|                null|     null|           null|             null|          null|                      null|           null|                  null|                   null|                    null|                  null|            null|            null|              null|               null|                 null|                            null|                              null|                               null|         null|         null|           null|           null|         null|           null|               null|             null|                   null|           null|        null|                null|                                      null|                          null|                        null|               null|                null|                     null|             null|           null|             null|                 null|           null|e3b0c44298fc1c149...|\n",
       "|Total amount fund...|     null|     null|       null|           null|null|    null|       null| null|     null|     null|      null|          null|      null|               null|   null|       null|      null|null|null|   null| null|    null|      null|null|       null|            null|          null|           null|          null|                  null|                  null|    null|   null|     null|      null|     null|               null|     null|         null|       null|           null|           null|         null|              null|      null|                   null|        null|           null|        null|              null|                null|               null|                      null|                       null|       null|            null|            null|     null|                     null|          null|        null|       null|       null|       null|       null|       null|              null|        null|   null|       null|       null|      null|    null|            null|  null|       null|        null|                null|       null|          null|   null|                    null|       null|              null|                null|                 null|          null|    null|                null|                    null|                 null|                          null|                 null|          null|           null|       null|     null|     null|         null|         null|               null|    null|            null|        null|              null|              null|          null|            null|                null|     null|           null|             null|          null|                      null|           null|                  null|                   null|                    null|                  null|            null|            null|              null|               null|                 null|                            null|                              null|                               null|         null|         null|           null|           null|         null|           null|               null|             null|                   null|           null|        null|                null|                                      null|                          null|                        null|               null|                null|                     null|             null|           null|             null|                 null|           null|e3b0c44298fc1c149...|\n",
       "|Total amount fund...|     null|     null|       null|           null|null|    null|       null| null|     null|     null|      null|          null|      null|               null|   null|       null|      null|null|null|   null| null|    null|      null|null|       null|            null|          null|           null|          null|                  null|                  null|    null|   null|     null|      null|     null|               null|     null|         null|       null|           null|           null|         null|              null|      null|                   null|        null|           null|        null|              null|                null|               null|                      null|                       null|       null|            null|            null|     null|                     null|          null|        null|       null|       null|       null|       null|       null|              null|        null|   null|       null|       null|      null|    null|            null|  null|       null|        null|                null|       null|          null|   null|                    null|       null|              null|                null|                 null|          null|    null|                null|                    null|                 null|                          null|                 null|          null|           null|       null|     null|     null|         null|         null|               null|    null|            null|        null|              null|              null|          null|            null|                null|     null|           null|             null|          null|                      null|           null|                  null|                   null|                    null|                  null|            null|            null|              null|               null|                 null|                            null|                              null|                               null|         null|         null|           null|           null|         null|           null|               null|             null|                   null|           null|        null|                null|                                      null|                          null|                        null|               null|                null|                     null|             null|           null|             null|                 null|           null|e3b0c44298fc1c149...|\n",
       "|Total amount fund...|     null|     null|       null|           null|null|    null|       null| null|     null|     null|      null|          null|      null|               null|   null|       null|      null|null|null|   null| null|    null|      null|null|       null|            null|          null|           null|          null|                  null|                  null|    null|   null|     null|      null|     null|               null|     null|         null|       null|           null|           null|         null|              null|      null|                   null|        null|           null|        null|              null|                null|               null|                      null|                       null|       null|            null|            null|     null|                     null|          null|        null|       null|       null|       null|       null|       null|              null|        null|   null|       null|       null|      null|    null|            null|  null|       null|        null|                null|       null|          null|   null|                    null|       null|              null|                null|                 null|          null|    null|                null|                    null|                 null|                          null|                 null|          null|           null|       null|     null|     null|         null|         null|               null|    null|            null|        null|              null|              null|          null|            null|                null|     null|           null|             null|          null|                      null|           null|                  null|                   null|                    null|                  null|            null|            null|              null|               null|                 null|                            null|                              null|                               null|         null|         null|           null|           null|         null|           null|               null|             null|                   null|           null|        null|                null|                                      null|                          null|                        null|               null|                null|                     null|             null|           null|             null|                 null|           null|e3b0c44298fc1c149...|\n",
       "+--------------------+---------+---------+-----------+---------------+----+--------+-----------+-----+---------+---------+----------+--------------+----------+-------------------+-------+-----------+----------+----+----+-------+-----+--------+----------+----+-----------+----------------+--------------+---------------+--------------+----------------------+----------------------+--------+-------+---------+----------+---------+-------------------+---------+-------------+-----------+---------------+---------------+-------------+------------------+----------+-----------------------+------------+---------------+------------+------------------+--------------------+-------------------+--------------------------+---------------------------+-----------+----------------+----------------+---------+-------------------------+--------------+------------+-----------+-----------+-----------+-----------+-----------+------------------+------------+-------+-----------+-----------+----------+--------+----------------+------+-----------+------------+--------------------+-----------+--------------+-------+------------------------+-----------+------------------+--------------------+---------------------+--------------+--------+--------------------+------------------------+---------------------+------------------------------+---------------------+--------------+---------------+-----------+---------+---------+-------------+-------------+-------------------+--------+----------------+------------+------------------+------------------+--------------+----------------+--------------------+---------+---------------+-----------------+--------------+--------------------------+---------------+----------------------+-----------------------+------------------------+----------------------+----------------+----------------+------------------+-------------------+---------------------+--------------------------------+----------------------------------+-----------------------------------+-------------+-------------+---------------+---------------+-------------+---------------+-------------------+-----------------+-----------------------+---------------+------------+--------------------+------------------------------------------+------------------------------+----------------------------+-------------------+--------------------+-------------------------+-----------------+---------------+-----------------+---------------------+---------------+--------------------+\n",
       "only showing top 20 rows"
      ]
     },
     "execution_count": 19,
     "metadata": {},
     "output_type": "execute_result"
    }
   ],
   "source": [
    "spark.sql(\"select * from newtable where name_sha2 LIKE 'e3b0c44298fc1c149%' \") \n",
    "#we can see this is repeating 33 times so the records are more and even all are nulls making this as exception we can drop this  "
   ]
  },
  {
   "cell_type": "markdown",
   "id": "0f977605",
   "metadata": {},
   "source": [
    "1 Since we are creating 4 different files from 1.7 GB file thus we need to separate these cols as well as per the filename mentioned\n",
    "\n",
    "1) customers data (borrowers) \n",
    " \n",
    "  member_id,emp_title,emp_length,home_ownership,annual_inc,addr_state,zip_code,country,grade,sub_grade,verification_status,tot_hi_cred_limit,\n",
    "  application_type,annual_inc_joint,verification_status_joint\n",
    "\n",
    "2) loans data \n",
    "  \n",
    "  loan_id,member_id,loan_amnt,funded_amnt,term,int_rate,installment,issue_d,loan_status,purpose,title\n",
    "\n",
    "3) loan_repayments \n",
    "  \n",
    "  loan_id,total_rec_prncp,total_rec_int,total_rec_late_fee,total_pymnt,last_pymnt_amnt,last_pymnt_d,next_pymnt_d\n",
    "\n",
    "4) loan_defaulters\n",
    "  \n",
    "  member_id,delinq_2yrs,delinq_amnt,pub_rec_bankruptcies,inq_last_6mths,total_rec_late_fee,mths_since_last_delinq,mths_since_last_record\n",
    "  \n",
    "2 Creating a separate file for these cols below\n",
    "  "
   ]
  },
  {
   "cell_type": "code",
   "execution_count": 20,
   "id": "6ecbd2ca",
   "metadata": {},
   "outputs": [],
   "source": [
    "spark.sql(\"\"\"select \n",
    "name_sha2 as member_id, emp_title, emp_length, home_ownership, annual_inc, addr_state, zip_code,\n",
    "'USA' as country, grade, sub_grade, verification_status, tot_hi_cred_lim,\n",
    "application_type, annual_inc_joint, verification_status_joint\n",
    "from newtable\n",
    "      \"\"\").repartition(1).write.option(\"header\",True)\\\n",
    ".format(\"csv\").mode(\"overwrite\").option(\"path\",\"/user/itv012010/lendingclubproject/raw/customers_data_csv\").save() #savings file in csv format \n",
    "\n",
    "#while making a single partition we can make use of coalesce as well but since we are drastically reducing cols so repartition is recommended "
   ]
  },
  {
   "cell_type": "code",
   "execution_count": 21,
   "id": "c778f168",
   "metadata": {},
   "outputs": [
    {
     "name": "stdout",
     "output_type": "stream",
     "text": [
      "+--------------------+------------------+----------+--------------+----------+----------+--------+-------+-----+---------+-------------------+---------------+----------------+----------------+-------------------------+\n",
      "|           member_id|         emp_title|emp_length|home_ownership|annual_inc|addr_state|zip_code|country|grade|sub_grade|verification_status|tot_hi_cred_lim|application_type|annual_inc_joint|verification_status_joint|\n",
      "+--------------------+------------------+----------+--------------+----------+----------+--------+-------+-----+---------+-------------------+---------------+----------------+----------------+-------------------------+\n",
      "|a4ec00ba67fadf2fe...|Executive Director|  < 1 year|      MORTGAGE|   81000.0|        PA|   152xx|    USA|    C|       C5|           Verified|       229529.0|      Individual|            null|                     null|\n",
      "+--------------------+------------------+----------+--------------+----------+----------+--------+-------+-----+---------+-------------------+---------------+----------------+----------------+-------------------------+\n",
      "only showing top 1 row\n",
      "\n"
     ]
    }
   ],
   "source": [
    "customers_df=spark.read.format(\"csv\").option(\"header\",True).load(\"/user/itv012010/lendingclubproject/raw/customers_data_csv\").show(1) #we can see data is present"
   ]
  },
  {
   "cell_type": "code",
   "execution_count": 22,
   "id": "5f9da995",
   "metadata": {},
   "outputs": [],
   "source": [
    "spark.sql(\"\"\"select \n",
    "id as loan_id, name_sha2 as member_id, loan_amnt, funded_amnt, term, int_rate, installment, issue_d, loan_status, purpose, title\n",
    "     from newtable  \"\"\").repartition(1).write.option(\"header\",True)\\\n",
    ".format(\"csv\").mode(\"overwrite\").option(\"path\",\"/user/itv012010/lendingclubproject/raw/loans_data_csv\").save() #savings file in csv format \n",
    "\n",
    "#while making a single partition we can make use of coalesce as well but since we are drastically reducing cols so repartition is recommended "
   ]
  },
  {
   "cell_type": "code",
   "execution_count": 75,
   "id": "9d59c410",
   "metadata": {},
   "outputs": [
    {
     "name": "stdout",
     "output_type": "stream",
     "text": [
      "+--------+--------------------+---------+-----------+---------+--------+-----------+--------+-----------+------------------+------------------+\n",
      "| loan_id|           member_id|loan_amnt|funded_amnt|     term|int_rate|installment| issue_d|loan_status|           purpose|             title|\n",
      "+--------+--------------------+---------+-----------+---------+--------+-----------+--------+-----------+------------------+------------------+\n",
      "|94761152|1ae08eb0c074de6fb...|  26975.0|    26975.0|60 months|   30.84|     886.71|Dec-2016| Fully Paid|debt_consolidation|Debt consolidation|\n",
      "+--------+--------------------+---------+-----------+---------+--------+-----------+--------+-----------+------------------+------------------+\n",
      "only showing top 1 row\n",
      "\n"
     ]
    }
   ],
   "source": [
    "loan_df=spark.read.format(\"csv\").option(\"header\",True).load(\"/user/itv012010/lendingclubproject/raw/loans_data_csv\").show(1) #loan df is ready"
   ]
  },
  {
   "cell_type": "code",
   "execution_count": 128,
   "id": "9e5aee0b",
   "metadata": {},
   "outputs": [],
   "source": [
    "spark.sql(\"\"\"select id as loan_id,total_rec_prncp,total_rec_int,total_rec_late_fee,total_pymnt,last_pymnt_amnt,last_pymnt_d,next_pymnt_d\n",
    "from newtable\n",
    "      \"\"\").repartition(1).write\\\n",
    ".option(\"header\",True).format(\"csv\").mode(\"overwrite\").option(\"path\",\"/user/itv012010/lendingclubproject/raw/loans_repayment_csv\").save() #saving it "
   ]
  },
  {
   "cell_type": "code",
   "execution_count": 129,
   "id": "60069d9e",
   "metadata": {},
   "outputs": [
    {
     "name": "stdout",
     "output_type": "stream",
     "text": [
      "+--------+---------------+-------------+------------------+-----------+---------------+------------+------------+\n",
      "| loan_id|total_rec_prncp|total_rec_int|total_rec_late_fee|total_pymnt|last_pymnt_amnt|last_pymnt_d|next_pymnt_d|\n",
      "+--------+---------------+-------------+------------------+-----------+---------------+------------+------------+\n",
      "|69642551|        3246.03|       990.53|               0.0|    4965.02|         326.35|    Feb-2017|        null|\n",
      "+--------+---------------+-------------+------------------+-----------+---------------+------------+------------+\n",
      "only showing top 1 row\n",
      "\n"
     ]
    }
   ],
   "source": [
    "loans_repayment_df=spark.read.format(\"csv\").option(\"header\",True).load(\"/user/itv012010/lendingclubproject/raw/loans_repayment_csv\").show(1) #data is ready "
   ]
  },
  {
   "cell_type": "code",
   "execution_count": 23,
   "id": "03cbc5bb",
   "metadata": {},
   "outputs": [],
   "source": [
    "spark.sql(\"\"\"select name_sha2 as member_id, delinq_2yrs, delinq_amnt, pub_rec,pub_rec_bankruptcies, inq_last_6mths, total_rec_late_fee, \n",
    "mths_since_last_delinq, mths_since_last_record\n",
    "from newtable\n",
    "      \"\"\").repartition(1).write\\\n",
    ".mode(\"overwrite\").format(\"csv\").option(\"header\",True).option(\"path\",\"/user/itv012010/lendingclubproject/raw/loans_defaulters_csv\").save() #saving it "
   ]
  },
  {
   "cell_type": "code",
   "execution_count": 137,
   "id": "f94ccbea",
   "metadata": {},
   "outputs": [
    {
     "name": "stdout",
     "output_type": "stream",
     "text": [
      "+--------------------+-----------+-----------+--------------------+--------------+------------------+----------------------+----------------------+\n",
      "|           member_id|delinq_2yrs|delinq_amnt|pub_rec_bankruptcies|inq_last_6mths|total_rec_late_fee|mths_since_last_delinq|mths_since_last_record|\n",
      "+--------------------+-----------+-----------+--------------------+--------------+------------------+----------------------+----------------------+\n",
      "|2209556c19f75a204...|        0.0|        0.0|                 1.0|           0.0|               0.0|                  null|                  65.0|\n",
      "+--------------------+-----------+-----------+--------------------+--------------+------------------+----------------------+----------------------+\n",
      "only showing top 1 row\n",
      "\n"
     ]
    }
   ],
   "source": [
    "loans_defaulters_df=spark.read.format(\"csv\").option(\"header\",True).load(\"/user/itv012010/lendingclubproject/raw/loans_defaulters_csv\").show(1)"
   ]
  },
  {
   "cell_type": "markdown",
   "id": "6ceac259",
   "metadata": {},
   "source": [
    "Cleaning of Data is required\n",
    "\n",
    "For Customers_data\n",
    "\n",
    "1. Create a dataframe with proper datatypes (modify schema)\n",
    "2. Rename a few columns \n",
    "   annual_inc -> annual_income\n",
    "   addr_state -> address_state\n",
    "   zip_cod    -> address_zipcode\n",
    "   country    -> address_country\n",
    "   tot_hi_cred_lim -> total_high_credit_limit\n",
    "   annual_inc_joint -> join_annual_income\n",
    "3. insert a new column names ingestion date (current time)\n",
    "4. remove complete duplicate rows\n",
    "5. remove rows where annual_income is null\n",
    "6. convert emp_length to integer\n",
    "7. we need to replace all the nulls in emp_length column with average of this column\n",
    "8. clean the address_state (it should be 2 characters only), replace all others with NA\n",
    "\n",
    "write the cleaned data in cleaned folder in HDFS "
   ]
  },
  {
   "cell_type": "code",
   "execution_count": 125,
   "id": "dc7934a4",
   "metadata": {},
   "outputs": [],
   "source": [
    "customers_raw_df=spark.read.format(\"csv\").option(\"inferSchema\",True).option(\"header\",True).load(\"/user/itv012010/lendingclubproject/raw/customers_data_csv\")"
   ]
  },
  {
   "cell_type": "code",
   "execution_count": 126,
   "id": "361bc0f0",
   "metadata": {},
   "outputs": [
    {
     "name": "stdout",
     "output_type": "stream",
     "text": [
      "root\n",
      " |-- member_id: string (nullable = true)\n",
      " |-- emp_title: string (nullable = true)\n",
      " |-- emp_length: string (nullable = true)\n",
      " |-- home_ownership: string (nullable = true)\n",
      " |-- annual_inc: string (nullable = true)\n",
      " |-- addr_state: string (nullable = true)\n",
      " |-- zip_code: string (nullable = true)\n",
      " |-- country: string (nullable = true)\n",
      " |-- grade: string (nullable = true)\n",
      " |-- sub_grade: string (nullable = true)\n",
      " |-- verification_status: string (nullable = true)\n",
      " |-- tot_hi_cred_lim: double (nullable = true)\n",
      " |-- application_type: string (nullable = true)\n",
      " |-- annual_inc_joint: string (nullable = true)\n",
      " |-- verification_status_joint: string (nullable = true)\n",
      "\n"
     ]
    }
   ],
   "source": [
    "customers_raw_df.printSchema() #we can see annual_inc, tot_hi_cred_lim,annual_inc_joint these needs to be float "
   ]
  },
  {
   "cell_type": "code",
   "execution_count": 4,
   "id": "84e3c695",
   "metadata": {},
   "outputs": [],
   "source": [
    "Customers_schema = \"member_id string, emp_title string, emp_length string,home_ownership string,annual_inc float,addr_state string,zip_code string,\\\n",
    "                    country string,grade string,sub_grade string,verification_status string,tot_hi_cred_lim float,application_type string,\\\n",
    "                    annual_inc_joint string,verification_status_joint float\""
   ]
  },
  {
   "cell_type": "code",
   "execution_count": 5,
   "id": "c5b74356",
   "metadata": {},
   "outputs": [],
   "source": [
    "customers_raw_df=spark.read.format(\"csv\").schema(Customers_schema).option(\"header\",True).load(\"/user/itv012010/lendingclubproject/raw/customers_data_csv\") \n",
    "#removing inferSchema"
   ]
  },
  {
   "cell_type": "code",
   "execution_count": 6,
   "id": "f8ac0b9d",
   "metadata": {},
   "outputs": [
    {
     "name": "stdout",
     "output_type": "stream",
     "text": [
      "root\n",
      " |-- member_id: string (nullable = true)\n",
      " |-- emp_title: string (nullable = true)\n",
      " |-- emp_length: string (nullable = true)\n",
      " |-- home_ownership: string (nullable = true)\n",
      " |-- annual_inc: float (nullable = true)\n",
      " |-- addr_state: string (nullable = true)\n",
      " |-- zip_code: string (nullable = true)\n",
      " |-- country: string (nullable = true)\n",
      " |-- grade: string (nullable = true)\n",
      " |-- sub_grade: string (nullable = true)\n",
      " |-- verification_status: string (nullable = true)\n",
      " |-- tot_hi_cred_lim: float (nullable = true)\n",
      " |-- application_type: string (nullable = true)\n",
      " |-- annual_inc_joint: string (nullable = true)\n",
      " |-- verification_status_joint: float (nullable = true)\n",
      "\n"
     ]
    }
   ],
   "source": [
    "customers_raw_df.printSchema() #now the schema is changed"
   ]
  },
  {
   "cell_type": "code",
   "execution_count": 7,
   "id": "bc0e11f7",
   "metadata": {},
   "outputs": [],
   "source": [
    "customers_df_renamed=customers_raw_df.withColumnRenamed(\"annual_inc\",\"annual_income\")\\\n",
    ".withColumnRenamed(\"addr_state\",\"address_state\")\\\n",
    ".withColumnRenamed(\"zip_cod\",\"address_zipcode\")\\\n",
    ".withColumnRenamed(\"country\",\"address_country\")\\\n",
    ".withColumnRenamed(\"tot_hi_cred_lim\",\"total_high_credit_limit\")\\\n",
    ".withColumnRenamed(\"annual_inc_joint\",\"join_annual_income\")\\\n",
    "#renaming col done"
   ]
  },
  {
   "cell_type": "code",
   "execution_count": 8,
   "id": "89cc53cd",
   "metadata": {},
   "outputs": [],
   "source": [
    "from pyspark.sql.functions import *"
   ]
  },
  {
   "cell_type": "code",
   "execution_count": 9,
   "id": "01599013",
   "metadata": {},
   "outputs": [],
   "source": [
    "customers_df_ingested=customers_df_renamed.withColumn(\"ingest_date\",current_timestamp()) #new col with current timestamp "
   ]
  },
  {
   "cell_type": "code",
   "execution_count": 10,
   "id": "d89b571e",
   "metadata": {},
   "outputs": [
    {
     "name": "stdout",
     "output_type": "stream",
     "text": [
      "+-----------------------+\n",
      "|ingest_date            |\n",
      "+-----------------------+\n",
      "|2024-03-26 05:26:17.477|\n",
      "+-----------------------+\n",
      "only showing top 1 row\n",
      "\n"
     ]
    }
   ],
   "source": [
    "customers_df_ingested.select(\"ingest_date\").show(1,False) #we can see date is added "
   ]
  },
  {
   "cell_type": "code",
   "execution_count": 11,
   "id": "5208d63d",
   "metadata": {},
   "outputs": [
    {
     "data": {
      "text/plain": [
       "2260701"
      ]
     },
     "execution_count": 11,
     "metadata": {},
     "output_type": "execute_result"
    }
   ],
   "source": [
    "customers_df_ingested.count() #total count "
   ]
  },
  {
   "cell_type": "code",
   "execution_count": 12,
   "id": "e730f2ad",
   "metadata": {},
   "outputs": [],
   "source": [
    "customers_df_distinct=customers_df_ingested.distinct()"
   ]
  },
  {
   "cell_type": "code",
   "execution_count": 13,
   "id": "76081fa6",
   "metadata": {},
   "outputs": [
    {
     "data": {
      "text/plain": [
       "2260638"
      ]
     },
     "execution_count": 13,
     "metadata": {},
     "output_type": "execute_result"
    }
   ],
   "source": [
    "customers_df_distinct.count() #we get distinct rows after removing duplicates"
   ]
  },
  {
   "cell_type": "code",
   "execution_count": 17,
   "id": "4dcc3538",
   "metadata": {},
   "outputs": [],
   "source": [
    "customers_df_distinct.createOrReplaceTempView(\"customers\") #converting to table "
   ]
  },
  {
   "cell_type": "code",
   "execution_count": 18,
   "id": "61303d32",
   "metadata": {},
   "outputs": [
    {
     "data": {
      "text/html": [
       "<table border='1'>\n",
       "<tr><th>count(1)</th></tr>\n",
       "<tr><td>5</td></tr>\n",
       "</table>\n"
      ],
      "text/plain": [
       "+--------+\n",
       "|count(1)|\n",
       "+--------+\n",
       "|       5|\n",
       "+--------+"
      ]
     },
     "execution_count": 18,
     "metadata": {},
     "output_type": "execute_result"
    }
   ],
   "source": [
    "spark.sql(\"select count(*) from customers where annual_income is null\") #we need to delete these 5 rows "
   ]
  },
  {
   "cell_type": "code",
   "execution_count": 19,
   "id": "fe186285",
   "metadata": {},
   "outputs": [],
   "source": [
    "customers_income_filtered=spark.sql(\"select * from customers where annual_income is not null\") #to create another table with no null "
   ]
  },
  {
   "cell_type": "code",
   "execution_count": 20,
   "id": "a002d0e1",
   "metadata": {},
   "outputs": [],
   "source": [
    "customers_income_filtered.createOrReplaceTempView(\"customers\") #this table customers is updated with latest no null values from above query"
   ]
  },
  {
   "cell_type": "code",
   "execution_count": 21,
   "id": "c0fefd3e",
   "metadata": {},
   "outputs": [
    {
     "name": "stdout",
     "output_type": "stream",
     "text": [
      "+----------+\n",
      "|emp_length|\n",
      "+----------+\n",
      "|   5 years|\n",
      "|   9 years|\n",
      "|      null|\n",
      "|    1 year|\n",
      "|   2 years|\n",
      "|   7 years|\n",
      "|   8 years|\n",
      "|   4 years|\n",
      "|   6 years|\n",
      "|   3 years|\n",
      "| 10+ years|\n",
      "|  < 1 year|\n",
      "+----------+\n",
      "\n"
     ]
    }
   ],
   "source": [
    "spark.sql(\"select distinct(emp_length) from customers\").show() #we need to convert this to integer only numbers to be present"
   ]
  },
  {
   "cell_type": "code",
   "execution_count": 22,
   "id": "347ebbc5",
   "metadata": {},
   "outputs": [],
   "source": [
    "from pyspark.sql.functions import regexp_replace, col"
   ]
  },
  {
   "cell_type": "code",
   "execution_count": 23,
   "id": "cba03072",
   "metadata": {},
   "outputs": [],
   "source": [
    "customers_emp_length_cleaned=customers_income_filtered.withColumn(\"emp_length\",regexp_replace(col(\"emp_length\"),\"(\\D)\",\"\"))#this replaces non digit value with spaces \\D is for non digit value"
   ]
  },
  {
   "cell_type": "code",
   "execution_count": 24,
   "id": "f64cfdc8",
   "metadata": {},
   "outputs": [
    {
     "name": "stdout",
     "output_type": "stream",
     "text": [
      "root\n",
      " |-- member_id: string (nullable = true)\n",
      " |-- emp_title: string (nullable = true)\n",
      " |-- emp_length: string (nullable = true)\n",
      " |-- home_ownership: string (nullable = true)\n",
      " |-- annual_income: float (nullable = true)\n",
      " |-- address_state: string (nullable = true)\n",
      " |-- zip_code: string (nullable = true)\n",
      " |-- address_country: string (nullable = true)\n",
      " |-- grade: string (nullable = true)\n",
      " |-- sub_grade: string (nullable = true)\n",
      " |-- verification_status: string (nullable = true)\n",
      " |-- total_high_credit_limit: float (nullable = true)\n",
      " |-- application_type: string (nullable = true)\n",
      " |-- join_annual_income: string (nullable = true)\n",
      " |-- verification_status_joint: float (nullable = true)\n",
      " |-- ingest_date: timestamp (nullable = false)\n",
      "\n"
     ]
    }
   ],
   "source": [
    "customers_emp_length_cleaned.printSchema() #we can see still emp_length is string we need to convert type to int"
   ]
  },
  {
   "cell_type": "code",
   "execution_count": 25,
   "id": "717face5",
   "metadata": {},
   "outputs": [],
   "source": [
    "customers_emp_length_casted=customers_emp_length_cleaned.withColumn(\"emp_length\",customers_emp_length_cleaned.emp_length.cast(\"int\")) #casting datatype to int"
   ]
  },
  {
   "cell_type": "code",
   "execution_count": 26,
   "id": "10f462b0",
   "metadata": {},
   "outputs": [
    {
     "name": "stdout",
     "output_type": "stream",
     "text": [
      "root\n",
      " |-- member_id: string (nullable = true)\n",
      " |-- emp_title: string (nullable = true)\n",
      " |-- emp_length: integer (nullable = true)\n",
      " |-- home_ownership: string (nullable = true)\n",
      " |-- annual_income: float (nullable = true)\n",
      " |-- address_state: string (nullable = true)\n",
      " |-- zip_code: string (nullable = true)\n",
      " |-- address_country: string (nullable = true)\n",
      " |-- grade: string (nullable = true)\n",
      " |-- sub_grade: string (nullable = true)\n",
      " |-- verification_status: string (nullable = true)\n",
      " |-- total_high_credit_limit: float (nullable = true)\n",
      " |-- application_type: string (nullable = true)\n",
      " |-- join_annual_income: string (nullable = true)\n",
      " |-- verification_status_joint: float (nullable = true)\n",
      " |-- ingest_date: timestamp (nullable = false)\n",
      "\n"
     ]
    }
   ],
   "source": [
    "customers_emp_length_casted.printSchema() #now the datatype is changed to int"
   ]
  },
  {
   "cell_type": "code",
   "execution_count": 27,
   "id": "39ac8dcf",
   "metadata": {},
   "outputs": [
    {
     "data": {
      "text/plain": [
       "146903"
      ]
     },
     "execution_count": 27,
     "metadata": {},
     "output_type": "execute_result"
    }
   ],
   "source": [
    "customers_emp_length_casted.filter(\"emp_length is null\").count() #total nulls within this col"
   ]
  },
  {
   "cell_type": "code",
   "execution_count": 28,
   "id": "0e06a922",
   "metadata": {},
   "outputs": [],
   "source": [
    "customers_emp_length_casted.createOrReplaceTempView(\"customers\") #creating a table on top of it"
   ]
  },
  {
   "cell_type": "code",
   "execution_count": 29,
   "id": "caa73d82",
   "metadata": {},
   "outputs": [],
   "source": [
    "avg_emp_length=spark.sql(\"select floor(avg(emp_length)) as avg_emp_length from customers\").collect() #avg value "
   ]
  },
  {
   "cell_type": "code",
   "execution_count": 30,
   "id": "a7fba51a",
   "metadata": {},
   "outputs": [
    {
     "name": "stdout",
     "output_type": "stream",
     "text": [
      "[Row(avg_emp_length=6)]\n"
     ]
    }
   ],
   "source": [
    "print(avg_emp_length) "
   ]
  },
  {
   "cell_type": "code",
   "execution_count": 31,
   "id": "068c4e0b",
   "metadata": {},
   "outputs": [],
   "source": [
    "avg_emp_duration=avg_emp_length[0][0] #we want a number to be replaced with all nulls thus making it look via 2D matrix "
   ]
  },
  {
   "cell_type": "code",
   "execution_count": 32,
   "id": "0e68a233",
   "metadata": {},
   "outputs": [
    {
     "name": "stdout",
     "output_type": "stream",
     "text": [
      "6\n"
     ]
    }
   ],
   "source": [
    "print(avg_emp_duration) "
   ]
  },
  {
   "cell_type": "code",
   "execution_count": 33,
   "id": "017353a7",
   "metadata": {},
   "outputs": [],
   "source": [
    "customers_emp_length_replaced=customers_emp_length_casted.na.fill(avg_emp_duration,subset=['emp_length']) \n",
    "#to fill nulls with avg(emp_length) in place of nulls present in emp_length col"
   ]
  },
  {
   "cell_type": "code",
   "execution_count": 34,
   "id": "06175428",
   "metadata": {},
   "outputs": [
    {
     "data": {
      "text/plain": [
       "0"
      ]
     },
     "execution_count": 34,
     "metadata": {},
     "output_type": "execute_result"
    }
   ],
   "source": [
    "customers_emp_length_replaced.filter('emp_length is null').count()#no nulls are present now"
   ]
  },
  {
   "cell_type": "code",
   "execution_count": 35,
   "id": "81c332c1",
   "metadata": {},
   "outputs": [],
   "source": [
    "customers_emp_length_replaced.createOrReplaceTempView('customers')"
   ]
  },
  {
   "cell_type": "code",
   "execution_count": 44,
   "id": "d02dbb40",
   "metadata": {},
   "outputs": [
    {
     "data": {
      "text/html": [
       "<table border='1'>\n",
       "<tr><th>address_state</th></tr>\n",
       "<tr><td>I have never owne...</td></tr>\n",
       "<tr><td>debt_consolidation</td></tr>\n",
       "<tr><td>we do consider ou...</td></tr>\n",
       "<tr><td>and I want to get...</td></tr>\n",
       "<tr><td>Advocate business...</td></tr>\n",
       "<tr><td>wholesale and eve...</td></tr>\n",
       "<tr><td>941xx</td></tr>\n",
       "<tr><td>013xx</td></tr>\n",
       "<tr><td>594xx</td></tr>\n",
       "<tr><td>Tax Loan</td></tr>\n",
       "<tr><td>I&#x27;d like to repai...</td></tr>\n",
       "<tr><td>000 -- all of whi...</td></tr>\n",
       "<tr><td>631xx</td></tr>\n",
       "<tr><td>credit_card</td></tr>\n",
       "<tr><td>which I will dism...</td></tr>\n",
       "<tr><td>Consolidate &amp; Acc...</td></tr>\n",
       "<tr><td>Justin&#x27;s Loan</td></tr>\n",
       "<tr><td>major_purchase</td></tr>\n",
       "<tr><td>000.00 annually. ...</td></tr>\n",
       "<tr><td>Friday the 13th P...</td></tr>\n",
       "</table>\n",
       "only showing top 20 rows\n"
      ],
      "text/plain": [
       "+--------------------+\n",
       "|       address_state|\n",
       "+--------------------+\n",
       "|           insurance|\n",
       "|             CBR1000|\n",
       "|   making around $35|\n",
       "|we do consider ou...|\n",
       "|         credit_card|\n",
       "|but not to my sat...|\n",
       "|               etc.\"|\n",
       "|they've only gott...|\n",
       "|my APR would jack...|\n",
       "|    getting straight|\n",
       "|I've been given a...|\n",
       "|I opened up Card ...|\n",
       "|I refuse to pay h...|\n",
       "|               921xx|\n",
       "|this does not int...|\n",
       "|             medical|\n",
       "|I think you'd hav...|\n",
       "|         etc.  First|\n",
       "|not paid for by f...|\n",
       "|  Consolidation loan|\n",
       "+--------------------+\n",
       "only showing top 20 rows"
      ]
     },
     "execution_count": 44,
     "metadata": {},
     "output_type": "execute_result"
    }
   ],
   "source": [
    "spark.sql(\"select address_state from customers where length(address_state)>2\") #we can see there are many address_state >2 in length"
   ]
  },
  {
   "cell_type": "code",
   "execution_count": 45,
   "id": "4610e761",
   "metadata": {},
   "outputs": [
    {
     "data": {
      "text/html": [
       "<table border='1'>\n",
       "<tr><th>count(address_state)</th></tr>\n",
       "<tr><td>254</td></tr>\n",
       "</table>\n"
      ],
      "text/plain": [
       "+--------------------+\n",
       "|count(address_state)|\n",
       "+--------------------+\n",
       "|                 254|\n",
       "+--------------------+"
      ]
     },
     "execution_count": 45,
     "metadata": {},
     "output_type": "execute_result"
    }
   ],
   "source": [
    "spark.sql(\"select count(address_state) from customers where length(address_state)>2\") #count of them "
   ]
  },
  {
   "cell_type": "code",
   "execution_count": 46,
   "id": "20f24f4f",
   "metadata": {},
   "outputs": [],
   "source": [
    "from pyspark.sql.functions import length"
   ]
  },
  {
   "cell_type": "code",
   "execution_count": 52,
   "id": "c5a41edb",
   "metadata": {},
   "outputs": [],
   "source": [
    "customers_state_cleaned=customers_emp_length_replaced.withColumn \\\n",
    "(\"address_state\", \\\n",
    " when(length(col(\"address_state\"))>2,\"NA\").otherwise(col(\"address_state\")) \\\n",
    ") #this will replace address_state>2 to NA and keep others as same address_state"
   ]
  },
  {
   "cell_type": "code",
   "execution_count": 55,
   "id": "cdfb6f61",
   "metadata": {},
   "outputs": [
    {
     "data": {
      "text/html": [
       "<table border='1'>\n",
       "<tr><th>address_state</th></tr>\n",
       "<tr><td>AZ</td></tr>\n",
       "<tr><td>SC</td></tr>\n",
       "<tr><td>LA</td></tr>\n",
       "<tr><td>MN</td></tr>\n",
       "<tr><td>NJ</td></tr>\n",
       "<tr><td>DC</td></tr>\n",
       "<tr><td>OR</td></tr>\n",
       "<tr><td>NA</td></tr>\n",
       "<tr><td>VA</td></tr>\n",
       "<tr><td>null</td></tr>\n",
       "<tr><td>RI</td></tr>\n",
       "<tr><td>KY</td></tr>\n",
       "<tr><td>WY</td></tr>\n",
       "<tr><td>NH</td></tr>\n",
       "<tr><td>MI</td></tr>\n",
       "<tr><td>NV</td></tr>\n",
       "<tr><td>WI</td></tr>\n",
       "<tr><td>ID</td></tr>\n",
       "<tr><td>CA</td></tr>\n",
       "<tr><td>CT</td></tr>\n",
       "</table>\n",
       "only showing top 20 rows\n"
      ],
      "text/plain": [
       "+-------------+\n",
       "|address_state|\n",
       "+-------------+\n",
       "|           AZ|\n",
       "|           SC|\n",
       "|           LA|\n",
       "|           MN|\n",
       "|           NJ|\n",
       "|           DC|\n",
       "|           OR|\n",
       "|           NA|\n",
       "|           VA|\n",
       "|         null|\n",
       "|           RI|\n",
       "|           KY|\n",
       "|           WY|\n",
       "|           NH|\n",
       "|           MI|\n",
       "|           NV|\n",
       "|           WI|\n",
       "|           ID|\n",
       "|           CA|\n",
       "|           CT|\n",
       "+-------------+\n",
       "only showing top 20 rows"
      ]
     },
     "execution_count": 55,
     "metadata": {},
     "output_type": "execute_result"
    }
   ],
   "source": [
    "customers_state_cleaned.select(\"address_state\").distinct() #we can see all address_state is <=2 as expected."
   ]
  },
  {
   "cell_type": "code",
   "execution_count": 56,
   "id": "20e26688",
   "metadata": {},
   "outputs": [],
   "source": [
    "customers_state_cleaned.write\\\n",
    ".format(\"parquet\")\\\n",
    ".mode(\"overwrite\")\\\n",
    ".option(\"path\",\"/user/itv012010/lendingclubproject/cleaned/customers_parquet\")\\\n",
    ".save() #Finally saving this cleaned data in parquet format"
   ]
  },
  {
   "cell_type": "code",
   "execution_count": 57,
   "id": "1a440b4d",
   "metadata": {},
   "outputs": [],
   "source": [
    "customers_state_cleaned.write\\\n",
    ".option(\"header\",True)\\\n",
    ".format(\"csv\")\\\n",
    ".mode(\"overwrite\")\\\n",
    ".option(\"path\",\"/user/itv012010/lendingclubproject/cleaned/customers_csv\")\\\n",
    ".save() #Finally saving this cleaned data in csv format also."
   ]
  },
  {
   "cell_type": "code",
   "execution_count": null,
   "id": "989e42c1",
   "metadata": {},
   "outputs": [],
   "source": []
  }
 ],
 "metadata": {
  "kernelspec": {
   "display_name": "Pyspark 3",
   "language": "python",
   "name": "pyspark3"
  },
  "language_info": {
   "codemirror_mode": {
    "name": "ipython",
    "version": 3
   },
   "file_extension": ".py",
   "mimetype": "text/x-python",
   "name": "python",
   "nbconvert_exporter": "python",
   "pygments_lexer": "ipython3",
   "version": "3.6.12"
  }
 },
 "nbformat": 4,
 "nbformat_minor": 5
}
