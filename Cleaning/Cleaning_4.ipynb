{
 "cells": [
  {
   "cell_type": "code",
   "execution_count": 42,
   "id": "6c7cf5d8",
   "metadata": {},
   "outputs": [],
   "source": [
    "from pyspark.sql import SparkSession\n",
    "from pyspark.sql.functions import current_timestamp,current_date,when,col"
   ]
  },
  {
   "cell_type": "code",
   "execution_count": 3,
   "id": "f8681f19",
   "metadata": {},
   "outputs": [],
   "source": [
    "spark=SparkSession.builder.config(\"'spark.shuffle.useOldFetchProtocol', 'true'\")\\\n",
    ".enableHiveSupport()\\\n",
    ".appName(\"Project_Pyspark\")\\\n",
    ".master('yarn')\\\n",
    ".getOrCreate()"
   ]
  },
  {
   "cell_type": "code",
   "execution_count": 4,
   "id": "bc820e3a",
   "metadata": {},
   "outputs": [
    {
     "data": {
      "text/html": [
       "\n",
       "            <div>\n",
       "                <p><b>SparkSession - hive</b></p>\n",
       "                \n",
       "        <div>\n",
       "            <p><b>SparkContext</b></p>\n",
       "\n",
       "            <p><a href=\"http://g02.itversity.com:4043\">Spark UI</a></p>\n",
       "\n",
       "            <dl>\n",
       "              <dt>Version</dt>\n",
       "                <dd><code>v3.1.2</code></dd>\n",
       "              <dt>Master</dt>\n",
       "                <dd><code>yarn</code></dd>\n",
       "              <dt>AppName</dt>\n",
       "                <dd><code>Project_Pyspark</code></dd>\n",
       "            </dl>\n",
       "        </div>\n",
       "        \n",
       "            </div>\n",
       "        "
      ],
      "text/plain": [
       "<pyspark.sql.session.SparkSession at 0x7f9bd8860da0>"
      ]
     },
     "execution_count": 4,
     "metadata": {},
     "output_type": "execute_result"
    }
   ],
   "source": [
    "spark"
   ]
  },
  {
   "cell_type": "code",
   "execution_count": 5,
   "id": "5267bae0",
   "metadata": {},
   "outputs": [],
   "source": [
    "loans_defaulters_raw_df=spark.read.format(\"csv\").option(\"header\",True).option(\"inferSchema\",True)\\\n",
    ".load(\"/user/itv012010/lendingclubproject/raw/loans_defaulters_csv\")"
   ]
  },
  {
   "cell_type": "code",
   "execution_count": 6,
   "id": "db61af4d",
   "metadata": {},
   "outputs": [
    {
     "data": {
      "text/html": [
       "<table border='1'>\n",
       "<tr><th>member_id</th><th>delinq_2yrs</th><th>delinq_amnt</th><th>pub_rec</th><th>pub_rec_bankruptcies</th><th>inq_last_6mths</th><th>total_rec_late_fee</th><th>mths_since_last_delinq</th><th>mths_since_last_record</th></tr>\n",
       "<tr><td>2209556c19f75a204...</td><td>0.0</td><td>0.0</td><td>1.0</td><td>1.0</td><td>0.0</td><td>0.0</td><td>null</td><td>65.0</td></tr>\n",
       "<tr><td>9d0d53b8de898b446...</td><td>0.0</td><td>0.0</td><td>1.0</td><td>1.0</td><td>2.0</td><td>0.0</td><td>25.0</td><td>83.0</td></tr>\n",
       "<tr><td>1a978870f4a9b4b43...</td><td>0.0</td><td>0.0</td><td>0.0</td><td>0.0</td><td>0.0</td><td>0.0</td><td>null</td><td>null</td></tr>\n",
       "<tr><td>c66ccc99ff4372809...</td><td>1.0</td><td>0.0</td><td>0.0</td><td>0.0</td><td>1.0</td><td>0.0</td><td>23.0</td><td>null</td></tr>\n",
       "<tr><td>91d00a422248120a4...</td><td>0.0</td><td>0.0</td><td>0.0</td><td>0.0</td><td>0.0</td><td>0.0</td><td>null</td><td>null</td></tr>\n",
       "<tr><td>b7539a5579e723b21...</td><td>0.0</td><td>0.0</td><td>0.0</td><td>0.0</td><td>0.0</td><td>0.0</td><td>null</td><td>null</td></tr>\n",
       "<tr><td>2fca945a60ef9246c...</td><td>0.0</td><td>0.0</td><td>0.0</td><td>0.0</td><td>1.0</td><td>47.8</td><td>null</td><td>null</td></tr>\n",
       "<tr><td>8a6dababd11fd592f...</td><td>0.0</td><td>0.0</td><td>0.0</td><td>0.0</td><td>2.0</td><td>0.0</td><td>null</td><td>null</td></tr>\n",
       "<tr><td>3af72ce29e878edd7...</td><td>0.0</td><td>0.0</td><td>0.0</td><td>0.0</td><td>1.0</td><td>0.0</td><td>null</td><td>null</td></tr>\n",
       "<tr><td>4395baca2ea2d58a8...</td><td>0.0</td><td>0.0</td><td>0.0</td><td>0.0</td><td>0.0</td><td>0.0</td><td>37.0</td><td>null</td></tr>\n",
       "<tr><td>45ac50a4b31e7c191...</td><td>0.0</td><td>0.0</td><td>2.0</td><td>0.0</td><td>0.0</td><td>0.0</td><td>26.0</td><td>64.0</td></tr>\n",
       "<tr><td>a6a1b2d34c1f8d409...</td><td>0.0</td><td>0.0</td><td>0.0</td><td>0.0</td><td>0.0</td><td>0.0</td><td>31.0</td><td>null</td></tr>\n",
       "<tr><td>aa1795bf3b4e526f4...</td><td>0.0</td><td>0.0</td><td>5.0</td><td>3.0</td><td>0.0</td><td>0.0</td><td>45.0</td><td>5.0</td></tr>\n",
       "<tr><td>8e0e745628d1fb06e...</td><td>0.0</td><td>0.0</td><td>0.0</td><td>0.0</td><td>1.0</td><td>0.0</td><td>82.0</td><td>null</td></tr>\n",
       "<tr><td>232386e4de5f4542b...</td><td>0.0</td><td>0.0</td><td>0.0</td><td>0.0</td><td>0.0</td><td>0.0</td><td>47.0</td><td>null</td></tr>\n",
       "<tr><td>2d3472c91f8b2a006...</td><td>0.0</td><td>0.0</td><td>0.0</td><td>0.0</td><td>1.0</td><td>0.0</td><td>null</td><td>null</td></tr>\n",
       "<tr><td>9abeb83f93fd934ff...</td><td>0.0</td><td>0.0</td><td>0.0</td><td>0.0</td><td>0.0</td><td>0.0</td><td>61.0</td><td>null</td></tr>\n",
       "<tr><td>cb18b4a8c027d239c...</td><td>0.0</td><td>0.0</td><td>1.0</td><td>0.0</td><td>1.0</td><td>0.0</td><td>54.0</td><td>14.0</td></tr>\n",
       "<tr><td>a91eb99321edd2864...</td><td>0.0</td><td>0.0</td><td>0.0</td><td>0.0</td><td>0.0</td><td>0.0</td><td>null</td><td>null</td></tr>\n",
       "<tr><td>ee2a6a369b2fe6170...</td><td>0.0</td><td>0.0</td><td>0.0</td><td>0.0</td><td>0.0</td><td>0.0</td><td>null</td><td>null</td></tr>\n",
       "</table>\n",
       "only showing top 20 rows\n"
      ],
      "text/plain": [
       "+--------------------+-----------+-----------+-------+--------------------+--------------+------------------+----------------------+----------------------+\n",
       "|           member_id|delinq_2yrs|delinq_amnt|pub_rec|pub_rec_bankruptcies|inq_last_6mths|total_rec_late_fee|mths_since_last_delinq|mths_since_last_record|\n",
       "+--------------------+-----------+-----------+-------+--------------------+--------------+------------------+----------------------+----------------------+\n",
       "|2209556c19f75a204...|        0.0|        0.0|    1.0|                 1.0|           0.0|               0.0|                  null|                  65.0|\n",
       "|9d0d53b8de898b446...|        0.0|        0.0|    1.0|                 1.0|           2.0|               0.0|                  25.0|                  83.0|\n",
       "|1a978870f4a9b4b43...|        0.0|        0.0|    0.0|                 0.0|           0.0|               0.0|                  null|                  null|\n",
       "|c66ccc99ff4372809...|        1.0|        0.0|    0.0|                 0.0|           1.0|               0.0|                  23.0|                  null|\n",
       "|91d00a422248120a4...|        0.0|        0.0|    0.0|                 0.0|           0.0|               0.0|                  null|                  null|\n",
       "|b7539a5579e723b21...|        0.0|        0.0|    0.0|                 0.0|           0.0|               0.0|                  null|                  null|\n",
       "|2fca945a60ef9246c...|        0.0|        0.0|    0.0|                 0.0|           1.0|              47.8|                  null|                  null|\n",
       "|8a6dababd11fd592f...|        0.0|        0.0|    0.0|                 0.0|           2.0|               0.0|                  null|                  null|\n",
       "|3af72ce29e878edd7...|        0.0|        0.0|    0.0|                 0.0|           1.0|               0.0|                  null|                  null|\n",
       "|4395baca2ea2d58a8...|        0.0|        0.0|    0.0|                 0.0|           0.0|               0.0|                  37.0|                  null|\n",
       "|45ac50a4b31e7c191...|        0.0|        0.0|    2.0|                 0.0|           0.0|               0.0|                  26.0|                  64.0|\n",
       "|a6a1b2d34c1f8d409...|        0.0|        0.0|    0.0|                 0.0|           0.0|               0.0|                  31.0|                  null|\n",
       "|aa1795bf3b4e526f4...|        0.0|        0.0|    5.0|                 3.0|           0.0|               0.0|                  45.0|                   5.0|\n",
       "|8e0e745628d1fb06e...|        0.0|        0.0|    0.0|                 0.0|           1.0|               0.0|                  82.0|                  null|\n",
       "|232386e4de5f4542b...|        0.0|        0.0|    0.0|                 0.0|           0.0|               0.0|                  47.0|                  null|\n",
       "|2d3472c91f8b2a006...|        0.0|        0.0|    0.0|                 0.0|           1.0|               0.0|                  null|                  null|\n",
       "|9abeb83f93fd934ff...|        0.0|        0.0|    0.0|                 0.0|           0.0|               0.0|                  61.0|                  null|\n",
       "|cb18b4a8c027d239c...|        0.0|        0.0|    1.0|                 0.0|           1.0|               0.0|                  54.0|                  14.0|\n",
       "|a91eb99321edd2864...|        0.0|        0.0|    0.0|                 0.0|           0.0|               0.0|                  null|                  null|\n",
       "|ee2a6a369b2fe6170...|        0.0|        0.0|    0.0|                 0.0|           0.0|               0.0|                  null|                  null|\n",
       "+--------------------+-----------+-----------+-------+--------------------+--------------+------------------+----------------------+----------------------+\n",
       "only showing top 20 rows"
      ]
     },
     "execution_count": 6,
     "metadata": {},
     "output_type": "execute_result"
    }
   ],
   "source": [
    "loans_defaulters_raw_df"
   ]
  },
  {
   "cell_type": "code",
   "execution_count": 7,
   "id": "fdb7b283",
   "metadata": {},
   "outputs": [
    {
     "name": "stdout",
     "output_type": "stream",
     "text": [
      "root\n",
      " |-- member_id: string (nullable = true)\n",
      " |-- delinq_2yrs: string (nullable = true)\n",
      " |-- delinq_amnt: double (nullable = true)\n",
      " |-- pub_rec: string (nullable = true)\n",
      " |-- pub_rec_bankruptcies: double (nullable = true)\n",
      " |-- inq_last_6mths: string (nullable = true)\n",
      " |-- total_rec_late_fee: string (nullable = true)\n",
      " |-- mths_since_last_delinq: string (nullable = true)\n",
      " |-- mths_since_last_record: string (nullable = true)\n",
      "\n"
     ]
    }
   ],
   "source": [
    "loans_defaulters_raw_df.printSchema()"
   ]
  },
  {
   "cell_type": "code",
   "execution_count": 163,
   "id": "66515e61",
   "metadata": {},
   "outputs": [],
   "source": [
    "#apart from member_id other can be float \n",
    "#deling_2yrs means if the person has made delayed payment in last 2 yrs"
   ]
  },
  {
   "cell_type": "code",
   "execution_count": 33,
   "id": "7786ba4d",
   "metadata": {},
   "outputs": [],
   "source": [
    "loans_defaulters_schema=\"member_id string,delinq_2yrs float,delinq_amnt float,pub_rec float,pub_rec_bankruptcies float,enquiry_last_6mths float,\\\n",
    "                         total_rec_late_fee float,months_since_last_delinq float,months_since_last_record float\""
   ]
  },
  {
   "cell_type": "code",
   "execution_count": 34,
   "id": "ff474a5b",
   "metadata": {},
   "outputs": [],
   "source": [
    "loans_defaulters_raw_df=spark.read.format(\"csv\").option(\"header\",True).schema(loans_defaulters_schema)\\\n",
    ".load(\"/user/itv012010/lendingclubproject/raw/loans_defaulters_csv\")"
   ]
  },
  {
   "cell_type": "code",
   "execution_count": 35,
   "id": "d24df5cc",
   "metadata": {},
   "outputs": [
    {
     "name": "stdout",
     "output_type": "stream",
     "text": [
      "root\n",
      " |-- member_id: string (nullable = true)\n",
      " |-- delinq_2yrs: float (nullable = true)\n",
      " |-- delinq_amnt: float (nullable = true)\n",
      " |-- pub_rec: float (nullable = true)\n",
      " |-- pub_rec_bankruptcies: float (nullable = true)\n",
      " |-- enquiry_last_6mths: float (nullable = true)\n",
      " |-- total_rec_late_fee: float (nullable = true)\n",
      " |-- months_since_last_delinq: float (nullable = true)\n",
      " |-- months_since_last_record: float (nullable = true)\n",
      "\n"
     ]
    }
   ],
   "source": [
    "loans_defaulters_raw_df.printSchema() #changed name & datatype as required"
   ]
  },
  {
   "cell_type": "code",
   "execution_count": 36,
   "id": "7e5f18d6",
   "metadata": {},
   "outputs": [],
   "source": [
    "loans_defaulters_raw_df.createOrReplaceTempView(\"loans_defaulters\")"
   ]
  },
  {
   "cell_type": "code",
   "execution_count": 37,
   "id": "d55e8f28",
   "metadata": {},
   "outputs": [
    {
     "data": {
      "text/html": [
       "<table border='1'>\n",
       "<tr><th>delinq_2yrs</th></tr>\n",
       "<tr><td>20.04</td></tr>\n",
       "<tr><td>18.53</td></tr>\n",
       "<tr><td>18.0</td></tr>\n",
       "<tr><td>26.24</td></tr>\n",
       "<tr><td>6.52</td></tr>\n",
       "<tr><td>9.0</td></tr>\n",
       "<tr><td>21.72</td></tr>\n",
       "<tr><td>58.0</td></tr>\n",
       "<tr><td>17.17</td></tr>\n",
       "<tr><td>5.0</td></tr>\n",
       "<tr><td>39.0</td></tr>\n",
       "<tr><td>9.44</td></tr>\n",
       "<tr><td>17.0</td></tr>\n",
       "<tr><td>30.0</td></tr>\n",
       "<tr><td>26.0</td></tr>\n",
       "<tr><td>29.0</td></tr>\n",
       "<tr><td>9.56</td></tr>\n",
       "<tr><td>23.0</td></tr>\n",
       "<tr><td>1.41</td></tr>\n",
       "<tr><td>17.18</td></tr>\n",
       "</table>\n",
       "only showing top 20 rows\n"
      ],
      "text/plain": [
       "+-----------+\n",
       "|delinq_2yrs|\n",
       "+-----------+\n",
       "|      20.04|\n",
       "|      18.53|\n",
       "|       18.0|\n",
       "|      26.24|\n",
       "|       6.52|\n",
       "|        9.0|\n",
       "|      21.72|\n",
       "|       58.0|\n",
       "|      17.17|\n",
       "|        5.0|\n",
       "|       39.0|\n",
       "|       9.44|\n",
       "|       17.0|\n",
       "|       30.0|\n",
       "|       26.0|\n",
       "|       29.0|\n",
       "|       9.56|\n",
       "|       23.0|\n",
       "|       1.41|\n",
       "|      17.18|\n",
       "+-----------+\n",
       "only showing top 20 rows"
      ]
     },
     "execution_count": 37,
     "metadata": {},
     "output_type": "execute_result"
    }
   ],
   "source": [
    "spark.sql(\"select distinct(delinq_2yrs) from loans_defaulters\") #there are many delinq_2yrs if we see"
   ]
  },
  {
   "cell_type": "code",
   "execution_count": 38,
   "id": "e4c6d998",
   "metadata": {},
   "outputs": [
    {
     "name": "stdout",
     "output_type": "stream",
     "text": [
      "+-----------+-------+\n",
      "|delinq_2yrs|  total|\n",
      "+-----------+-------+\n",
      "|        0.0|1838878|\n",
      "|        1.0| 281335|\n",
      "|        2.0|  81285|\n",
      "|        3.0|  29539|\n",
      "|        4.0|  13179|\n",
      "|        5.0|   6599|\n",
      "|        6.0|   3717|\n",
      "|        7.0|   2062|\n",
      "|        8.0|   1223|\n",
      "|        9.0|    818|\n",
      "|       10.0|    556|\n",
      "|       11.0|    363|\n",
      "|       12.0|    264|\n",
      "|       null|    261|\n",
      "|       13.0|    165|\n",
      "|       14.0|    120|\n",
      "|       15.0|     87|\n",
      "|       16.0|     55|\n",
      "|       18.0|     30|\n",
      "|       17.0|     30|\n",
      "|       19.0|     23|\n",
      "|       20.0|     17|\n",
      "|       21.0|     12|\n",
      "|       22.0|      5|\n",
      "|       24.0|      4|\n",
      "|       26.0|      3|\n",
      "|       29.0|      2|\n",
      "|       23.0|      2|\n",
      "|       3.44|      2|\n",
      "|       30.0|      2|\n",
      "+-----------+-------+\n",
      "only showing top 30 rows\n",
      "\n"
     ]
    }
   ],
   "source": [
    "spark.sql(\"\"\"select delinq_2yrs,count(*) as total from loans_defaulters\n",
    "          group by delinq_2yrs order by total desc\"\"\").show(30) # we can see many people have not defaulted any loan so first row is zero"
   ]
  },
  {
   "cell_type": "code",
   "execution_count": 14,
   "id": "85a5d359",
   "metadata": {},
   "outputs": [],
   "source": [
    "#we need to remove data with floating points only int shld be fine, if \n",
    "#we try changing this at begining we wont get any data bcz all are in float"
   ]
  },
  {
   "cell_type": "code",
   "execution_count": 39,
   "id": "a31bd2cb",
   "metadata": {},
   "outputs": [],
   "source": [
    "loans_def_processed_df=loans_defaulters_raw_df.withColumn(\"delinq_2yrs\",col(\"delinq_2yrs\").cast('integer')).fillna(0,subset=['delinq_2yrs'])\n",
    "#this will cast float to int & remove all na with zeros on delinq_2yrs column"
   ]
  },
  {
   "cell_type": "code",
   "execution_count": 16,
   "id": "ce5ca880",
   "metadata": {},
   "outputs": [],
   "source": [
    "loans_def_processed_df.createOrReplaceTempView(\"loans_defaulters\")"
   ]
  },
  {
   "cell_type": "code",
   "execution_count": 17,
   "id": "5f128d86",
   "metadata": {},
   "outputs": [
    {
     "data": {
      "text/html": [
       "<table border='1'>\n",
       "<tr><th>delinq_2yrs</th><th>total</th></tr>\n",
       "<tr><td>0</td><td>1839141</td></tr>\n",
       "<tr><td>1</td><td>281337</td></tr>\n",
       "<tr><td>2</td><td>81285</td></tr>\n",
       "<tr><td>3</td><td>29545</td></tr>\n",
       "<tr><td>4</td><td>13180</td></tr>\n",
       "<tr><td>5</td><td>6601</td></tr>\n",
       "<tr><td>6</td><td>3719</td></tr>\n",
       "<tr><td>7</td><td>2063</td></tr>\n",
       "<tr><td>8</td><td>1226</td></tr>\n",
       "<tr><td>9</td><td>821</td></tr>\n",
       "<tr><td>10</td><td>558</td></tr>\n",
       "<tr><td>11</td><td>363</td></tr>\n",
       "<tr><td>12</td><td>266</td></tr>\n",
       "<tr><td>13</td><td>167</td></tr>\n",
       "<tr><td>14</td><td>123</td></tr>\n",
       "<tr><td>15</td><td>90</td></tr>\n",
       "<tr><td>16</td><td>56</td></tr>\n",
       "<tr><td>17</td><td>33</td></tr>\n",
       "<tr><td>18</td><td>32</td></tr>\n",
       "<tr><td>19</td><td>24</td></tr>\n",
       "</table>\n",
       "only showing top 20 rows\n"
      ],
      "text/plain": [
       "+-----------+-------+\n",
       "|delinq_2yrs|  total|\n",
       "+-----------+-------+\n",
       "|          0|1839141|\n",
       "|          1| 281337|\n",
       "|          2|  81285|\n",
       "|          3|  29545|\n",
       "|          4|  13180|\n",
       "|          5|   6601|\n",
       "|          6|   3719|\n",
       "|          7|   2063|\n",
       "|          8|   1226|\n",
       "|          9|    821|\n",
       "|         10|    558|\n",
       "|         11|    363|\n",
       "|         12|    266|\n",
       "|         13|    167|\n",
       "|         14|    123|\n",
       "|         15|     90|\n",
       "|         16|     56|\n",
       "|         17|     33|\n",
       "|         18|     32|\n",
       "|         19|     24|\n",
       "+-----------+-------+\n",
       "only showing top 20 rows"
      ]
     },
     "execution_count": 17,
     "metadata": {},
     "output_type": "execute_result"
    }
   ],
   "source": [
    "spark.sql(\"\"\"select delinq_2yrs,count(*) as total from loans_defaulters\n",
    "          group by delinq_2yrs order by total desc\"\"\") #we can see only int values are available"
   ]
  },
  {
   "cell_type": "code",
   "execution_count": 18,
   "id": "04a1c019",
   "metadata": {},
   "outputs": [
    {
     "name": "stdout",
     "output_type": "stream",
     "text": [
      "+-----------+\n",
      "|delinq_2yrs|\n",
      "+-----------+\n",
      "+-----------+\n",
      "\n"
     ]
    }
   ],
   "source": [
    "spark.sql(\"\"\"select delinq_2yrs from loans_defaulters\n",
    "          where delinq_2yrs is null\"\"\").show()#no nulls "
   ]
  },
  {
   "cell_type": "code",
   "execution_count": 19,
   "id": "2258ad2e",
   "metadata": {},
   "outputs": [],
   "source": [
    "#We will be dividing this data into two parts based on our requirements"
   ]
  },
  {
   "cell_type": "code",
   "execution_count": 20,
   "id": "f88ab739",
   "metadata": {},
   "outputs": [],
   "source": [
    "loans_def_delinq_df=spark.sql(\"\"\"select member_id,delinq_2yrs,delinq_amnt,int(months_since_last_delinq) from loans_defaulters\n",
    "                                 where  delinq_2yrs  > 0 or  months_since_last_delinq > 0 \"\"\")"
   ]
  },
  {
   "cell_type": "code",
   "execution_count": 21,
   "id": "ac6a5be1",
   "metadata": {},
   "outputs": [
    {
     "data": {
      "text/plain": [
       "1106163"
      ]
     },
     "execution_count": 21,
     "metadata": {},
     "output_type": "execute_result"
    }
   ],
   "source": [
    "loans_def_delinq_df.count()"
   ]
  },
  {
   "cell_type": "code",
   "execution_count": 22,
   "id": "dcab621a",
   "metadata": {},
   "outputs": [],
   "source": [
    "loans_def_records_df=spark.sql(\"\"\"select  member_id from loans_defaulters where\n",
    "                                  pub_rec> 0.0 or pub_rec_bankruptcies >0.0\n",
    " \"\"\")"
   ]
  },
  {
   "cell_type": "code",
   "execution_count": 23,
   "id": "223276f9",
   "metadata": {},
   "outputs": [
    {
     "data": {
      "text/plain": [
       "357989"
      ]
     },
     "execution_count": 23,
     "metadata": {},
     "output_type": "execute_result"
    }
   ],
   "source": [
    "loans_def_records_df.count() #to get member_id with pub_rec_bankruptcies >0 "
   ]
  },
  {
   "cell_type": "code",
   "execution_count": 24,
   "id": "c1d9025f",
   "metadata": {},
   "outputs": [],
   "source": [
    "loans_def_delinq_df.write.mode(\"overwrite\").option(\"header\",True).format(\"csv\")\\\n",
    ".option(\"path\",\"/user/itv012010/lendingclubproject/cleaned/loans_defaulters_delinq_csv\").save()"
   ]
  },
  {
   "cell_type": "code",
   "execution_count": 25,
   "id": "d9e9115f",
   "metadata": {},
   "outputs": [],
   "source": [
    "loans_def_delinq_df.write.mode(\"overwrite\").option(\"header\",True).format(\"parquet\")\\\n",
    ".option(\"path\",\"/user/itv012010/lendingclubproject/cleaned/loans_defaulters_delinq_parquet\").save()"
   ]
  },
  {
   "cell_type": "code",
   "execution_count": 26,
   "id": "1ff86b1d",
   "metadata": {},
   "outputs": [],
   "source": [
    "loans_def_records_df.write.mode(\"overwrite\").option(\"header\",True).format(\"csv\")\\\n",
    ".option(\"path\",\"/user/itv012010/lendingclubproject/cleaned/loans_def_records_csv\").save()"
   ]
  },
  {
   "cell_type": "code",
   "execution_count": 27,
   "id": "43ad41f9",
   "metadata": {},
   "outputs": [],
   "source": [
    "loans_def_records_df.write.mode(\"overwrite\").option(\"header\",True).format(\"parquet\")\\\n",
    ".option(\"path\",\"/user/itv012010/lendingclubproject/cleaned/loans_def_records_parquet\").save()"
   ]
  },
  {
   "cell_type": "markdown",
   "id": "7fe9b8d6",
   "metadata": {},
   "source": [
    "Now we will clean all 3 main cols from loan defaulters which would be used in calculating loan Score\n",
    "i.e.; pub_rec, pub_rec_bankruptcies, enquiry_last_6mths\n",
    "replace na with zero in each of these cols. and create a table and store it in CSV,parquet format"
   ]
  },
  {
   "cell_type": "code",
   "execution_count": 46,
   "id": "81c327e0",
   "metadata": {},
   "outputs": [],
   "source": [
    "loans_def_p_pub_rec_df = loans_def_processed_df.withColumn(\"pub_rec\", col(\"pub_rec\").cast(\"integer\")).fillna(0, subset = [\"pub_rec\"])"
   ]
  },
  {
   "cell_type": "code",
   "execution_count": 47,
   "id": "f1f2366b",
   "metadata": {},
   "outputs": [],
   "source": [
    "loans_def_p_pub_rec_bankruptcies_df = loans_def_p_pub_rec_df.withColumn(\"pub_rec_bankruptcies\", col(\"pub_rec_bankruptcies\")\\\n",
    ".cast(\"integer\")).fillna(0, subset = [\"pub_rec_bankruptcies\"])"
   ]
  },
  {
   "cell_type": "code",
   "execution_count": 49,
   "id": "b969fb84",
   "metadata": {},
   "outputs": [],
   "source": [
    "loans_def_p_inq_last_6mths_df = loans_def_p_pub_rec_bankruptcies_df.withColumn(\"enquiry_last_6mths\", col(\"enquiry_last_6mths\")\\\n",
    ".cast(\"integer\")).fillna(0, subset = [\"enquiry_last_6mths\"])"
   ]
  },
  {
   "cell_type": "code",
   "execution_count": 50,
   "id": "b80a647b",
   "metadata": {},
   "outputs": [],
   "source": [
    "loans_def_p_inq_last_6mths_df.createOrReplaceTempView(\"loan_defaulters\")"
   ]
  },
  {
   "cell_type": "code",
   "execution_count": 52,
   "id": "0d7e7254",
   "metadata": {},
   "outputs": [],
   "source": [
    "loans_def_detail_records_enq_df = spark.sql(\"select member_id, pub_rec, pub_rec_bankruptcies, enquiry_last_6mths from loan_defaulters\")"
   ]
  },
  {
   "cell_type": "code",
   "execution_count": 53,
   "id": "ea05c27b",
   "metadata": {},
   "outputs": [
    {
     "data": {
      "text/html": [
       "<table border='1'>\n",
       "<tr><th>member_id</th><th>pub_rec</th><th>pub_rec_bankruptcies</th><th>enquiry_last_6mths</th></tr>\n",
       "<tr><td>2209556c19f75a204...</td><td>1</td><td>1</td><td>0</td></tr>\n",
       "<tr><td>9d0d53b8de898b446...</td><td>1</td><td>1</td><td>2</td></tr>\n",
       "<tr><td>1a978870f4a9b4b43...</td><td>0</td><td>0</td><td>0</td></tr>\n",
       "<tr><td>c66ccc99ff4372809...</td><td>0</td><td>0</td><td>1</td></tr>\n",
       "<tr><td>91d00a422248120a4...</td><td>0</td><td>0</td><td>0</td></tr>\n",
       "<tr><td>b7539a5579e723b21...</td><td>0</td><td>0</td><td>0</td></tr>\n",
       "<tr><td>2fca945a60ef9246c...</td><td>0</td><td>0</td><td>1</td></tr>\n",
       "<tr><td>8a6dababd11fd592f...</td><td>0</td><td>0</td><td>2</td></tr>\n",
       "<tr><td>3af72ce29e878edd7...</td><td>0</td><td>0</td><td>1</td></tr>\n",
       "<tr><td>4395baca2ea2d58a8...</td><td>0</td><td>0</td><td>0</td></tr>\n",
       "<tr><td>45ac50a4b31e7c191...</td><td>2</td><td>0</td><td>0</td></tr>\n",
       "<tr><td>a6a1b2d34c1f8d409...</td><td>0</td><td>0</td><td>0</td></tr>\n",
       "<tr><td>aa1795bf3b4e526f4...</td><td>5</td><td>3</td><td>0</td></tr>\n",
       "<tr><td>8e0e745628d1fb06e...</td><td>0</td><td>0</td><td>1</td></tr>\n",
       "<tr><td>232386e4de5f4542b...</td><td>0</td><td>0</td><td>0</td></tr>\n",
       "<tr><td>2d3472c91f8b2a006...</td><td>0</td><td>0</td><td>1</td></tr>\n",
       "<tr><td>9abeb83f93fd934ff...</td><td>0</td><td>0</td><td>0</td></tr>\n",
       "<tr><td>cb18b4a8c027d239c...</td><td>1</td><td>0</td><td>1</td></tr>\n",
       "<tr><td>a91eb99321edd2864...</td><td>0</td><td>0</td><td>0</td></tr>\n",
       "<tr><td>ee2a6a369b2fe6170...</td><td>0</td><td>0</td><td>0</td></tr>\n",
       "</table>\n",
       "only showing top 20 rows\n"
      ],
      "text/plain": [
       "+--------------------+-------+--------------------+------------------+\n",
       "|           member_id|pub_rec|pub_rec_bankruptcies|enquiry_last_6mths|\n",
       "+--------------------+-------+--------------------+------------------+\n",
       "|2209556c19f75a204...|      1|                   1|                 0|\n",
       "|9d0d53b8de898b446...|      1|                   1|                 2|\n",
       "|1a978870f4a9b4b43...|      0|                   0|                 0|\n",
       "|c66ccc99ff4372809...|      0|                   0|                 1|\n",
       "|91d00a422248120a4...|      0|                   0|                 0|\n",
       "|b7539a5579e723b21...|      0|                   0|                 0|\n",
       "|2fca945a60ef9246c...|      0|                   0|                 1|\n",
       "|8a6dababd11fd592f...|      0|                   0|                 2|\n",
       "|3af72ce29e878edd7...|      0|                   0|                 1|\n",
       "|4395baca2ea2d58a8...|      0|                   0|                 0|\n",
       "|45ac50a4b31e7c191...|      2|                   0|                 0|\n",
       "|a6a1b2d34c1f8d409...|      0|                   0|                 0|\n",
       "|aa1795bf3b4e526f4...|      5|                   3|                 0|\n",
       "|8e0e745628d1fb06e...|      0|                   0|                 1|\n",
       "|232386e4de5f4542b...|      0|                   0|                 0|\n",
       "|2d3472c91f8b2a006...|      0|                   0|                 1|\n",
       "|9abeb83f93fd934ff...|      0|                   0|                 0|\n",
       "|cb18b4a8c027d239c...|      1|                   0|                 1|\n",
       "|a91eb99321edd2864...|      0|                   0|                 0|\n",
       "|ee2a6a369b2fe6170...|      0|                   0|                 0|\n",
       "+--------------------+-------+--------------------+------------------+\n",
       "only showing top 20 rows"
      ]
     },
     "execution_count": 53,
     "metadata": {},
     "output_type": "execute_result"
    }
   ],
   "source": [
    "loans_def_detail_records_enq_df #we can see all 3 cols apart from member_id is replaced with zero from NA"
   ]
  },
  {
   "cell_type": "code",
   "execution_count": 54,
   "id": "cc982cd4",
   "metadata": {},
   "outputs": [],
   "source": [
    "loans_def_detail_records_enq_df.write \\\n",
    ".option(\"header\", True) \\\n",
    ".format(\"csv\") \\\n",
    ".mode(\"overwrite\") \\\n",
    ".option(\"path\", \"/user/itv012010/lendingclubproject/cleaned/loans_def_detail_records_enq_df_csv\") \\\n",
    ".save()"
   ]
  },
  {
   "cell_type": "code",
   "execution_count": 55,
   "id": "bf02ca1d",
   "metadata": {},
   "outputs": [],
   "source": [
    "loans_def_detail_records_enq_df.write \\\n",
    ".format(\"parquet\") \\\n",
    ".mode(\"overwrite\") \\\n",
    ".option(\"path\", \"/user/itv012010/lendingclubproject/cleaned/loans_def_detail_records_enq_df_parquet\") \\\n",
    ".save()"
   ]
  }
 ],
 "metadata": {
  "kernelspec": {
   "display_name": "Pyspark 3",
   "language": "python",
   "name": "pyspark3"
  },
  "language_info": {
   "codemirror_mode": {
    "name": "ipython",
    "version": 3
   },
   "file_extension": ".py",
   "mimetype": "text/x-python",
   "name": "python",
   "nbconvert_exporter": "python",
   "pygments_lexer": "ipython3",
   "version": "3.6.12"
  }
 },
 "nbformat": 4,
 "nbformat_minor": 5
}
