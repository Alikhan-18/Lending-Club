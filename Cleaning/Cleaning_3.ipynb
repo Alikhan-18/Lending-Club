{
 "cells": [
  {
   "cell_type": "code",
   "execution_count": 1,
   "id": "133744ca",
   "metadata": {},
   "outputs": [],
   "source": [
    "from pyspark.sql import SparkSession\n",
    "from pyspark.sql.functions import current_timestamp,current_date,when,col"
   ]
  },
  {
   "cell_type": "code",
   "execution_count": 2,
   "id": "fe9b0b12",
   "metadata": {},
   "outputs": [],
   "source": [
    "spark=SparkSession.builder.config(\"'spark.shuffle.useOldFetchProtocol', 'true'\")\\\n",
    ".enableHiveSupport()\\\n",
    ".appName(\"Project_Pyspark\")\\\n",
    ".master('yarn')\\\n",
    ".getOrCreate()"
   ]
  },
  {
   "cell_type": "code",
   "execution_count": 3,
   "id": "0edf1b44",
   "metadata": {},
   "outputs": [
    {
     "data": {
      "text/html": [
       "\n",
       "            <div>\n",
       "                <p><b>SparkSession - hive</b></p>\n",
       "                \n",
       "        <div>\n",
       "            <p><b>SparkContext</b></p>\n",
       "\n",
       "            <p><a href=\"http://g02.itversity.com:4040\">Spark UI</a></p>\n",
       "\n",
       "            <dl>\n",
       "              <dt>Version</dt>\n",
       "                <dd><code>v3.1.2</code></dd>\n",
       "              <dt>Master</dt>\n",
       "                <dd><code>yarn</code></dd>\n",
       "              <dt>AppName</dt>\n",
       "                <dd><code>Project_Pyspark</code></dd>\n",
       "            </dl>\n",
       "        </div>\n",
       "        \n",
       "            </div>\n",
       "        "
      ],
      "text/plain": [
       "<pyspark.sql.session.SparkSession at 0x7fdb9076a240>"
      ]
     },
     "execution_count": 3,
     "metadata": {},
     "output_type": "execute_result"
    }
   ],
   "source": [
    "spark"
   ]
  },
  {
   "cell_type": "code",
   "execution_count": 172,
   "id": "2ed4eced",
   "metadata": {},
   "outputs": [],
   "source": [
    "loans_repay_raw_df=spark.read.format(\"csv\").option(\"header\",True).option(\"inferSchema\",True)\\\n",
    ".load(\"/user/itv012010/lendingclubproject/raw/loans_repayment_csv\")"
   ]
  },
  {
   "cell_type": "code",
   "execution_count": 173,
   "id": "04679518",
   "metadata": {},
   "outputs": [
    {
     "name": "stdout",
     "output_type": "stream",
     "text": [
      "+--------+---------------+-------------+------------------+-----------+---------------+------------+------------+\n",
      "| loan_id|total_rec_prncp|total_rec_int|total_rec_late_fee|total_pymnt|last_pymnt_amnt|last_pymnt_d|next_pymnt_d|\n",
      "+--------+---------------+-------------+------------------+-----------+---------------+------------+------------+\n",
      "|69642551|        3246.03|       990.53|               0.0|    4965.02|         326.35|    Feb-2017|        null|\n",
      "|69336966|        12000.0|       1080.5|               0.0|    13080.5|        9501.81|    Nov-2016|        null|\n",
      "+--------+---------------+-------------+------------------+-----------+---------------+------------+------------+\n",
      "only showing top 2 rows\n",
      "\n"
     ]
    }
   ],
   "source": [
    "loans_repay_raw_df.show(2)"
   ]
  },
  {
   "cell_type": "code",
   "execution_count": 174,
   "id": "a29da0b5",
   "metadata": {},
   "outputs": [
    {
     "name": "stdout",
     "output_type": "stream",
     "text": [
      "root\n",
      " |-- loan_id: string (nullable = true)\n",
      " |-- total_rec_prncp: string (nullable = true)\n",
      " |-- total_rec_int: string (nullable = true)\n",
      " |-- total_rec_late_fee: string (nullable = true)\n",
      " |-- total_pymnt: string (nullable = true)\n",
      " |-- last_pymnt_amnt: string (nullable = true)\n",
      " |-- last_pymnt_d: string (nullable = true)\n",
      " |-- next_pymnt_d: string (nullable = true)\n",
      "\n"
     ]
    }
   ],
   "source": [
    "loans_repay_raw_df.printSchema() #we can see all are string we need to define schema"
   ]
  },
  {
   "cell_type": "code",
   "execution_count": 175,
   "id": "144571a3",
   "metadata": {},
   "outputs": [],
   "source": [
    "loans_repay_schema='loan_id string,total_principal_received float,total_interest_received \\\n",
    "float,total_late_fee_received float,total_payment_received \\\n",
    "float,last_payment_amount float,last_payment_date string,next_payment_date \\\n",
    "string '"
   ]
  },
  {
   "cell_type": "code",
   "execution_count": 176,
   "id": "5706425a",
   "metadata": {},
   "outputs": [],
   "source": [
    "loans_repay_raw_df=spark.read.format(\"csv\").option(\"header\",True).schema(loans_repay_schema)\\\n",
    ".load(\"/user/itv012010/lendingclubproject/raw/loans_repayment_csv\")"
   ]
  },
  {
   "cell_type": "code",
   "execution_count": 177,
   "id": "af627cc1",
   "metadata": {},
   "outputs": [
    {
     "name": "stdout",
     "output_type": "stream",
     "text": [
      "root\n",
      " |-- loan_id: string (nullable = true)\n",
      " |-- total_principal_received: float (nullable = true)\n",
      " |-- total_interest_received: float (nullable = true)\n",
      " |-- total_late_fee_received: float (nullable = true)\n",
      " |-- total_payment_received: float (nullable = true)\n",
      " |-- last_payment_amount: float (nullable = true)\n",
      " |-- last_payment_date: string (nullable = true)\n",
      " |-- next_payment_date: string (nullable = true)\n",
      "\n"
     ]
    }
   ],
   "source": [
    "loans_repay_raw_df.printSchema() #we can see names & datatypes are changed"
   ]
  },
  {
   "cell_type": "code",
   "execution_count": 178,
   "id": "641a0c52",
   "metadata": {},
   "outputs": [],
   "source": [
    "loans_repay_ingest_date=loans_repay_raw_df.withColumn(\"ingest_date\",current_timestamp()) #to generate new column"
   ]
  },
  {
   "cell_type": "code",
   "execution_count": 179,
   "id": "eddee42f",
   "metadata": {},
   "outputs": [
    {
     "data": {
      "text/plain": [
       "2260701"
      ]
     },
     "execution_count": 179,
     "metadata": {},
     "output_type": "execute_result"
    }
   ],
   "source": [
    "loans_repay_ingest_date.count() #total count "
   ]
  },
  {
   "cell_type": "code",
   "execution_count": 181,
   "id": "68c87a75",
   "metadata": {},
   "outputs": [],
   "source": [
    "loans_repay_ingest_date.createOrReplaceTempView('loans_repayments')"
   ]
  },
  {
   "cell_type": "code",
   "execution_count": 182,
   "id": "2088d165",
   "metadata": {},
   "outputs": [
    {
     "data": {
      "text/html": [
       "<table border='1'>\n",
       "<tr><th>count(1)</th></tr>\n",
       "<tr><td>69</td></tr>\n",
       "</table>\n"
      ],
      "text/plain": [
       "+--------+\n",
       "|count(1)|\n",
       "+--------+\n",
       "|      69|\n",
       "+--------+"
      ]
     },
     "execution_count": 182,
     "metadata": {},
     "output_type": "execute_result"
    }
   ],
   "source": [
    "spark.sql(\"select count(*) from loans_repayments \\\n",
    "          where total_principal_received is null\") #to check nulls in principal amount received"
   ]
  },
  {
   "cell_type": "code",
   "execution_count": 183,
   "id": "c214148b",
   "metadata": {},
   "outputs": [],
   "source": [
    "columns_to_check =[\"total_principal_received\",\"total_interest_received\",\"total_late_fee_received\",\"\\\n",
    "total_payment_received\",\"last_payment_amount\"]"
   ]
  },
  {
   "cell_type": "code",
   "execution_count": 184,
   "id": "2a9b32bd",
   "metadata": {},
   "outputs": [],
   "source": [
    "loans_repay_filtered_df=loans_repay_ingest_date.na.drop(subset=columns_to_check)"
   ]
  },
  {
   "cell_type": "code",
   "execution_count": 185,
   "id": "013dd274",
   "metadata": {},
   "outputs": [
    {
     "data": {
      "text/plain": [
       "2260498"
      ]
     },
     "execution_count": 185,
     "metadata": {},
     "output_type": "execute_result"
    }
   ],
   "source": [
    "loans_repay_filtered_df.count() #count after droping columns with NA"
   ]
  },
  {
   "cell_type": "code",
   "execution_count": 188,
   "id": "5b615d6e",
   "metadata": {},
   "outputs": [],
   "source": [
    "loans_repay_filtered_df.createOrReplaceTempView('loans_repayments')"
   ]
  },
  {
   "cell_type": "code",
   "execution_count": 189,
   "id": "8bad76f0",
   "metadata": {},
   "outputs": [
    {
     "data": {
      "text/html": [
       "<table border='1'>\n",
       "<tr><th>loan_id</th><th>total_principal_received</th><th>total_interest_received</th><th>total_late_fee_received</th><th>total_payment_received</th><th>last_payment_amount</th><th>last_payment_date</th><th>next_payment_date</th><th>ingest_date</th></tr>\n",
       "<tr><td>1064185</td><td>11600.98</td><td>11600.98</td><td>10000.0</td><td>0.0</td><td>0.0</td><td>0.0</td><td>Dec-2014</td><td>2024-03-30 09:52:...</td></tr>\n",
       "<tr><td>516382</td><td>21890.229</td><td>21856.03</td><td>16000.0</td><td>0.0</td><td>0.0</td><td>0.0</td><td>Mar-2014</td><td>2024-03-30 09:52:...</td></tr>\n",
       "<tr><td>528899</td><td>3045.0364</td><td>3019.64</td><td>2500.0</td><td>0.0</td><td>0.0</td><td>0.0</td><td>Jan-2013</td><td>2024-03-30 09:52:...</td></tr>\n",
       "<tr><td>527598</td><td>2398.9092</td><td>2220.51</td><td>2200.0</td><td>0.0</td><td>0.0</td><td>0.0</td><td>Jul-2011</td><td>2024-03-30 09:52:...</td></tr>\n",
       "<tr><td>525697</td><td>21797.86</td><td>19894.9</td><td>15750.0</td><td>0.0</td><td>0.0</td><td>0.0</td><td>Jun-2015</td><td>2024-03-30 09:52:...</td></tr>\n",
       "<tr><td>522641</td><td>3146.8193</td><td>3146.82</td><td>3000.0</td><td>0.0</td><td>0.0</td><td>0.0</td><td>Sep-2011</td><td>2024-03-30 09:52:...</td></tr>\n",
       "<tr><td>515655</td><td>29938.576</td><td>29905.75</td><td>22800.0</td><td>0.0</td><td>0.0</td><td>0.0</td><td>May-2013</td><td>2024-03-30 09:52:...</td></tr>\n",
       "<tr><td>501234</td><td>15219.313</td><td>15155.9</td><td>12000.0</td><td>0.0</td><td>0.0</td><td>0.0</td><td>May-2013</td><td>2024-03-30 09:52:...</td></tr>\n",
       "<tr><td>498194</td><td>11642.714</td><td>11031.47</td><td>10000.0</td><td>0.0</td><td>0.0</td><td>0.0</td><td>Jan-2013</td><td>2024-03-30 09:52:...</td></tr>\n",
       "<tr><td>495171</td><td>11138.843</td><td>10024.96</td><td>10000.0</td><td>0.0</td><td>0.0</td><td>0.0</td><td>Apr-2013</td><td>2024-03-30 09:52:...</td></tr>\n",
       "<tr><td>493508</td><td>28732.803</td><td>28495.83</td><td>24250.0</td><td>0.0</td><td>0.0</td><td>0.0</td><td>Apr-2013</td><td>2024-03-30 09:52:...</td></tr>\n",
       "<tr><td>485818</td><td>14640.096</td><td>13388.84</td><td>13000.0</td><td>0.0</td><td>0.0</td><td>0.0</td><td>Mar-2013</td><td>2024-03-30 09:52:...</td></tr>\n",
       "<tr><td>485471</td><td>29620.818</td><td>29134.64</td><td>25000.0</td><td>0.0</td><td>0.0</td><td>0.0</td><td>Mar-2013</td><td>2024-03-30 09:52:...</td></tr>\n",
       "<tr><td>482256</td><td>8735.611</td><td>7479.87</td><td>8000.0</td><td>0.0</td><td>0.0</td><td>0.0</td><td>Feb-2011</td><td>2024-03-30 09:52:...</td></tr>\n",
       "<tr><td>478160</td><td>410.0</td><td>407.36</td><td>0.0</td><td>0.0</td><td>143.1</td><td>410.0</td><td>null</td><td>2024-03-30 09:52:...</td></tr>\n",
       "<tr><td>476557</td><td>28865.18</td><td>24164.67</td><td>5692.31</td><td>0.0</td><td>6972.59</td><td>19916.78</td><td>Dec-2010</td><td>2024-03-30 09:52:...</td></tr>\n",
       "<tr><td>472516</td><td>25951.482</td><td>24731.76</td><td>25000.0</td><td>0.0</td><td>0.0</td><td>0.0</td><td>May-2010</td><td>2024-03-30 09:52:...</td></tr>\n",
       "<tr><td>472197</td><td>12048.13</td><td>12018.01</td><td>10000.0</td><td>0.0</td><td>0.0</td><td>0.0</td><td>Jan-2013</td><td>2024-03-30 09:52:...</td></tr>\n",
       "<tr><td>467364</td><td>29216.791</td><td>29066.19</td><td>24250.0</td><td>0.0</td><td>0.0</td><td>0.0</td><td>Dec-2012</td><td>2024-03-30 09:52:...</td></tr>\n",
       "<tr><td>399499</td><td>26557.729</td><td>26336.41</td><td>24000.0</td><td>0.0</td><td>0.0</td><td>0.0</td><td>Dec-2010</td><td>2024-03-30 09:52:...</td></tr>\n",
       "</table>\n",
       "only showing top 20 rows\n"
      ],
      "text/plain": [
       "+-------+------------------------+-----------------------+-----------------------+----------------------+-------------------+-----------------+-----------------+--------------------+\n",
       "|loan_id|total_principal_received|total_interest_received|total_late_fee_received|total_payment_received|last_payment_amount|last_payment_date|next_payment_date|         ingest_date|\n",
       "+-------+------------------------+-----------------------+-----------------------+----------------------+-------------------+-----------------+-----------------+--------------------+\n",
       "|1064185|                11600.98|               11600.98|                10000.0|                   0.0|                0.0|              0.0|         Dec-2014|2024-03-30 09:52:...|\n",
       "| 516382|               21890.229|               21856.03|                16000.0|                   0.0|                0.0|              0.0|         Mar-2014|2024-03-30 09:52:...|\n",
       "| 528899|               3045.0364|                3019.64|                 2500.0|                   0.0|                0.0|              0.0|         Jan-2013|2024-03-30 09:52:...|\n",
       "| 527598|               2398.9092|                2220.51|                 2200.0|                   0.0|                0.0|              0.0|         Jul-2011|2024-03-30 09:52:...|\n",
       "| 525697|                21797.86|                19894.9|                15750.0|                   0.0|                0.0|              0.0|         Jun-2015|2024-03-30 09:52:...|\n",
       "| 522641|               3146.8193|                3146.82|                 3000.0|                   0.0|                0.0|              0.0|         Sep-2011|2024-03-30 09:52:...|\n",
       "| 515655|               29938.576|               29905.75|                22800.0|                   0.0|                0.0|              0.0|         May-2013|2024-03-30 09:52:...|\n",
       "| 501234|               15219.313|                15155.9|                12000.0|                   0.0|                0.0|              0.0|         May-2013|2024-03-30 09:52:...|\n",
       "| 498194|               11642.714|               11031.47|                10000.0|                   0.0|                0.0|              0.0|         Jan-2013|2024-03-30 09:52:...|\n",
       "| 495171|               11138.843|               10024.96|                10000.0|                   0.0|                0.0|              0.0|         Apr-2013|2024-03-30 09:52:...|\n",
       "| 493508|               28732.803|               28495.83|                24250.0|                   0.0|                0.0|              0.0|         Apr-2013|2024-03-30 09:52:...|\n",
       "| 485818|               14640.096|               13388.84|                13000.0|                   0.0|                0.0|              0.0|         Mar-2013|2024-03-30 09:52:...|\n",
       "| 485471|               29620.818|               29134.64|                25000.0|                   0.0|                0.0|              0.0|         Mar-2013|2024-03-30 09:52:...|\n",
       "| 482256|                8735.611|                7479.87|                 8000.0|                   0.0|                0.0|              0.0|         Feb-2011|2024-03-30 09:52:...|\n",
       "| 478160|                   410.0|                 407.36|                    0.0|                   0.0|              143.1|            410.0|             null|2024-03-30 09:52:...|\n",
       "| 476557|                28865.18|               24164.67|                5692.31|                   0.0|            6972.59|         19916.78|         Dec-2010|2024-03-30 09:52:...|\n",
       "| 472516|               25951.482|               24731.76|                25000.0|                   0.0|                0.0|              0.0|         May-2010|2024-03-30 09:52:...|\n",
       "| 472197|                12048.13|               12018.01|                10000.0|                   0.0|                0.0|              0.0|         Jan-2013|2024-03-30 09:52:...|\n",
       "| 467364|               29216.791|               29066.19|                24250.0|                   0.0|                0.0|              0.0|         Dec-2012|2024-03-30 09:52:...|\n",
       "| 399499|               26557.729|               26336.41|                24000.0|                   0.0|                0.0|              0.0|         Dec-2010|2024-03-30 09:52:...|\n",
       "+-------+------------------------+-----------------------+-----------------------+----------------------+-------------------+-----------------+-----------------+--------------------+\n",
       "only showing top 20 rows"
      ]
     },
     "execution_count": 189,
     "metadata": {},
     "output_type": "execute_result"
    }
   ],
   "source": [
    "spark.sql(\"select * from loans_repayments where total_payment_received =0.0 and total_principal_received !=0\")\n",
    "#total_payment_received = total_principal_received + total_interest_received +  total_late_fee_received\n",
    "\n",
    "#we can see there are records where total_payment_received is zero but total_principal_received,total_interest_received,total_late_fee_received\n",
    "#are not"
   ]
  },
  {
   "cell_type": "code",
   "execution_count": 190,
   "id": "2420b3ec",
   "metadata": {},
   "outputs": [],
   "source": [
    "loans_payments_fixed=loans_repay_filtered_df.withColumn( \n",
    "    \"total_payment_received\", \n",
    "    when( \n",
    "        (col(\"total_principal_received\")!=0.0) & \n",
    "        (col(\"total_payment_received\")==0.0), \n",
    "        col(\"total_principal_received\")+col(\"total_interest_received\")+col(\"total_late_fee_received\")).otherwise(col(\"total_payment_received\"))\n",
    ") #this checks if there is a condition like above them add all three columns else keep as it is"
   ]
  },
  {
   "cell_type": "code",
   "execution_count": 194,
   "id": "71863c5a",
   "metadata": {},
   "outputs": [
    {
     "data": {
      "text/html": [
       "<table border='1'>\n",
       "<tr><th>loan_id</th><th>total_principal_received</th><th>total_interest_received</th><th>total_late_fee_received</th><th>total_payment_received</th><th>last_payment_amount</th><th>last_payment_date</th><th>next_payment_date</th><th>ingest_date</th></tr>\n",
       "<tr><td>1064185</td><td>11600.98</td><td>11600.98</td><td>10000.0</td><td>33201.96</td><td>0.0</td><td>0.0</td><td>Dec-2014</td><td>2024-03-30 09:53:...</td></tr>\n",
       "</table>\n"
      ],
      "text/plain": [
       "+-------+------------------------+-----------------------+-----------------------+----------------------+-------------------+-----------------+-----------------+--------------------+\n",
       "|loan_id|total_principal_received|total_interest_received|total_late_fee_received|total_payment_received|last_payment_amount|last_payment_date|next_payment_date|         ingest_date|\n",
       "+-------+------------------------+-----------------------+-----------------------+----------------------+-------------------+-----------------+-----------------+--------------------+\n",
       "|1064185|                11600.98|               11600.98|                10000.0|              33201.96|                0.0|              0.0|         Dec-2014|2024-03-30 09:53:...|\n",
       "+-------+------------------------+-----------------------+-----------------------+----------------------+-------------------+-----------------+-----------------+--------------------+"
      ]
     },
     "execution_count": 194,
     "metadata": {},
     "output_type": "execute_result"
    }
   ],
   "source": [
    "loans_payments_fixed.filter(\"loan_id = '1064185'\") #we can see here now the data is changed total_payment_received is not zero now"
   ]
  },
  {
   "cell_type": "code",
   "execution_count": 195,
   "id": "1f1852bd",
   "metadata": {},
   "outputs": [],
   "source": [
    "#now we need to remove rows where total_payment_received is zero "
   ]
  },
  {
   "cell_type": "code",
   "execution_count": 196,
   "id": "e7fe859f",
   "metadata": {},
   "outputs": [],
   "source": [
    "loans_payment_fixed2=loans_payments_fixed.filter(\"total_payment_received!='0.0'\")"
   ]
  },
  {
   "cell_type": "code",
   "execution_count": 197,
   "id": "b570e5a3",
   "metadata": {},
   "outputs": [
    {
     "data": {
      "text/html": [
       "<table border='1'>\n",
       "<tr><th>loan_id</th><th>total_principal_received</th><th>total_interest_received</th><th>total_late_fee_received</th><th>total_payment_received</th><th>last_payment_amount</th><th>last_payment_date</th><th>next_payment_date</th><th>ingest_date</th></tr>\n",
       "<tr><td>69642551</td><td>3246.03</td><td>990.53</td><td>0.0</td><td>4965.02</td><td>326.35</td><td>Feb-2017</td><td>null</td><td>2024-03-30 09:53:...</td></tr>\n",
       "<tr><td>69336966</td><td>12000.0</td><td>1080.5</td><td>0.0</td><td>13080.5</td><td>9501.81</td><td>Nov-2016</td><td>null</td><td>2024-03-30 09:53:...</td></tr>\n",
       "<tr><td>69226186</td><td>28000.0</td><td>3049.36</td><td>0.0</td><td>31049.361</td><td>9306.81</td><td>Mar-2018</td><td>null</td><td>2024-03-30 09:53:...</td></tr>\n",
       "<tr><td>69084024</td><td>16500.0</td><td>900.32</td><td>0.0</td><td>17400.32</td><td>14085.82</td><td>Aug-2016</td><td>null</td><td>2024-03-30 09:53:...</td></tr>\n",
       "<tr><td>69422635</td><td>21000.0</td><td>4452.42</td><td>0.0</td><td>25452.418</td><td>12705.78</td><td>Jun-2018</td><td>null</td><td>2024-03-30 09:53:...</td></tr>\n",
       "<tr><td>69542436</td><td>1220.15</td><td>1252.23</td><td>0.0</td><td>4533.19</td><td>497.94</td><td>Jul-2016</td><td>null</td><td>2024-03-30 09:53:...</td></tr>\n",
       "<tr><td>69492501</td><td>29000.0</td><td>5405.32</td><td>47.8</td><td>34453.12</td><td>771.08</td><td>Mar-2019</td><td>Apr-2019</td><td>2024-03-30 09:53:...</td></tr>\n",
       "<tr><td>69522527</td><td>33000.0</td><td>2092.69</td><td>0.0</td><td>35092.69</td><td>65.34</td><td>Jul-2016</td><td>null</td><td>2024-03-30 09:53:...</td></tr>\n",
       "<tr><td>68781653</td><td>18000.0</td><td>4167.34</td><td>0.0</td><td>22167.344</td><td>13021.32</td><td>Jan-2018</td><td>null</td><td>2024-03-30 09:53:...</td></tr>\n",
       "<tr><td>69371334</td><td>16000.0</td><td>1140.7</td><td>0.0</td><td>17140.701</td><td>13910.33</td><td>Dec-2016</td><td>null</td><td>2024-03-30 09:53:...</td></tr>\n",
       "<tr><td>68714098</td><td>15000.0</td><td>1665.34</td><td>0.0</td><td>16665.336</td><td>463.01</td><td>Jan-2019</td><td>null</td><td>2024-03-30 09:53:...</td></tr>\n",
       "<tr><td>69622505</td><td>14993.49</td><td>15587.45</td><td>0.0</td><td>30580.94</td><td>925.15</td><td>Nov-2018</td><td>Apr-2019</td><td>2024-03-30 09:53:...</td></tr>\n",
       "<tr><td>69084020</td><td>8191.71</td><td>2319.93</td><td>0.0</td><td>11211.64</td><td>403.64</td><td>Mar-2018</td><td>null</td><td>2024-03-30 09:53:...</td></tr>\n",
       "<tr><td>69552651</td><td>13221.14</td><td>7957.71</td><td>0.0</td><td>21178.85</td><td>558.32</td><td>Mar-2019</td><td>Apr-2019</td><td>2024-03-30 09:53:...</td></tr>\n",
       "<tr><td>69084037</td><td>7200.0</td><td>983.7</td><td>0.0</td><td>8183.7036</td><td>4153.17</td><td>Jul-2017</td><td>null</td><td>2024-03-30 09:53:...</td></tr>\n",
       "<tr><td>69612464</td><td>2189.97</td><td>342.22</td><td>0.0</td><td>2532.19</td><td>78.91</td><td>Oct-2018</td><td>null</td><td>2024-03-30 09:53:...</td></tr>\n",
       "<tr><td>69562380</td><td>11481.73</td><td>10842.62</td><td>0.0</td><td>22324.35</td><td>588.13</td><td>Mar-2019</td><td>Apr-2019</td><td>2024-03-30 09:53:...</td></tr>\n",
       "<tr><td>69422542</td><td>7200.0</td><td>539.02</td><td>0.0</td><td>7739.025</td><td>194.79</td><td>Jan-2017</td><td>null</td><td>2024-03-30 09:53:...</td></tr>\n",
       "<tr><td>69652408</td><td>1500.0</td><td>317.81</td><td>0.0</td><td>1817.8054</td><td>246.22</td><td>Apr-2018</td><td>null</td><td>2024-03-30 09:53:...</td></tr>\n",
       "<tr><td>68756432</td><td>17271.58</td><td>6819.29</td><td>0.0</td><td>24090.87</td><td>634.47</td><td>Mar-2019</td><td>Apr-2019</td><td>2024-03-30 09:53:...</td></tr>\n",
       "</table>\n",
       "only showing top 20 rows\n"
      ],
      "text/plain": [
       "+--------+------------------------+-----------------------+-----------------------+----------------------+-------------------+-----------------+-----------------+--------------------+\n",
       "| loan_id|total_principal_received|total_interest_received|total_late_fee_received|total_payment_received|last_payment_amount|last_payment_date|next_payment_date|         ingest_date|\n",
       "+--------+------------------------+-----------------------+-----------------------+----------------------+-------------------+-----------------+-----------------+--------------------+\n",
       "|69642551|                 3246.03|                 990.53|                    0.0|               4965.02|             326.35|         Feb-2017|             null|2024-03-30 09:53:...|\n",
       "|69336966|                 12000.0|                 1080.5|                    0.0|               13080.5|            9501.81|         Nov-2016|             null|2024-03-30 09:53:...|\n",
       "|69226186|                 28000.0|                3049.36|                    0.0|             31049.361|            9306.81|         Mar-2018|             null|2024-03-30 09:53:...|\n",
       "|69084024|                 16500.0|                 900.32|                    0.0|              17400.32|           14085.82|         Aug-2016|             null|2024-03-30 09:53:...|\n",
       "|69422635|                 21000.0|                4452.42|                    0.0|             25452.418|           12705.78|         Jun-2018|             null|2024-03-30 09:53:...|\n",
       "|69542436|                 1220.15|                1252.23|                    0.0|               4533.19|             497.94|         Jul-2016|             null|2024-03-30 09:53:...|\n",
       "|69492501|                 29000.0|                5405.32|                   47.8|              34453.12|             771.08|         Mar-2019|         Apr-2019|2024-03-30 09:53:...|\n",
       "|69522527|                 33000.0|                2092.69|                    0.0|              35092.69|              65.34|         Jul-2016|             null|2024-03-30 09:53:...|\n",
       "|68781653|                 18000.0|                4167.34|                    0.0|             22167.344|           13021.32|         Jan-2018|             null|2024-03-30 09:53:...|\n",
       "|69371334|                 16000.0|                 1140.7|                    0.0|             17140.701|           13910.33|         Dec-2016|             null|2024-03-30 09:53:...|\n",
       "|68714098|                 15000.0|                1665.34|                    0.0|             16665.336|             463.01|         Jan-2019|             null|2024-03-30 09:53:...|\n",
       "|69622505|                14993.49|               15587.45|                    0.0|              30580.94|             925.15|         Nov-2018|         Apr-2019|2024-03-30 09:53:...|\n",
       "|69084020|                 8191.71|                2319.93|                    0.0|              11211.64|             403.64|         Mar-2018|             null|2024-03-30 09:53:...|\n",
       "|69552651|                13221.14|                7957.71|                    0.0|              21178.85|             558.32|         Mar-2019|         Apr-2019|2024-03-30 09:53:...|\n",
       "|69084037|                  7200.0|                  983.7|                    0.0|             8183.7036|            4153.17|         Jul-2017|             null|2024-03-30 09:53:...|\n",
       "|69612464|                 2189.97|                 342.22|                    0.0|               2532.19|              78.91|         Oct-2018|             null|2024-03-30 09:53:...|\n",
       "|69562380|                11481.73|               10842.62|                    0.0|              22324.35|             588.13|         Mar-2019|         Apr-2019|2024-03-30 09:53:...|\n",
       "|69422542|                  7200.0|                 539.02|                    0.0|              7739.025|             194.79|         Jan-2017|             null|2024-03-30 09:53:...|\n",
       "|69652408|                  1500.0|                 317.81|                    0.0|             1817.8054|             246.22|         Apr-2018|             null|2024-03-30 09:53:...|\n",
       "|68756432|                17271.58|                6819.29|                    0.0|              24090.87|             634.47|         Mar-2019|         Apr-2019|2024-03-30 09:53:...|\n",
       "+--------+------------------------+-----------------------+-----------------------+----------------------+-------------------+-----------------+-----------------+--------------------+\n",
       "only showing top 20 rows"
      ]
     },
     "execution_count": 197,
     "metadata": {},
     "output_type": "execute_result"
    }
   ],
   "source": [
    "loans_payment_fixed2#this has data where payments has been cleaned as per above logics"
   ]
  },
  {
   "cell_type": "code",
   "execution_count": 198,
   "id": "b8300f65",
   "metadata": {},
   "outputs": [],
   "source": [
    "#we can see last_payment_amount & next_payment_date is zero in many columns we need to replace them with nulls "
   ]
  },
  {
   "cell_type": "code",
   "execution_count": 201,
   "id": "91524d6a",
   "metadata": {},
   "outputs": [
    {
     "data": {
      "text/plain": [
       "48"
      ]
     },
     "execution_count": 201,
     "metadata": {},
     "output_type": "execute_result"
    }
   ],
   "source": [
    "loans_payment_fixed2.filter(\"last_payment_date=0.0\").count()"
   ]
  },
  {
   "cell_type": "code",
   "execution_count": 202,
   "id": "e96615bd",
   "metadata": {},
   "outputs": [
    {
     "data": {
      "text/plain": [
       "24"
      ]
     },
     "execution_count": 202,
     "metadata": {},
     "output_type": "execute_result"
    }
   ],
   "source": [
    "loans_payment_fixed2.filter(\"next_payment_date=0.0\").count()"
   ]
  },
  {
   "cell_type": "code",
   "execution_count": 140,
   "id": "6bead0eb",
   "metadata": {},
   "outputs": [],
   "source": [
    "#need to replace above with nulls bcz date cannot be zero"
   ]
  },
  {
   "cell_type": "code",
   "execution_count": 203,
   "id": "1a7d151a",
   "metadata": {},
   "outputs": [],
   "source": [
    "loans_paymentl_date_fixed=loans_payment_fixed2.withColumn(\n",
    "    \"last_payment_date\", \n",
    "    when(\n",
    "     (col(\"last_payment_date\")==0.0),\n",
    "     None\n",
    "     ).otherwise(col(\"last_payment_date\"))\n",
    ")"
   ]
  },
  {
   "cell_type": "code",
   "execution_count": 204,
   "id": "464738e0",
   "metadata": {},
   "outputs": [],
   "source": [
    "loans_paymentn_date_fixed=loans_paymentl_date_fixed.withColumn(\n",
    "    \"next_payment_date\", \n",
    "    when(\n",
    "     (col(\"next_payment_date\")==0.0),\n",
    "     None\n",
    "     ).otherwise(col(\"next_payment_date\"))\n",
    ")"
   ]
  },
  {
   "cell_type": "code",
   "execution_count": 205,
   "id": "139c121b",
   "metadata": {},
   "outputs": [
    {
     "data": {
      "text/plain": [
       "0"
      ]
     },
     "execution_count": 205,
     "metadata": {},
     "output_type": "execute_result"
    }
   ],
   "source": [
    "loans_paymentn_date_fixed.filter(\"next_payment_date = 0.0\").count()"
   ]
  },
  {
   "cell_type": "code",
   "execution_count": 159,
   "id": "e3da02de",
   "metadata": {},
   "outputs": [
    {
     "data": {
      "text/plain": [
       "0"
      ]
     },
     "execution_count": 159,
     "metadata": {},
     "output_type": "execute_result"
    }
   ],
   "source": [
    "loans_paymentn_date_fixed.filter(\"last_payment_date = 0.0\").count() #we can see now there are no last_payment_date & next_payment_date with zeros"
   ]
  },
  {
   "cell_type": "code",
   "execution_count": 206,
   "id": "e5a9e7cf",
   "metadata": {},
   "outputs": [],
   "source": [
    "loans_paymentn_date_fixed.write.mode(\"overwrite\").option(\"header\",True).format(\"csv\")\\\n",
    ".option(\"path\",\"/user/itv012010/lendingclubproject/cleaned/loans_repayment_csv\").save() #saving as csv"
   ]
  },
  {
   "cell_type": "code",
   "execution_count": 207,
   "id": "f53c92b1",
   "metadata": {},
   "outputs": [],
   "source": [
    "loans_paymentn_date_fixed.write.mode(\"overwrite\").option(\"header\",True).format(\"parquet\")\\\n",
    ".option(\"path\",\"/user/itv012010/lendingclubproject/cleaned/loans_repayment_parquet\").save() #saving as parquet"
   ]
  },
  {
   "cell_type": "code",
   "execution_count": 209,
   "id": "b76e9342",
   "metadata": {},
   "outputs": [
    {
     "data": {
      "text/plain": [
       "2"
      ]
     },
     "execution_count": 209,
     "metadata": {},
     "output_type": "execute_result"
    }
   ],
   "source": [
    "loans_paymentn_date_fixed.rdd.getNumPartitions() #there would be two files created "
   ]
  },
  {
   "cell_type": "code",
   "execution_count": null,
   "id": "a96fd4f7",
   "metadata": {},
   "outputs": [],
   "source": []
  }
 ],
 "metadata": {
  "kernelspec": {
   "display_name": "Pyspark 3",
   "language": "python",
   "name": "pyspark3"
  },
  "language_info": {
   "codemirror_mode": {
    "name": "ipython",
    "version": 3
   },
   "file_extension": ".py",
   "mimetype": "text/x-python",
   "name": "python",
   "nbconvert_exporter": "python",
   "pygments_lexer": "ipython3",
   "version": "3.6.12"
  }
 },
 "nbformat": 4,
 "nbformat_minor": 5
}
