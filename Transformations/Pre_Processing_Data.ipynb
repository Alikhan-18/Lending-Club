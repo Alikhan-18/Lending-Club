{
 "cells": [
  {
   "cell_type": "markdown",
   "id": "b7331d79",
   "metadata": {},
   "source": [
    "The tables created earlier in Cleaning part were temporary tables we need permanent tables to be stored where data is not lost,\n",
    "thus we create external tables on Hive"
   ]
  },
  {
   "cell_type": "code",
   "execution_count": 1,
   "id": "6c549b32",
   "metadata": {},
   "outputs": [],
   "source": [
    "from pyspark.sql import SparkSession"
   ]
  },
  {
   "cell_type": "code",
   "execution_count": 2,
   "id": "e8639660",
   "metadata": {},
   "outputs": [],
   "source": [
    "spark=SparkSession.builder.\\\n",
    "config('spark.shuffle.useOldFetchProtocol', 'true').\\\n",
    "config('spark.sql.warehouse.dir','/user/itv012010/warehouse').\\\n",
    "enableHiveSupport().\\\n",
    "appName(\"Project_Pyspark\").\\\n",
    "master('yarn').\\\n",
    "getOrCreate()"
   ]
  },
  {
   "cell_type": "code",
   "execution_count": 3,
   "id": "b0271fa1",
   "metadata": {},
   "outputs": [
    {
     "data": {
      "text/html": [
       "\n",
       "            <div>\n",
       "                <p><b>SparkSession - hive</b></p>\n",
       "                \n",
       "        <div>\n",
       "            <p><b>SparkContext</b></p>\n",
       "\n",
       "            <p><a href=\"http://g02.itversity.com:4040\">Spark UI</a></p>\n",
       "\n",
       "            <dl>\n",
       "              <dt>Version</dt>\n",
       "                <dd><code>v3.1.2</code></dd>\n",
       "              <dt>Master</dt>\n",
       "                <dd><code>yarn</code></dd>\n",
       "              <dt>AppName</dt>\n",
       "                <dd><code>Project_Pyspark</code></dd>\n",
       "            </dl>\n",
       "        </div>\n",
       "        \n",
       "            </div>\n",
       "        "
      ],
      "text/plain": [
       "<pyspark.sql.session.SparkSession at 0x7fd745d5d2e8>"
      ]
     },
     "execution_count": 3,
     "metadata": {},
     "output_type": "execute_result"
    }
   ],
   "source": [
    "spark"
   ]
  },
  {
   "cell_type": "code",
   "execution_count": 4,
   "id": "baeb39b2",
   "metadata": {},
   "outputs": [],
   "source": [
    "customers_df=spark.read.format(\"parquet\").load(\"/user/itv012010/lendingclubproject/cleaned/customers_parquet\")"
   ]
  },
  {
   "cell_type": "code",
   "execution_count": 43,
   "id": "6f1006cb",
   "metadata": {},
   "outputs": [
    {
     "data": {
      "text/html": [
       "<table border='1'>\n",
       "<tr><th></th></tr>\n",
       "</table>\n"
      ],
      "text/plain": [
       "++\n",
       "||\n",
       "++\n",
       "++"
      ]
     },
     "execution_count": 43,
     "metadata": {},
     "output_type": "execute_result"
    }
   ],
   "source": [
    "spark.sql(\"create database itv012010_lending_club_project\")"
   ]
  },
  {
   "cell_type": "code",
   "execution_count": 44,
   "id": "9cb99ad6",
   "metadata": {},
   "outputs": [
    {
     "data": {
      "text/html": [
       "<table border='1'>\n",
       "<tr><th></th></tr>\n",
       "</table>\n"
      ],
      "text/plain": [
       "++\n",
       "||\n",
       "++\n",
       "++"
      ]
     },
     "execution_count": 44,
     "metadata": {},
     "output_type": "execute_result"
    }
   ],
   "source": [
    "spark.sql(\"use itv012010_lending_club_project\")"
   ]
  },
  {
   "cell_type": "code",
   "execution_count": 45,
   "id": "cf2888f4",
   "metadata": {},
   "outputs": [
    {
     "data": {
      "text/html": [
       "<table border='1'>\n",
       "<tr><th>database</th><th>tableName</th><th>isTemporary</th></tr>\n",
       "</table>\n"
      ],
      "text/plain": [
       "+--------+---------+-----------+\n",
       "|database|tableName|isTemporary|\n",
       "+--------+---------+-----------+\n",
       "+--------+---------+-----------+"
      ]
     },
     "execution_count": 45,
     "metadata": {},
     "output_type": "execute_result"
    }
   ],
   "source": [
    "spark.sql(\"show tables\")"
   ]
  },
  {
   "cell_type": "code",
   "execution_count": 49,
   "id": "effcb072",
   "metadata": {},
   "outputs": [
    {
     "data": {
      "text/html": [
       "<table border='1'>\n",
       "<tr><th></th></tr>\n",
       "</table>\n"
      ],
      "text/plain": [
       "++\n",
       "||\n",
       "++\n",
       "++"
      ]
     },
     "execution_count": 49,
     "metadata": {},
     "output_type": "execute_result"
    }
   ],
   "source": [
    "spark.sql(\"\"\"\n",
    "CREATE EXTERNAL TABLE\n",
    "itv012010_lending_club_project.customers(member_id string,emp_title\n",
    "string,emp_length int, home_ownership string,annual_income\n",
    "float,address_state string,address_zipcode string,address_country\n",
    "string,grade string,sub_grade string,verification_status\n",
    "string,total_high_credit_limit float,application_type\n",
    "string,join_annual_income float,verification_status_joint string,ingest_date\n",
    "timestamp) stored as parquet\n",
    "LOCATION\n",
    "'/public/trendytech/lendingclubproject/cleaned/customers_parquet'\n",
    "\"\"\")"
   ]
  },
  {
   "cell_type": "code",
   "execution_count": 50,
   "id": "fb2dc8de",
   "metadata": {},
   "outputs": [
    {
     "data": {
      "text/html": [
       "<table border='1'>\n",
       "<tr><th>member_id</th><th>emp_title</th><th>emp_length</th><th>home_ownership</th><th>annual_income</th><th>address_state</th><th>address_zipcode</th><th>address_country</th><th>grade</th><th>sub_grade</th><th>verification_status</th><th>total_high_credit_limit</th><th>application_type</th><th>join_annual_income</th><th>verification_status_joint</th><th>ingest_date</th></tr>\n",
       "<tr><td>de8d40bb549f3e676...</td><td>Slot Club Lead</td><td>10</td><td>RENT</td><td>42000.0</td><td>CO</td><td>800xx</td><td>USA</td><td>A</td><td>A5</td><td>Source Verified</td><td>19200.0</td><td>Individual</td><td>null</td><td>null</td><td>2023-09-15 17:18:...</td></tr>\n",
       "<tr><td>cb2bfe6ba8d8040ea...</td><td>Development Manager</td><td>1</td><td>MORTGAGE</td><td>120000.0</td><td>NJ</td><td>080xx</td><td>USA</td><td>B</td><td>B2</td><td>Verified</td><td>521247.0</td><td>Individual</td><td>null</td><td>null</td><td>2023-09-15 17:18:...</td></tr>\n",
       "<tr><td>fd6cd0f257e376951...</td><td>Chef/Baker</td><td>5</td><td>RENT</td><td>25000.0</td><td>GA</td><td>310xx</td><td>USA</td><td>E</td><td>E2</td><td>Source Verified</td><td>18200.0</td><td>Individual</td><td>null</td><td>null</td><td>2023-09-15 17:18:...</td></tr>\n",
       "<tr><td>46a7d1486ffcd4024...</td><td>Service Manager</td><td>3</td><td>MORTGAGE</td><td>122000.0</td><td>NY</td><td>113xx</td><td>USA</td><td>C</td><td>C3</td><td>Verified</td><td>232468.0</td><td>Individual</td><td>null</td><td>null</td><td>2023-09-15 17:18:...</td></tr>\n",
       "<tr><td>ec70891c26a58aad8...</td><td>Maintenance Manager</td><td>1</td><td>RENT</td><td>35000.0</td><td>CO</td><td>804xx</td><td>USA</td><td>C</td><td>C1</td><td>Verified</td><td>16200.0</td><td>Individual</td><td>null</td><td>null</td><td>2023-09-15 17:18:...</td></tr>\n",
       "<tr><td>8b5e4553da13c2336...</td><td>Driver</td><td>10</td><td>RENT</td><td>65000.0</td><td>NY</td><td>112xx</td><td>USA</td><td>C</td><td>C2</td><td>Verified</td><td>15200.0</td><td>Individual</td><td>null</td><td>null</td><td>2023-09-15 17:18:...</td></tr>\n",
       "<tr><td>ea940e76460ba9551...</td><td>Carpenter</td><td>2</td><td>MORTGAGE</td><td>72000.0</td><td>IL</td><td>622xx</td><td>USA</td><td>B</td><td>B3</td><td>Source Verified</td><td>75875.0</td><td>Individual</td><td>null</td><td>null</td><td>2023-09-15 17:18:...</td></tr>\n",
       "<tr><td>1bff1ca3a1f99b4d7...</td><td>Owner</td><td>3</td><td>RENT</td><td>103000.0</td><td>NC</td><td>282xx</td><td>USA</td><td>D</td><td>D2</td><td>Source Verified</td><td>18700.0</td><td>Individual</td><td>null</td><td>null</td><td>2023-09-15 17:18:...</td></tr>\n",
       "<tr><td>78caf872bd06843ef...</td><td>Rural Carrier</td><td>10</td><td>OWN</td><td>70000.0</td><td>CA</td><td>932xx</td><td>USA</td><td>B</td><td>B4</td><td>Source Verified</td><td>71235.0</td><td>Individual</td><td>null</td><td>null</td><td>2023-09-15 17:18:...</td></tr>\n",
       "<tr><td>8c0e5cf855a938944...</td><td>NotAsked</td><td>10</td><td>RENT</td><td>87600.0</td><td>CO</td><td>802xx</td><td>USA</td><td>B</td><td>B2</td><td>Source Verified</td><td>84826.0</td><td>Individual</td><td>null</td><td>null</td><td>2023-09-15 17:18:...</td></tr>\n",
       "<tr><td>95e255082fddc76b1...</td><td>null</td><td>6</td><td>RENT</td><td>43500.0</td><td>NC</td><td>277xx</td><td>USA</td><td>C</td><td>C5</td><td>Source Verified</td><td>11500.0</td><td>Individual</td><td>null</td><td>null</td><td>2023-09-15 17:18:...</td></tr>\n",
       "<tr><td>d810bbf2aa830e901...</td><td>Manager</td><td>5</td><td>MORTGAGE</td><td>52000.0</td><td>NJ</td><td>080xx</td><td>USA</td><td>F</td><td>F4</td><td>Source Verified</td><td>208107.0</td><td>Joint App</td><td>84000.0</td><td>Source Verified</td><td>2023-09-15 17:18:...</td></tr>\n",
       "<tr><td>3e6ea68758d5452b0...</td><td>Operations</td><td>3</td><td>RENT</td><td>52000.0</td><td>CA</td><td>900xx</td><td>USA</td><td>B</td><td>B5</td><td>Not Verified</td><td>52930.0</td><td>Individual</td><td>null</td><td>null</td><td>2023-09-15 17:18:...</td></tr>\n",
       "<tr><td>420c2ef97194d5a3e...</td><td>Tax Supervisor</td><td>2</td><td>OWN</td><td>140000.0</td><td>NJ</td><td>076xx</td><td>USA</td><td>B</td><td>B2</td><td>Source Verified</td><td>519721.0</td><td>Individual</td><td>null</td><td>null</td><td>2023-09-15 17:18:...</td></tr>\n",
       "<tr><td>0705e81348a43ee77...</td><td>Commercial Lender</td><td>1</td><td>MORTGAGE</td><td>100000.0</td><td>NC</td><td>278xx</td><td>USA</td><td>A</td><td>A4</td><td>Not Verified</td><td>286058.0</td><td>Individual</td><td>null</td><td>null</td><td>2023-09-15 17:18:...</td></tr>\n",
       "<tr><td>2cfd201844e15facc...</td><td>Material Specialist</td><td>10</td><td>RENT</td><td>42016.0</td><td>OR</td><td>970xx</td><td>USA</td><td>C</td><td>C2</td><td>Source Verified</td><td>37362.0</td><td>Individual</td><td>null</td><td>null</td><td>2023-09-15 17:18:...</td></tr>\n",
       "<tr><td>b655449b933ef76bd...</td><td>Owner</td><td>5</td><td>MORTGAGE</td><td>91000.0</td><td>FL</td><td>322xx</td><td>USA</td><td>B</td><td>B1</td><td>Source Verified</td><td>300896.0</td><td>Individual</td><td>null</td><td>null</td><td>2023-09-15 17:18:...</td></tr>\n",
       "<tr><td>e6a45ffa9540f58f9...</td><td>Marketing &amp; Event...</td><td>5</td><td>MORTGAGE</td><td>52000.0</td><td>CA</td><td>923xx</td><td>USA</td><td>B</td><td>B1</td><td>Not Verified</td><td>6700.0</td><td>Individual</td><td>null</td><td>null</td><td>2023-09-15 17:18:...</td></tr>\n",
       "<tr><td>c3d1d95882cad2753...</td><td>Chief of Staff</td><td>10</td><td>MORTGAGE</td><td>131000.0</td><td>TX</td><td>782xx</td><td>USA</td><td>B</td><td>B5</td><td>Verified</td><td>380611.0</td><td>Individual</td><td>null</td><td>null</td><td>2023-09-15 17:18:...</td></tr>\n",
       "<tr><td>163baad89b63af52b...</td><td>Gel coat team lead</td><td>7</td><td>MORTGAGE</td><td>60000.0</td><td>TN</td><td>377xx</td><td>USA</td><td>E</td><td>E3</td><td>Verified</td><td>163484.0</td><td>Individual</td><td>null</td><td>null</td><td>2023-09-15 17:18:...</td></tr>\n",
       "</table>\n",
       "only showing top 20 rows\n"
      ],
      "text/plain": [
       "+--------------------+--------------------+----------+--------------+-------------+-------------+---------------+---------------+-----+---------+-------------------+-----------------------+----------------+------------------+-------------------------+--------------------+\n",
       "|           member_id|           emp_title|emp_length|home_ownership|annual_income|address_state|address_zipcode|address_country|grade|sub_grade|verification_status|total_high_credit_limit|application_type|join_annual_income|verification_status_joint|         ingest_date|\n",
       "+--------------------+--------------------+----------+--------------+-------------+-------------+---------------+---------------+-----+---------+-------------------+-----------------------+----------------+------------------+-------------------------+--------------------+\n",
       "|de8d40bb549f3e676...|      Slot Club Lead|        10|          RENT|      42000.0|           CO|          800xx|            USA|    A|       A5|    Source Verified|                19200.0|      Individual|              null|                     null|2023-09-15 17:18:...|\n",
       "|cb2bfe6ba8d8040ea...| Development Manager|         1|      MORTGAGE|     120000.0|           NJ|          080xx|            USA|    B|       B2|           Verified|               521247.0|      Individual|              null|                     null|2023-09-15 17:18:...|\n",
       "|fd6cd0f257e376951...|          Chef/Baker|         5|          RENT|      25000.0|           GA|          310xx|            USA|    E|       E2|    Source Verified|                18200.0|      Individual|              null|                     null|2023-09-15 17:18:...|\n",
       "|46a7d1486ffcd4024...|     Service Manager|         3|      MORTGAGE|     122000.0|           NY|          113xx|            USA|    C|       C3|           Verified|               232468.0|      Individual|              null|                     null|2023-09-15 17:18:...|\n",
       "|ec70891c26a58aad8...| Maintenance Manager|         1|          RENT|      35000.0|           CO|          804xx|            USA|    C|       C1|           Verified|                16200.0|      Individual|              null|                     null|2023-09-15 17:18:...|\n",
       "|8b5e4553da13c2336...|              Driver|        10|          RENT|      65000.0|           NY|          112xx|            USA|    C|       C2|           Verified|                15200.0|      Individual|              null|                     null|2023-09-15 17:18:...|\n",
       "|ea940e76460ba9551...|           Carpenter|         2|      MORTGAGE|      72000.0|           IL|          622xx|            USA|    B|       B3|    Source Verified|                75875.0|      Individual|              null|                     null|2023-09-15 17:18:...|\n",
       "|1bff1ca3a1f99b4d7...|               Owner|         3|          RENT|     103000.0|           NC|          282xx|            USA|    D|       D2|    Source Verified|                18700.0|      Individual|              null|                     null|2023-09-15 17:18:...|\n",
       "|78caf872bd06843ef...|       Rural Carrier|        10|           OWN|      70000.0|           CA|          932xx|            USA|    B|       B4|    Source Verified|                71235.0|      Individual|              null|                     null|2023-09-15 17:18:...|\n",
       "|8c0e5cf855a938944...|            NotAsked|        10|          RENT|      87600.0|           CO|          802xx|            USA|    B|       B2|    Source Verified|                84826.0|      Individual|              null|                     null|2023-09-15 17:18:...|\n",
       "|95e255082fddc76b1...|                null|         6|          RENT|      43500.0|           NC|          277xx|            USA|    C|       C5|    Source Verified|                11500.0|      Individual|              null|                     null|2023-09-15 17:18:...|\n",
       "|d810bbf2aa830e901...|             Manager|         5|      MORTGAGE|      52000.0|           NJ|          080xx|            USA|    F|       F4|    Source Verified|               208107.0|       Joint App|           84000.0|          Source Verified|2023-09-15 17:18:...|\n",
       "|3e6ea68758d5452b0...|          Operations|         3|          RENT|      52000.0|           CA|          900xx|            USA|    B|       B5|       Not Verified|                52930.0|      Individual|              null|                     null|2023-09-15 17:18:...|\n",
       "|420c2ef97194d5a3e...|      Tax Supervisor|         2|           OWN|     140000.0|           NJ|          076xx|            USA|    B|       B2|    Source Verified|               519721.0|      Individual|              null|                     null|2023-09-15 17:18:...|\n",
       "|0705e81348a43ee77...|   Commercial Lender|         1|      MORTGAGE|     100000.0|           NC|          278xx|            USA|    A|       A4|       Not Verified|               286058.0|      Individual|              null|                     null|2023-09-15 17:18:...|\n",
       "|2cfd201844e15facc...| Material Specialist|        10|          RENT|      42016.0|           OR|          970xx|            USA|    C|       C2|    Source Verified|                37362.0|      Individual|              null|                     null|2023-09-15 17:18:...|\n",
       "|b655449b933ef76bd...|               Owner|         5|      MORTGAGE|      91000.0|           FL|          322xx|            USA|    B|       B1|    Source Verified|               300896.0|      Individual|              null|                     null|2023-09-15 17:18:...|\n",
       "|e6a45ffa9540f58f9...|Marketing & Event...|         5|      MORTGAGE|      52000.0|           CA|          923xx|            USA|    B|       B1|       Not Verified|                 6700.0|      Individual|              null|                     null|2023-09-15 17:18:...|\n",
       "|c3d1d95882cad2753...|      Chief of Staff|        10|      MORTGAGE|     131000.0|           TX|          782xx|            USA|    B|       B5|           Verified|               380611.0|      Individual|              null|                     null|2023-09-15 17:18:...|\n",
       "|163baad89b63af52b...|  Gel coat team lead|         7|      MORTGAGE|      60000.0|           TN|          377xx|            USA|    E|       E3|           Verified|               163484.0|      Individual|              null|                     null|2023-09-15 17:18:...|\n",
       "+--------------------+--------------------+----------+--------------+-------------+-------------+---------------+---------------+-----+---------+-------------------+-----------------------+----------------+------------------+-------------------------+--------------------+\n",
       "only showing top 20 rows"
      ]
     },
     "execution_count": 50,
     "metadata": {},
     "output_type": "execute_result"
    }
   ],
   "source": [
    "spark.sql(\"select * from itv012010_lending_club_project.customers\")"
   ]
  },
  {
   "cell_type": "code",
   "execution_count": 51,
   "id": "45d69a62",
   "metadata": {},
   "outputs": [
    {
     "data": {
      "text/html": [
       "<table border='1'>\n",
       "<tr><th></th></tr>\n",
       "</table>\n"
      ],
      "text/plain": [
       "++\n",
       "||\n",
       "++\n",
       "++"
      ]
     },
     "execution_count": 51,
     "metadata": {},
     "output_type": "execute_result"
    }
   ],
   "source": [
    "spark.sql(\"\"\"\n",
    "CREATE EXTERNAL TABLE itv012010_lending_club_project.loans(loan_id\n",
    "string,member_id string,loan_amount float,funded_amount\n",
    "float,loan_term_years integer,interest_rate float,monthly_installment\n",
    "float,issue_date string,loan_status string,loan_purpose string,loan_title\n",
    "string,ingest_date timestamp) stored as parquet\n",
    "LOCATION '/public/trendytech/lendingclubproject/cleaned/loans_parquet'\n",
    "\"\"\")"
   ]
  },
  {
   "cell_type": "code",
   "execution_count": 52,
   "id": "123fcc39",
   "metadata": {},
   "outputs": [
    {
     "data": {
      "text/html": [
       "<table border='1'>\n",
       "<tr><th>loan_id</th><th>member_id</th><th>loan_amount</th><th>funded_amount</th><th>loan_term_years</th><th>interest_rate</th><th>monthly_installment</th><th>issue_date</th><th>loan_status</th><th>loan_purpose</th><th>loan_title</th><th>ingest_date</th></tr>\n",
       "<tr><td>13048578</td><td>ae2a45f96691a33e2...</td><td>30000.0</td><td>30000.0</td><td>5</td><td>22.45</td><td>836.27</td><td>Mar-2014</td><td>Fully Paid</td><td>debt_consolidation</td><td>Debt consolidation</td><td>2023-09-18 18:39:...</td></tr>\n",
       "<tr><td>13028587</td><td>bc56a941d1b4a0ded...</td><td>3500.0</td><td>3500.0</td><td>3</td><td>13.65</td><td>119.03</td><td>Mar-2014</td><td>Fully Paid</td><td>debt_consolidation</td><td>Debt consolidation</td><td>2023-09-18 18:39:...</td></tr>\n",
       "<tr><td>13048646</td><td>ec235820c5f579fe6...</td><td>20000.0</td><td>20000.0</td><td>5</td><td>18.92</td><td>517.94</td><td>Apr-2014</td><td>Charged Off</td><td>medical</td><td>Medical expenses</td><td>2023-09-18 18:39:...</td></tr>\n",
       "<tr><td>13045633</td><td>87c71f39b975e9b1c...</td><td>10000.0</td><td>10000.0</td><td>5</td><td>15.61</td><td>241.12</td><td>Mar-2014</td><td>Fully Paid</td><td>credit_card</td><td>Credit card refin...</td><td>2023-09-18 18:39:...</td></tr>\n",
       "<tr><td>13018547</td><td>8ce13bae24094c318...</td><td>30000.0</td><td>30000.0</td><td>5</td><td>19.99</td><td>794.65</td><td>Mar-2014</td><td>Fully Paid</td><td>debt_consolidation</td><td>Debt consolidation</td><td>2023-09-18 18:39:...</td></tr>\n",
       "<tr><td>13048625</td><td>ebdbcd8c70b4335e9...</td><td>12000.0</td><td>12000.0</td><td>5</td><td>15.31</td><td>287.44</td><td>Apr-2014</td><td>Fully Paid</td><td>debt_consolidation</td><td>Debt consolidation</td><td>2023-09-18 18:39:...</td></tr>\n",
       "<tr><td>13027831</td><td>e6fba3fb656b87598...</td><td>9000.0</td><td>9000.0</td><td>3</td><td>16.59</td><td>319.05</td><td>Mar-2014</td><td>Fully Paid</td><td>major_purchase</td><td>Major purchase</td><td>2023-09-18 18:39:...</td></tr>\n",
       "<tr><td>13028614</td><td>634c0ca8f1d700224...</td><td>5000.0</td><td>5000.0</td><td>3</td><td>14.16</td><td>171.28</td><td>Mar-2014</td><td>Fully Paid</td><td>debt_consolidation</td><td>Debt consolidation</td><td>2023-09-18 18:39:...</td></tr>\n",
       "<tr><td>13018608</td><td>83a2999b5344f3b3c...</td><td>15600.0</td><td>15600.0</td><td>5</td><td>12.99</td><td>354.87</td><td>Mar-2014</td><td>Fully Paid</td><td>credit_card</td><td>Credit card refin...</td><td>2023-09-18 18:39:...</td></tr>\n",
       "<tr><td>13038676</td><td>d988117fe0ac6c851...</td><td>11075.0</td><td>11075.0</td><td>3</td><td>12.99</td><td>373.11</td><td>Mar-2014</td><td>Fully Paid</td><td>debt_consolidation</td><td>Debt consolidation</td><td>2023-09-18 18:39:...</td></tr>\n",
       "<tr><td>13027705</td><td>f8841cf2dfaa37fff...</td><td>8000.0</td><td>8000.0</td><td>3</td><td>14.64</td><td>275.92</td><td>Mar-2014</td><td>Fully Paid</td><td>debt_consolidation</td><td>Debt consolidation</td><td>2023-09-18 18:39:...</td></tr>\n",
       "<tr><td>13028593</td><td>b4137bb428d944e0b...</td><td>15500.0</td><td>15500.0</td><td>3</td><td>18.25</td><td>562.31</td><td>Mar-2014</td><td>Fully Paid</td><td>debt_consolidation</td><td>Debt consolidation</td><td>2023-09-18 18:39:...</td></tr>\n",
       "<tr><td>13028592</td><td>73c7e7b989de02797...</td><td>8000.0</td><td>8000.0</td><td>3</td><td>11.99</td><td>265.68</td><td>Mar-2014</td><td>Fully Paid</td><td>credit_card</td><td>Credit card refin...</td><td>2023-09-18 18:39:...</td></tr>\n",
       "<tr><td>13038651</td><td>e20349de76ca4a9bb...</td><td>4800.0</td><td>4800.0</td><td>3</td><td>16.59</td><td>170.16</td><td>Mar-2014</td><td>Fully Paid</td><td>small_business</td><td>Business</td><td>2023-09-18 18:39:...</td></tr>\n",
       "<tr><td>13018630</td><td>34933fbc9ef48c073...</td><td>8000.0</td><td>8000.0</td><td>3</td><td>11.99</td><td>265.68</td><td>Mar-2014</td><td>Fully Paid</td><td>debt_consolidation</td><td>Debt consolidation</td><td>2023-09-18 18:39:...</td></tr>\n",
       "<tr><td>13048585</td><td>608aac23b0ca198b6...</td><td>20000.0</td><td>20000.0</td><td>3</td><td>9.67</td><td>642.25</td><td>Mar-2014</td><td>Fully Paid</td><td>debt_consolidation</td><td>Debt consolidation</td><td>2023-09-18 18:39:...</td></tr>\n",
       "<tr><td>13048576</td><td>e4cab1f952e772f96...</td><td>10000.0</td><td>10000.0</td><td>3</td><td>12.99</td><td>336.9</td><td>Mar-2014</td><td>Charged Off</td><td>debt_consolidation</td><td>Debt consolidation</td><td>2023-09-18 18:39:...</td></tr>\n",
       "<tr><td>13017910</td><td>98a36f925378bf805...</td><td>15000.0</td><td>15000.0</td><td>3</td><td>11.99</td><td>498.15</td><td>Mar-2014</td><td>Fully Paid</td><td>debt_consolidation</td><td>Debt consolidation</td><td>2023-09-18 18:39:...</td></tr>\n",
       "<tr><td>13047370</td><td>f28f406a2ffba00a1...</td><td>16500.0</td><td>16500.0</td><td>3</td><td>10.99</td><td>540.12</td><td>Mar-2014</td><td>Fully Paid</td><td>credit_card</td><td>Credit card refin...</td><td>2023-09-18 18:39:...</td></tr>\n",
       "<tr><td>12938625</td><td>1cfb384cb0774741b...</td><td>11000.0</td><td>11000.0</td><td>3</td><td>14.16</td><td>376.81</td><td>Mar-2014</td><td>Fully Paid</td><td>credit_card</td><td>Credit card refin...</td><td>2023-09-18 18:39:...</td></tr>\n",
       "</table>\n",
       "only showing top 20 rows\n"
      ],
      "text/plain": [
       "+--------+--------------------+-----------+-------------+---------------+-------------+-------------------+----------+-----------+------------------+--------------------+--------------------+\n",
       "| loan_id|           member_id|loan_amount|funded_amount|loan_term_years|interest_rate|monthly_installment|issue_date|loan_status|      loan_purpose|          loan_title|         ingest_date|\n",
       "+--------+--------------------+-----------+-------------+---------------+-------------+-------------------+----------+-----------+------------------+--------------------+--------------------+\n",
       "|13048578|ae2a45f96691a33e2...|    30000.0|      30000.0|              5|        22.45|             836.27|  Mar-2014| Fully Paid|debt_consolidation|  Debt consolidation|2023-09-18 18:39:...|\n",
       "|13028587|bc56a941d1b4a0ded...|     3500.0|       3500.0|              3|        13.65|             119.03|  Mar-2014| Fully Paid|debt_consolidation|  Debt consolidation|2023-09-18 18:39:...|\n",
       "|13048646|ec235820c5f579fe6...|    20000.0|      20000.0|              5|        18.92|             517.94|  Apr-2014|Charged Off|           medical|    Medical expenses|2023-09-18 18:39:...|\n",
       "|13045633|87c71f39b975e9b1c...|    10000.0|      10000.0|              5|        15.61|             241.12|  Mar-2014| Fully Paid|       credit_card|Credit card refin...|2023-09-18 18:39:...|\n",
       "|13018547|8ce13bae24094c318...|    30000.0|      30000.0|              5|        19.99|             794.65|  Mar-2014| Fully Paid|debt_consolidation|  Debt consolidation|2023-09-18 18:39:...|\n",
       "|13048625|ebdbcd8c70b4335e9...|    12000.0|      12000.0|              5|        15.31|             287.44|  Apr-2014| Fully Paid|debt_consolidation|  Debt consolidation|2023-09-18 18:39:...|\n",
       "|13027831|e6fba3fb656b87598...|     9000.0|       9000.0|              3|        16.59|             319.05|  Mar-2014| Fully Paid|    major_purchase|      Major purchase|2023-09-18 18:39:...|\n",
       "|13028614|634c0ca8f1d700224...|     5000.0|       5000.0|              3|        14.16|             171.28|  Mar-2014| Fully Paid|debt_consolidation|  Debt consolidation|2023-09-18 18:39:...|\n",
       "|13018608|83a2999b5344f3b3c...|    15600.0|      15600.0|              5|        12.99|             354.87|  Mar-2014| Fully Paid|       credit_card|Credit card refin...|2023-09-18 18:39:...|\n",
       "|13038676|d988117fe0ac6c851...|    11075.0|      11075.0|              3|        12.99|             373.11|  Mar-2014| Fully Paid|debt_consolidation|  Debt consolidation|2023-09-18 18:39:...|\n",
       "|13027705|f8841cf2dfaa37fff...|     8000.0|       8000.0|              3|        14.64|             275.92|  Mar-2014| Fully Paid|debt_consolidation|  Debt consolidation|2023-09-18 18:39:...|\n",
       "|13028593|b4137bb428d944e0b...|    15500.0|      15500.0|              3|        18.25|             562.31|  Mar-2014| Fully Paid|debt_consolidation|  Debt consolidation|2023-09-18 18:39:...|\n",
       "|13028592|73c7e7b989de02797...|     8000.0|       8000.0|              3|        11.99|             265.68|  Mar-2014| Fully Paid|       credit_card|Credit card refin...|2023-09-18 18:39:...|\n",
       "|13038651|e20349de76ca4a9bb...|     4800.0|       4800.0|              3|        16.59|             170.16|  Mar-2014| Fully Paid|    small_business|            Business|2023-09-18 18:39:...|\n",
       "|13018630|34933fbc9ef48c073...|     8000.0|       8000.0|              3|        11.99|             265.68|  Mar-2014| Fully Paid|debt_consolidation|  Debt consolidation|2023-09-18 18:39:...|\n",
       "|13048585|608aac23b0ca198b6...|    20000.0|      20000.0|              3|         9.67|             642.25|  Mar-2014| Fully Paid|debt_consolidation|  Debt consolidation|2023-09-18 18:39:...|\n",
       "|13048576|e4cab1f952e772f96...|    10000.0|      10000.0|              3|        12.99|              336.9|  Mar-2014|Charged Off|debt_consolidation|  Debt consolidation|2023-09-18 18:39:...|\n",
       "|13017910|98a36f925378bf805...|    15000.0|      15000.0|              3|        11.99|             498.15|  Mar-2014| Fully Paid|debt_consolidation|  Debt consolidation|2023-09-18 18:39:...|\n",
       "|13047370|f28f406a2ffba00a1...|    16500.0|      16500.0|              3|        10.99|             540.12|  Mar-2014| Fully Paid|       credit_card|Credit card refin...|2023-09-18 18:39:...|\n",
       "|12938625|1cfb384cb0774741b...|    11000.0|      11000.0|              3|        14.16|             376.81|  Mar-2014| Fully Paid|       credit_card|Credit card refin...|2023-09-18 18:39:...|\n",
       "+--------+--------------------+-----------+-------------+---------------+-------------+-------------------+----------+-----------+------------------+--------------------+--------------------+\n",
       "only showing top 20 rows"
      ]
     },
     "execution_count": 52,
     "metadata": {},
     "output_type": "execute_result"
    }
   ],
   "source": [
    "spark.sql(\"select * from itv012010_lending_club_project.loans\")"
   ]
  },
  {
   "cell_type": "code",
   "execution_count": 5,
   "id": "095330c5",
   "metadata": {},
   "outputs": [
    {
     "data": {
      "text/html": [
       "<table border='1'>\n",
       "<tr><th></th></tr>\n",
       "</table>\n"
      ],
      "text/plain": [
       "++\n",
       "||\n",
       "++\n",
       "++"
      ]
     },
     "execution_count": 5,
     "metadata": {},
     "output_type": "execute_result"
    }
   ],
   "source": [
    "spark.sql(\"\"\"\n",
    "CREATE EXTERNAL TABLE\n",
    "itv012010_lending_club_project.loans_repayments(loan_id\n",
    "string,total_principal_received float,total_interest_received\n",
    "float,total_late_fee_received float,total_payment_received\n",
    "float,last_payment_amount float,last_payment_date string,next_payment_date\n",
    "string,ingest_date timestamp) stored as parquet\n",
    "LOCATION\n",
    "'/public/trendytech/lendingclubproject/cleaned/loans_repayments_parquet'\n",
    "\"\"\")"
   ]
  },
  {
   "cell_type": "code",
   "execution_count": 6,
   "id": "4510339a",
   "metadata": {},
   "outputs": [
    {
     "data": {
      "text/html": [
       "<table border='1'>\n",
       "<tr><th>loan_id</th><th>total_principal_received</th><th>total_interest_received</th><th>total_late_fee_received</th><th>total_payment_received</th><th>last_payment_amount</th><th>last_payment_date</th><th>next_payment_date</th><th>ingest_date</th></tr>\n",
       "<tr><td>141581221</td><td>1055.81</td><td>2591.7</td><td>0.0</td><td>3647.51</td><td>709.23</td><td>Mar-2019</td><td>Apr-2019</td><td>2023-09-19 05:25:...</td></tr>\n",
       "<tr><td>141506948</td><td>1252.75</td><td>306.04</td><td>0.0</td><td>1558.79</td><td>312.63</td><td>Mar-2019</td><td>Apr-2019</td><td>2023-09-19 05:25:...</td></tr>\n",
       "<tr><td>141357400</td><td>626.37</td><td>354.96</td><td>0.0</td><td>981.33</td><td>197.27</td><td>Mar-2019</td><td>Apr-2019</td><td>2023-09-19 05:25:...</td></tr>\n",
       "<tr><td>139445427</td><td>1118.16</td><td>297.36</td><td>0.0</td><td>1415.52</td><td>283.95</td><td>Mar-2019</td><td>Apr-2019</td><td>2023-09-19 05:25:...</td></tr>\n",
       "<tr><td>141407409</td><td>1169.72</td><td>3605.3</td><td>0.0</td><td>4775.02</td><td>964.9</td><td>Mar-2019</td><td>Apr-2019</td><td>2023-09-19 05:25:...</td></tr>\n",
       "<tr><td>141360802</td><td>2313.98</td><td>2512.88</td><td>0.0</td><td>4826.86</td><td>952.02</td><td>Mar-2019</td><td>Apr-2019</td><td>2023-09-19 05:25:...</td></tr>\n",
       "<tr><td>141163960</td><td>4689.63</td><td>1994.93</td><td>0.0</td><td>6684.56</td><td>1342.57</td><td>Mar-2019</td><td>Apr-2019</td><td>2023-09-19 05:25:...</td></tr>\n",
       "<tr><td>141533932</td><td>585.29</td><td>640.53</td><td>15.0</td><td>1240.82</td><td>235.13</td><td>Mar-2019</td><td>Apr-2019</td><td>2023-09-19 05:25:...</td></tr>\n",
       "<tr><td>141441276</td><td>2030.82</td><td>762.81</td><td>0.0</td><td>2793.63</td><td>477.62</td><td>Mar-2019</td><td>Apr-2019</td><td>2023-09-19 05:25:...</td></tr>\n",
       "<tr><td>141569080</td><td>1803.55</td><td>1110.59</td><td>0.0</td><td>2914.14</td><td>585.91</td><td>Mar-2019</td><td>Apr-2019</td><td>2023-09-19 05:25:...</td></tr>\n",
       "<tr><td>140961277</td><td>1144.71</td><td>559.56</td><td>0.0</td><td>1704.27</td><td>344.07</td><td>Mar-2019</td><td>Apr-2019</td><td>2023-09-19 05:25:...</td></tr>\n",
       "<tr><td>141466656</td><td>1297.9</td><td>838.42</td><td>0.0</td><td>2136.32</td><td>429.59</td><td>Mar-2019</td><td>Apr-2019</td><td>2023-09-19 05:25:...</td></tr>\n",
       "<tr><td>141575085</td><td>613.26</td><td>510.47</td><td>0.0</td><td>1123.73</td><td>226.16</td><td>Mar-2019</td><td>Apr-2019</td><td>2023-09-19 05:25:...</td></tr>\n",
       "<tr><td>141429235</td><td>4008.76</td><td>1058.83</td><td>0.0</td><td>5067.59</td><td>1000.41</td><td>Mar-2019</td><td>Apr-2019</td><td>2023-09-19 05:25:...</td></tr>\n",
       "<tr><td>141545082</td><td>1297.9</td><td>838.42</td><td>0.0</td><td>2136.32</td><td>429.59</td><td>Mar-2019</td><td>Apr-2019</td><td>2023-09-19 05:25:...</td></tr>\n",
       "<tr><td>141584203</td><td>747.08</td><td>243.73</td><td>0.0</td><td>990.81</td><td>193.84</td><td>Mar-2019</td><td>Apr-2019</td><td>2023-09-19 05:25:...</td></tr>\n",
       "<tr><td>141201047</td><td>2266.29</td><td>1184.57</td><td>34.68</td><td>3485.54</td><td>693.51</td><td>Mar-2019</td><td>Apr-2019</td><td>2023-09-19 05:25:...</td></tr>\n",
       "<tr><td>140580869</td><td>1450.9</td><td>491.42</td><td>0.0</td><td>1942.32</td><td>389.86</td><td>Mar-2019</td><td>Apr-2019</td><td>2023-09-19 05:25:...</td></tr>\n",
       "<tr><td>141539871</td><td>2290.47</td><td>468.26</td><td>0.0</td><td>2758.73</td><td>553.08</td><td>Mar-2019</td><td>Apr-2019</td><td>2023-09-19 05:25:...</td></tr>\n",
       "<tr><td>141386443</td><td>1173.43</td><td>1161.79</td><td>0.0</td><td>2335.22</td><td>470.26</td><td>Mar-2019</td><td>Apr-2019</td><td>2023-09-19 05:25:...</td></tr>\n",
       "</table>\n",
       "only showing top 20 rows\n"
      ],
      "text/plain": [
       "+---------+------------------------+-----------------------+-----------------------+----------------------+-------------------+-----------------+-----------------+--------------------+\n",
       "|  loan_id|total_principal_received|total_interest_received|total_late_fee_received|total_payment_received|last_payment_amount|last_payment_date|next_payment_date|         ingest_date|\n",
       "+---------+------------------------+-----------------------+-----------------------+----------------------+-------------------+-----------------+-----------------+--------------------+\n",
       "|141581221|                 1055.81|                 2591.7|                    0.0|               3647.51|             709.23|         Mar-2019|         Apr-2019|2023-09-19 05:25:...|\n",
       "|141506948|                 1252.75|                 306.04|                    0.0|               1558.79|             312.63|         Mar-2019|         Apr-2019|2023-09-19 05:25:...|\n",
       "|141357400|                  626.37|                 354.96|                    0.0|                981.33|             197.27|         Mar-2019|         Apr-2019|2023-09-19 05:25:...|\n",
       "|139445427|                 1118.16|                 297.36|                    0.0|               1415.52|             283.95|         Mar-2019|         Apr-2019|2023-09-19 05:25:...|\n",
       "|141407409|                 1169.72|                 3605.3|                    0.0|               4775.02|              964.9|         Mar-2019|         Apr-2019|2023-09-19 05:25:...|\n",
       "|141360802|                 2313.98|                2512.88|                    0.0|               4826.86|             952.02|         Mar-2019|         Apr-2019|2023-09-19 05:25:...|\n",
       "|141163960|                 4689.63|                1994.93|                    0.0|               6684.56|            1342.57|         Mar-2019|         Apr-2019|2023-09-19 05:25:...|\n",
       "|141533932|                  585.29|                 640.53|                   15.0|               1240.82|             235.13|         Mar-2019|         Apr-2019|2023-09-19 05:25:...|\n",
       "|141441276|                 2030.82|                 762.81|                    0.0|               2793.63|             477.62|         Mar-2019|         Apr-2019|2023-09-19 05:25:...|\n",
       "|141569080|                 1803.55|                1110.59|                    0.0|               2914.14|             585.91|         Mar-2019|         Apr-2019|2023-09-19 05:25:...|\n",
       "|140961277|                 1144.71|                 559.56|                    0.0|               1704.27|             344.07|         Mar-2019|         Apr-2019|2023-09-19 05:25:...|\n",
       "|141466656|                  1297.9|                 838.42|                    0.0|               2136.32|             429.59|         Mar-2019|         Apr-2019|2023-09-19 05:25:...|\n",
       "|141575085|                  613.26|                 510.47|                    0.0|               1123.73|             226.16|         Mar-2019|         Apr-2019|2023-09-19 05:25:...|\n",
       "|141429235|                 4008.76|                1058.83|                    0.0|               5067.59|            1000.41|         Mar-2019|         Apr-2019|2023-09-19 05:25:...|\n",
       "|141545082|                  1297.9|                 838.42|                    0.0|               2136.32|             429.59|         Mar-2019|         Apr-2019|2023-09-19 05:25:...|\n",
       "|141584203|                  747.08|                 243.73|                    0.0|                990.81|             193.84|         Mar-2019|         Apr-2019|2023-09-19 05:25:...|\n",
       "|141201047|                 2266.29|                1184.57|                  34.68|               3485.54|             693.51|         Mar-2019|         Apr-2019|2023-09-19 05:25:...|\n",
       "|140580869|                  1450.9|                 491.42|                    0.0|               1942.32|             389.86|         Mar-2019|         Apr-2019|2023-09-19 05:25:...|\n",
       "|141539871|                 2290.47|                 468.26|                    0.0|               2758.73|             553.08|         Mar-2019|         Apr-2019|2023-09-19 05:25:...|\n",
       "|141386443|                 1173.43|                1161.79|                    0.0|               2335.22|             470.26|         Mar-2019|         Apr-2019|2023-09-19 05:25:...|\n",
       "+---------+------------------------+-----------------------+-----------------------+----------------------+-------------------+-----------------+-----------------+--------------------+\n",
       "only showing top 20 rows"
      ]
     },
     "execution_count": 6,
     "metadata": {},
     "output_type": "execute_result"
    }
   ],
   "source": [
    "spark.sql(\"select * from itv012010_lending_club_project.loans_repayments\")"
   ]
  },
  {
   "cell_type": "code",
   "execution_count": 8,
   "id": "eee86974",
   "metadata": {},
   "outputs": [
    {
     "data": {
      "text/html": [
       "<table border='1'>\n",
       "<tr><th></th></tr>\n",
       "</table>\n"
      ],
      "text/plain": [
       "++\n",
       "||\n",
       "++\n",
       "++"
      ]
     },
     "execution_count": 8,
     "metadata": {},
     "output_type": "execute_result"
    }
   ],
   "source": [
    "spark.sql(\"\"\"\n",
    "CREATE EXTERNAL TABLE\n",
    "itv012010_lending_club_project.loans_defaulters_delinq(member_id\n",
    "string,delinq_2yrs integer,delinq_amnt float,mths_since_last_delinq integer)\n",
    "stored as parquet\n",
    "LOCATION\n",
    "'/public/trendytech/lendingclubproject/cleaned/loans_defaulters_delinq_parquet'\n",
    "\"\"\")"
   ]
  },
  {
   "cell_type": "code",
   "execution_count": 10,
   "id": "c9baf05a",
   "metadata": {},
   "outputs": [
    {
     "data": {
      "text/html": [
       "<table border='1'>\n",
       "<tr><th>member_id</th><th>delinq_2yrs</th><th>delinq_amnt</th><th>mths_since_last_delinq</th></tr>\n",
       "<tr><td>9cb79aa7323e81be1...</td><td>2</td><td>0.0</td><td>0</td></tr>\n",
       "<tr><td>aac68850fdac09fd0...</td><td>1</td><td>0.0</td><td>0</td></tr>\n",
       "<tr><td>c89986155a070db2e...</td><td>1</td><td>0.0</td><td>15</td></tr>\n",
       "<tr><td>4e1c30a5dfe9f1e20...</td><td>0</td><td>0.0</td><td>34</td></tr>\n",
       "<tr><td>1eef79a0e79b72c7a...</td><td>1</td><td>0.0</td><td>0</td></tr>\n",
       "<tr><td>ec1953dba2cfb89ad...</td><td>2</td><td>0.0</td><td>0</td></tr>\n",
       "<tr><td>3712c9da85e54b7b1...</td><td>1</td><td>0.0</td><td>0</td></tr>\n",
       "<tr><td>030e5c9c411c936c5...</td><td>2</td><td>0.0</td><td>0</td></tr>\n",
       "<tr><td>252736f8401b6b046...</td><td>2</td><td>0.0</td><td>0</td></tr>\n",
       "<tr><td>2d73c65a7b7d1a351...</td><td>1</td><td>0.0</td><td>0</td></tr>\n",
       "<tr><td>4c5cc017a06ad9cee...</td><td>1</td><td>0.0</td><td>0</td></tr>\n",
       "<tr><td>b2ae51f7010bda712...</td><td>2</td><td>0.0</td><td>0</td></tr>\n",
       "<tr><td>e3fda103b038638f2...</td><td>1</td><td>0.0</td><td>0</td></tr>\n",
       "<tr><td>c1553a3186575c87d...</td><td>2</td><td>0.0</td><td>0</td></tr>\n",
       "<tr><td>e889fe8e41d1fc74a...</td><td>1</td><td>0.0</td><td>0</td></tr>\n",
       "<tr><td>66f29d01599e4497e...</td><td>1</td><td>0.0</td><td>0</td></tr>\n",
       "<tr><td>8d52067d7d93c7ba1...</td><td>2</td><td>0.0</td><td>0</td></tr>\n",
       "<tr><td>aff24625c7c7a2108...</td><td>3</td><td>0.0</td><td>0</td></tr>\n",
       "<tr><td>60cf7ca69b4fc0b04...</td><td>2</td><td>0.0</td><td>0</td></tr>\n",
       "<tr><td>5b7cc2ef3ee4be20e...</td><td>1</td><td>0.0</td><td>0</td></tr>\n",
       "</table>\n",
       "only showing top 20 rows\n"
      ],
      "text/plain": [
       "+--------------------+-----------+-----------+----------------------+\n",
       "|           member_id|delinq_2yrs|delinq_amnt|mths_since_last_delinq|\n",
       "+--------------------+-----------+-----------+----------------------+\n",
       "|9cb79aa7323e81be1...|          2|        0.0|                     0|\n",
       "|aac68850fdac09fd0...|          1|        0.0|                     0|\n",
       "|c89986155a070db2e...|          1|        0.0|                    15|\n",
       "|4e1c30a5dfe9f1e20...|          0|        0.0|                    34|\n",
       "|1eef79a0e79b72c7a...|          1|        0.0|                     0|\n",
       "|ec1953dba2cfb89ad...|          2|        0.0|                     0|\n",
       "|3712c9da85e54b7b1...|          1|        0.0|                     0|\n",
       "|030e5c9c411c936c5...|          2|        0.0|                     0|\n",
       "|252736f8401b6b046...|          2|        0.0|                     0|\n",
       "|2d73c65a7b7d1a351...|          1|        0.0|                     0|\n",
       "|4c5cc017a06ad9cee...|          1|        0.0|                     0|\n",
       "|b2ae51f7010bda712...|          2|        0.0|                     0|\n",
       "|e3fda103b038638f2...|          1|        0.0|                     0|\n",
       "|c1553a3186575c87d...|          2|        0.0|                     0|\n",
       "|e889fe8e41d1fc74a...|          1|        0.0|                     0|\n",
       "|66f29d01599e4497e...|          1|        0.0|                     0|\n",
       "|8d52067d7d93c7ba1...|          2|        0.0|                     0|\n",
       "|aff24625c7c7a2108...|          3|        0.0|                     0|\n",
       "|60cf7ca69b4fc0b04...|          2|        0.0|                     0|\n",
       "|5b7cc2ef3ee4be20e...|          1|        0.0|                     0|\n",
       "+--------------------+-----------+-----------+----------------------+\n",
       "only showing top 20 rows"
      ]
     },
     "execution_count": 10,
     "metadata": {},
     "output_type": "execute_result"
    }
   ],
   "source": [
    "spark.sql(\"select * from itv012010_lending_club_project.loans_defaulters_delinq\")"
   ]
  },
  {
   "cell_type": "code",
   "execution_count": 15,
   "id": "a12c8d1a",
   "metadata": {},
   "outputs": [
    {
     "data": {
      "text/html": [
       "<table border='1'>\n",
       "<tr><th></th></tr>\n",
       "</table>\n"
      ],
      "text/plain": [
       "++\n",
       "||\n",
       "++\n",
       "++"
      ]
     },
     "execution_count": 15,
     "metadata": {},
     "output_type": "execute_result"
    }
   ],
   "source": [
    "spark.sql(\"\"\"\n",
    "CREATE EXTERNAL TABLE\n",
    "itv012010_lending_club_project.loans_defaulters_detail_rec_enq(member_id string,\n",
    "pub_rec integer, pub_rec_bankruptcies integer, inq_last_6mths integer) stored\n",
    "as parquet\n",
    "LOCATION\n",
    "'/public/trendytech/lendingclubproject/cleaned/loans_defaulters_detail_records_enq_parquet'\n",
    "\"\"\")"
   ]
  },
  {
   "cell_type": "code",
   "execution_count": 16,
   "id": "a11bc859",
   "metadata": {},
   "outputs": [
    {
     "data": {
      "text/html": [
       "<table border='1'>\n",
       "<tr><th>member_id</th><th>pub_rec</th><th>pub_rec_bankruptcies</th><th>inq_last_6mths</th></tr>\n",
       "<tr><td>9cb79aa7323e81be1...</td><td>0</td><td>0</td><td>0</td></tr>\n",
       "<tr><td>0dd2bbc517e3c8f9e...</td><td>1</td><td>1</td><td>3</td></tr>\n",
       "<tr><td>458458599d3df3bfc...</td><td>1</td><td>1</td><td>1</td></tr>\n",
       "<tr><td>05ea141ec28b5c7f7...</td><td>0</td><td>0</td><td>0</td></tr>\n",
       "<tr><td>aac68850fdac09fd0...</td><td>0</td><td>0</td><td>0</td></tr>\n",
       "<tr><td>3a423e4589e89f429...</td><td>0</td><td>0</td><td>0</td></tr>\n",
       "<tr><td>f1efcf7dfbfef21be...</td><td>0</td><td>0</td><td>1</td></tr>\n",
       "<tr><td>c89986155a070db2e...</td><td>0</td><td>0</td><td>1</td></tr>\n",
       "<tr><td>118dc629b6e134419...</td><td>0</td><td>0</td><td>0</td></tr>\n",
       "<tr><td>a86fa4b7493708333...</td><td>0</td><td>0</td><td>0</td></tr>\n",
       "<tr><td>6e8d94bf446e97025...</td><td>0</td><td>0</td><td>0</td></tr>\n",
       "<tr><td>3de585156dc6b73f6...</td><td>0</td><td>0</td><td>0</td></tr>\n",
       "<tr><td>e88945f86a96f8d71...</td><td>0</td><td>0</td><td>1</td></tr>\n",
       "<tr><td>42f73fd8a01f1c475...</td><td>0</td><td>0</td><td>0</td></tr>\n",
       "<tr><td>c680bca32456530e6...</td><td>0</td><td>0</td><td>0</td></tr>\n",
       "<tr><td>3c36e35bcc0379690...</td><td>0</td><td>0</td><td>0</td></tr>\n",
       "<tr><td>4e1c30a5dfe9f1e20...</td><td>0</td><td>0</td><td>1</td></tr>\n",
       "<tr><td>1eef79a0e79b72c7a...</td><td>0</td><td>0</td><td>0</td></tr>\n",
       "<tr><td>89d42771f79636d22...</td><td>0</td><td>0</td><td>0</td></tr>\n",
       "<tr><td>1dd1d1b51473d4993...</td><td>0</td><td>0</td><td>0</td></tr>\n",
       "</table>\n",
       "only showing top 20 rows\n"
      ],
      "text/plain": [
       "+--------------------+-------+--------------------+--------------+\n",
       "|           member_id|pub_rec|pub_rec_bankruptcies|inq_last_6mths|\n",
       "+--------------------+-------+--------------------+--------------+\n",
       "|9cb79aa7323e81be1...|      0|                   0|             0|\n",
       "|0dd2bbc517e3c8f9e...|      1|                   1|             3|\n",
       "|458458599d3df3bfc...|      1|                   1|             1|\n",
       "|05ea141ec28b5c7f7...|      0|                   0|             0|\n",
       "|aac68850fdac09fd0...|      0|                   0|             0|\n",
       "|3a423e4589e89f429...|      0|                   0|             0|\n",
       "|f1efcf7dfbfef21be...|      0|                   0|             1|\n",
       "|c89986155a070db2e...|      0|                   0|             1|\n",
       "|118dc629b6e134419...|      0|                   0|             0|\n",
       "|a86fa4b7493708333...|      0|                   0|             0|\n",
       "|6e8d94bf446e97025...|      0|                   0|             0|\n",
       "|3de585156dc6b73f6...|      0|                   0|             0|\n",
       "|e88945f86a96f8d71...|      0|                   0|             1|\n",
       "|42f73fd8a01f1c475...|      0|                   0|             0|\n",
       "|c680bca32456530e6...|      0|                   0|             0|\n",
       "|3c36e35bcc0379690...|      0|                   0|             0|\n",
       "|4e1c30a5dfe9f1e20...|      0|                   0|             1|\n",
       "|1eef79a0e79b72c7a...|      0|                   0|             0|\n",
       "|89d42771f79636d22...|      0|                   0|             0|\n",
       "|1dd1d1b51473d4993...|      0|                   0|             0|\n",
       "+--------------------+-------+--------------------+--------------+\n",
       "only showing top 20 rows"
      ]
     },
     "execution_count": 16,
     "metadata": {},
     "output_type": "execute_result"
    }
   ],
   "source": [
    "spark.sql(\"select * from itv012010_lending_club_project.loans_defaulters_detail_rec_enq\")"
   ]
  },
  {
   "cell_type": "code",
   "execution_count": 6,
   "id": "2958c200",
   "metadata": {},
   "outputs": [],
   "source": [
    "#We need to create a view on top of these tables as a permanent one table \n",
    "#while creating  a view it doesn't take much time, while calling that view it takes time "
   ]
  },
  {
   "cell_type": "code",
   "execution_count": 4,
   "id": "6771b055",
   "metadata": {},
   "outputs": [
    {
     "data": {
      "text/html": [
       "<table border='1'>\n",
       "<tr><th></th></tr>\n",
       "</table>\n"
      ],
      "text/plain": [
       "++\n",
       "||\n",
       "++\n",
       "++"
      ]
     },
     "execution_count": 4,
     "metadata": {},
     "output_type": "execute_result"
    }
   ],
   "source": [
    "spark.sql(\"\"\"\n",
    "create or replace view itv012010_lending_club_project.customers_loan_v as select\n",
    "l.loan_id,\n",
    "c.member_id,\n",
    "c.emp_title,\n",
    "c.emp_length,\n",
    "c.home_ownership,\n",
    "c.annual_income,\n",
    "c.address_state,\n",
    "c.address_zipcode,\n",
    "c.address_country,\n",
    "c.grade,\n",
    "c.sub_grade,\n",
    "c.verification_status,\n",
    "c.total_high_credit_limit,\n",
    "c.application_type,\n",
    "c.join_annual_income,\n",
    "c.verification_status_joint,\n",
    "l.loan_amount,\n",
    "l.funded_amount,\n",
    "l.loan_term_years,\n",
    "l.interest_rate,\n",
    "l.monthly_installment,\n",
    "l.issue_date,\n",
    "l.loan_status,\n",
    "l.loan_purpose,\n",
    "r.total_principal_received,\n",
    "r.total_interest_received,\n",
    "r.total_late_fee_received,\n",
    "r.last_payment_date,\n",
    "r.next_payment_date,\n",
    "d.delinq_2yrs,\n",
    "d.delinq_amnt,\n",
    "d.mths_since_last_delinq,\n",
    "e.pub_rec,\n",
    "e.pub_rec_bankruptcies,\n",
    "e.inq_last_6mths\n",
    "\n",
    "FROM itv006277_lending_club.customers c\n",
    "LEFT JOIN itv006277_lending_club.loans l on c.member_id = l.member_id\n",
    "LEFT JOIN itv006277_lending_club.loans_repayments r ON l.loan_id = r.loan_id\n",
    "LEFT JOIN itv006277_lending_club.loans_defaulters_delinq d ON c.member_id = d.member_id\n",
    "LEFT JOIN itv006277_lending_club.loans_defaulters_detail_rec_enq e ON c.member_id = e.member_id\n",
    "\"\"\")"
   ]
  },
  {
   "cell_type": "code",
   "execution_count": 15,
   "id": "8366d8eb",
   "metadata": {},
   "outputs": [
    {
     "data": {
      "text/html": [
       "<table border='1'>\n",
       "<tr><th>loan_id</th><th>member_id</th><th>emp_title</th><th>emp_length</th><th>home_ownership</th><th>annual_income</th><th>address_state</th><th>address_zipcode</th><th>address_country</th><th>grade</th><th>sub_grade</th><th>verification_status</th><th>total_high_credit_limit</th><th>application_type</th><th>join_annual_income</th><th>verification_status_joint</th><th>loan_amount</th><th>funded_amount</th><th>loan_term_years</th><th>interest_rate</th><th>monthly_installment</th><th>issue_date</th><th>loan_status</th><th>loan_purpose</th><th>total_principal_received</th><th>total_interest_received</th><th>total_late_fee_received</th><th>last_payment_date</th><th>next_payment_date</th><th>delinq_2yrs</th><th>delinq_amnt</th><th>mths_since_last_delinq</th><th>pub_rec</th><th>pub_rec_bankruptcies</th><th>inq_last_6mths</th></tr>\n",
       "<tr><td>71175798</td><td>000c8875b71a6b47c...</td><td>Director of Gvt O...</td><td>1</td><td>MORTGAGE</td><td>100000.0</td><td>CA</td><td>920xx</td><td>USA</td><td>A</td><td>A4</td><td>Not Verified</td><td>761500.0</td><td>Individual</td><td>null</td><td>null</td><td>3000.0</td><td>3000.0</td><td>3</td><td>7.39</td><td>93.17</td><td>Feb-2016</td><td>Fully Paid</td><td>debt_consolidation</td><td>3000.0</td><td>114.47</td><td>0.0</td><td>Aug-2016</td><td>null</td><td>1</td><td>0.0</td><td>0</td><td>0</td><td>0</td><td>0</td></tr>\n",
       "<tr><td>139313300</td><td>000fc98fc1ca5faa3...</td><td>coord</td><td>10</td><td>MORTGAGE</td><td>220000.0</td><td>CA</td><td>952xx</td><td>USA</td><td>A</td><td>A3</td><td>Not Verified</td><td>227457.0</td><td>Joint App</td><td>230000.0</td><td>null</td><td>20000.0</td><td>20000.0</td><td>3</td><td>7.21</td><td>619.47</td><td>Aug-2018</td><td>Current</td><td>credit_card</td><td>3558.76</td><td>769.52</td><td>0.0</td><td>Mar-2019</td><td>Apr-2019</td><td>null</td><td>null</td><td>null</td><td>0</td><td>0</td><td>0</td></tr>\n",
       "<tr><td>143195702</td><td>0012728d9f616bdf2...</td><td>null</td><td>6</td><td>OWN</td><td>35000.0</td><td>SC</td><td>294xx</td><td>USA</td><td>A</td><td>A5</td><td>Not Verified</td><td>20900.0</td><td>Individual</td><td>null</td><td>null</td><td>9000.0</td><td>9000.0</td><td>3</td><td>8.46</td><td>283.95</td><td>Dec-2018</td><td>Current</td><td>debt_consolidation</td><td>666.17</td><td>181.45</td><td>0.0</td><td>Mar-2019</td><td>Apr-2019</td><td>null</td><td>null</td><td>null</td><td>0</td><td>0</td><td>0</td></tr>\n",
       "<tr><td>2284564</td><td>00151ece27c7ca280...</td><td>Northglenn Police...</td><td>8</td><td>RENT</td><td>54000.0</td><td>CO</td><td>802xx</td><td>USA</td><td>C</td><td>C1</td><td>Not Verified</td><td>40650.0</td><td>Individual</td><td>null</td><td>null</td><td>12800.0</td><td>12800.0</td><td>3</td><td>14.33</td><td>439.53</td><td>Nov-2012</td><td>Fully Paid</td><td>debt_consolidation</td><td>12800.0</td><td>2192.68</td><td>0.0</td><td>Jun-2014</td><td>null</td><td>null</td><td>null</td><td>null</td><td>0</td><td>0</td><td>1</td></tr>\n",
       "<tr><td>3845340</td><td>002800d49886390d2...</td><td>RehabCare</td><td>2</td><td>RENT</td><td>60000.0</td><td>TX</td><td>787xx</td><td>USA</td><td>D</td><td>D3</td><td>Not Verified</td><td>37248.0</td><td>Individual</td><td>null</td><td>null</td><td>15000.0</td><td>15000.0</td><td>3</td><td>18.75</td><td>547.95</td><td>Mar-2013</td><td>Charged Off</td><td>debt_consolidation</td><td>12856.06</td><td>4702.54</td><td>0.0</td><td>Dec-2015</td><td>null</td><td>null</td><td>null</td><td>null</td><td>0</td><td>0</td><td>0</td></tr>\n",
       "<tr><td>360493</td><td>003715c2aec34dd43...</td><td>Apex Technologies...</td><td>1</td><td>MORTGAGE</td><td>90000.0</td><td>PA</td><td>171xx</td><td>USA</td><td>C</td><td>C3</td><td>Not Verified</td><td>null</td><td>Individual</td><td>null</td><td>null</td><td>12000.0</td><td>12000.0</td><td>3</td><td>12.41</td><td>400.93</td><td>Oct-2008</td><td>Fully Paid</td><td>debt_consolidation</td><td>12000.0</td><td>208.02</td><td>0.0</td><td>Apr-2009</td><td>null</td><td>null</td><td>null</td><td>null</td><td>0</td><td>0</td><td>2</td></tr>\n",
       "<tr><td>95004059</td><td>003769d7f54c7859e...</td><td>Trainer</td><td>10</td><td>MORTGAGE</td><td>35000.0</td><td>NC</td><td>282xx</td><td>USA</td><td>E</td><td>E1</td><td>Verified</td><td>184961.0</td><td>Individual</td><td>null</td><td>null</td><td>10000.0</td><td>10000.0</td><td>5</td><td>22.74</td><td>280.42</td><td>Dec-2016</td><td>Charged Off</td><td>medical</td><td>90.92</td><td>176.87</td><td>0.0</td><td>Jan-2017</td><td>null</td><td>1</td><td>0.0</td><td>0</td><td>0</td><td>0</td><td>0</td></tr>\n",
       "<tr><td>142641777</td><td>0037bb910c0a758f5...</td><td>Network Engineer</td><td>2</td><td>RENT</td><td>105000.0</td><td>IL</td><td>601xx</td><td>USA</td><td>C</td><td>C3</td><td>Source Verified</td><td>50260.0</td><td>Individual</td><td>null</td><td>null</td><td>2000.0</td><td>2000.0</td><td>3</td><td>15.02</td><td>69.36</td><td>Oct-2018</td><td>Current</td><td>other</td><td>227.25</td><td>116.21</td><td>0.0</td><td>Mar-2019</td><td>Apr-2019</td><td>null</td><td>null</td><td>null</td><td>0</td><td>0</td><td>0</td></tr>\n",
       "<tr><td>91518424</td><td>003d7bee408492f11...</td><td>Flight Attendant</td><td>10</td><td>RENT</td><td>75000.0</td><td>AZ</td><td>852xx</td><td>USA</td><td>A</td><td>A5</td><td>Not Verified</td><td>166387.0</td><td>Individual</td><td>null</td><td>null</td><td>10000.0</td><td>10000.0</td><td>3</td><td>7.99</td><td>313.32</td><td>Oct-2016</td><td>Current</td><td>other</td><td>7864.12</td><td>1213.28</td><td>0.0</td><td>Mar-2019</td><td>Apr-2019</td><td>null</td><td>null</td><td>null</td><td>0</td><td>0</td><td>0</td></tr>\n",
       "<tr><td>116883875</td><td>003e1e6cbd2920bbb...</td><td>Operations Superv...</td><td>9</td><td>MORTGAGE</td><td>92000.0</td><td>LA</td><td>705xx</td><td>USA</td><td>A</td><td>A5</td><td>Source Verified</td><td>375806.0</td><td>Individual</td><td>null</td><td>null</td><td>10000.0</td><td>10000.0</td><td>3</td><td>7.97</td><td>313.23</td><td>Aug-2017</td><td>Current</td><td>debt_consolidation</td><td>4980.61</td><td>970.21</td><td>0.0</td><td>Mar-2019</td><td>Apr-2019</td><td>1</td><td>0.0</td><td>0</td><td>1</td><td>1</td><td>0</td></tr>\n",
       "<tr><td>10616863</td><td>004017b21bd4d6271...</td><td>Regional Rehab Di...</td><td>9</td><td>MORTGAGE</td><td>113000.0</td><td>NC</td><td>276xx</td><td>USA</td><td>C</td><td>C1</td><td>Not Verified</td><td>120587.0</td><td>Individual</td><td>null</td><td>null</td><td>3000.0</td><td>3000.0</td><td>3</td><td>13.98</td><td>102.51</td><td>Jan-2014</td><td>Fully Paid</td><td>debt_consolidation</td><td>3000.0</td><td>685.71</td><td>15.0</td><td>Dec-2016</td><td>null</td><td>6</td><td>0.0</td><td>15</td><td>0</td><td>0</td><td>0</td></tr>\n",
       "<tr><td>58882363</td><td>004dbe6698f1482be...</td><td>Project Manager</td><td>3</td><td>MORTGAGE</td><td>130000.0</td><td>NY</td><td>109xx</td><td>USA</td><td>D</td><td>D4</td><td>Verified</td><td>317868.0</td><td>Individual</td><td>null</td><td>null</td><td>35000.0</td><td>35000.0</td><td>3</td><td>17.57</td><td>1257.8</td><td>Sep-2015</td><td>Fully Paid</td><td>credit_card</td><td>35000.0</td><td>10246.49</td><td>0.0</td><td>Sep-2018</td><td>null</td><td>null</td><td>null</td><td>null</td><td>0</td><td>0</td><td>2</td></tr>\n",
       "<tr><td>27681731</td><td>004f73beb41d739e1...</td><td>Staff Research As...</td><td>6</td><td>RENT</td><td>60000.0</td><td>CA</td><td>921xx</td><td>USA</td><td>C</td><td>C4</td><td>Source Verified</td><td>92453.0</td><td>Individual</td><td>null</td><td>null</td><td>15775.0</td><td>15775.0</td><td>5</td><td>14.49</td><td>371.08</td><td>Sep-2014</td><td>Current</td><td>debt_consolidation</td><td>13639.96</td><td>6398.36</td><td>0.0</td><td>Mar-2019</td><td>Apr-2019</td><td>null</td><td>null</td><td>null</td><td>0</td><td>0</td><td>0</td></tr>\n",
       "<tr><td>35236401</td><td>0059ce602b84a1bdd...</td><td>correctional officer</td><td>10</td><td>MORTGAGE</td><td>75000.0</td><td>CA</td><td>933xx</td><td>USA</td><td>D</td><td>D4</td><td>Verified</td><td>130656.0</td><td>Individual</td><td>null</td><td>null</td><td>31450.0</td><td>31450.0</td><td>3</td><td>17.14</td><td>1123.48</td><td>Dec-2014</td><td>Fully Paid</td><td>debt_consolidation</td><td>31450.0</td><td>8693.53</td><td>0.0</td><td>Dec-2017</td><td>null</td><td>null</td><td>null</td><td>null</td><td>0</td><td>0</td><td>1</td></tr>\n",
       "<tr><td>83648322</td><td>005b4c3db3fce07dc...</td><td>office manager</td><td>9</td><td>MORTGAGE</td><td>61000.0</td><td>FL</td><td>334xx</td><td>USA</td><td>B</td><td>B5</td><td>Source Verified</td><td>28386.0</td><td>Individual</td><td>null</td><td>null</td><td>6000.0</td><td>6000.0</td><td>3</td><td>11.49</td><td>197.83</td><td>Jun-2016</td><td>Current</td><td>credit_card</td><td>5417.8</td><td>1102.93</td><td>0.0</td><td>Mar-2019</td><td>Apr-2019</td><td>1</td><td>0.0</td><td>0</td><td>1</td><td>0</td><td>1</td></tr>\n",
       "<tr><td>60615493</td><td>005d5e3c98a159671...</td><td>Staff Accountant</td><td>5</td><td>RENT</td><td>57000.0</td><td>NY</td><td>113xx</td><td>USA</td><td>C</td><td>C5</td><td>Source Verified</td><td>48811.0</td><td>Individual</td><td>null</td><td>null</td><td>9000.0</td><td>9000.0</td><td>3</td><td>14.65</td><td>310.45</td><td>Sep-2015</td><td>Fully Paid</td><td>credit_card</td><td>9000.0</td><td>440.68</td><td>0.0</td><td>Jan-2016</td><td>null</td><td>null</td><td>null</td><td>null</td><td>0</td><td>0</td><td>0</td></tr>\n",
       "<tr><td>15650801</td><td>005daa54678e6fdfe...</td><td>Account Manager</td><td>1</td><td>MORTGAGE</td><td>105000.0</td><td>TX</td><td>761xx</td><td>USA</td><td>B</td><td>B5</td><td>Not Verified</td><td>197073.0</td><td>Individual</td><td>null</td><td>null</td><td>10000.0</td><td>10000.0</td><td>3</td><td>12.99</td><td>336.9</td><td>May-2014</td><td>Charged Off</td><td>debt_consolidation</td><td>1900.02</td><td>795.18</td><td>0.0</td><td>Jan-2015</td><td>null</td><td>null</td><td>null</td><td>null</td><td>0</td><td>0</td><td>2</td></tr>\n",
       "<tr><td>55452248</td><td>0061cd647ed984d65...</td><td>Interview Specialist</td><td>10</td><td>MORTGAGE</td><td>34944.0</td><td>FL</td><td>334xx</td><td>USA</td><td>D</td><td>D2</td><td>Verified</td><td>208930.0</td><td>Individual</td><td>null</td><td>null</td><td>8900.0</td><td>8900.0</td><td>3</td><td>16.55</td><td>315.32</td><td>Jul-2015</td><td>Fully Paid</td><td>debt_consolidation</td><td>8900.0</td><td>1772.08</td><td>0.0</td><td>Feb-2017</td><td>null</td><td>null</td><td>null</td><td>null</td><td>0</td><td>0</td><td>0</td></tr>\n",
       "<tr><td>51646280</td><td>0068aeffe996677c2...</td><td>Partner</td><td>10</td><td>MORTGAGE</td><td>120000.0</td><td>AK</td><td>998xx</td><td>USA</td><td>D</td><td>D1</td><td>Not Verified</td><td>719758.0</td><td>Individual</td><td>null</td><td>null</td><td>20000.0</td><td>20000.0</td><td>3</td><td>15.61</td><td>699.3</td><td>Jun-2015</td><td>Fully Paid</td><td>home_improvement</td><td>20000.0</td><td>5157.27</td><td>0.0</td><td>Jun-2018</td><td>null</td><td>null</td><td>null</td><td>null</td><td>0</td><td>0</td><td>2</td></tr>\n",
       "<tr><td>49954749</td><td>00710707c563c2119...</td><td>owner</td><td>3</td><td>MORTGAGE</td><td>109000.0</td><td>FL</td><td>324xx</td><td>USA</td><td>B</td><td>B5</td><td>Source Verified</td><td>356897.0</td><td>Individual</td><td>null</td><td>null</td><td>15000.0</td><td>15000.0</td><td>3</td><td>11.53</td><td>494.86</td><td>Jun-2015</td><td>Fully Paid</td><td>debt_consolidation</td><td>15000.0</td><td>2595.47</td><td>0.0</td><td>Oct-2017</td><td>null</td><td>1</td><td>0.0</td><td>0</td><td>0</td><td>0</td><td>0</td></tr>\n",
       "</table>\n",
       "only showing top 20 rows\n"
      ],
      "text/plain": [
       "+---------+--------------------+--------------------+----------+--------------+-------------+-------------+---------------+---------------+-----+---------+-------------------+-----------------------+----------------+------------------+-------------------------+-----------+-------------+---------------+-------------+-------------------+----------+-----------+------------------+------------------------+-----------------------+-----------------------+-----------------+-----------------+-----------+-----------+----------------------+-------+--------------------+--------------+\n",
       "|  loan_id|           member_id|           emp_title|emp_length|home_ownership|annual_income|address_state|address_zipcode|address_country|grade|sub_grade|verification_status|total_high_credit_limit|application_type|join_annual_income|verification_status_joint|loan_amount|funded_amount|loan_term_years|interest_rate|monthly_installment|issue_date|loan_status|      loan_purpose|total_principal_received|total_interest_received|total_late_fee_received|last_payment_date|next_payment_date|delinq_2yrs|delinq_amnt|mths_since_last_delinq|pub_rec|pub_rec_bankruptcies|inq_last_6mths|\n",
       "+---------+--------------------+--------------------+----------+--------------+-------------+-------------+---------------+---------------+-----+---------+-------------------+-----------------------+----------------+------------------+-------------------------+-----------+-------------+---------------+-------------+-------------------+----------+-----------+------------------+------------------------+-----------------------+-----------------------+-----------------+-----------------+-----------+-----------+----------------------+-------+--------------------+--------------+\n",
       "| 71175798|000c8875b71a6b47c...|Director of Gvt O...|         1|      MORTGAGE|     100000.0|           CA|          920xx|            USA|    A|       A4|       Not Verified|               761500.0|      Individual|              null|                     null|     3000.0|       3000.0|              3|         7.39|              93.17|  Feb-2016| Fully Paid|debt_consolidation|                  3000.0|                 114.47|                    0.0|         Aug-2016|             null|          1|        0.0|                     0|      0|                   0|             0|\n",
       "|139313300|000fc98fc1ca5faa3...|               coord|        10|      MORTGAGE|     220000.0|           CA|          952xx|            USA|    A|       A3|       Not Verified|               227457.0|       Joint App|          230000.0|                     null|    20000.0|      20000.0|              3|         7.21|             619.47|  Aug-2018|    Current|       credit_card|                 3558.76|                 769.52|                    0.0|         Mar-2019|         Apr-2019|       null|       null|                  null|      0|                   0|             0|\n",
       "|143195702|0012728d9f616bdf2...|                null|         6|           OWN|      35000.0|           SC|          294xx|            USA|    A|       A5|       Not Verified|                20900.0|      Individual|              null|                     null|     9000.0|       9000.0|              3|         8.46|             283.95|  Dec-2018|    Current|debt_consolidation|                  666.17|                 181.45|                    0.0|         Mar-2019|         Apr-2019|       null|       null|                  null|      0|                   0|             0|\n",
       "|  2284564|00151ece27c7ca280...|Northglenn Police...|         8|          RENT|      54000.0|           CO|          802xx|            USA|    C|       C1|       Not Verified|                40650.0|      Individual|              null|                     null|    12800.0|      12800.0|              3|        14.33|             439.53|  Nov-2012| Fully Paid|debt_consolidation|                 12800.0|                2192.68|                    0.0|         Jun-2014|             null|       null|       null|                  null|      0|                   0|             1|\n",
       "|  3845340|002800d49886390d2...|           RehabCare|         2|          RENT|      60000.0|           TX|          787xx|            USA|    D|       D3|       Not Verified|                37248.0|      Individual|              null|                     null|    15000.0|      15000.0|              3|        18.75|             547.95|  Mar-2013|Charged Off|debt_consolidation|                12856.06|                4702.54|                    0.0|         Dec-2015|             null|       null|       null|                  null|      0|                   0|             0|\n",
       "|   360493|003715c2aec34dd43...|Apex Technologies...|         1|      MORTGAGE|      90000.0|           PA|          171xx|            USA|    C|       C3|       Not Verified|                   null|      Individual|              null|                     null|    12000.0|      12000.0|              3|        12.41|             400.93|  Oct-2008| Fully Paid|debt_consolidation|                 12000.0|                 208.02|                    0.0|         Apr-2009|             null|       null|       null|                  null|      0|                   0|             2|\n",
       "| 95004059|003769d7f54c7859e...|             Trainer|        10|      MORTGAGE|      35000.0|           NC|          282xx|            USA|    E|       E1|           Verified|               184961.0|      Individual|              null|                     null|    10000.0|      10000.0|              5|        22.74|             280.42|  Dec-2016|Charged Off|           medical|                   90.92|                 176.87|                    0.0|         Jan-2017|             null|          1|        0.0|                     0|      0|                   0|             0|\n",
       "|142641777|0037bb910c0a758f5...|    Network Engineer|         2|          RENT|     105000.0|           IL|          601xx|            USA|    C|       C3|    Source Verified|                50260.0|      Individual|              null|                     null|     2000.0|       2000.0|              3|        15.02|              69.36|  Oct-2018|    Current|             other|                  227.25|                 116.21|                    0.0|         Mar-2019|         Apr-2019|       null|       null|                  null|      0|                   0|             0|\n",
       "| 91518424|003d7bee408492f11...|    Flight Attendant|        10|          RENT|      75000.0|           AZ|          852xx|            USA|    A|       A5|       Not Verified|               166387.0|      Individual|              null|                     null|    10000.0|      10000.0|              3|         7.99|             313.32|  Oct-2016|    Current|             other|                 7864.12|                1213.28|                    0.0|         Mar-2019|         Apr-2019|       null|       null|                  null|      0|                   0|             0|\n",
       "|116883875|003e1e6cbd2920bbb...|Operations Superv...|         9|      MORTGAGE|      92000.0|           LA|          705xx|            USA|    A|       A5|    Source Verified|               375806.0|      Individual|              null|                     null|    10000.0|      10000.0|              3|         7.97|             313.23|  Aug-2017|    Current|debt_consolidation|                 4980.61|                 970.21|                    0.0|         Mar-2019|         Apr-2019|          1|        0.0|                     0|      1|                   1|             0|\n",
       "| 10616863|004017b21bd4d6271...|Regional Rehab Di...|         9|      MORTGAGE|     113000.0|           NC|          276xx|            USA|    C|       C1|       Not Verified|               120587.0|      Individual|              null|                     null|     3000.0|       3000.0|              3|        13.98|             102.51|  Jan-2014| Fully Paid|debt_consolidation|                  3000.0|                 685.71|                   15.0|         Dec-2016|             null|          6|        0.0|                    15|      0|                   0|             0|\n",
       "| 58882363|004dbe6698f1482be...|     Project Manager|         3|      MORTGAGE|     130000.0|           NY|          109xx|            USA|    D|       D4|           Verified|               317868.0|      Individual|              null|                     null|    35000.0|      35000.0|              3|        17.57|             1257.8|  Sep-2015| Fully Paid|       credit_card|                 35000.0|               10246.49|                    0.0|         Sep-2018|             null|       null|       null|                  null|      0|                   0|             2|\n",
       "| 27681731|004f73beb41d739e1...|Staff Research As...|         6|          RENT|      60000.0|           CA|          921xx|            USA|    C|       C4|    Source Verified|                92453.0|      Individual|              null|                     null|    15775.0|      15775.0|              5|        14.49|             371.08|  Sep-2014|    Current|debt_consolidation|                13639.96|                6398.36|                    0.0|         Mar-2019|         Apr-2019|       null|       null|                  null|      0|                   0|             0|\n",
       "| 35236401|0059ce602b84a1bdd...|correctional officer|        10|      MORTGAGE|      75000.0|           CA|          933xx|            USA|    D|       D4|           Verified|               130656.0|      Individual|              null|                     null|    31450.0|      31450.0|              3|        17.14|            1123.48|  Dec-2014| Fully Paid|debt_consolidation|                 31450.0|                8693.53|                    0.0|         Dec-2017|             null|       null|       null|                  null|      0|                   0|             1|\n",
       "| 83648322|005b4c3db3fce07dc...|      office manager|         9|      MORTGAGE|      61000.0|           FL|          334xx|            USA|    B|       B5|    Source Verified|                28386.0|      Individual|              null|                     null|     6000.0|       6000.0|              3|        11.49|             197.83|  Jun-2016|    Current|       credit_card|                  5417.8|                1102.93|                    0.0|         Mar-2019|         Apr-2019|          1|        0.0|                     0|      1|                   0|             1|\n",
       "| 60615493|005d5e3c98a159671...|    Staff Accountant|         5|          RENT|      57000.0|           NY|          113xx|            USA|    C|       C5|    Source Verified|                48811.0|      Individual|              null|                     null|     9000.0|       9000.0|              3|        14.65|             310.45|  Sep-2015| Fully Paid|       credit_card|                  9000.0|                 440.68|                    0.0|         Jan-2016|             null|       null|       null|                  null|      0|                   0|             0|\n",
       "| 15650801|005daa54678e6fdfe...|     Account Manager|         1|      MORTGAGE|     105000.0|           TX|          761xx|            USA|    B|       B5|       Not Verified|               197073.0|      Individual|              null|                     null|    10000.0|      10000.0|              3|        12.99|              336.9|  May-2014|Charged Off|debt_consolidation|                 1900.02|                 795.18|                    0.0|         Jan-2015|             null|       null|       null|                  null|      0|                   0|             2|\n",
       "| 55452248|0061cd647ed984d65...|Interview Specialist|        10|      MORTGAGE|      34944.0|           FL|          334xx|            USA|    D|       D2|           Verified|               208930.0|      Individual|              null|                     null|     8900.0|       8900.0|              3|        16.55|             315.32|  Jul-2015| Fully Paid|debt_consolidation|                  8900.0|                1772.08|                    0.0|         Feb-2017|             null|       null|       null|                  null|      0|                   0|             0|\n",
       "| 51646280|0068aeffe996677c2...|             Partner|        10|      MORTGAGE|     120000.0|           AK|          998xx|            USA|    D|       D1|       Not Verified|               719758.0|      Individual|              null|                     null|    20000.0|      20000.0|              3|        15.61|              699.3|  Jun-2015| Fully Paid|  home_improvement|                 20000.0|                5157.27|                    0.0|         Jun-2018|             null|       null|       null|                  null|      0|                   0|             2|\n",
       "| 49954749|00710707c563c2119...|               owner|         3|      MORTGAGE|     109000.0|           FL|          324xx|            USA|    B|       B5|    Source Verified|               356897.0|      Individual|              null|                     null|    15000.0|      15000.0|              3|        11.53|             494.86|  Jun-2015| Fully Paid|debt_consolidation|                 15000.0|                2595.47|                    0.0|         Oct-2017|             null|          1|        0.0|                     0|      0|                   0|             0|\n",
       "+---------+--------------------+--------------------+----------+--------------+-------------+-------------+---------------+---------------+-----+---------+-------------------+-----------------------+----------------+------------------+-------------------------+-----------+-------------+---------------+-------------+-------------------+----------+-----------+------------------+------------------------+-----------------------+-----------------------+-----------------+-----------------+-----------+-----------+----------------------+-------+--------------------+--------------+\n",
       "only showing top 20 rows"
      ]
     },
     "execution_count": 15,
     "metadata": {},
     "output_type": "execute_result"
    }
   ],
   "source": [
    "spark.sql(\"select * from itv012010_lending_club_project.customers_loan_v\")"
   ]
  },
  {
   "cell_type": "code",
   "execution_count": 16,
   "id": "eeb3f3b9",
   "metadata": {},
   "outputs": [],
   "source": [
    "#Another team wants a quick access to data since this view is taking lot of time, will create a table so that data can be accessed quickly \n",
    "#This will be a managed table '/user/itv012010/warehouse' --within this location table will be created as provided in sparksession"
   ]
  },
  {
   "cell_type": "code",
   "execution_count": 17,
   "id": "e658d540",
   "metadata": {},
   "outputs": [
    {
     "data": {
      "text/html": [
       "<table border='1'>\n",
       "<tr><th></th></tr>\n",
       "</table>\n"
      ],
      "text/plain": [
       "++\n",
       "||\n",
       "++\n",
       "++"
      ]
     },
     "execution_count": 17,
     "metadata": {},
     "output_type": "execute_result"
    }
   ],
   "source": [
    "spark.sql(\"\"\"\n",
    "create table itv012010_lending_club_project.customers_loan_t as select\n",
    "l.loan_id,\n",
    "c.member_id,\n",
    "c.emp_title,\n",
    "c.emp_length,\n",
    "c.home_ownership,\n",
    "c.annual_income,\n",
    "c.address_state,\n",
    "c.address_zipcode,\n",
    "c.address_country,\n",
    "c.grade,\n",
    "c.sub_grade,\n",
    "c.verification_status,\n",
    "c.total_high_credit_limit,\n",
    "c.application_type,\n",
    "c.join_annual_income,\n",
    "c.verification_status_joint,\n",
    "l.loan_amount,\n",
    "l.funded_amount,\n",
    "l.loan_term_years,\n",
    "l.interest_rate,\n",
    "l.monthly_installment,\n",
    "l.issue_date,\n",
    "l.loan_status,\n",
    "l.loan_purpose,\n",
    "r.total_principal_received,\n",
    "r.total_interest_received,\n",
    "r.total_late_fee_received,\n",
    "r.last_payment_date,\n",
    "r.next_payment_date,\n",
    "d.delinq_2yrs,\n",
    "d.delinq_amnt,\n",
    "d.mths_since_last_delinq,\n",
    "e.pub_rec,\n",
    "e.pub_rec_bankruptcies,\n",
    "e.inq_last_6mths\n",
    "\n",
    "FROM itv006277_lending_club.customers c\n",
    "LEFT JOIN itv006277_lending_club.loans l on c.member_id = l.member_id\n",
    "LEFT JOIN itv006277_lending_club.loans_repayments r ON l.loan_id = r.loan_id\n",
    "LEFT JOIN itv006277_lending_club.loans_defaulters_delinq d ON c.member_id = d.member_id\n",
    "LEFT JOIN itv006277_lending_club.loans_defaulters_detail_rec_enq e ON c.member_id = e.member_id\n",
    "\"\"\")"
   ]
  },
  {
   "cell_type": "code",
   "execution_count": 18,
   "id": "50d09a1f",
   "metadata": {},
   "outputs": [
    {
     "data": {
      "text/html": [
       "<table border='1'>\n",
       "<tr><th>loan_id</th><th>member_id</th><th>emp_title</th><th>emp_length</th><th>home_ownership</th><th>annual_income</th><th>address_state</th><th>address_zipcode</th><th>address_country</th><th>grade</th><th>sub_grade</th><th>verification_status</th><th>total_high_credit_limit</th><th>application_type</th><th>join_annual_income</th><th>verification_status_joint</th><th>loan_amount</th><th>funded_amount</th><th>loan_term_years</th><th>interest_rate</th><th>monthly_installment</th><th>issue_date</th><th>loan_status</th><th>loan_purpose</th><th>total_principal_received</th><th>total_interest_received</th><th>total_late_fee_received</th><th>last_payment_date</th><th>next_payment_date</th><th>delinq_2yrs</th><th>delinq_amnt</th><th>mths_since_last_delinq</th><th>pub_rec</th><th>pub_rec_bankruptcies</th><th>inq_last_6mths</th></tr>\n",
       "<tr><td>71175798</td><td>000c8875b71a6b47c...</td><td>Director of Gvt O...</td><td>1</td><td>MORTGAGE</td><td>100000.0</td><td>CA</td><td>920xx</td><td>USA</td><td>A</td><td>A4</td><td>Not Verified</td><td>761500.0</td><td>Individual</td><td>null</td><td>null</td><td>3000.0</td><td>3000.0</td><td>3</td><td>7.39</td><td>93.17</td><td>Feb-2016</td><td>Fully Paid</td><td>debt_consolidation</td><td>3000.0</td><td>114.47</td><td>0.0</td><td>Aug-2016</td><td>null</td><td>1</td><td>0.0</td><td>0</td><td>0</td><td>0</td><td>0</td></tr>\n",
       "<tr><td>139313300</td><td>000fc98fc1ca5faa3...</td><td>coord</td><td>10</td><td>MORTGAGE</td><td>220000.0</td><td>CA</td><td>952xx</td><td>USA</td><td>A</td><td>A3</td><td>Not Verified</td><td>227457.0</td><td>Joint App</td><td>230000.0</td><td>null</td><td>20000.0</td><td>20000.0</td><td>3</td><td>7.21</td><td>619.47</td><td>Aug-2018</td><td>Current</td><td>credit_card</td><td>3558.76</td><td>769.52</td><td>0.0</td><td>Mar-2019</td><td>Apr-2019</td><td>null</td><td>null</td><td>null</td><td>0</td><td>0</td><td>0</td></tr>\n",
       "<tr><td>143195702</td><td>0012728d9f616bdf2...</td><td>null</td><td>6</td><td>OWN</td><td>35000.0</td><td>SC</td><td>294xx</td><td>USA</td><td>A</td><td>A5</td><td>Not Verified</td><td>20900.0</td><td>Individual</td><td>null</td><td>null</td><td>9000.0</td><td>9000.0</td><td>3</td><td>8.46</td><td>283.95</td><td>Dec-2018</td><td>Current</td><td>debt_consolidation</td><td>666.17</td><td>181.45</td><td>0.0</td><td>Mar-2019</td><td>Apr-2019</td><td>null</td><td>null</td><td>null</td><td>0</td><td>0</td><td>0</td></tr>\n",
       "<tr><td>2284564</td><td>00151ece27c7ca280...</td><td>Northglenn Police...</td><td>8</td><td>RENT</td><td>54000.0</td><td>CO</td><td>802xx</td><td>USA</td><td>C</td><td>C1</td><td>Not Verified</td><td>40650.0</td><td>Individual</td><td>null</td><td>null</td><td>12800.0</td><td>12800.0</td><td>3</td><td>14.33</td><td>439.53</td><td>Nov-2012</td><td>Fully Paid</td><td>debt_consolidation</td><td>12800.0</td><td>2192.68</td><td>0.0</td><td>Jun-2014</td><td>null</td><td>null</td><td>null</td><td>null</td><td>0</td><td>0</td><td>1</td></tr>\n",
       "<tr><td>3845340</td><td>002800d49886390d2...</td><td>RehabCare</td><td>2</td><td>RENT</td><td>60000.0</td><td>TX</td><td>787xx</td><td>USA</td><td>D</td><td>D3</td><td>Not Verified</td><td>37248.0</td><td>Individual</td><td>null</td><td>null</td><td>15000.0</td><td>15000.0</td><td>3</td><td>18.75</td><td>547.95</td><td>Mar-2013</td><td>Charged Off</td><td>debt_consolidation</td><td>12856.06</td><td>4702.54</td><td>0.0</td><td>Dec-2015</td><td>null</td><td>null</td><td>null</td><td>null</td><td>0</td><td>0</td><td>0</td></tr>\n",
       "<tr><td>360493</td><td>003715c2aec34dd43...</td><td>Apex Technologies...</td><td>1</td><td>MORTGAGE</td><td>90000.0</td><td>PA</td><td>171xx</td><td>USA</td><td>C</td><td>C3</td><td>Not Verified</td><td>null</td><td>Individual</td><td>null</td><td>null</td><td>12000.0</td><td>12000.0</td><td>3</td><td>12.41</td><td>400.93</td><td>Oct-2008</td><td>Fully Paid</td><td>debt_consolidation</td><td>12000.0</td><td>208.02</td><td>0.0</td><td>Apr-2009</td><td>null</td><td>null</td><td>null</td><td>null</td><td>0</td><td>0</td><td>2</td></tr>\n",
       "<tr><td>95004059</td><td>003769d7f54c7859e...</td><td>Trainer</td><td>10</td><td>MORTGAGE</td><td>35000.0</td><td>NC</td><td>282xx</td><td>USA</td><td>E</td><td>E1</td><td>Verified</td><td>184961.0</td><td>Individual</td><td>null</td><td>null</td><td>10000.0</td><td>10000.0</td><td>5</td><td>22.74</td><td>280.42</td><td>Dec-2016</td><td>Charged Off</td><td>medical</td><td>90.92</td><td>176.87</td><td>0.0</td><td>Jan-2017</td><td>null</td><td>1</td><td>0.0</td><td>0</td><td>0</td><td>0</td><td>0</td></tr>\n",
       "<tr><td>142641777</td><td>0037bb910c0a758f5...</td><td>Network Engineer</td><td>2</td><td>RENT</td><td>105000.0</td><td>IL</td><td>601xx</td><td>USA</td><td>C</td><td>C3</td><td>Source Verified</td><td>50260.0</td><td>Individual</td><td>null</td><td>null</td><td>2000.0</td><td>2000.0</td><td>3</td><td>15.02</td><td>69.36</td><td>Oct-2018</td><td>Current</td><td>other</td><td>227.25</td><td>116.21</td><td>0.0</td><td>Mar-2019</td><td>Apr-2019</td><td>null</td><td>null</td><td>null</td><td>0</td><td>0</td><td>0</td></tr>\n",
       "<tr><td>91518424</td><td>003d7bee408492f11...</td><td>Flight Attendant</td><td>10</td><td>RENT</td><td>75000.0</td><td>AZ</td><td>852xx</td><td>USA</td><td>A</td><td>A5</td><td>Not Verified</td><td>166387.0</td><td>Individual</td><td>null</td><td>null</td><td>10000.0</td><td>10000.0</td><td>3</td><td>7.99</td><td>313.32</td><td>Oct-2016</td><td>Current</td><td>other</td><td>7864.12</td><td>1213.28</td><td>0.0</td><td>Mar-2019</td><td>Apr-2019</td><td>null</td><td>null</td><td>null</td><td>0</td><td>0</td><td>0</td></tr>\n",
       "<tr><td>116883875</td><td>003e1e6cbd2920bbb...</td><td>Operations Superv...</td><td>9</td><td>MORTGAGE</td><td>92000.0</td><td>LA</td><td>705xx</td><td>USA</td><td>A</td><td>A5</td><td>Source Verified</td><td>375806.0</td><td>Individual</td><td>null</td><td>null</td><td>10000.0</td><td>10000.0</td><td>3</td><td>7.97</td><td>313.23</td><td>Aug-2017</td><td>Current</td><td>debt_consolidation</td><td>4980.61</td><td>970.21</td><td>0.0</td><td>Mar-2019</td><td>Apr-2019</td><td>1</td><td>0.0</td><td>0</td><td>1</td><td>1</td><td>0</td></tr>\n",
       "<tr><td>10616863</td><td>004017b21bd4d6271...</td><td>Regional Rehab Di...</td><td>9</td><td>MORTGAGE</td><td>113000.0</td><td>NC</td><td>276xx</td><td>USA</td><td>C</td><td>C1</td><td>Not Verified</td><td>120587.0</td><td>Individual</td><td>null</td><td>null</td><td>3000.0</td><td>3000.0</td><td>3</td><td>13.98</td><td>102.51</td><td>Jan-2014</td><td>Fully Paid</td><td>debt_consolidation</td><td>3000.0</td><td>685.71</td><td>15.0</td><td>Dec-2016</td><td>null</td><td>6</td><td>0.0</td><td>15</td><td>0</td><td>0</td><td>0</td></tr>\n",
       "<tr><td>58882363</td><td>004dbe6698f1482be...</td><td>Project Manager</td><td>3</td><td>MORTGAGE</td><td>130000.0</td><td>NY</td><td>109xx</td><td>USA</td><td>D</td><td>D4</td><td>Verified</td><td>317868.0</td><td>Individual</td><td>null</td><td>null</td><td>35000.0</td><td>35000.0</td><td>3</td><td>17.57</td><td>1257.8</td><td>Sep-2015</td><td>Fully Paid</td><td>credit_card</td><td>35000.0</td><td>10246.49</td><td>0.0</td><td>Sep-2018</td><td>null</td><td>null</td><td>null</td><td>null</td><td>0</td><td>0</td><td>2</td></tr>\n",
       "<tr><td>27681731</td><td>004f73beb41d739e1...</td><td>Staff Research As...</td><td>6</td><td>RENT</td><td>60000.0</td><td>CA</td><td>921xx</td><td>USA</td><td>C</td><td>C4</td><td>Source Verified</td><td>92453.0</td><td>Individual</td><td>null</td><td>null</td><td>15775.0</td><td>15775.0</td><td>5</td><td>14.49</td><td>371.08</td><td>Sep-2014</td><td>Current</td><td>debt_consolidation</td><td>13639.96</td><td>6398.36</td><td>0.0</td><td>Mar-2019</td><td>Apr-2019</td><td>null</td><td>null</td><td>null</td><td>0</td><td>0</td><td>0</td></tr>\n",
       "<tr><td>35236401</td><td>0059ce602b84a1bdd...</td><td>correctional officer</td><td>10</td><td>MORTGAGE</td><td>75000.0</td><td>CA</td><td>933xx</td><td>USA</td><td>D</td><td>D4</td><td>Verified</td><td>130656.0</td><td>Individual</td><td>null</td><td>null</td><td>31450.0</td><td>31450.0</td><td>3</td><td>17.14</td><td>1123.48</td><td>Dec-2014</td><td>Fully Paid</td><td>debt_consolidation</td><td>31450.0</td><td>8693.53</td><td>0.0</td><td>Dec-2017</td><td>null</td><td>null</td><td>null</td><td>null</td><td>0</td><td>0</td><td>1</td></tr>\n",
       "<tr><td>83648322</td><td>005b4c3db3fce07dc...</td><td>office manager</td><td>9</td><td>MORTGAGE</td><td>61000.0</td><td>FL</td><td>334xx</td><td>USA</td><td>B</td><td>B5</td><td>Source Verified</td><td>28386.0</td><td>Individual</td><td>null</td><td>null</td><td>6000.0</td><td>6000.0</td><td>3</td><td>11.49</td><td>197.83</td><td>Jun-2016</td><td>Current</td><td>credit_card</td><td>5417.8</td><td>1102.93</td><td>0.0</td><td>Mar-2019</td><td>Apr-2019</td><td>1</td><td>0.0</td><td>0</td><td>1</td><td>0</td><td>1</td></tr>\n",
       "<tr><td>60615493</td><td>005d5e3c98a159671...</td><td>Staff Accountant</td><td>5</td><td>RENT</td><td>57000.0</td><td>NY</td><td>113xx</td><td>USA</td><td>C</td><td>C5</td><td>Source Verified</td><td>48811.0</td><td>Individual</td><td>null</td><td>null</td><td>9000.0</td><td>9000.0</td><td>3</td><td>14.65</td><td>310.45</td><td>Sep-2015</td><td>Fully Paid</td><td>credit_card</td><td>9000.0</td><td>440.68</td><td>0.0</td><td>Jan-2016</td><td>null</td><td>null</td><td>null</td><td>null</td><td>0</td><td>0</td><td>0</td></tr>\n",
       "<tr><td>15650801</td><td>005daa54678e6fdfe...</td><td>Account Manager</td><td>1</td><td>MORTGAGE</td><td>105000.0</td><td>TX</td><td>761xx</td><td>USA</td><td>B</td><td>B5</td><td>Not Verified</td><td>197073.0</td><td>Individual</td><td>null</td><td>null</td><td>10000.0</td><td>10000.0</td><td>3</td><td>12.99</td><td>336.9</td><td>May-2014</td><td>Charged Off</td><td>debt_consolidation</td><td>1900.02</td><td>795.18</td><td>0.0</td><td>Jan-2015</td><td>null</td><td>null</td><td>null</td><td>null</td><td>0</td><td>0</td><td>2</td></tr>\n",
       "<tr><td>55452248</td><td>0061cd647ed984d65...</td><td>Interview Specialist</td><td>10</td><td>MORTGAGE</td><td>34944.0</td><td>FL</td><td>334xx</td><td>USA</td><td>D</td><td>D2</td><td>Verified</td><td>208930.0</td><td>Individual</td><td>null</td><td>null</td><td>8900.0</td><td>8900.0</td><td>3</td><td>16.55</td><td>315.32</td><td>Jul-2015</td><td>Fully Paid</td><td>debt_consolidation</td><td>8900.0</td><td>1772.08</td><td>0.0</td><td>Feb-2017</td><td>null</td><td>null</td><td>null</td><td>null</td><td>0</td><td>0</td><td>0</td></tr>\n",
       "<tr><td>51646280</td><td>0068aeffe996677c2...</td><td>Partner</td><td>10</td><td>MORTGAGE</td><td>120000.0</td><td>AK</td><td>998xx</td><td>USA</td><td>D</td><td>D1</td><td>Not Verified</td><td>719758.0</td><td>Individual</td><td>null</td><td>null</td><td>20000.0</td><td>20000.0</td><td>3</td><td>15.61</td><td>699.3</td><td>Jun-2015</td><td>Fully Paid</td><td>home_improvement</td><td>20000.0</td><td>5157.27</td><td>0.0</td><td>Jun-2018</td><td>null</td><td>null</td><td>null</td><td>null</td><td>0</td><td>0</td><td>2</td></tr>\n",
       "<tr><td>49954749</td><td>00710707c563c2119...</td><td>owner</td><td>3</td><td>MORTGAGE</td><td>109000.0</td><td>FL</td><td>324xx</td><td>USA</td><td>B</td><td>B5</td><td>Source Verified</td><td>356897.0</td><td>Individual</td><td>null</td><td>null</td><td>15000.0</td><td>15000.0</td><td>3</td><td>11.53</td><td>494.86</td><td>Jun-2015</td><td>Fully Paid</td><td>debt_consolidation</td><td>15000.0</td><td>2595.47</td><td>0.0</td><td>Oct-2017</td><td>null</td><td>1</td><td>0.0</td><td>0</td><td>0</td><td>0</td><td>0</td></tr>\n",
       "</table>\n",
       "only showing top 20 rows\n"
      ],
      "text/plain": [
       "+---------+--------------------+--------------------+----------+--------------+-------------+-------------+---------------+---------------+-----+---------+-------------------+-----------------------+----------------+------------------+-------------------------+-----------+-------------+---------------+-------------+-------------------+----------+-----------+------------------+------------------------+-----------------------+-----------------------+-----------------+-----------------+-----------+-----------+----------------------+-------+--------------------+--------------+\n",
       "|  loan_id|           member_id|           emp_title|emp_length|home_ownership|annual_income|address_state|address_zipcode|address_country|grade|sub_grade|verification_status|total_high_credit_limit|application_type|join_annual_income|verification_status_joint|loan_amount|funded_amount|loan_term_years|interest_rate|monthly_installment|issue_date|loan_status|      loan_purpose|total_principal_received|total_interest_received|total_late_fee_received|last_payment_date|next_payment_date|delinq_2yrs|delinq_amnt|mths_since_last_delinq|pub_rec|pub_rec_bankruptcies|inq_last_6mths|\n",
       "+---------+--------------------+--------------------+----------+--------------+-------------+-------------+---------------+---------------+-----+---------+-------------------+-----------------------+----------------+------------------+-------------------------+-----------+-------------+---------------+-------------+-------------------+----------+-----------+------------------+------------------------+-----------------------+-----------------------+-----------------+-----------------+-----------+-----------+----------------------+-------+--------------------+--------------+\n",
       "| 71175798|000c8875b71a6b47c...|Director of Gvt O...|         1|      MORTGAGE|     100000.0|           CA|          920xx|            USA|    A|       A4|       Not Verified|               761500.0|      Individual|              null|                     null|     3000.0|       3000.0|              3|         7.39|              93.17|  Feb-2016| Fully Paid|debt_consolidation|                  3000.0|                 114.47|                    0.0|         Aug-2016|             null|          1|        0.0|                     0|      0|                   0|             0|\n",
       "|139313300|000fc98fc1ca5faa3...|               coord|        10|      MORTGAGE|     220000.0|           CA|          952xx|            USA|    A|       A3|       Not Verified|               227457.0|       Joint App|          230000.0|                     null|    20000.0|      20000.0|              3|         7.21|             619.47|  Aug-2018|    Current|       credit_card|                 3558.76|                 769.52|                    0.0|         Mar-2019|         Apr-2019|       null|       null|                  null|      0|                   0|             0|\n",
       "|143195702|0012728d9f616bdf2...|                null|         6|           OWN|      35000.0|           SC|          294xx|            USA|    A|       A5|       Not Verified|                20900.0|      Individual|              null|                     null|     9000.0|       9000.0|              3|         8.46|             283.95|  Dec-2018|    Current|debt_consolidation|                  666.17|                 181.45|                    0.0|         Mar-2019|         Apr-2019|       null|       null|                  null|      0|                   0|             0|\n",
       "|  2284564|00151ece27c7ca280...|Northglenn Police...|         8|          RENT|      54000.0|           CO|          802xx|            USA|    C|       C1|       Not Verified|                40650.0|      Individual|              null|                     null|    12800.0|      12800.0|              3|        14.33|             439.53|  Nov-2012| Fully Paid|debt_consolidation|                 12800.0|                2192.68|                    0.0|         Jun-2014|             null|       null|       null|                  null|      0|                   0|             1|\n",
       "|  3845340|002800d49886390d2...|           RehabCare|         2|          RENT|      60000.0|           TX|          787xx|            USA|    D|       D3|       Not Verified|                37248.0|      Individual|              null|                     null|    15000.0|      15000.0|              3|        18.75|             547.95|  Mar-2013|Charged Off|debt_consolidation|                12856.06|                4702.54|                    0.0|         Dec-2015|             null|       null|       null|                  null|      0|                   0|             0|\n",
       "|   360493|003715c2aec34dd43...|Apex Technologies...|         1|      MORTGAGE|      90000.0|           PA|          171xx|            USA|    C|       C3|       Not Verified|                   null|      Individual|              null|                     null|    12000.0|      12000.0|              3|        12.41|             400.93|  Oct-2008| Fully Paid|debt_consolidation|                 12000.0|                 208.02|                    0.0|         Apr-2009|             null|       null|       null|                  null|      0|                   0|             2|\n",
       "| 95004059|003769d7f54c7859e...|             Trainer|        10|      MORTGAGE|      35000.0|           NC|          282xx|            USA|    E|       E1|           Verified|               184961.0|      Individual|              null|                     null|    10000.0|      10000.0|              5|        22.74|             280.42|  Dec-2016|Charged Off|           medical|                   90.92|                 176.87|                    0.0|         Jan-2017|             null|          1|        0.0|                     0|      0|                   0|             0|\n",
       "|142641777|0037bb910c0a758f5...|    Network Engineer|         2|          RENT|     105000.0|           IL|          601xx|            USA|    C|       C3|    Source Verified|                50260.0|      Individual|              null|                     null|     2000.0|       2000.0|              3|        15.02|              69.36|  Oct-2018|    Current|             other|                  227.25|                 116.21|                    0.0|         Mar-2019|         Apr-2019|       null|       null|                  null|      0|                   0|             0|\n",
       "| 91518424|003d7bee408492f11...|    Flight Attendant|        10|          RENT|      75000.0|           AZ|          852xx|            USA|    A|       A5|       Not Verified|               166387.0|      Individual|              null|                     null|    10000.0|      10000.0|              3|         7.99|             313.32|  Oct-2016|    Current|             other|                 7864.12|                1213.28|                    0.0|         Mar-2019|         Apr-2019|       null|       null|                  null|      0|                   0|             0|\n",
       "|116883875|003e1e6cbd2920bbb...|Operations Superv...|         9|      MORTGAGE|      92000.0|           LA|          705xx|            USA|    A|       A5|    Source Verified|               375806.0|      Individual|              null|                     null|    10000.0|      10000.0|              3|         7.97|             313.23|  Aug-2017|    Current|debt_consolidation|                 4980.61|                 970.21|                    0.0|         Mar-2019|         Apr-2019|          1|        0.0|                     0|      1|                   1|             0|\n",
       "| 10616863|004017b21bd4d6271...|Regional Rehab Di...|         9|      MORTGAGE|     113000.0|           NC|          276xx|            USA|    C|       C1|       Not Verified|               120587.0|      Individual|              null|                     null|     3000.0|       3000.0|              3|        13.98|             102.51|  Jan-2014| Fully Paid|debt_consolidation|                  3000.0|                 685.71|                   15.0|         Dec-2016|             null|          6|        0.0|                    15|      0|                   0|             0|\n",
       "| 58882363|004dbe6698f1482be...|     Project Manager|         3|      MORTGAGE|     130000.0|           NY|          109xx|            USA|    D|       D4|           Verified|               317868.0|      Individual|              null|                     null|    35000.0|      35000.0|              3|        17.57|             1257.8|  Sep-2015| Fully Paid|       credit_card|                 35000.0|               10246.49|                    0.0|         Sep-2018|             null|       null|       null|                  null|      0|                   0|             2|\n",
       "| 27681731|004f73beb41d739e1...|Staff Research As...|         6|          RENT|      60000.0|           CA|          921xx|            USA|    C|       C4|    Source Verified|                92453.0|      Individual|              null|                     null|    15775.0|      15775.0|              5|        14.49|             371.08|  Sep-2014|    Current|debt_consolidation|                13639.96|                6398.36|                    0.0|         Mar-2019|         Apr-2019|       null|       null|                  null|      0|                   0|             0|\n",
       "| 35236401|0059ce602b84a1bdd...|correctional officer|        10|      MORTGAGE|      75000.0|           CA|          933xx|            USA|    D|       D4|           Verified|               130656.0|      Individual|              null|                     null|    31450.0|      31450.0|              3|        17.14|            1123.48|  Dec-2014| Fully Paid|debt_consolidation|                 31450.0|                8693.53|                    0.0|         Dec-2017|             null|       null|       null|                  null|      0|                   0|             1|\n",
       "| 83648322|005b4c3db3fce07dc...|      office manager|         9|      MORTGAGE|      61000.0|           FL|          334xx|            USA|    B|       B5|    Source Verified|                28386.0|      Individual|              null|                     null|     6000.0|       6000.0|              3|        11.49|             197.83|  Jun-2016|    Current|       credit_card|                  5417.8|                1102.93|                    0.0|         Mar-2019|         Apr-2019|          1|        0.0|                     0|      1|                   0|             1|\n",
       "| 60615493|005d5e3c98a159671...|    Staff Accountant|         5|          RENT|      57000.0|           NY|          113xx|            USA|    C|       C5|    Source Verified|                48811.0|      Individual|              null|                     null|     9000.0|       9000.0|              3|        14.65|             310.45|  Sep-2015| Fully Paid|       credit_card|                  9000.0|                 440.68|                    0.0|         Jan-2016|             null|       null|       null|                  null|      0|                   0|             0|\n",
       "| 15650801|005daa54678e6fdfe...|     Account Manager|         1|      MORTGAGE|     105000.0|           TX|          761xx|            USA|    B|       B5|       Not Verified|               197073.0|      Individual|              null|                     null|    10000.0|      10000.0|              3|        12.99|              336.9|  May-2014|Charged Off|debt_consolidation|                 1900.02|                 795.18|                    0.0|         Jan-2015|             null|       null|       null|                  null|      0|                   0|             2|\n",
       "| 55452248|0061cd647ed984d65...|Interview Specialist|        10|      MORTGAGE|      34944.0|           FL|          334xx|            USA|    D|       D2|           Verified|               208930.0|      Individual|              null|                     null|     8900.0|       8900.0|              3|        16.55|             315.32|  Jul-2015| Fully Paid|debt_consolidation|                  8900.0|                1772.08|                    0.0|         Feb-2017|             null|       null|       null|                  null|      0|                   0|             0|\n",
       "| 51646280|0068aeffe996677c2...|             Partner|        10|      MORTGAGE|     120000.0|           AK|          998xx|            USA|    D|       D1|       Not Verified|               719758.0|      Individual|              null|                     null|    20000.0|      20000.0|              3|        15.61|              699.3|  Jun-2015| Fully Paid|  home_improvement|                 20000.0|                5157.27|                    0.0|         Jun-2018|             null|       null|       null|                  null|      0|                   0|             2|\n",
       "| 49954749|00710707c563c2119...|               owner|         3|      MORTGAGE|     109000.0|           FL|          324xx|            USA|    B|       B5|    Source Verified|               356897.0|      Individual|              null|                     null|    15000.0|      15000.0|              3|        11.53|             494.86|  Jun-2015| Fully Paid|debt_consolidation|                 15000.0|                2595.47|                    0.0|         Oct-2017|             null|          1|        0.0|                     0|      0|                   0|             0|\n",
       "+---------+--------------------+--------------------+----------+--------------+-------------+-------------+---------------+---------------+-----+---------+-------------------+-----------------------+----------------+------------------+-------------------------+-----------+-------------+---------------+-------------+-------------------+----------+-----------+------------------+------------------------+-----------------------+-----------------------+-----------------+-----------------+-----------+-----------+----------------------+-------+--------------------+--------------+\n",
       "only showing top 20 rows"
      ]
     },
     "execution_count": 18,
     "metadata": {},
     "output_type": "execute_result"
    }
   ],
   "source": [
    "spark.sql(\"select * from itv012010_lending_club_project.customers_loan_t\")"
   ]
  },
  {
   "cell_type": "code",
   "execution_count": null,
   "id": "ee8da555",
   "metadata": {},
   "outputs": [],
   "source": [
    "#from view we would get fresh data but quick access is not possible, from table we get older( not refereshed data) but quick \n",
    "#access as per requirement "
   ]
  },
  {
   "cell_type": "code",
   "execution_count": 26,
   "id": "4db1477b",
   "metadata": {},
   "outputs": [
    {
     "data": {
      "text/html": [
       "<table border='1'>\n",
       "<tr><th>member_id</th><th>total</th></tr>\n",
       "<tr><td>e4c167053d5418230...</td><td>5</td></tr>\n",
       "<tr><td>3f87585a20f702838...</td><td>4</td></tr>\n",
       "<tr><td>76b577467eda5bdbc...</td><td>4</td></tr>\n",
       "<tr><td>ad8e5d384dae17e06...</td><td>4</td></tr>\n",
       "<tr><td>066ddaa64bee66dff...</td><td>3</td></tr>\n",
       "<tr><td>e7d8d16928817ec8f...</td><td>3</td></tr>\n",
       "<tr><td>6e520d95b6401fb11...</td><td>3</td></tr>\n",
       "<tr><td>22593a1870543b2db...</td><td>3</td></tr>\n",
       "<tr><td>c92062bb371842b3d...</td><td>3</td></tr>\n",
       "<tr><td>4ab6205de571ccb7b...</td><td>3</td></tr>\n",
       "<tr><td>13d0e1fae89e5e7e4...</td><td>3</td></tr>\n",
       "<tr><td>3ae415acd6bbfaac1...</td><td>3</td></tr>\n",
       "<tr><td>53789bea7edc660ed...</td><td>3</td></tr>\n",
       "<tr><td>a2356725aa9da92c6...</td><td>3</td></tr>\n",
       "<tr><td>059d401bb603d9a80...</td><td>3</td></tr>\n",
       "<tr><td>819453be77718d747...</td><td>3</td></tr>\n",
       "<tr><td>5d52e7773cb0efff3...</td><td>3</td></tr>\n",
       "<tr><td>c563428cb58da48ff...</td><td>3</td></tr>\n",
       "<tr><td>d93573e2883e37904...</td><td>3</td></tr>\n",
       "<tr><td>f54295a60946dedad...</td><td>3</td></tr>\n",
       "</table>\n",
       "only showing top 20 rows\n"
      ],
      "text/plain": [
       "+--------------------+-----+\n",
       "|           member_id|total|\n",
       "+--------------------+-----+\n",
       "|e4c167053d5418230...|    5|\n",
       "|ad8e5d384dae17e06...|    4|\n",
       "|3f87585a20f702838...|    4|\n",
       "|76b577467eda5bdbc...|    4|\n",
       "|291ca1b09ef11ca3e...|    3|\n",
       "|f54295a60946dedad...|    3|\n",
       "|d9ce4046daf599732...|    3|\n",
       "|22593a1870543b2db...|    3|\n",
       "|819453be77718d747...|    3|\n",
       "|4ab6205de571ccb7b...|    3|\n",
       "|035bf3d8288d803bd...|    3|\n",
       "|066ddaa64bee66dff...|    3|\n",
       "|c92062bb371842b3d...|    3|\n",
       "|e7d8d16928817ec8f...|    3|\n",
       "|a2356725aa9da92c6...|    3|\n",
       "|498bb6b1f0099cb47...|    3|\n",
       "|5d52e7773cb0efff3...|    3|\n",
       "|c563428cb58da48ff...|    3|\n",
       "|53789bea7edc660ed...|    3|\n",
       "|059d401bb603d9a80...|    3|\n",
       "+--------------------+-----+\n",
       "only showing top 20 rows"
      ]
     },
     "execution_count": 26,
     "metadata": {},
     "output_type": "execute_result"
    }
   ],
   "source": [
    "spark.sql(\"\"\"select member_id,count(*) as total from itv012010_lending_club_project.customers \n",
    "            group by member_id order by total desc\n",
    "\"\"\") #we can see there is a bad data, we need to get only one member_id its a person same person cannot repeat more than once"
   ]
  },
  {
   "cell_type": "code",
   "execution_count": 37,
   "id": "097c4282",
   "metadata": {},
   "outputs": [
    {
     "data": {
      "text/html": [
       "<table border='1'>\n",
       "<tr><th>member_id</th><th>emp_title</th><th>emp_length</th><th>home_ownership</th><th>annual_income</th><th>address_state</th><th>address_zipcode</th><th>address_country</th><th>grade</th><th>sub_grade</th><th>verification_status</th><th>total_high_credit_limit</th><th>application_type</th><th>join_annual_income</th><th>verification_status_joint</th><th>ingest_date</th></tr>\n",
       "<tr><td>e4c167053d5418230...</td><td>null</td><td>6</td><td>MORTGAGE</td><td>55000.0</td><td>IL</td><td>604xx</td><td>USA</td><td>B</td><td>B5</td><td>Verified</td><td>138780.0</td><td>Individual</td><td>null</td><td>null</td><td>2023-09-15 17:18:...</td></tr>\n",
       "<tr><td>e4c167053d5418230...</td><td>null</td><td>6</td><td>MORTGAGE</td><td>55000.0</td><td>IL</td><td>604xx</td><td>USA</td><td>B</td><td>B5</td><td>Verified</td><td>171165.0</td><td>Individual</td><td>null</td><td>null</td><td>2023-09-15 17:18:...</td></tr>\n",
       "<tr><td>e4c167053d5418230...</td><td>null</td><td>6</td><td>MORTGAGE</td><td>55000.0</td><td>IL</td><td>604xx</td><td>USA</td><td>B</td><td>B5</td><td>Verified</td><td>110907.0</td><td>Individual</td><td>null</td><td>null</td><td>2023-09-15 17:18:...</td></tr>\n",
       "<tr><td>e4c167053d5418230...</td><td>null</td><td>6</td><td>MORTGAGE</td><td>55000.0</td><td>IL</td><td>604xx</td><td>USA</td><td>B</td><td>B5</td><td>Verified</td><td>129833.0</td><td>Individual</td><td>null</td><td>null</td><td>2023-09-15 17:18:...</td></tr>\n",
       "<tr><td>e4c167053d5418230...</td><td>null</td><td>6</td><td>MORTGAGE</td><td>55000.0</td><td>IL</td><td>604xx</td><td>USA</td><td>B</td><td>B5</td><td>Verified</td><td>207300.0</td><td>Individual</td><td>null</td><td>null</td><td>2023-09-15 17:18:...</td></tr>\n",
       "</table>\n"
      ],
      "text/plain": [
       "+--------------------+---------+----------+--------------+-------------+-------------+---------------+---------------+-----+---------+-------------------+-----------------------+----------------+------------------+-------------------------+--------------------+\n",
       "|           member_id|emp_title|emp_length|home_ownership|annual_income|address_state|address_zipcode|address_country|grade|sub_grade|verification_status|total_high_credit_limit|application_type|join_annual_income|verification_status_joint|         ingest_date|\n",
       "+--------------------+---------+----------+--------------+-------------+-------------+---------------+---------------+-----+---------+-------------------+-----------------------+----------------+------------------+-------------------------+--------------------+\n",
       "|e4c167053d5418230...|     null|         6|      MORTGAGE|      55000.0|           IL|          604xx|            USA|    B|       B5|           Verified|               138780.0|      Individual|              null|                     null|2023-09-15 17:18:...|\n",
       "|e4c167053d5418230...|     null|         6|      MORTGAGE|      55000.0|           IL|          604xx|            USA|    B|       B5|           Verified|               171165.0|      Individual|              null|                     null|2023-09-15 17:18:...|\n",
       "|e4c167053d5418230...|     null|         6|      MORTGAGE|      55000.0|           IL|          604xx|            USA|    B|       B5|           Verified|               110907.0|      Individual|              null|                     null|2023-09-15 17:18:...|\n",
       "|e4c167053d5418230...|     null|         6|      MORTGAGE|      55000.0|           IL|          604xx|            USA|    B|       B5|           Verified|               129833.0|      Individual|              null|                     null|2023-09-15 17:18:...|\n",
       "|e4c167053d5418230...|     null|         6|      MORTGAGE|      55000.0|           IL|          604xx|            USA|    B|       B5|           Verified|               207300.0|      Individual|              null|                     null|2023-09-15 17:18:...|\n",
       "+--------------------+---------+----------+--------------+-------------+-------------+---------------+---------------+-----+---------+-------------------+-----------------------+----------------+------------------+-------------------------+--------------------+"
      ]
     },
     "execution_count": 37,
     "metadata": {},
     "output_type": "execute_result"
    }
   ],
   "source": [
    "spark.sql(\"\"\"select * from itv012010_lending_club_project.customers \n",
    "where member_id like 'e4c167053d5418230%'\"\"\") #if we see same member_id has different total_high_credit_limit which isn't practically possible"
   ]
  },
  {
   "cell_type": "code",
   "execution_count": 6,
   "id": "b61523bf",
   "metadata": {},
   "outputs": [
    {
     "data": {
      "text/html": [
       "<table border='1'>\n",
       "<tr><th>member_id</th><th>total</th></tr>\n",
       "<tr><td>e4c167053d5418230...</td><td>3</td></tr>\n",
       "<tr><td>b3d4eb0c5a9239348...</td><td>2</td></tr>\n",
       "<tr><td>cbede54df344cdb94...</td><td>2</td></tr>\n",
       "<tr><td>c23eb88fed4893030...</td><td>2</td></tr>\n",
       "<tr><td>694c6cb86608015e9...</td><td>2</td></tr>\n",
       "<tr><td>77db5fdf951dd04b2...</td><td>2</td></tr>\n",
       "<tr><td>dbe5ec23d01598dbf...</td><td>2</td></tr>\n",
       "<tr><td>343344c3c65b023af...</td><td>2</td></tr>\n",
       "<tr><td>6918b9861ba5a4c67...</td><td>2</td></tr>\n",
       "<tr><td>6c2b63ff231e520d4...</td><td>2</td></tr>\n",
       "<tr><td>0b44a10bc749eabb2...</td><td>2</td></tr>\n",
       "<tr><td>62394e3f9d063413b...</td><td>2</td></tr>\n",
       "<tr><td>4f7579700cd9d49d7...</td><td>2</td></tr>\n",
       "<tr><td>17d76ba5141e1c33a...</td><td>2</td></tr>\n",
       "<tr><td>db887c1d4cb004ca8...</td><td>2</td></tr>\n",
       "<tr><td>c16e1f92ae5ccc785...</td><td>2</td></tr>\n",
       "<tr><td>8d2c605c7ad9209cc...</td><td>2</td></tr>\n",
       "<tr><td>bbe43331566910d55...</td><td>2</td></tr>\n",
       "<tr><td>a93a44c9d83793451...</td><td>2</td></tr>\n",
       "<tr><td>b5ded5638e54e1692...</td><td>2</td></tr>\n",
       "</table>\n",
       "only showing top 20 rows\n"
      ],
      "text/plain": [
       "+--------------------+-----+\n",
       "|           member_id|total|\n",
       "+--------------------+-----+\n",
       "|e4c167053d5418230...|    3|\n",
       "|f1ebb6edb9b07de5f...|    2|\n",
       "|0b44a10bc749eabb2...|    2|\n",
       "|c23eb88fed4893030...|    2|\n",
       "|a93a44c9d83793451...|    2|\n",
       "|62394e3f9d063413b...|    2|\n",
       "|17d76ba5141e1c33a...|    2|\n",
       "|db887c1d4cb004ca8...|    2|\n",
       "|8d2c605c7ad9209cc...|    2|\n",
       "|b5ded5638e54e1692...|    2|\n",
       "|58dde656f747cee8b...|    2|\n",
       "|77db5fdf951dd04b2...|    2|\n",
       "|4f7579700cd9d49d7...|    2|\n",
       "|dbe5ec23d01598dbf...|    2|\n",
       "|c16e1f92ae5ccc785...|    2|\n",
       "|343344c3c65b023af...|    2|\n",
       "|bbe43331566910d55...|    2|\n",
       "|cbede54df344cdb94...|    2|\n",
       "|6918b9861ba5a4c67...|    2|\n",
       "|6c2b63ff231e520d4...|    2|\n",
       "+--------------------+-----+\n",
       "only showing top 20 rows"
      ]
     },
     "execution_count": 6,
     "metadata": {},
     "output_type": "execute_result"
    }
   ],
   "source": [
    "spark.sql(\"\"\"select member_id, count(*) as total \n",
    "from itv012010_lending_club_project.loans_defaulters_delinq\n",
    "group by member_id order by total desc\n",
    "\"\"\") #even here in loans_defaulters_delinq we have different member_id "
   ]
  },
  {
   "cell_type": "code",
   "execution_count": 7,
   "id": "3051a3dc",
   "metadata": {},
   "outputs": [
    {
     "data": {
      "text/html": [
       "<table border='1'>\n",
       "<tr><th>member_id</th><th>delinq_2yrs</th><th>delinq_amnt</th><th>mths_since_last_delinq</th></tr>\n",
       "<tr><td>e4c167053d5418230...</td><td>3</td><td>0.0</td><td>0</td></tr>\n",
       "<tr><td>e4c167053d5418230...</td><td>1</td><td>0.0</td><td>0</td></tr>\n",
       "<tr><td>e4c167053d5418230...</td><td>1</td><td>0.0</td><td>45</td></tr>\n",
       "</table>\n"
      ],
      "text/plain": [
       "+--------------------+-----------+-----------+----------------------+\n",
       "|           member_id|delinq_2yrs|delinq_amnt|mths_since_last_delinq|\n",
       "+--------------------+-----------+-----------+----------------------+\n",
       "|e4c167053d5418230...|          3|        0.0|                     0|\n",
       "|e4c167053d5418230...|          1|        0.0|                     0|\n",
       "|e4c167053d5418230...|          1|        0.0|                    45|\n",
       "+--------------------+-----------+-----------+----------------------+"
      ]
     },
     "execution_count": 7,
     "metadata": {},
     "output_type": "execute_result"
    }
   ],
   "source": [
    "spark.sql(\"\"\"select * from itv012010_lending_club_project.loans_defaulters_delinq\n",
    "where member_id like 'e4c167053d5418230%'\"\"\") #we can see for each member_id there are different delinq_2yrs,delinq_amnt,mths_since_last_delinq\n"
   ]
  },
  {
   "cell_type": "code",
   "execution_count": 8,
   "id": "961f2175",
   "metadata": {},
   "outputs": [
    {
     "data": {
      "text/html": [
       "<table border='1'>\n",
       "<tr><th>member_id</th><th>total</th></tr>\n",
       "<tr><td>e3b0c44298fc1c149...</td><td>33</td></tr>\n",
       "<tr><td>e4c167053d5418230...</td><td>5</td></tr>\n",
       "<tr><td>76b577467eda5bdbc...</td><td>4</td></tr>\n",
       "<tr><td>ad8e5d384dae17e06...</td><td>4</td></tr>\n",
       "<tr><td>3f87585a20f702838...</td><td>4</td></tr>\n",
       "<tr><td>059d401bb603d9a80...</td><td>3</td></tr>\n",
       "<tr><td>3ae415acd6bbfaac1...</td><td>3</td></tr>\n",
       "<tr><td>f9fc581aae696e0bd...</td><td>3</td></tr>\n",
       "<tr><td>291ca1b09ef11ca3e...</td><td>3</td></tr>\n",
       "<tr><td>5d52e7773cb0efff3...</td><td>3</td></tr>\n",
       "<tr><td>c563428cb58da48ff...</td><td>3</td></tr>\n",
       "<tr><td>bf3d06b33c49a9375...</td><td>3</td></tr>\n",
       "<tr><td>c92062bb371842b3d...</td><td>3</td></tr>\n",
       "<tr><td>498bb6b1f0099cb47...</td><td>3</td></tr>\n",
       "<tr><td>a2356725aa9da92c6...</td><td>3</td></tr>\n",
       "<tr><td>53789bea7edc660ed...</td><td>3</td></tr>\n",
       "<tr><td>22593a1870543b2db...</td><td>3</td></tr>\n",
       "<tr><td>035bf3d8288d803bd...</td><td>3</td></tr>\n",
       "<tr><td>d9ce4046daf599732...</td><td>3</td></tr>\n",
       "<tr><td>e7d8d16928817ec8f...</td><td>3</td></tr>\n",
       "</table>\n",
       "only showing top 20 rows\n"
      ],
      "text/plain": [
       "+--------------------+-----+\n",
       "|           member_id|total|\n",
       "+--------------------+-----+\n",
       "|e3b0c44298fc1c149...|   33|\n",
       "|e4c167053d5418230...|    5|\n",
       "|3f87585a20f702838...|    4|\n",
       "|76b577467eda5bdbc...|    4|\n",
       "|ad8e5d384dae17e06...|    4|\n",
       "|c92062bb371842b3d...|    3|\n",
       "|066ddaa64bee66dff...|    3|\n",
       "|035bf3d8288d803bd...|    3|\n",
       "|22593a1870543b2db...|    3|\n",
       "|819453be77718d747...|    3|\n",
       "|5d52e7773cb0efff3...|    3|\n",
       "|d3731bad3e6a82515...|    3|\n",
       "|f54295a60946dedad...|    3|\n",
       "|e7d8d16928817ec8f...|    3|\n",
       "|291ca1b09ef11ca3e...|    3|\n",
       "|53789bea7edc660ed...|    3|\n",
       "|498bb6b1f0099cb47...|    3|\n",
       "|4ab6205de571ccb7b...|    3|\n",
       "|c563428cb58da48ff...|    3|\n",
       "|059d401bb603d9a80...|    3|\n",
       "+--------------------+-----+\n",
       "only showing top 20 rows"
      ]
     },
     "execution_count": 8,
     "metadata": {},
     "output_type": "execute_result"
    }
   ],
   "source": [
    "spark.sql(\"\"\"select member_id, count(*) as total \n",
    "from itv012010_lending_club_project.loans_defaulters_detail_rec_enq\n",
    "group by member_id order by total desc\n",
    "\"\"\") #even for loans_defaulters_detail_rec_enq multple member_if we need to seggregate this data from good data, since most of the data \n",
    "#has only one member_id"
   ]
  },
  {
   "cell_type": "code",
   "execution_count": 9,
   "id": "ad055a3d",
   "metadata": {},
   "outputs": [
    {
     "data": {
      "text/html": [
       "<table border='1'>\n",
       "<tr><th>member_id</th><th>pub_rec</th><th>pub_rec_bankruptcies</th><th>inq_last_6mths</th></tr>\n",
       "<tr><td>e4c167053d5418230...</td><td>0</td><td>0</td><td>0</td></tr>\n",
       "<tr><td>e4c167053d5418230...</td><td>0</td><td>0</td><td>3</td></tr>\n",
       "<tr><td>e4c167053d5418230...</td><td>0</td><td>0</td><td>2</td></tr>\n",
       "<tr><td>e4c167053d5418230...</td><td>0</td><td>0</td><td>1</td></tr>\n",
       "<tr><td>e4c167053d5418230...</td><td>0</td><td>0</td><td>0</td></tr>\n",
       "</table>\n"
      ],
      "text/plain": [
       "+--------------------+-------+--------------------+--------------+\n",
       "|           member_id|pub_rec|pub_rec_bankruptcies|inq_last_6mths|\n",
       "+--------------------+-------+--------------------+--------------+\n",
       "|e4c167053d5418230...|      0|                   0|             0|\n",
       "|e4c167053d5418230...|      0|                   0|             3|\n",
       "|e4c167053d5418230...|      0|                   0|             2|\n",
       "|e4c167053d5418230...|      0|                   0|             1|\n",
       "|e4c167053d5418230...|      0|                   0|             0|\n",
       "+--------------------+-------+--------------------+--------------+"
      ]
     },
     "execution_count": 9,
     "metadata": {},
     "output_type": "execute_result"
    }
   ],
   "source": [
    "spark.sql(\"\"\"select * from itv012010_lending_club_project.loans_defaulters_detail_rec_enq\n",
    "where member_id like 'e4c167053d5418230%'\"\"\")"
   ]
  },
  {
   "cell_type": "code",
   "execution_count": 10,
   "id": "a5fb0937",
   "metadata": {},
   "outputs": [],
   "source": [
    "#Now segregating bad data from complete data."
   ]
  },
  {
   "cell_type": "code",
   "execution_count": 11,
   "id": "c26e1c0d",
   "metadata": {},
   "outputs": [],
   "source": [
    "bad_data_customer_df = spark.sql(\"\"\"select member_id from(select member_id, count(*)\n",
    "as total from itv012010_lending_club_project.customers\n",
    "group by member_id having total > 1)\"\"\") #to get only member_id since count was also mentioned"
   ]
  },
  {
   "cell_type": "code",
   "execution_count": 14,
   "id": "11d11f39",
   "metadata": {},
   "outputs": [],
   "source": [
    "bad_data_loans_defaulters_delinq_df = spark.sql(\"\"\"select member_id from(select member_id, count(*)\n",
    "as total from itv012010_lending_club_project.loans_defaulters_delinq\n",
    "group by member_id having total > 1)\"\"\") #to get only member_id since count was also mentioned"
   ]
  },
  {
   "cell_type": "code",
   "execution_count": 15,
   "id": "7ee84b16",
   "metadata": {},
   "outputs": [],
   "source": [
    "bad_data_loans_defaulters_detail_rec_enq_df = spark.sql(\"\"\"select member_id from(select member_id, count(*)\n",
    "as total from itv012010_lending_club_project.loans_defaulters_detail_rec_enq\n",
    "group by member_id having total > 1)\"\"\") #to get only member_id since count was also mentioned"
   ]
  },
  {
   "cell_type": "code",
   "execution_count": 18,
   "id": "b3112576",
   "metadata": {},
   "outputs": [],
   "source": [
    "bad_data_customer_df.repartition(1).write \\\n",
    ".format(\"csv\") \\\n",
    ".option(\"header\", True) \\\n",
    ".mode(\"overwrite\") \\\n",
    ".option(\"path\", \"/user/itv012010/lendingclubproject/bad/bad_data_customers\") \\\n",
    ".save() #writing this bad data for further process if required"
   ]
  },
  {
   "cell_type": "code",
   "execution_count": 16,
   "id": "ba7361b0",
   "metadata": {},
   "outputs": [],
   "source": [
    "bad_data_loans_defaulters_delinq_df.repartition(1).write \\\n",
    ".format(\"csv\") \\\n",
    ".option(\"header\", True) \\\n",
    ".mode(\"overwrite\") \\\n",
    ".option(\"path\", \"/user/itv012010/lendingclubproject/bad/bad_data_loans_defaulters_delinq\") \\\n",
    ".save() #writing this bad data for further process if required"
   ]
  },
  {
   "cell_type": "code",
   "execution_count": 17,
   "id": "38929d8a",
   "metadata": {},
   "outputs": [],
   "source": [
    "bad_data_loans_defaulters_detail_rec_enq_df.repartition(1).write \\\n",
    ".format(\"csv\") \\\n",
    ".option(\"header\", True) \\\n",
    ".mode(\"overwrite\") \\\n",
    ".option(\"path\", \"/user/itv012010/lendingclubproject/bad/bad_data_loans_defaulters_detail_rec_enq\") \\\n",
    ".save() #writing this bad data for further process if required"
   ]
  },
  {
   "cell_type": "code",
   "execution_count": 19,
   "id": "f3bbfecc",
   "metadata": {},
   "outputs": [],
   "source": [
    "bad_customer_data_df = bad_data_customer_df.select(\"member_id\") \\\n",
    ".union(bad_data_loans_defaulters_delinq_df.select(\"member_id\")) \\\n",
    ".union(bad_data_loans_defaulters_detail_rec_enq_df.select(\"member_id\"))   #combining all bad data into a single table"
   ]
  },
  {
   "cell_type": "code",
   "execution_count": 20,
   "id": "920a15e1",
   "metadata": {},
   "outputs": [],
   "source": [
    "bad_customer_data_final_df = bad_customer_data_df.distinct() #taking distinct of these "
   ]
  },
  {
   "cell_type": "code",
   "execution_count": 21,
   "id": "d06cf3d0",
   "metadata": {},
   "outputs": [
    {
     "data": {
      "text/plain": [
       "3189"
      ]
     },
     "execution_count": 21,
     "metadata": {},
     "output_type": "execute_result"
    }
   ],
   "source": [
    "bad_customer_data_final_df.count() #there are total 3189 member_ids with no proper data"
   ]
  },
  {
   "cell_type": "code",
   "execution_count": 22,
   "id": "a754c84a",
   "metadata": {},
   "outputs": [],
   "source": [
    "bad_customer_data_final_df.repartition(1).write \\\n",
    ".format(\"csv\") \\\n",
    ".option(\"header\", True) \\\n",
    ".mode(\"overwrite\") \\\n",
    ".option(\"path\", \"/user/itv012010/lendingclubproject/bad/bad_customer_data_final\") \\\n",
    ".save() #writing this final bad team seggregated into table into HDFS "
   ]
  },
  {
   "cell_type": "code",
   "execution_count": 25,
   "id": "5fa00edf",
   "metadata": {},
   "outputs": [],
   "source": [
    "bad_customer_data_final_df.createOrReplaceTempView(\"bad_data_customer\") #creating table for analysis"
   ]
  },
  {
   "cell_type": "code",
   "execution_count": 27,
   "id": "dddcc4e8",
   "metadata": {},
   "outputs": [],
   "source": [
    "customers_df = spark.sql(\"\"\"select * from itv012010_lending_club_project.customers\n",
    "where member_id NOT IN (select member_id from bad_data_customer)\n",
    "\"\"\") #now using this to bad_data_customer to remove it from original data  "
   ]
  },
  {
   "cell_type": "code",
   "execution_count": 28,
   "id": "4c1432c1",
   "metadata": {},
   "outputs": [],
   "source": [
    "customers_df.write \\\n",
    ".format(\"parquet\") \\\n",
    ".mode(\"overwrite\") \\\n",
    ".option(\"path\", \"/user/itv012010/lendingclubproject/raw/cleaned_new/customers_parquet\") \\\n",
    ".save() #storing final customer data "
   ]
  },
  {
   "cell_type": "code",
   "execution_count": 29,
   "id": "b644a24e",
   "metadata": {},
   "outputs": [],
   "source": [
    "loans_defaulters_delinq_df = spark.sql(\"\"\"select * from itv012010_lending_club_project.loans_defaulters_delinq\n",
    "where member_id NOT IN (select member_id from bad_data_customer)\n",
    "\"\"\") #now using this to bad_data_customer to remove it from original data  "
   ]
  },
  {
   "cell_type": "code",
   "execution_count": 30,
   "id": "82d0e2ec",
   "metadata": {},
   "outputs": [],
   "source": [
    "loans_defaulters_delinq_df.write \\\n",
    ".format(\"parquet\") \\\n",
    ".mode(\"overwrite\") \\\n",
    ".option(\"path\", \"/user/itv012010/lendingclubproject/raw/cleaned_new/loans_defaulters_delinq_parquet\") \\\n",
    ".save()"
   ]
  },
  {
   "cell_type": "code",
   "execution_count": 31,
   "id": "f82aa2eb",
   "metadata": {},
   "outputs": [],
   "source": [
    "loans_defaulters_detail_rec_enq_df = spark.sql(\"\"\"select * from itv012010_lending_club_project.loans_defaulters_detail_rec_enq\n",
    "where member_id NOT IN (select member_id from bad_data_customer)\n",
    "\"\"\")#now using this to bad_data_customer to remove it from original data  "
   ]
  },
  {
   "cell_type": "code",
   "execution_count": 32,
   "id": "147b0c96",
   "metadata": {},
   "outputs": [],
   "source": [
    "loans_defaulters_detail_rec_enq_df.write \\\n",
    ".format(\"parquet\") \\\n",
    ".mode(\"overwrite\") \\\n",
    ".option(\"path\", \"/user/itv012010/lendingclubproject/raw/cleaned_new/loans_defaulters_detail_rec_enq_parquet\") \\\n",
    ".save()"
   ]
  },
  {
   "cell_type": "code",
   "execution_count": 33,
   "id": "e48fe61b",
   "metadata": {},
   "outputs": [],
   "source": [
    "#now we have removed all duplicate member_ids from  tables and stored it in parquet, we need to create a Permanent table now"
   ]
  },
  {
   "cell_type": "code",
   "execution_count": 42,
   "id": "4991fa93",
   "metadata": {},
   "outputs": [
    {
     "data": {
      "text/html": [
       "<table border='1'>\n",
       "<tr><th></th></tr>\n",
       "</table>\n"
      ],
      "text/plain": [
       "++\n",
       "||\n",
       "++\n",
       "++"
      ]
     },
     "execution_count": 42,
     "metadata": {},
     "output_type": "execute_result"
    }
   ],
   "source": [
    "spark.sql(\"\"\"\n",
    "create EXTERNAL TABLE itv012010_lending_club_project.customers_new(member_id string, emp_title string, emp_length int, home_ownership string, \n",
    "annual_income float, address_state string, address_zipcode string, address_country string, grade string, \n",
    "sub_grade string, verification_status string, total_high_credit_limit float, application_type string, \n",
    "join_annual_income float, verification_status_joint string, ingest_date timestamp)\n",
    "stored as parquet\n",
    "LOCATION '/public/trendytech/lendingclubproject/cleaned_new/customer_parquet'\n",
    "\"\"\")"
   ]
  },
  {
   "cell_type": "code",
   "execution_count": 35,
   "id": "0e7d47fd",
   "metadata": {},
   "outputs": [
    {
     "data": {
      "text/html": [
       "<table border='1'>\n",
       "<tr><th></th></tr>\n",
       "</table>\n"
      ],
      "text/plain": [
       "++\n",
       "||\n",
       "++\n",
       "++"
      ]
     },
     "execution_count": 35,
     "metadata": {},
     "output_type": "execute_result"
    }
   ],
   "source": [
    "spark.sql(\"\"\"\n",
    "create EXTERNAL TABLE itv012010_lending_club_project.loans_defaulters_delinq_new(member_id string,delinq_2yrs integer, \\\n",
    "delinq_amnt float, mths_since_last_delinq integer)\n",
    "stored as parquet\n",
    "LOCATION '/public/trendytech/lendingclubproject/cleaned_new/loan_defaulters_delinq_parquet'\n",
    "\"\"\")"
   ]
  },
  {
   "cell_type": "code",
   "execution_count": 36,
   "id": "9cab3b9f",
   "metadata": {},
   "outputs": [
    {
     "data": {
      "text/html": [
       "<table border='1'>\n",
       "<tr><th></th></tr>\n",
       "</table>\n"
      ],
      "text/plain": [
       "++\n",
       "||\n",
       "++\n",
       "++"
      ]
     },
     "execution_count": 36,
     "metadata": {},
     "output_type": "execute_result"
    }
   ],
   "source": [
    "spark.sql(\"\"\"\n",
    "create EXTERNAL TABLE itv012010_lending_club_project.loans_defaulters_detail_rec_enq_new(member_id string, pub_rec integer, pub_rec_bankruptcies integer, inq_last_6mths integer)\n",
    "stored as parquet\n",
    "LOCATION '/public/trendytech/lendingclubproject/cleaned_new/loan_defaulters_detail_rec_enq_parquet'\n",
    "\"\"\")"
   ]
  },
  {
   "cell_type": "code",
   "execution_count": 40,
   "id": "2c2e5acf",
   "metadata": {},
   "outputs": [
    {
     "data": {
      "text/html": [
       "<table border='1'>\n",
       "<tr><th>member_id</th><th>total</th></tr>\n",
       "<tr><td>7774db2bf0d09b69b...</td><td>1</td></tr>\n",
       "<tr><td>01535e226c363b087...</td><td>1</td></tr>\n",
       "<tr><td>0a9063acea42769c9...</td><td>1</td></tr>\n",
       "<tr><td>2465acdf8f8e83b34...</td><td>1</td></tr>\n",
       "<tr><td>26b5452390bafb7bb...</td><td>1</td></tr>\n",
       "<tr><td>1f3efe15b487b9505...</td><td>1</td></tr>\n",
       "<tr><td>1b24054797e2c0f17...</td><td>1</td></tr>\n",
       "<tr><td>4391fe958e2ae8475...</td><td>1</td></tr>\n",
       "<tr><td>4a236947618c25ce1...</td><td>1</td></tr>\n",
       "<tr><td>d56edaac428455d10...</td><td>1</td></tr>\n",
       "<tr><td>45fa849f62fe4d868...</td><td>1</td></tr>\n",
       "<tr><td>be26dddda249fda3e...</td><td>1</td></tr>\n",
       "<tr><td>aa8eb028cbf891246...</td><td>1</td></tr>\n",
       "<tr><td>200ad71369a92655d...</td><td>1</td></tr>\n",
       "<tr><td>bbd6871e5c2889c28...</td><td>1</td></tr>\n",
       "<tr><td>33c7666e1f2fa8937...</td><td>1</td></tr>\n",
       "<tr><td>f01ad8d53fea462f9...</td><td>1</td></tr>\n",
       "<tr><td>016746db3c2542956...</td><td>1</td></tr>\n",
       "<tr><td>69bf13b66fa97d8fc...</td><td>1</td></tr>\n",
       "<tr><td>9bfdd0d9188682deb...</td><td>1</td></tr>\n",
       "</table>\n",
       "only showing top 20 rows\n"
      ],
      "text/plain": [
       "+--------------------+-----+\n",
       "|           member_id|total|\n",
       "+--------------------+-----+\n",
       "|d44af683567679ee4...|    1|\n",
       "|7087478549d2d013c...|    1|\n",
       "|be28c8448c7f2d123...|    1|\n",
       "|321269f55d2cfa6de...|    1|\n",
       "|387b2d6bb1e398057...|    1|\n",
       "|25d9297cf4e8149c9...|    1|\n",
       "|489bf528a37157e85...|    1|\n",
       "|9c5d8653a1e424a96...|    1|\n",
       "|04eba5952c1470819...|    1|\n",
       "|7f602f97688264f5a...|    1|\n",
       "|f02cce918d1466735...|    1|\n",
       "|9195917ff18c77611...|    1|\n",
       "|3abae147ed09e7929...|    1|\n",
       "|57b34cc3c1803d7ef...|    1|\n",
       "|d7bf98639dd5c181e...|    1|\n",
       "|f856860133142a702...|    1|\n",
       "|f9b2e4f4bea7cbb69...|    1|\n",
       "|012d62640a4020830...|    1|\n",
       "|4b0ed9052196ce86c...|    1|\n",
       "|3fcb56a66918d9e0a...|    1|\n",
       "+--------------------+-----+\n",
       "only showing top 20 rows"
      ]
     },
     "execution_count": 40,
     "metadata": {},
     "output_type": "execute_result"
    }
   ],
   "source": [
    "spark.sql(\"\"\"select member_id, count(*) as total \n",
    "from itv012010_lending_club_project.customers_new\n",
    "group by member_id order by total desc\"\"\") #we can see now there is no record which repeats in member_id"
   ]
  },
  {
   "cell_type": "code",
   "execution_count": null,
   "id": "5cc8cdd1",
   "metadata": {},
   "outputs": [],
   "source": []
  }
 ],
 "metadata": {
  "kernelspec": {
   "display_name": "Pyspark 3",
   "language": "python",
   "name": "pyspark3"
  },
  "language_info": {
   "codemirror_mode": {
    "name": "ipython",
    "version": 3
   },
   "file_extension": ".py",
   "mimetype": "text/x-python",
   "name": "python",
   "nbconvert_exporter": "python",
   "pygments_lexer": "ipython3",
   "version": "3.6.12"
  }
 },
 "nbformat": 4,
 "nbformat_minor": 5
}
